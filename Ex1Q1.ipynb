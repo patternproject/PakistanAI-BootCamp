{
  "nbformat": 4,
  "nbformat_minor": 0,
  "metadata": {
    "colab": {
      "name": "Untitled2.ipynb",
      "provenance": []
    },
    "kernelspec": {
      "name": "python3",
      "display_name": "Python 3"
    }
  },
  "cells": [
    {
      "cell_type": "markdown",
      "metadata": {
        "id": "t3jKJ_Oas_SJ",
        "colab_type": "text"
      },
      "source": [
        "Coding Challenge # 1.1 \n",
        "\n",
        "Q1"
      ]
    },
    {
      "cell_type": "code",
      "metadata": {
        "id": "q2ut4ghQmOox",
        "colab_type": "code",
        "colab": {}
      },
      "source": [
        "import string"
      ],
      "execution_count": 0,
      "outputs": []
    },
    {
      "cell_type": "code",
      "metadata": {
        "id": "sts-vOk7mcOZ",
        "colab_type": "code",
        "colab": {}
      },
      "source": [
        "test_1 = \"abc\"\n",
        "test_2 = \"\""
      ],
      "execution_count": 0,
      "outputs": []
    },
    {
      "cell_type": "code",
      "metadata": {
        "id": "geKVb7iHmRd0",
        "colab_type": "code",
        "colab": {}
      },
      "source": [
        "def fun_1(str_input):\n",
        "  # check length of string\n",
        "  print(len(str_input))"
      ],
      "execution_count": 0,
      "outputs": []
    },
    {
      "cell_type": "code",
      "metadata": {
        "id": "e9ApRvoFmlkX",
        "colab_type": "code",
        "colab": {
          "base_uri": "https://localhost:8080/",
          "height": 34
        },
        "outputId": "e65d70d1-faf9-40ac-e5d6-0d2450d3e95b"
      },
      "source": [
        "fun_1(test_1)"
      ],
      "execution_count": 4,
      "outputs": [
        {
          "output_type": "stream",
          "text": [
            "3\n"
          ],
          "name": "stdout"
        }
      ]
    },
    {
      "cell_type": "code",
      "metadata": {
        "id": "Vu29lj0omsWY",
        "colab_type": "code",
        "colab": {}
      },
      "source": [
        ""
      ],
      "execution_count": 0,
      "outputs": []
    },
    {
      "cell_type": "markdown",
      "metadata": {
        "id": "MPdqRPAPs-af",
        "colab_type": "text"
      },
      "source": [
        ""
      ]
    }
  ]
}
