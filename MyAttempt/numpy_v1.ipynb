{
  "nbformat": 4,
  "nbformat_minor": 0,
  "metadata": {
    "colab": {
      "name": "numpy - v1.ipynb",
      "provenance": [],
      "collapsed_sections": [],
      "authorship_tag": "ABX9TyPB499ijSVqLGzRwwWS/mbx",
      "include_colab_link": true
    },
    "kernelspec": {
      "name": "python3",
      "display_name": "Python 3"
    }
  },
  "cells": [
    {
      "cell_type": "markdown",
      "metadata": {
        "id": "view-in-github",
        "colab_type": "text"
      },
      "source": [
        "<a href=\"https://colab.research.google.com/github/patternproject/p.PakistanAI-BootCamp/blob/Week-3/MyAttempt/numpy_v1.ipynb\" target=\"_parent\"><img src=\"https://colab.research.google.com/assets/colab-badge.svg\" alt=\"Open In Colab\"/></a>"
      ]
    },
    {
      "cell_type": "markdown",
      "metadata": {
        "id": "nJqY7oey2wpx",
        "colab_type": "text"
      },
      "source": [
        "# Revision History\n",
        "\n",
        "*   v1: Learning Numpy\n",
        "*   V2: Loading IRIS dataset and playing with it\n",
        "*   V3: Continued on V2\n",
        "*   V4: Able to try the logic on single value of iris dataset\n",
        "*   V5: More experiments\n",
        "*   V6: able to solve it with numpy (do not know, about the one loop solution)\n",
        "*   V7: More experiments\n",
        "*   V8: More experiments using np.tile \n"
      ]
    },
    {
      "cell_type": "code",
      "metadata": {
        "id": "5MLFNhJcybIJ",
        "colab_type": "code",
        "colab": {}
      },
      "source": [
        "import numpy as np\n",
        "import math\n",
        "import pandas as pd\n",
        "import tools as t # set of tools for plotting, data splitting, etc.."
      ],
      "execution_count": 0,
      "outputs": []
    },
    {
      "cell_type": "code",
      "metadata": {
        "id": "daLLPBMyyeLg",
        "colab_type": "code",
        "colab": {}
      },
      "source": [
        "p1 = np.array([1,2])\n",
        "p2 = np.array([3,4])"
      ],
      "execution_count": 0,
      "outputs": []
    },
    {
      "cell_type": "code",
      "metadata": {
        "id": "ysRnc2rAykUI",
        "colab_type": "code",
        "colab": {}
      },
      "source": [
        "distance = math.sqrt( ((p1[0]-p2[0])**2)+((p1[1]-p2[1])**2) )"
      ],
      "execution_count": 0,
      "outputs": []
    },
    {
      "cell_type": "code",
      "metadata": {
        "id": "Yy_Rx03Ey_s_",
        "colab_type": "code",
        "outputId": "ed3f5c09-d7ea-46b8-f965-e317578fa31f",
        "colab": {
          "base_uri": "https://localhost:8080/",
          "height": 34
        }
      },
      "source": [
        "print(distance)"
      ],
      "execution_count": 106,
      "outputs": [
        {
          "output_type": "stream",
          "text": [
            "2.8284271247461903\n"
          ],
          "name": "stdout"
        }
      ]
    },
    {
      "cell_type": "code",
      "metadata": {
        "id": "YwMhmH9NzFG1",
        "colab_type": "code",
        "outputId": "22e1c4e2-cec6-4e4b-b855-19d1b4e142d2",
        "colab": {
          "base_uri": "https://localhost:8080/",
          "height": 34
        }
      },
      "source": [
        " # Calculating distance \n",
        "math.sqrt(math.pow(p1[0] - p2[0], 2) + math.pow(p1[1] - p2[1], 2) ) "
      ],
      "execution_count": 107,
      "outputs": [
        {
          "output_type": "execute_result",
          "data": {
            "text/plain": [
              "2.8284271247461903"
            ]
          },
          "metadata": {
            "tags": []
          },
          "execution_count": 107
        }
      ]
    },
    {
      "cell_type": "code",
      "metadata": {
        "id": "aRAiIdk4zrWJ",
        "colab_type": "code",
        "colab": {}
      },
      "source": [
        "def my_f(p1,p2):\n",
        "  return (math.sqrt(math.pow(p1 - p2,2)))"
      ],
      "execution_count": 0,
      "outputs": []
    },
    {
      "cell_type": "code",
      "metadata": {
        "id": "AhLokfPTz9YB",
        "colab_type": "code",
        "colab": {}
      },
      "source": [
        "#my_f(p1,p2)"
      ],
      "execution_count": 0,
      "outputs": []
    },
    {
      "cell_type": "code",
      "metadata": {
        "id": "yuWJPMR0z_EA",
        "colab_type": "code",
        "outputId": "61a765af-fa11-4fc1-8ce1-814326b9fe80",
        "colab": {
          "base_uri": "https://localhost:8080/",
          "height": 34
        }
      },
      "source": [
        "p1-p2"
      ],
      "execution_count": 110,
      "outputs": [
        {
          "output_type": "execute_result",
          "data": {
            "text/plain": [
              "array([-2, -2])"
            ]
          },
          "metadata": {
            "tags": []
          },
          "execution_count": 110
        }
      ]
    },
    {
      "cell_type": "code",
      "metadata": {
        "id": "6g8WtX2K0IKb",
        "colab_type": "code",
        "colab": {}
      },
      "source": [
        "dist = np.linalg.norm(p1-p2)"
      ],
      "execution_count": 0,
      "outputs": []
    },
    {
      "cell_type": "code",
      "metadata": {
        "id": "9fdU-Soe1LpD",
        "colab_type": "code",
        "outputId": "4a3210b1-9ceb-4e29-ffa7-681da1353daa",
        "colab": {
          "base_uri": "https://localhost:8080/",
          "height": 34
        }
      },
      "source": [
        "print(dist)"
      ],
      "execution_count": 112,
      "outputs": [
        {
          "output_type": "stream",
          "text": [
            "2.8284271247461903\n"
          ],
          "name": "stdout"
        }
      ]
    },
    {
      "cell_type": "code",
      "metadata": {
        "id": "NkEb7GPw1QMK",
        "colab_type": "code",
        "colab": {}
      },
      "source": [
        "def setup(n):\n",
        "    a = np.random.rand(n, 3)\n",
        "    b = np.random.rand(n, 3)\n",
        "    out0 = np.array([a, b])\n",
        "    out1 = np.array([a.T, b.T])\n",
        "    return out0, out1"
      ],
      "execution_count": 0,
      "outputs": []
    },
    {
      "cell_type": "code",
      "metadata": {
        "id": "lg7R8PXu2EY0",
        "colab_type": "code",
        "colab": {}
      },
      "source": [
        "setup = setup"
      ],
      "execution_count": 0,
      "outputs": []
    },
    {
      "cell_type": "code",
      "metadata": {
        "id": "03fBVj8n2FtP",
        "colab_type": "code",
        "outputId": "7eba53f0-8594-4e74-c36d-5e1f759f09e4",
        "colab": {
          "base_uri": "https://localhost:8080/",
          "height": 34
        }
      },
      "source": [
        "setup"
      ],
      "execution_count": 115,
      "outputs": [
        {
          "output_type": "execute_result",
          "data": {
            "text/plain": [
              "<function __main__.setup>"
            ]
          },
          "metadata": {
            "tags": []
          },
          "execution_count": 115
        }
      ]
    },
    {
      "cell_type": "code",
      "metadata": {
        "id": "h2wGL1232Ggk",
        "colab_type": "code",
        "outputId": "e7a9e3d2-47ad-4d4d-f0b0-860b9fccb7ce",
        "colab": {
          "base_uri": "https://localhost:8080/",
          "height": 34
        }
      },
      "source": [
        "setup"
      ],
      "execution_count": 116,
      "outputs": [
        {
          "output_type": "execute_result",
          "data": {
            "text/plain": [
              "<function __main__.setup>"
            ]
          },
          "metadata": {
            "tags": []
          },
          "execution_count": 116
        }
      ]
    },
    {
      "cell_type": "code",
      "metadata": {
        "id": "KjlnkmIr2TIn",
        "colab_type": "code",
        "outputId": "137ad29e-968f-46d7-9f50-75ed163cb175",
        "colab": {
          "base_uri": "https://localhost:8080/",
          "height": 176
        }
      },
      "source": [
        "setup(1)"
      ],
      "execution_count": 117,
      "outputs": [
        {
          "output_type": "execute_result",
          "data": {
            "text/plain": [
              "(array([[[0.50388124, 0.58775438, 0.86890342]],\n",
              " \n",
              "        [[0.26937063, 0.25854842, 0.21261543]]]), array([[[0.50388124],\n",
              "         [0.58775438],\n",
              "         [0.86890342]],\n",
              " \n",
              "        [[0.26937063],\n",
              "         [0.25854842],\n",
              "         [0.21261543]]]))"
            ]
          },
          "metadata": {
            "tags": []
          },
          "execution_count": 117
        }
      ]
    },
    {
      "cell_type": "markdown",
      "metadata": {
        "id": "Hps2kyIN2_kI",
        "colab_type": "text"
      },
      "source": [
        "SRC: https://stackoverflow.com/questions/1401712/how-can-the-euclidean-distance-be-calculated-with-numpy"
      ]
    },
    {
      "cell_type": "code",
      "metadata": {
        "id": "6uV0w6-v2VaH",
        "colab_type": "code",
        "colab": {}
      },
      "source": [
        "def linalg_norm(data):\n",
        "    a, b = data[0]\n",
        "    return numpy.linalg.norm(a - b, axis=1)\n",
        "\n",
        "\n",
        "def linalg_norm_T(data):\n",
        "    a, b = data[1]\n",
        "    return numpy.linalg.norm(a - b, axis=0)\n",
        "\n",
        "\n",
        "def sqrt_sum(data):\n",
        "    a, b = data[0]\n",
        "    return numpy.sqrt(numpy.sum((a - b) ** 2, axis=1))\n",
        "\n",
        "\n",
        "def sqrt_sum_T(data):\n",
        "    a, b = data[1]\n",
        "    return numpy.sqrt(numpy.sum((a - b) ** 2, axis=0))\n"
      ],
      "execution_count": 0,
      "outputs": []
    },
    {
      "cell_type": "code",
      "metadata": {
        "id": "R1rsAnpZ29zh",
        "colab_type": "code",
        "colab": {}
      },
      "source": [
        "#a"
      ],
      "execution_count": 0,
      "outputs": []
    },
    {
      "cell_type": "code",
      "metadata": {
        "id": "crj8c6CT3GRt",
        "colab_type": "code",
        "colab": {}
      },
      "source": [
        "a,b = setup(1)"
      ],
      "execution_count": 0,
      "outputs": []
    },
    {
      "cell_type": "code",
      "metadata": {
        "id": "gyMnmtEj3Llj",
        "colab_type": "code",
        "outputId": "009cdecf-5300-438d-cc76-e47103c286e0",
        "colab": {
          "base_uri": "https://localhost:8080/",
          "height": 70
        }
      },
      "source": [
        "a"
      ],
      "execution_count": 121,
      "outputs": [
        {
          "output_type": "execute_result",
          "data": {
            "text/plain": [
              "array([[[0.8667574 , 0.74114939, 0.8336257 ]],\n",
              "\n",
              "       [[0.11243479, 0.00724804, 0.10526531]]])"
            ]
          },
          "metadata": {
            "tags": []
          },
          "execution_count": 121
        }
      ]
    },
    {
      "cell_type": "code",
      "metadata": {
        "id": "--TAMMBl3Mgr",
        "colab_type": "code",
        "outputId": "f3142599-ec74-41ad-ac23-654387ad298c",
        "colab": {
          "base_uri": "https://localhost:8080/",
          "height": 141
        }
      },
      "source": [
        "b"
      ],
      "execution_count": 122,
      "outputs": [
        {
          "output_type": "execute_result",
          "data": {
            "text/plain": [
              "array([[[0.8667574 ],\n",
              "        [0.74114939],\n",
              "        [0.8336257 ]],\n",
              "\n",
              "       [[0.11243479],\n",
              "        [0.00724804],\n",
              "        [0.10526531]]])"
            ]
          },
          "metadata": {
            "tags": []
          },
          "execution_count": 122
        }
      ]
    },
    {
      "cell_type": "code",
      "metadata": {
        "id": "10fHiyiu3NWN",
        "colab_type": "code",
        "outputId": "05d282b8-bc60-41ea-a731-e3c396cecc46",
        "colab": {
          "base_uri": "https://localhost:8080/",
          "height": 34
        }
      },
      "source": [
        "a.shape, b.shape"
      ],
      "execution_count": 123,
      "outputs": [
        {
          "output_type": "execute_result",
          "data": {
            "text/plain": [
              "((2, 1, 3), (2, 3, 1))"
            ]
          },
          "metadata": {
            "tags": []
          },
          "execution_count": 123
        }
      ]
    },
    {
      "cell_type": "code",
      "metadata": {
        "id": "IQqfw2op3QSB",
        "colab_type": "code",
        "outputId": "c8c8e9f4-dc75-4386-9f53-5daad4bb2b2f",
        "colab": {
          "base_uri": "https://localhost:8080/",
          "height": 34
        }
      },
      "source": [
        "p1"
      ],
      "execution_count": 124,
      "outputs": [
        {
          "output_type": "execute_result",
          "data": {
            "text/plain": [
              "array([1, 2])"
            ]
          },
          "metadata": {
            "tags": []
          },
          "execution_count": 124
        }
      ]
    },
    {
      "cell_type": "code",
      "metadata": {
        "id": "eSz9MwKA4JOq",
        "colab_type": "code",
        "outputId": "bcbb18fc-ac0c-4410-eef4-8cb8f9ec4fbf",
        "colab": {
          "base_uri": "https://localhost:8080/",
          "height": 34
        }
      },
      "source": [
        "p2"
      ],
      "execution_count": 125,
      "outputs": [
        {
          "output_type": "execute_result",
          "data": {
            "text/plain": [
              "array([3, 4])"
            ]
          },
          "metadata": {
            "tags": []
          },
          "execution_count": 125
        }
      ]
    },
    {
      "cell_type": "code",
      "metadata": {
        "id": "EKDAOi7J4KEB",
        "colab_type": "code",
        "outputId": "3055d26d-816d-407d-fc1b-8f297f8e022b",
        "colab": {
          "base_uri": "https://localhost:8080/",
          "height": 34
        }
      },
      "source": [
        "np.linalg.norm(p1-p2)"
      ],
      "execution_count": 126,
      "outputs": [
        {
          "output_type": "execute_result",
          "data": {
            "text/plain": [
              "2.8284271247461903"
            ]
          },
          "metadata": {
            "tags": []
          },
          "execution_count": 126
        }
      ]
    },
    {
      "cell_type": "markdown",
      "metadata": {
        "id": "aslxSvqbJV5D",
        "colab_type": "text"
      },
      "source": [
        "Trying to reduce the no of rows passed to KNN Class"
      ]
    },
    {
      "cell_type": "markdown",
      "metadata": {
        "id": "L5-LCrTGJbyS",
        "colab_type": "text"
      },
      "source": [
        "let's read the same data and see how to break it apart"
      ]
    },
    {
      "cell_type": "code",
      "metadata": {
        "id": "NDFrAfdN-7AT",
        "colab_type": "code",
        "outputId": "031fd81e-25c4-4f28-b522-6a1ea20be988",
        "colab": {
          "base_uri": "https://localhost:8080/",
          "height": 176
        }
      },
      "source": [
        "data=pd.read_csv('./iris.data')\n",
        "data.columns=['SepalLength','SepalWidth','PetalLength','PetalWidth','Class']\n",
        "print(data.describe())"
      ],
      "execution_count": 127,
      "outputs": [
        {
          "output_type": "stream",
          "text": [
            "       SepalLength  SepalWidth  PetalLength  PetalWidth\n",
            "count   149.000000  149.000000   149.000000  149.000000\n",
            "mean      5.848322    3.051007     3.774497    1.205369\n",
            "std       0.828594    0.433499     1.759651    0.761292\n",
            "min       4.300000    2.000000     1.000000    0.100000\n",
            "25%       5.100000    2.800000     1.600000    0.300000\n",
            "50%       5.800000    3.000000     4.400000    1.300000\n",
            "75%       6.400000    3.300000     5.100000    1.800000\n",
            "max       7.900000    4.400000     6.900000    2.500000\n"
          ],
          "name": "stdout"
        }
      ]
    },
    {
      "cell_type": "code",
      "metadata": {
        "id": "PNkwuQ6FJoEI",
        "colab_type": "code",
        "colab": {}
      },
      "source": [
        "# Get your data in matrix\n",
        "X=np.asarray(data[['SepalLength','SepalWidth','PetalLength','PetalWidth']].dropna())"
      ],
      "execution_count": 0,
      "outputs": []
    },
    {
      "cell_type": "code",
      "metadata": {
        "id": "36lPKZvrJsur",
        "colab_type": "code",
        "outputId": "00429a87-b3d8-4bd1-cd6d-1adb811d303e",
        "colab": {
          "base_uri": "https://localhost:8080/",
          "height": 1000
        }
      },
      "source": [
        "print(X)"
      ],
      "execution_count": 129,
      "outputs": [
        {
          "output_type": "stream",
          "text": [
            "[[4.9 3.  1.4 0.2]\n",
            " [4.7 3.2 1.3 0.2]\n",
            " [4.6 3.1 1.5 0.2]\n",
            " [5.  3.6 1.4 0.2]\n",
            " [5.4 3.9 1.7 0.4]\n",
            " [4.6 3.4 1.4 0.3]\n",
            " [5.  3.4 1.5 0.2]\n",
            " [4.4 2.9 1.4 0.2]\n",
            " [4.9 3.1 1.5 0.1]\n",
            " [5.4 3.7 1.5 0.2]\n",
            " [4.8 3.4 1.6 0.2]\n",
            " [4.8 3.  1.4 0.1]\n",
            " [4.3 3.  1.1 0.1]\n",
            " [5.8 4.  1.2 0.2]\n",
            " [5.7 4.4 1.5 0.4]\n",
            " [5.4 3.9 1.3 0.4]\n",
            " [5.1 3.5 1.4 0.3]\n",
            " [5.7 3.8 1.7 0.3]\n",
            " [5.1 3.8 1.5 0.3]\n",
            " [5.4 3.4 1.7 0.2]\n",
            " [5.1 3.7 1.5 0.4]\n",
            " [4.6 3.6 1.  0.2]\n",
            " [5.1 3.3 1.7 0.5]\n",
            " [4.8 3.4 1.9 0.2]\n",
            " [5.  3.  1.6 0.2]\n",
            " [5.  3.4 1.6 0.4]\n",
            " [5.2 3.5 1.5 0.2]\n",
            " [5.2 3.4 1.4 0.2]\n",
            " [4.7 3.2 1.6 0.2]\n",
            " [4.8 3.1 1.6 0.2]\n",
            " [5.4 3.4 1.5 0.4]\n",
            " [5.2 4.1 1.5 0.1]\n",
            " [5.5 4.2 1.4 0.2]\n",
            " [4.9 3.1 1.5 0.1]\n",
            " [5.  3.2 1.2 0.2]\n",
            " [5.5 3.5 1.3 0.2]\n",
            " [4.9 3.1 1.5 0.1]\n",
            " [4.4 3.  1.3 0.2]\n",
            " [5.1 3.4 1.5 0.2]\n",
            " [5.  3.5 1.3 0.3]\n",
            " [4.5 2.3 1.3 0.3]\n",
            " [4.4 3.2 1.3 0.2]\n",
            " [5.  3.5 1.6 0.6]\n",
            " [5.1 3.8 1.9 0.4]\n",
            " [4.8 3.  1.4 0.3]\n",
            " [5.1 3.8 1.6 0.2]\n",
            " [4.6 3.2 1.4 0.2]\n",
            " [5.3 3.7 1.5 0.2]\n",
            " [5.  3.3 1.4 0.2]\n",
            " [7.  3.2 4.7 1.4]\n",
            " [6.4 3.2 4.5 1.5]\n",
            " [6.9 3.1 4.9 1.5]\n",
            " [5.5 2.3 4.  1.3]\n",
            " [6.5 2.8 4.6 1.5]\n",
            " [5.7 2.8 4.5 1.3]\n",
            " [6.3 3.3 4.7 1.6]\n",
            " [4.9 2.4 3.3 1. ]\n",
            " [6.6 2.9 4.6 1.3]\n",
            " [5.2 2.7 3.9 1.4]\n",
            " [5.  2.  3.5 1. ]\n",
            " [5.9 3.  4.2 1.5]\n",
            " [6.  2.2 4.  1. ]\n",
            " [6.1 2.9 4.7 1.4]\n",
            " [5.6 2.9 3.6 1.3]\n",
            " [6.7 3.1 4.4 1.4]\n",
            " [5.6 3.  4.5 1.5]\n",
            " [5.8 2.7 4.1 1. ]\n",
            " [6.2 2.2 4.5 1.5]\n",
            " [5.6 2.5 3.9 1.1]\n",
            " [5.9 3.2 4.8 1.8]\n",
            " [6.1 2.8 4.  1.3]\n",
            " [6.3 2.5 4.9 1.5]\n",
            " [6.1 2.8 4.7 1.2]\n",
            " [6.4 2.9 4.3 1.3]\n",
            " [6.6 3.  4.4 1.4]\n",
            " [6.8 2.8 4.8 1.4]\n",
            " [6.7 3.  5.  1.7]\n",
            " [6.  2.9 4.5 1.5]\n",
            " [5.7 2.6 3.5 1. ]\n",
            " [5.5 2.4 3.8 1.1]\n",
            " [5.5 2.4 3.7 1. ]\n",
            " [5.8 2.7 3.9 1.2]\n",
            " [6.  2.7 5.1 1.6]\n",
            " [5.4 3.  4.5 1.5]\n",
            " [6.  3.4 4.5 1.6]\n",
            " [6.7 3.1 4.7 1.5]\n",
            " [6.3 2.3 4.4 1.3]\n",
            " [5.6 3.  4.1 1.3]\n",
            " [5.5 2.5 4.  1.3]\n",
            " [5.5 2.6 4.4 1.2]\n",
            " [6.1 3.  4.6 1.4]\n",
            " [5.8 2.6 4.  1.2]\n",
            " [5.  2.3 3.3 1. ]\n",
            " [5.6 2.7 4.2 1.3]\n",
            " [5.7 3.  4.2 1.2]\n",
            " [5.7 2.9 4.2 1.3]\n",
            " [6.2 2.9 4.3 1.3]\n",
            " [5.1 2.5 3.  1.1]\n",
            " [5.7 2.8 4.1 1.3]\n",
            " [6.3 3.3 6.  2.5]\n",
            " [5.8 2.7 5.1 1.9]\n",
            " [7.1 3.  5.9 2.1]\n",
            " [6.3 2.9 5.6 1.8]\n",
            " [6.5 3.  5.8 2.2]\n",
            " [7.6 3.  6.6 2.1]\n",
            " [4.9 2.5 4.5 1.7]\n",
            " [7.3 2.9 6.3 1.8]\n",
            " [6.7 2.5 5.8 1.8]\n",
            " [7.2 3.6 6.1 2.5]\n",
            " [6.5 3.2 5.1 2. ]\n",
            " [6.4 2.7 5.3 1.9]\n",
            " [6.8 3.  5.5 2.1]\n",
            " [5.7 2.5 5.  2. ]\n",
            " [5.8 2.8 5.1 2.4]\n",
            " [6.4 3.2 5.3 2.3]\n",
            " [6.5 3.  5.5 1.8]\n",
            " [7.7 3.8 6.7 2.2]\n",
            " [7.7 2.6 6.9 2.3]\n",
            " [6.  2.2 5.  1.5]\n",
            " [6.9 3.2 5.7 2.3]\n",
            " [5.6 2.8 4.9 2. ]\n",
            " [7.7 2.8 6.7 2. ]\n",
            " [6.3 2.7 4.9 1.8]\n",
            " [6.7 3.3 5.7 2.1]\n",
            " [7.2 3.2 6.  1.8]\n",
            " [6.2 2.8 4.8 1.8]\n",
            " [6.1 3.  4.9 1.8]\n",
            " [6.4 2.8 5.6 2.1]\n",
            " [7.2 3.  5.8 1.6]\n",
            " [7.4 2.8 6.1 1.9]\n",
            " [7.9 3.8 6.4 2. ]\n",
            " [6.4 2.8 5.6 2.2]\n",
            " [6.3 2.8 5.1 1.5]\n",
            " [6.1 2.6 5.6 1.4]\n",
            " [7.7 3.  6.1 2.3]\n",
            " [6.3 3.4 5.6 2.4]\n",
            " [6.4 3.1 5.5 1.8]\n",
            " [6.  3.  4.8 1.8]\n",
            " [6.9 3.1 5.4 2.1]\n",
            " [6.7 3.1 5.6 2.4]\n",
            " [6.9 3.1 5.1 2.3]\n",
            " [5.8 2.7 5.1 1.9]\n",
            " [6.8 3.2 5.9 2.3]\n",
            " [6.7 3.3 5.7 2.5]\n",
            " [6.7 3.  5.2 2.3]\n",
            " [6.3 2.5 5.  1.9]\n",
            " [6.5 3.  5.2 2. ]\n",
            " [6.2 3.4 5.4 2.3]\n",
            " [5.9 3.  5.1 1.8]]\n"
          ],
          "name": "stdout"
        }
      ]
    },
    {
      "cell_type": "code",
      "metadata": {
        "id": "WD5gGkIsMoi1",
        "colab_type": "code",
        "outputId": "e6bc2f95-58e0-4de5-ced1-76993acc1c3b",
        "colab": {
          "base_uri": "https://localhost:8080/",
          "height": 34
        }
      },
      "source": [
        "print(X.shape)"
      ],
      "execution_count": 130,
      "outputs": [
        {
          "output_type": "stream",
          "text": [
            "(149, 4)\n"
          ],
          "name": "stdout"
        }
      ]
    },
    {
      "cell_type": "code",
      "metadata": {
        "id": "sG3Jk0iOJtuK",
        "colab_type": "code",
        "colab": {}
      },
      "source": [
        "Y=np.asarray(data['Class'].dropna())"
      ],
      "execution_count": 0,
      "outputs": []
    },
    {
      "cell_type": "code",
      "metadata": {
        "id": "tR-JDaYwMrim",
        "colab_type": "code",
        "outputId": "09123e49-9f61-45c0-9a4d-4f07f972c9e6",
        "colab": {
          "base_uri": "https://localhost:8080/",
          "height": 34
        }
      },
      "source": [
        "print(Y.shape)"
      ],
      "execution_count": 132,
      "outputs": [
        {
          "output_type": "stream",
          "text": [
            "(149,)\n"
          ],
          "name": "stdout"
        }
      ]
    },
    {
      "cell_type": "code",
      "metadata": {
        "id": "X-lphaxMK7V6",
        "colab_type": "code",
        "outputId": "f89416e3-8027-4b5c-f4ef-5e35b0e1488f",
        "colab": {
          "base_uri": "https://localhost:8080/",
          "height": 638
        }
      },
      "source": [
        "print(Y)"
      ],
      "execution_count": 133,
      "outputs": [
        {
          "output_type": "stream",
          "text": [
            "['Iris-setosa' 'Iris-setosa' 'Iris-setosa' 'Iris-setosa' 'Iris-setosa'\n",
            " 'Iris-setosa' 'Iris-setosa' 'Iris-setosa' 'Iris-setosa' 'Iris-setosa'\n",
            " 'Iris-setosa' 'Iris-setosa' 'Iris-setosa' 'Iris-setosa' 'Iris-setosa'\n",
            " 'Iris-setosa' 'Iris-setosa' 'Iris-setosa' 'Iris-setosa' 'Iris-setosa'\n",
            " 'Iris-setosa' 'Iris-setosa' 'Iris-setosa' 'Iris-setosa' 'Iris-setosa'\n",
            " 'Iris-setosa' 'Iris-setosa' 'Iris-setosa' 'Iris-setosa' 'Iris-setosa'\n",
            " 'Iris-setosa' 'Iris-setosa' 'Iris-setosa' 'Iris-setosa' 'Iris-setosa'\n",
            " 'Iris-setosa' 'Iris-setosa' 'Iris-setosa' 'Iris-setosa' 'Iris-setosa'\n",
            " 'Iris-setosa' 'Iris-setosa' 'Iris-setosa' 'Iris-setosa' 'Iris-setosa'\n",
            " 'Iris-setosa' 'Iris-setosa' 'Iris-setosa' 'Iris-setosa' 'Iris-versicolor'\n",
            " 'Iris-versicolor' 'Iris-versicolor' 'Iris-versicolor' 'Iris-versicolor'\n",
            " 'Iris-versicolor' 'Iris-versicolor' 'Iris-versicolor' 'Iris-versicolor'\n",
            " 'Iris-versicolor' 'Iris-versicolor' 'Iris-versicolor' 'Iris-versicolor'\n",
            " 'Iris-versicolor' 'Iris-versicolor' 'Iris-versicolor' 'Iris-versicolor'\n",
            " 'Iris-versicolor' 'Iris-versicolor' 'Iris-versicolor' 'Iris-versicolor'\n",
            " 'Iris-versicolor' 'Iris-versicolor' 'Iris-versicolor' 'Iris-versicolor'\n",
            " 'Iris-versicolor' 'Iris-versicolor' 'Iris-versicolor' 'Iris-versicolor'\n",
            " 'Iris-versicolor' 'Iris-versicolor' 'Iris-versicolor' 'Iris-versicolor'\n",
            " 'Iris-versicolor' 'Iris-versicolor' 'Iris-versicolor' 'Iris-versicolor'\n",
            " 'Iris-versicolor' 'Iris-versicolor' 'Iris-versicolor' 'Iris-versicolor'\n",
            " 'Iris-versicolor' 'Iris-versicolor' 'Iris-versicolor' 'Iris-versicolor'\n",
            " 'Iris-versicolor' 'Iris-versicolor' 'Iris-versicolor' 'Iris-versicolor'\n",
            " 'Iris-versicolor' 'Iris-virginica' 'Iris-virginica' 'Iris-virginica'\n",
            " 'Iris-virginica' 'Iris-virginica' 'Iris-virginica' 'Iris-virginica'\n",
            " 'Iris-virginica' 'Iris-virginica' 'Iris-virginica' 'Iris-virginica'\n",
            " 'Iris-virginica' 'Iris-virginica' 'Iris-virginica' 'Iris-virginica'\n",
            " 'Iris-virginica' 'Iris-virginica' 'Iris-virginica' 'Iris-virginica'\n",
            " 'Iris-virginica' 'Iris-virginica' 'Iris-virginica' 'Iris-virginica'\n",
            " 'Iris-virginica' 'Iris-virginica' 'Iris-virginica' 'Iris-virginica'\n",
            " 'Iris-virginica' 'Iris-virginica' 'Iris-virginica' 'Iris-virginica'\n",
            " 'Iris-virginica' 'Iris-virginica' 'Iris-virginica' 'Iris-virginica'\n",
            " 'Iris-virginica' 'Iris-virginica' 'Iris-virginica' 'Iris-virginica'\n",
            " 'Iris-virginica' 'Iris-virginica' 'Iris-virginica' 'Iris-virginica'\n",
            " 'Iris-virginica' 'Iris-virginica' 'Iris-virginica' 'Iris-virginica'\n",
            " 'Iris-virginica' 'Iris-virginica' 'Iris-virginica']\n"
          ],
          "name": "stdout"
        }
      ]
    },
    {
      "cell_type": "code",
      "metadata": {
        "id": "kVjiWS7JMZvN",
        "colab_type": "code",
        "colab": {}
      },
      "source": [
        "Xtrain,Ytrain,Xtest,Ytest=t.split_data(X,Y)"
      ],
      "execution_count": 0,
      "outputs": []
    },
    {
      "cell_type": "code",
      "metadata": {
        "id": "i8O9A7FWMgpm",
        "colab_type": "code",
        "outputId": "4136d8f4-4965-43ac-a8e1-477feae88224",
        "colab": {
          "base_uri": "https://localhost:8080/",
          "height": 1000
        }
      },
      "source": [
        "print(Xtrain)"
      ],
      "execution_count": 135,
      "outputs": [
        {
          "output_type": "stream",
          "text": [
            "[[5.4 3.9 1.3 0.4]\n",
            " [5.7 3.8 1.7 0.3]\n",
            " [5.4 3.7 1.5 0.2]\n",
            " [5.2 4.1 1.5 0.1]\n",
            " [4.8 3.1 1.6 0.2]\n",
            " [5.1 3.7 1.5 0.4]\n",
            " [5.  3.  1.6 0.2]\n",
            " [4.8 3.4 1.6 0.2]\n",
            " [5.4 3.4 1.7 0.2]\n",
            " [5.  3.2 1.2 0.2]\n",
            " [4.6 3.1 1.5 0.2]\n",
            " [4.9 3.1 1.5 0.1]\n",
            " [5.  3.6 1.4 0.2]\n",
            " [5.1 3.5 1.4 0.3]\n",
            " [5.4 3.9 1.7 0.4]\n",
            " [4.4 2.9 1.4 0.2]\n",
            " [4.9 3.1 1.5 0.1]\n",
            " [5.2 3.4 1.4 0.2]\n",
            " [4.6 3.6 1.  0.2]\n",
            " [4.4 3.2 1.3 0.2]\n",
            " [5.  3.5 1.6 0.6]\n",
            " [4.3 3.  1.1 0.1]\n",
            " [5.7 4.4 1.5 0.4]\n",
            " [4.9 3.  1.4 0.2]\n",
            " [4.9 3.1 1.5 0.1]\n",
            " [4.6 3.4 1.4 0.3]\n",
            " [5.4 3.4 1.5 0.4]\n",
            " [5.2 3.5 1.5 0.2]\n",
            " [5.  3.4 1.6 0.4]\n",
            " [5.  3.4 1.5 0.2]\n",
            " [4.7 3.2 1.6 0.2]\n",
            " [4.5 2.3 1.3 0.3]\n",
            " [5.1 3.8 1.9 0.4]\n",
            " [5.1 3.8 1.6 0.2]\n",
            " [5.  2.  3.5 1. ]\n",
            " [6.6 3.  4.4 1.4]\n",
            " [5.8 2.6 4.  1.2]\n",
            " [6.7 3.  5.  1.7]\n",
            " [6.4 3.2 4.5 1.5]\n",
            " [6.  2.7 5.1 1.6]\n",
            " [5.2 2.7 3.9 1.4]\n",
            " [5.5 2.3 4.  1.3]\n",
            " [5.4 3.  4.5 1.5]\n",
            " [5.5 2.5 4.  1.3]\n",
            " [5.7 3.  4.2 1.2]\n",
            " [6.2 2.9 4.3 1.3]\n",
            " [6.1 2.8 4.  1.3]\n",
            " [5.5 2.6 4.4 1.2]\n",
            " [6.  2.2 4.  1. ]\n",
            " [5.6 2.5 3.9 1.1]\n",
            " [5.9 3.  4.2 1.5]\n",
            " [6.1 2.9 4.7 1.4]\n",
            " [6.3 2.5 4.9 1.5]\n",
            " [5.8 2.7 4.1 1. ]\n",
            " [5.5 2.4 3.8 1.1]\n",
            " [5.8 2.7 3.9 1.2]\n",
            " [6.7 3.1 4.4 1.4]\n",
            " [6.6 2.9 4.6 1.3]\n",
            " [6.8 2.8 4.8 1.4]\n",
            " [6.  3.4 4.5 1.6]\n",
            " [6.3 3.3 4.7 1.6]\n",
            " [5.1 2.5 3.  1.1]\n",
            " [6.5 2.8 4.6 1.5]\n",
            " [5.6 2.9 3.6 1.3]\n",
            " [6.9 3.1 4.9 1.5]\n",
            " [5.7 2.6 3.5 1. ]\n",
            " [5.7 2.9 4.2 1.3]\n",
            " [5.6 3.  4.1 1.3]\n",
            " [5.6 2.7 4.2 1.3]\n",
            " [5.8 2.8 5.1 2.4]\n",
            " [6.8 3.2 5.9 2.3]\n",
            " [6.3 3.3 6.  2.5]\n",
            " [7.6 3.  6.6 2.1]\n",
            " [6.7 3.3 5.7 2.5]\n",
            " [5.9 3.  5.1 1.8]\n",
            " [6.4 3.1 5.5 1.8]\n",
            " [6.2 3.4 5.4 2.3]\n",
            " [6.8 3.  5.5 2.1]\n",
            " [5.8 2.7 5.1 1.9]\n",
            " [6.3 2.9 5.6 1.8]\n",
            " [6.2 2.8 4.8 1.8]\n",
            " [7.3 2.9 6.3 1.8]\n",
            " [6.3 2.7 4.9 1.8]\n",
            " [6.9 3.1 5.4 2.1]\n",
            " [6.  2.2 5.  1.5]\n",
            " [5.6 2.8 4.9 2. ]\n",
            " [6.7 3.  5.2 2.3]\n",
            " [6.5 3.  5.5 1.8]\n",
            " [6.  3.  4.8 1.8]\n",
            " [6.9 3.1 5.1 2.3]\n",
            " [7.2 3.6 6.1 2.5]\n",
            " [4.9 2.5 4.5 1.7]\n",
            " [6.1 2.6 5.6 1.4]\n",
            " [7.7 2.6 6.9 2.3]\n",
            " [6.4 2.8 5.6 2.2]\n",
            " [7.9 3.8 6.4 2. ]\n",
            " [7.1 3.  5.9 2.1]\n",
            " [7.2 3.  5.8 1.6]\n",
            " [6.4 2.8 5.6 2.1]\n",
            " [5.7 2.5 5.  2. ]\n",
            " [6.7 3.1 5.6 2.4]\n",
            " [5.8 2.7 5.1 1.9]\n",
            " [7.7 3.8 6.7 2.2]\n",
            " [6.3 2.8 5.1 1.5]]\n"
          ],
          "name": "stdout"
        }
      ]
    },
    {
      "cell_type": "code",
      "metadata": {
        "id": "HNCkQ3lQMvwp",
        "colab_type": "code",
        "outputId": "1721597d-b5d3-4f8f-8174-488c8df14229",
        "colab": {
          "base_uri": "https://localhost:8080/",
          "height": 34
        }
      },
      "source": [
        "print(Xtrain.shape)"
      ],
      "execution_count": 136,
      "outputs": [
        {
          "output_type": "stream",
          "text": [
            "(104, 4)\n"
          ],
          "name": "stdout"
        }
      ]
    },
    {
      "cell_type": "code",
      "metadata": {
        "id": "rCb5dkP-Mzz1",
        "colab_type": "code",
        "outputId": "fccb772e-fba0-4a3f-e8aa-a46e7320c9fa",
        "colab": {
          "base_uri": "https://localhost:8080/",
          "height": 34
        }
      },
      "source": [
        "print(Xtest.shape)"
      ],
      "execution_count": 137,
      "outputs": [
        {
          "output_type": "stream",
          "text": [
            "(45, 4)\n"
          ],
          "name": "stdout"
        }
      ]
    },
    {
      "cell_type": "code",
      "metadata": {
        "id": "YkMo5LJUK88O",
        "colab_type": "code",
        "colab": {}
      },
      "source": [
        "# Lets train a Decision Tree Classifier on Petal Length and Width\n",
        "feat=[0,1]"
      ],
      "execution_count": 0,
      "outputs": []
    },
    {
      "cell_type": "code",
      "metadata": {
        "id": "X9wOM9-SM5Oi",
        "colab_type": "code",
        "outputId": "0db940cc-6391-49ad-8d12-5c3d8e311c74",
        "colab": {
          "base_uri": "https://localhost:8080/",
          "height": 52
        }
      },
      "source": [
        "Xtrain[feat]"
      ],
      "execution_count": 139,
      "outputs": [
        {
          "output_type": "execute_result",
          "data": {
            "text/plain": [
              "array([[5.4, 3.9, 1.3, 0.4],\n",
              "       [5.7, 3.8, 1.7, 0.3]])"
            ]
          },
          "metadata": {
            "tags": []
          },
          "execution_count": 139
        }
      ]
    },
    {
      "cell_type": "code",
      "metadata": {
        "id": "tRhpXaQcM7sr",
        "colab_type": "code",
        "colab": {}
      },
      "source": [
        "#Xtrain[,feat]"
      ],
      "execution_count": 0,
      "outputs": []
    },
    {
      "cell_type": "code",
      "metadata": {
        "id": "mFfdX8ZWxCb5",
        "colab_type": "code",
        "outputId": "a0fef917-e504-4ff5-f13b-077753abdebc",
        "colab": {
          "base_uri": "https://localhost:8080/",
          "height": 1000
        }
      },
      "source": [
        "Xtrain[:,feat]"
      ],
      "execution_count": 141,
      "outputs": [
        {
          "output_type": "execute_result",
          "data": {
            "text/plain": [
              "array([[5.4, 3.9],\n",
              "       [5.7, 3.8],\n",
              "       [5.4, 3.7],\n",
              "       [5.2, 4.1],\n",
              "       [4.8, 3.1],\n",
              "       [5.1, 3.7],\n",
              "       [5. , 3. ],\n",
              "       [4.8, 3.4],\n",
              "       [5.4, 3.4],\n",
              "       [5. , 3.2],\n",
              "       [4.6, 3.1],\n",
              "       [4.9, 3.1],\n",
              "       [5. , 3.6],\n",
              "       [5.1, 3.5],\n",
              "       [5.4, 3.9],\n",
              "       [4.4, 2.9],\n",
              "       [4.9, 3.1],\n",
              "       [5.2, 3.4],\n",
              "       [4.6, 3.6],\n",
              "       [4.4, 3.2],\n",
              "       [5. , 3.5],\n",
              "       [4.3, 3. ],\n",
              "       [5.7, 4.4],\n",
              "       [4.9, 3. ],\n",
              "       [4.9, 3.1],\n",
              "       [4.6, 3.4],\n",
              "       [5.4, 3.4],\n",
              "       [5.2, 3.5],\n",
              "       [5. , 3.4],\n",
              "       [5. , 3.4],\n",
              "       [4.7, 3.2],\n",
              "       [4.5, 2.3],\n",
              "       [5.1, 3.8],\n",
              "       [5.1, 3.8],\n",
              "       [5. , 2. ],\n",
              "       [6.6, 3. ],\n",
              "       [5.8, 2.6],\n",
              "       [6.7, 3. ],\n",
              "       [6.4, 3.2],\n",
              "       [6. , 2.7],\n",
              "       [5.2, 2.7],\n",
              "       [5.5, 2.3],\n",
              "       [5.4, 3. ],\n",
              "       [5.5, 2.5],\n",
              "       [5.7, 3. ],\n",
              "       [6.2, 2.9],\n",
              "       [6.1, 2.8],\n",
              "       [5.5, 2.6],\n",
              "       [6. , 2.2],\n",
              "       [5.6, 2.5],\n",
              "       [5.9, 3. ],\n",
              "       [6.1, 2.9],\n",
              "       [6.3, 2.5],\n",
              "       [5.8, 2.7],\n",
              "       [5.5, 2.4],\n",
              "       [5.8, 2.7],\n",
              "       [6.7, 3.1],\n",
              "       [6.6, 2.9],\n",
              "       [6.8, 2.8],\n",
              "       [6. , 3.4],\n",
              "       [6.3, 3.3],\n",
              "       [5.1, 2.5],\n",
              "       [6.5, 2.8],\n",
              "       [5.6, 2.9],\n",
              "       [6.9, 3.1],\n",
              "       [5.7, 2.6],\n",
              "       [5.7, 2.9],\n",
              "       [5.6, 3. ],\n",
              "       [5.6, 2.7],\n",
              "       [5.8, 2.8],\n",
              "       [6.8, 3.2],\n",
              "       [6.3, 3.3],\n",
              "       [7.6, 3. ],\n",
              "       [6.7, 3.3],\n",
              "       [5.9, 3. ],\n",
              "       [6.4, 3.1],\n",
              "       [6.2, 3.4],\n",
              "       [6.8, 3. ],\n",
              "       [5.8, 2.7],\n",
              "       [6.3, 2.9],\n",
              "       [6.2, 2.8],\n",
              "       [7.3, 2.9],\n",
              "       [6.3, 2.7],\n",
              "       [6.9, 3.1],\n",
              "       [6. , 2.2],\n",
              "       [5.6, 2.8],\n",
              "       [6.7, 3. ],\n",
              "       [6.5, 3. ],\n",
              "       [6. , 3. ],\n",
              "       [6.9, 3.1],\n",
              "       [7.2, 3.6],\n",
              "       [4.9, 2.5],\n",
              "       [6.1, 2.6],\n",
              "       [7.7, 2.6],\n",
              "       [6.4, 2.8],\n",
              "       [7.9, 3.8],\n",
              "       [7.1, 3. ],\n",
              "       [7.2, 3. ],\n",
              "       [6.4, 2.8],\n",
              "       [5.7, 2.5],\n",
              "       [6.7, 3.1],\n",
              "       [5.8, 2.7],\n",
              "       [7.7, 3.8],\n",
              "       [6.3, 2.8]])"
            ]
          },
          "metadata": {
            "tags": []
          },
          "execution_count": 141
        }
      ]
    },
    {
      "cell_type": "code",
      "metadata": {
        "id": "DhDgtyYDxGt1",
        "colab_type": "code",
        "outputId": "3494e0a8-203a-4df1-f394-fac01cdaf311",
        "colab": {
          "base_uri": "https://localhost:8080/",
          "height": 34
        }
      },
      "source": [
        "Xtrain[2,feat]"
      ],
      "execution_count": 142,
      "outputs": [
        {
          "output_type": "execute_result",
          "data": {
            "text/plain": [
              "array([5.4, 3.7])"
            ]
          },
          "metadata": {
            "tags": []
          },
          "execution_count": 142
        }
      ]
    },
    {
      "cell_type": "code",
      "metadata": {
        "id": "-Z2kv4t8xTVm",
        "colab_type": "code",
        "colab": {}
      },
      "source": [
        "Xtemp_train = Xtrain[:5,feat]"
      ],
      "execution_count": 0,
      "outputs": []
    },
    {
      "cell_type": "code",
      "metadata": {
        "id": "K-NiAENcxWTd",
        "colab_type": "code",
        "colab": {}
      },
      "source": [
        "Xtemp_test = Xtest[:5,feat]"
      ],
      "execution_count": 0,
      "outputs": []
    },
    {
      "cell_type": "code",
      "metadata": {
        "id": "2Hjf_agbyBpv",
        "colab_type": "code",
        "outputId": "938fb939-2d25-4791-9396-756dd40aba89",
        "colab": {
          "base_uri": "https://localhost:8080/",
          "height": 105
        }
      },
      "source": [
        "print(Xtemp_train)"
      ],
      "execution_count": 145,
      "outputs": [
        {
          "output_type": "stream",
          "text": [
            "[[5.4 3.9]\n",
            " [5.7 3.8]\n",
            " [5.4 3.7]\n",
            " [5.2 4.1]\n",
            " [4.8 3.1]]\n"
          ],
          "name": "stdout"
        }
      ]
    },
    {
      "cell_type": "code",
      "metadata": {
        "id": "s8edTo9sH45k",
        "colab_type": "code",
        "outputId": "e0042994-ed0b-4346-e4aa-77562dc1346e",
        "colab": {
          "base_uri": "https://localhost:8080/",
          "height": 34
        }
      },
      "source": [
        "Xtemp_train.shape"
      ],
      "execution_count": 146,
      "outputs": [
        {
          "output_type": "execute_result",
          "data": {
            "text/plain": [
              "(5, 2)"
            ]
          },
          "metadata": {
            "tags": []
          },
          "execution_count": 146
        }
      ]
    },
    {
      "cell_type": "code",
      "metadata": {
        "id": "BEr-CHwKyDqH",
        "colab_type": "code",
        "outputId": "a7ebad9c-3728-45c6-d538-22c85f388d39",
        "colab": {
          "base_uri": "https://localhost:8080/",
          "height": 105
        }
      },
      "source": [
        "print(Xtemp_test)"
      ],
      "execution_count": 147,
      "outputs": [
        {
          "output_type": "stream",
          "text": [
            "[[5.8 4. ]\n",
            " [5.1 3.3]\n",
            " [5.1 3.4]\n",
            " [5.5 4.2]\n",
            " [5.  3.5]]\n"
          ],
          "name": "stdout"
        }
      ]
    },
    {
      "cell_type": "code",
      "metadata": {
        "id": "FMYi7fa4H8pY",
        "colab_type": "code",
        "outputId": "81ae6d45-da24-46d1-c11e-4aa482991e2d",
        "colab": {
          "base_uri": "https://localhost:8080/",
          "height": 34
        }
      },
      "source": [
        "Xtemp_train.shape"
      ],
      "execution_count": 148,
      "outputs": [
        {
          "output_type": "execute_result",
          "data": {
            "text/plain": [
              "(5, 2)"
            ]
          },
          "metadata": {
            "tags": []
          },
          "execution_count": 148
        }
      ]
    },
    {
      "cell_type": "code",
      "metadata": {
        "id": "Z6qvlgP8ybC7",
        "colab_type": "code",
        "colab": {}
      },
      "source": [
        "Xtemp_train.size\n",
        "Xtemp_train.shape\n",
        "Xtemp_train.shape[0]\n",
        "Xtemp_test.shape[0]\n",
        "#np.zeros((5,5))\n",
        "\n",
        "dists = np.zeros((Xtemp_train.shape[0],Xtemp_test.shape[0]))"
      ],
      "execution_count": 0,
      "outputs": []
    },
    {
      "cell_type": "code",
      "metadata": {
        "id": "DTk4UBDpyF31",
        "colab_type": "code",
        "colab": {}
      },
      "source": [
        "\n",
        "def two_loops(a1,a2):\n",
        "  first_dim = a1.shape[0]\n",
        "  second_dim = a2.shape[0]\n",
        "\n",
        "  for i in range(first_dim):\n",
        "    for j in range(second_dim):\n",
        "      dists[i,j] = np.linalg.norm(a1[i]-a2[j])\n",
        "\n",
        "\n",
        "  return dists"
      ],
      "execution_count": 0,
      "outputs": []
    },
    {
      "cell_type": "code",
      "metadata": {
        "id": "TI0RROjRyeou",
        "colab_type": "code",
        "colab": {}
      },
      "source": [
        "d = two_loops(Xtemp_train,Xtemp_test)"
      ],
      "execution_count": 0,
      "outputs": []
    },
    {
      "cell_type": "code",
      "metadata": {
        "id": "M0HChot2yf7N",
        "colab_type": "code",
        "outputId": "5a7da5a3-45ce-4df0-e6cb-4f1831f02021",
        "colab": {
          "base_uri": "https://localhost:8080/",
          "height": 105
        }
      },
      "source": [
        "print(d)"
      ],
      "execution_count": 152,
      "outputs": [
        {
          "output_type": "stream",
          "text": [
            "[[0.41231056 0.67082039 0.58309519 0.31622777 0.56568542]\n",
            " [0.2236068  0.78102497 0.72111026 0.4472136  0.76157731]\n",
            " [0.5        0.5        0.42426407 0.50990195 0.4472136 ]\n",
            " [0.60827625 0.80622577 0.70710678 0.31622777 0.63245553]\n",
            " [1.3453624  0.36055513 0.42426407 1.30384048 0.4472136 ]]\n"
          ],
          "name": "stdout"
        }
      ]
    },
    {
      "cell_type": "code",
      "metadata": {
        "id": "QzSyl4KF0g_r",
        "colab_type": "code",
        "outputId": "0ba56b60-b3a4-4feb-bc77-3a80215aff8c",
        "colab": {
          "base_uri": "https://localhost:8080/",
          "height": 34
        }
      },
      "source": [
        "np.linalg.norm(Xtemp_train[0,] - Xtemp_test[0,])"
      ],
      "execution_count": 153,
      "outputs": [
        {
          "output_type": "execute_result",
          "data": {
            "text/plain": [
              "0.41231056256176557"
            ]
          },
          "metadata": {
            "tags": []
          },
          "execution_count": 153
        }
      ]
    },
    {
      "cell_type": "code",
      "metadata": {
        "id": "EdM9oQl50zP3",
        "colab_type": "code",
        "outputId": "cf583039-cd44-47ac-d3d4-d0d50ad4ce38",
        "colab": {
          "base_uri": "https://localhost:8080/",
          "height": 34
        }
      },
      "source": [
        "Xtemp_train[0,]"
      ],
      "execution_count": 154,
      "outputs": [
        {
          "output_type": "execute_result",
          "data": {
            "text/plain": [
              "array([5.4, 3.9])"
            ]
          },
          "metadata": {
            "tags": []
          },
          "execution_count": 154
        }
      ]
    },
    {
      "cell_type": "code",
      "metadata": {
        "id": "qmqoIpKY03_2",
        "colab_type": "code",
        "outputId": "5f8e50f1-b194-47fa-d7c3-71cb0d29a701",
        "colab": {
          "base_uri": "https://localhost:8080/",
          "height": 34
        }
      },
      "source": [
        "Xtemp_test[0,]"
      ],
      "execution_count": 155,
      "outputs": [
        {
          "output_type": "execute_result",
          "data": {
            "text/plain": [
              "array([5.8, 4. ])"
            ]
          },
          "metadata": {
            "tags": []
          },
          "execution_count": 155
        }
      ]
    },
    {
      "cell_type": "code",
      "metadata": {
        "id": "U9UNNUIO1KFs",
        "colab_type": "code",
        "outputId": "c32d8fc0-9b6d-4928-9df5-b15fb2545565",
        "colab": {
          "base_uri": "https://localhost:8080/",
          "height": 34
        }
      },
      "source": [
        "Xtemp_test[0,].shape"
      ],
      "execution_count": 156,
      "outputs": [
        {
          "output_type": "execute_result",
          "data": {
            "text/plain": [
              "(2,)"
            ]
          },
          "metadata": {
            "tags": []
          },
          "execution_count": 156
        }
      ]
    },
    {
      "cell_type": "code",
      "metadata": {
        "id": "IaVi6PV91O7t",
        "colab_type": "code",
        "outputId": "75b7de38-2d5b-4e99-feea-078a50973b74",
        "colab": {
          "base_uri": "https://localhost:8080/",
          "height": 34
        }
      },
      "source": [
        "Xtemp_train[0,] - Xtemp_test[0,]"
      ],
      "execution_count": 157,
      "outputs": [
        {
          "output_type": "execute_result",
          "data": {
            "text/plain": [
              "array([-0.4, -0.1])"
            ]
          },
          "metadata": {
            "tags": []
          },
          "execution_count": 157
        }
      ]
    },
    {
      "cell_type": "code",
      "metadata": {
        "id": "PadCoEBu1hwe",
        "colab_type": "code",
        "colab": {}
      },
      "source": [
        "my_t = Xtemp_train[0,] - Xtemp_test[0,]"
      ],
      "execution_count": 0,
      "outputs": []
    },
    {
      "cell_type": "code",
      "metadata": {
        "id": "dH_qq6-C1yMf",
        "colab_type": "code",
        "outputId": "1499a7bd-f30e-4eb9-ba65-1e36fe6e1225",
        "colab": {
          "base_uri": "https://localhost:8080/",
          "height": 34
        }
      },
      "source": [
        "my_t[0]"
      ],
      "execution_count": 159,
      "outputs": [
        {
          "output_type": "execute_result",
          "data": {
            "text/plain": [
              "-0.39999999999999947"
            ]
          },
          "metadata": {
            "tags": []
          },
          "execution_count": 159
        }
      ]
    },
    {
      "cell_type": "code",
      "metadata": {
        "id": "_fD2hf161zPq",
        "colab_type": "code",
        "outputId": "ff6c62c3-3712-4f89-8eb7-e9f3d8f54b29",
        "colab": {
          "base_uri": "https://localhost:8080/",
          "height": 34
        }
      },
      "source": [
        "my_t[1]"
      ],
      "execution_count": 160,
      "outputs": [
        {
          "output_type": "execute_result",
          "data": {
            "text/plain": [
              "-0.10000000000000009"
            ]
          },
          "metadata": {
            "tags": []
          },
          "execution_count": 160
        }
      ]
    },
    {
      "cell_type": "code",
      "metadata": {
        "id": "D8adL4gALBuy",
        "colab_type": "code",
        "outputId": "6fb43992-1f67-4453-af23-a647482f94eb",
        "colab": {
          "base_uri": "https://localhost:8080/",
          "height": 34
        }
      },
      "source": [
        "math.pow(my_t[0],2)"
      ],
      "execution_count": 161,
      "outputs": [
        {
          "output_type": "execute_result",
          "data": {
            "text/plain": [
              "0.1599999999999996"
            ]
          },
          "metadata": {
            "tags": []
          },
          "execution_count": 161
        }
      ]
    },
    {
      "cell_type": "code",
      "metadata": {
        "id": "7lGLBWHLLFMV",
        "colab_type": "code",
        "outputId": "93472ec3-758c-4653-d2ef-5607733edede",
        "colab": {
          "base_uri": "https://localhost:8080/",
          "height": 34
        }
      },
      "source": [
        "math.pow(my_t[1],2)"
      ],
      "execution_count": 162,
      "outputs": [
        {
          "output_type": "execute_result",
          "data": {
            "text/plain": [
              "0.010000000000000018"
            ]
          },
          "metadata": {
            "tags": []
          },
          "execution_count": 162
        }
      ]
    },
    {
      "cell_type": "code",
      "metadata": {
        "id": "GGqtwpDzLS-C",
        "colab_type": "code",
        "outputId": "b9bf21f1-e416-44cc-e383-5bb32b4316e2",
        "colab": {
          "base_uri": "https://localhost:8080/",
          "height": 34
        }
      },
      "source": [
        "math.pow(my_t[0],2) + math.pow(my_t[1],2)"
      ],
      "execution_count": 163,
      "outputs": [
        {
          "output_type": "execute_result",
          "data": {
            "text/plain": [
              "0.1699999999999996"
            ]
          },
          "metadata": {
            "tags": []
          },
          "execution_count": 163
        }
      ]
    },
    {
      "cell_type": "code",
      "metadata": {
        "id": "1yxNzmi_12xV",
        "colab_type": "code",
        "outputId": "277b1509-5b7a-4b2f-e4c3-78747dd362ac",
        "colab": {
          "base_uri": "https://localhost:8080/",
          "height": 34
        }
      },
      "source": [
        "math.sqrt(math.pow(my_t[0],2) + math.pow(my_t[1],2))"
      ],
      "execution_count": 164,
      "outputs": [
        {
          "output_type": "execute_result",
          "data": {
            "text/plain": [
              "0.41231056256176557"
            ]
          },
          "metadata": {
            "tags": []
          },
          "execution_count": 164
        }
      ]
    },
    {
      "cell_type": "code",
      "metadata": {
        "id": "wcnl5VBt2CzZ",
        "colab_type": "code",
        "outputId": "2daea8ba-3b3a-46ed-9bc4-981d637e4608",
        "colab": {
          "base_uri": "https://localhost:8080/",
          "height": 34
        }
      },
      "source": [
        "d[0,0]"
      ],
      "execution_count": 165,
      "outputs": [
        {
          "output_type": "execute_result",
          "data": {
            "text/plain": [
              "0.41231056256176557"
            ]
          },
          "metadata": {
            "tags": []
          },
          "execution_count": 165
        }
      ]
    },
    {
      "cell_type": "markdown",
      "metadata": {
        "id": "yNxn0cKP2fRc",
        "colab_type": "text"
      },
      "source": [
        "if condition returns True, then nothing happens:"
      ]
    },
    {
      "cell_type": "code",
      "metadata": {
        "id": "QE5j5oSa2HJN",
        "colab_type": "code",
        "outputId": "afcb19da-df3e-4dfd-ded9-fcfd0bc9c905",
        "colab": {
          "base_uri": "https://localhost:8080/",
          "height": 34
        }
      },
      "source": [
        "math.sqrt(math.pow(my_t[0],2) + math.pow(my_t[1],2)) == d[0,0]"
      ],
      "execution_count": 166,
      "outputs": [
        {
          "output_type": "execute_result",
          "data": {
            "text/plain": [
              "True"
            ]
          },
          "metadata": {
            "tags": []
          },
          "execution_count": 166
        }
      ]
    },
    {
      "cell_type": "markdown",
      "metadata": {
        "id": "hBOetAN19Jdh",
        "colab_type": "text"
      },
      "source": [
        "testing out np.meshgrid()"
      ]
    },
    {
      "cell_type": "code",
      "metadata": {
        "id": "filKftbu2R7D",
        "colab_type": "code",
        "colab": {}
      },
      "source": [
        "a = np.array([1,2])\n",
        "b = np.array([3,4])"
      ],
      "execution_count": 0,
      "outputs": []
    },
    {
      "cell_type": "code",
      "metadata": {
        "id": "BTgapshQ9UwO",
        "colab_type": "code",
        "colab": {}
      },
      "source": [
        "c,dg = np.meshgrid(a,b)"
      ],
      "execution_count": 0,
      "outputs": []
    },
    {
      "cell_type": "code",
      "metadata": {
        "id": "760JDY3i9mmb",
        "colab_type": "code",
        "outputId": "de9a8f72-facd-4b9d-e32e-0fbb9423e706",
        "colab": {
          "base_uri": "https://localhost:8080/",
          "height": 52
        }
      },
      "source": [
        "c"
      ],
      "execution_count": 169,
      "outputs": [
        {
          "output_type": "execute_result",
          "data": {
            "text/plain": [
              "array([[1, 2],\n",
              "       [1, 2]])"
            ]
          },
          "metadata": {
            "tags": []
          },
          "execution_count": 169
        }
      ]
    },
    {
      "cell_type": "code",
      "metadata": {
        "id": "Yb-G5IXb9npq",
        "colab_type": "code",
        "outputId": "3aab3168-1c93-4460-96d0-04bd9025d5ca",
        "colab": {
          "base_uri": "https://localhost:8080/",
          "height": 52
        }
      },
      "source": [
        "dg"
      ],
      "execution_count": 170,
      "outputs": [
        {
          "output_type": "execute_result",
          "data": {
            "text/plain": [
              "array([[3, 3],\n",
              "       [4, 4]])"
            ]
          },
          "metadata": {
            "tags": []
          },
          "execution_count": 170
        }
      ]
    },
    {
      "cell_type": "code",
      "metadata": {
        "id": "ywG89ArO-Ftk",
        "colab_type": "code",
        "colab": {}
      },
      "source": [
        "c,dk = np.meshgrid(b,a)"
      ],
      "execution_count": 0,
      "outputs": []
    },
    {
      "cell_type": "code",
      "metadata": {
        "id": "zrA7P5ac-0Rw",
        "colab_type": "code",
        "outputId": "3b94eb0a-26e0-4e86-8b4f-3512ba60d367",
        "colab": {
          "base_uri": "https://localhost:8080/",
          "height": 52
        }
      },
      "source": [
        "c"
      ],
      "execution_count": 172,
      "outputs": [
        {
          "output_type": "execute_result",
          "data": {
            "text/plain": [
              "array([[3, 4],\n",
              "       [3, 4]])"
            ]
          },
          "metadata": {
            "tags": []
          },
          "execution_count": 172
        }
      ]
    },
    {
      "cell_type": "code",
      "metadata": {
        "id": "qBlUvxF6-1FL",
        "colab_type": "code",
        "outputId": "f182070c-a7b5-412d-ca6a-3f322becd9e8",
        "colab": {
          "base_uri": "https://localhost:8080/",
          "height": 52
        }
      },
      "source": [
        "dk"
      ],
      "execution_count": 173,
      "outputs": [
        {
          "output_type": "execute_result",
          "data": {
            "text/plain": [
              "array([[1, 1],\n",
              "       [2, 2]])"
            ]
          },
          "metadata": {
            "tags": []
          },
          "execution_count": 173
        }
      ]
    },
    {
      "cell_type": "code",
      "metadata": {
        "id": "WQukUZ4Ohf__",
        "colab_type": "code",
        "colab": {}
      },
      "source": [
        ""
      ],
      "execution_count": 0,
      "outputs": []
    },
    {
      "cell_type": "markdown",
      "metadata": {
        "id": "av7y2e0jHaD3",
        "colab_type": "text"
      },
      "source": [
        "Trying to get one-loop distance thing working"
      ]
    },
    {
      "cell_type": "code",
      "metadata": {
        "id": "VHH5q4lDHZy9",
        "colab_type": "code",
        "colab": {}
      },
      "source": [
        "Xtemp = Xtemp_train - Xtemp_test"
      ],
      "execution_count": 0,
      "outputs": []
    },
    {
      "cell_type": "code",
      "metadata": {
        "id": "PESk1e0e-1rx",
        "colab_type": "code",
        "outputId": "29d459dd-965a-47fe-86e3-6b6aa88f3d4f",
        "colab": {
          "base_uri": "https://localhost:8080/",
          "height": 105
        }
      },
      "source": [
        "Xtemp"
      ],
      "execution_count": 175,
      "outputs": [
        {
          "output_type": "execute_result",
          "data": {
            "text/plain": [
              "array([[-0.4, -0.1],\n",
              "       [ 0.6,  0.5],\n",
              "       [ 0.3,  0.3],\n",
              "       [-0.3, -0.1],\n",
              "       [-0.2, -0.4]])"
            ]
          },
          "metadata": {
            "tags": []
          },
          "execution_count": 175
        }
      ]
    },
    {
      "cell_type": "code",
      "metadata": {
        "id": "HWcuFM0EHtHf",
        "colab_type": "code",
        "outputId": "337d94c1-fdf7-4f62-8779-d85566685dfe",
        "colab": {
          "base_uri": "https://localhost:8080/",
          "height": 34
        }
      },
      "source": [
        "Xtemp.shape"
      ],
      "execution_count": 176,
      "outputs": [
        {
          "output_type": "execute_result",
          "data": {
            "text/plain": [
              "(5, 2)"
            ]
          },
          "metadata": {
            "tags": []
          },
          "execution_count": 176
        }
      ]
    },
    {
      "cell_type": "code",
      "metadata": {
        "id": "Ed4lKPKiIC8V",
        "colab_type": "code",
        "outputId": "0c54dc21-6ff1-48d7-c93d-c0300a2e7262",
        "colab": {
          "base_uri": "https://localhost:8080/",
          "height": 105
        }
      },
      "source": [
        "# using np.pow instead of math.pow\n",
        "\n",
        "Xtemp2 = np.power(Xtemp,2)\n",
        "\n",
        "Xtemp2"
      ],
      "execution_count": 177,
      "outputs": [
        {
          "output_type": "execute_result",
          "data": {
            "text/plain": [
              "array([[0.16, 0.01],\n",
              "       [0.36, 0.25],\n",
              "       [0.09, 0.09],\n",
              "       [0.09, 0.01],\n",
              "       [0.04, 0.16]])"
            ]
          },
          "metadata": {
            "tags": []
          },
          "execution_count": 177
        }
      ]
    },
    {
      "cell_type": "code",
      "metadata": {
        "id": "1B7C2VhSIVTV",
        "colab_type": "code",
        "outputId": "0b190ad9-e426-433e-b4cf-0a9efdd8cc27",
        "colab": {
          "base_uri": "https://localhost:8080/",
          "height": 34
        }
      },
      "source": [
        "Xtemp3 = np.sum(Xtemp2,axis=1)\n",
        "\n",
        "Xtemp3"
      ],
      "execution_count": 178,
      "outputs": [
        {
          "output_type": "execute_result",
          "data": {
            "text/plain": [
              "array([0.17, 0.61, 0.18, 0.1 , 0.2 ])"
            ]
          },
          "metadata": {
            "tags": []
          },
          "execution_count": 178
        }
      ]
    },
    {
      "cell_type": "code",
      "metadata": {
        "id": "aEwET6sjKH_1",
        "colab_type": "code",
        "outputId": "c7dea7ec-5b0e-4ef9-bfdf-dc4704af46fa",
        "colab": {
          "base_uri": "https://localhost:8080/",
          "height": 34
        }
      },
      "source": [
        "Xtemp4 = np.sqrt(Xtemp3)\n",
        "\n",
        "Xtemp4"
      ],
      "execution_count": 179,
      "outputs": [
        {
          "output_type": "execute_result",
          "data": {
            "text/plain": [
              "array([0.41231056, 0.78102497, 0.42426407, 0.31622777, 0.4472136 ])"
            ]
          },
          "metadata": {
            "tags": []
          },
          "execution_count": 179
        }
      ]
    },
    {
      "cell_type": "code",
      "metadata": {
        "id": "4lM-6s_ULlTx",
        "colab_type": "code",
        "outputId": "36007438-9ca7-4b9b-ec9d-40213d1a1fe9",
        "colab": {
          "base_uri": "https://localhost:8080/",
          "height": 34
        }
      },
      "source": [
        "Xtemp4[0]"
      ],
      "execution_count": 180,
      "outputs": [
        {
          "output_type": "execute_result",
          "data": {
            "text/plain": [
              "0.41231056256176557"
            ]
          },
          "metadata": {
            "tags": []
          },
          "execution_count": 180
        }
      ]
    },
    {
      "cell_type": "code",
      "metadata": {
        "id": "9-huRxg0Lt-v",
        "colab_type": "code",
        "outputId": "cc4da2ae-81b5-470e-9f2c-1dc79ca7365b",
        "colab": {
          "base_uri": "https://localhost:8080/",
          "height": 34
        }
      },
      "source": [
        "Xtemp4[0] == d[0,0]"
      ],
      "execution_count": 181,
      "outputs": [
        {
          "output_type": "execute_result",
          "data": {
            "text/plain": [
              "True"
            ]
          },
          "metadata": {
            "tags": []
          },
          "execution_count": 181
        }
      ]
    },
    {
      "cell_type": "code",
      "metadata": {
        "id": "OjJrAQB8L4Ec",
        "colab_type": "code",
        "outputId": "e289513a-7eee-48f3-9c99-16d2cdf66c04",
        "colab": {
          "base_uri": "https://localhost:8080/",
          "height": 34
        }
      },
      "source": [
        "Xtemp4[0] - d[0,0]"
      ],
      "execution_count": 182,
      "outputs": [
        {
          "output_type": "execute_result",
          "data": {
            "text/plain": [
              "0.0"
            ]
          },
          "metadata": {
            "tags": []
          },
          "execution_count": 182
        }
      ]
    },
    {
      "cell_type": "code",
      "metadata": {
        "id": "UpjogyJYL7Bs",
        "colab_type": "code",
        "outputId": "16c2bf78-0d6a-4b93-e9ec-514c2a48088b",
        "colab": {
          "base_uri": "https://localhost:8080/",
          "height": 34
        }
      },
      "source": [
        "d[0,0]"
      ],
      "execution_count": 183,
      "outputs": [
        {
          "output_type": "execute_result",
          "data": {
            "text/plain": [
              "0.41231056256176557"
            ]
          },
          "metadata": {
            "tags": []
          },
          "execution_count": 183
        }
      ]
    },
    {
      "cell_type": "code",
      "metadata": {
        "id": "jwopgASbMNA7",
        "colab_type": "code",
        "outputId": "09f39a99-0729-41d2-a67d-4197c09394db",
        "colab": {
          "base_uri": "https://localhost:8080/",
          "height": 34
        }
      },
      "source": [
        "math.sqrt(math.pow(my_t[0],2) + math.pow(my_t[1],2))"
      ],
      "execution_count": 184,
      "outputs": [
        {
          "output_type": "execute_result",
          "data": {
            "text/plain": [
              "0.41231056256176557"
            ]
          },
          "metadata": {
            "tags": []
          },
          "execution_count": 184
        }
      ]
    },
    {
      "cell_type": "code",
      "metadata": {
        "id": "L3IlzMKuMVPa",
        "colab_type": "code",
        "outputId": "1fda7580-ead1-442d-e201-6ca79f7e0db6",
        "colab": {
          "base_uri": "https://localhost:8080/",
          "height": 105
        }
      },
      "source": [
        "d"
      ],
      "execution_count": 185,
      "outputs": [
        {
          "output_type": "execute_result",
          "data": {
            "text/plain": [
              "array([[0.41231056, 0.67082039, 0.58309519, 0.31622777, 0.56568542],\n",
              "       [0.2236068 , 0.78102497, 0.72111026, 0.4472136 , 0.76157731],\n",
              "       [0.5       , 0.5       , 0.42426407, 0.50990195, 0.4472136 ],\n",
              "       [0.60827625, 0.80622577, 0.70710678, 0.31622777, 0.63245553],\n",
              "       [1.3453624 , 0.36055513, 0.42426407, 1.30384048, 0.4472136 ]])"
            ]
          },
          "metadata": {
            "tags": []
          },
          "execution_count": 185
        }
      ]
    },
    {
      "cell_type": "code",
      "metadata": {
        "id": "wNFv2gsbMfb1",
        "colab_type": "code",
        "colab": {}
      },
      "source": [
        "Too_train = Xtrain[:1,feat]"
      ],
      "execution_count": 0,
      "outputs": []
    },
    {
      "cell_type": "code",
      "metadata": {
        "id": "6oEM0wIcWhu2",
        "colab_type": "code",
        "outputId": "7d93e25a-1aa2-4192-acfd-30edb21b7496",
        "colab": {
          "base_uri": "https://localhost:8080/",
          "height": 34
        }
      },
      "source": [
        "Too_train.shape"
      ],
      "execution_count": 187,
      "outputs": [
        {
          "output_type": "execute_result",
          "data": {
            "text/plain": [
              "(1, 2)"
            ]
          },
          "metadata": {
            "tags": []
          },
          "execution_count": 187
        }
      ]
    },
    {
      "cell_type": "code",
      "metadata": {
        "id": "ESaX7xPDWjkf",
        "colab_type": "code",
        "outputId": "ac67bdae-7ba6-45e7-e863-8258c4c2493f",
        "colab": {
          "base_uri": "https://localhost:8080/",
          "height": 34
        }
      },
      "source": [
        "Too_train"
      ],
      "execution_count": 188,
      "outputs": [
        {
          "output_type": "execute_result",
          "data": {
            "text/plain": [
              "array([[5.4, 3.9]])"
            ]
          },
          "metadata": {
            "tags": []
          },
          "execution_count": 188
        }
      ]
    },
    {
      "cell_type": "code",
      "metadata": {
        "id": "yXlcvaqpWllc",
        "colab_type": "code",
        "colab": {}
      },
      "source": [
        "Too_test = Xtest[:1,feat]"
      ],
      "execution_count": 0,
      "outputs": []
    },
    {
      "cell_type": "code",
      "metadata": {
        "id": "zOFh-VVtWozm",
        "colab_type": "code",
        "outputId": "8642cc86-1fd8-4ecb-dfcf-997cfa33ce47",
        "colab": {
          "base_uri": "https://localhost:8080/",
          "height": 34
        }
      },
      "source": [
        "Too_test.shape"
      ],
      "execution_count": 190,
      "outputs": [
        {
          "output_type": "execute_result",
          "data": {
            "text/plain": [
              "(1, 2)"
            ]
          },
          "metadata": {
            "tags": []
          },
          "execution_count": 190
        }
      ]
    },
    {
      "cell_type": "code",
      "metadata": {
        "id": "8hsmmax-Wsmq",
        "colab_type": "code",
        "outputId": "3fd02465-ca52-4df9-b3ce-9fdcb0c196f7",
        "colab": {
          "base_uri": "https://localhost:8080/",
          "height": 34
        }
      },
      "source": [
        "Too_test"
      ],
      "execution_count": 191,
      "outputs": [
        {
          "output_type": "execute_result",
          "data": {
            "text/plain": [
              "array([[5.8, 4. ]])"
            ]
          },
          "metadata": {
            "tags": []
          },
          "execution_count": 191
        }
      ]
    },
    {
      "cell_type": "code",
      "metadata": {
        "id": "dDrPXWKCWusL",
        "colab_type": "code",
        "colab": {}
      },
      "source": [
        "Too_1 = Too_train - Too_test"
      ],
      "execution_count": 0,
      "outputs": []
    },
    {
      "cell_type": "code",
      "metadata": {
        "id": "4I_wmGD1W5U-",
        "colab_type": "code",
        "outputId": "768a26b3-0716-4665-aa3f-7ad60b859f9f",
        "colab": {
          "base_uri": "https://localhost:8080/",
          "height": 34
        }
      },
      "source": [
        "Too_1.shape"
      ],
      "execution_count": 193,
      "outputs": [
        {
          "output_type": "execute_result",
          "data": {
            "text/plain": [
              "(1, 2)"
            ]
          },
          "metadata": {
            "tags": []
          },
          "execution_count": 193
        }
      ]
    },
    {
      "cell_type": "code",
      "metadata": {
        "id": "_-d6-n4vXAem",
        "colab_type": "code",
        "outputId": "a003a9f1-8680-435c-8cc6-64fcf8b12ad0",
        "colab": {
          "base_uri": "https://localhost:8080/",
          "height": 34
        }
      },
      "source": [
        "Too_1"
      ],
      "execution_count": 194,
      "outputs": [
        {
          "output_type": "execute_result",
          "data": {
            "text/plain": [
              "array([[-0.4, -0.1]])"
            ]
          },
          "metadata": {
            "tags": []
          },
          "execution_count": 194
        }
      ]
    },
    {
      "cell_type": "code",
      "metadata": {
        "id": "PonHEpp9XCai",
        "colab_type": "code",
        "colab": {}
      },
      "source": [
        "Too_2 = np.power(Too_1,2)"
      ],
      "execution_count": 0,
      "outputs": []
    },
    {
      "cell_type": "code",
      "metadata": {
        "id": "URxzhR7-XL3T",
        "colab_type": "code",
        "outputId": "7a6746fc-619c-44c7-e43f-6c790c483eda",
        "colab": {
          "base_uri": "https://localhost:8080/",
          "height": 34
        }
      },
      "source": [
        "Too_2.shape"
      ],
      "execution_count": 196,
      "outputs": [
        {
          "output_type": "execute_result",
          "data": {
            "text/plain": [
              "(1, 2)"
            ]
          },
          "metadata": {
            "tags": []
          },
          "execution_count": 196
        }
      ]
    },
    {
      "cell_type": "code",
      "metadata": {
        "id": "v8ajP5DRXN3C",
        "colab_type": "code",
        "outputId": "496c1390-0fb7-4de9-e1e0-8456ee86a32b",
        "colab": {
          "base_uri": "https://localhost:8080/",
          "height": 34
        }
      },
      "source": [
        "Too_2"
      ],
      "execution_count": 197,
      "outputs": [
        {
          "output_type": "execute_result",
          "data": {
            "text/plain": [
              "array([[0.16, 0.01]])"
            ]
          },
          "metadata": {
            "tags": []
          },
          "execution_count": 197
        }
      ]
    },
    {
      "cell_type": "code",
      "metadata": {
        "id": "8mQVFXBwXPbz",
        "colab_type": "code",
        "colab": {}
      },
      "source": [
        "Too_3 = np.sum(Too_2,axis=1)"
      ],
      "execution_count": 0,
      "outputs": []
    },
    {
      "cell_type": "code",
      "metadata": {
        "id": "iXogxzbnXWvn",
        "colab_type": "code",
        "outputId": "4f1d3ae1-e03e-4d47-f246-dd616a50c771",
        "colab": {
          "base_uri": "https://localhost:8080/",
          "height": 34
        }
      },
      "source": [
        "Too_3.shape"
      ],
      "execution_count": 199,
      "outputs": [
        {
          "output_type": "execute_result",
          "data": {
            "text/plain": [
              "(1,)"
            ]
          },
          "metadata": {
            "tags": []
          },
          "execution_count": 199
        }
      ]
    },
    {
      "cell_type": "code",
      "metadata": {
        "id": "BSaxjUb8XY82",
        "colab_type": "code",
        "outputId": "8f197f95-34ea-4833-8c42-182621b6d466",
        "colab": {
          "base_uri": "https://localhost:8080/",
          "height": 34
        }
      },
      "source": [
        "Too_3"
      ],
      "execution_count": 200,
      "outputs": [
        {
          "output_type": "execute_result",
          "data": {
            "text/plain": [
              "array([0.17])"
            ]
          },
          "metadata": {
            "tags": []
          },
          "execution_count": 200
        }
      ]
    },
    {
      "cell_type": "code",
      "metadata": {
        "id": "m1_gD_yCXb89",
        "colab_type": "code",
        "colab": {}
      },
      "source": [
        "Too_4 = np.sqrt(Too_3)"
      ],
      "execution_count": 0,
      "outputs": []
    },
    {
      "cell_type": "code",
      "metadata": {
        "id": "SB4qXSH_XmE8",
        "colab_type": "code",
        "outputId": "2a084b69-c5e6-4c6b-9ed3-fde9dbc0e456",
        "colab": {
          "base_uri": "https://localhost:8080/",
          "height": 34
        }
      },
      "source": [
        "Too_4.shape"
      ],
      "execution_count": 202,
      "outputs": [
        {
          "output_type": "execute_result",
          "data": {
            "text/plain": [
              "(1,)"
            ]
          },
          "metadata": {
            "tags": []
          },
          "execution_count": 202
        }
      ]
    },
    {
      "cell_type": "code",
      "metadata": {
        "id": "4iR1JiPkXn5q",
        "colab_type": "code",
        "outputId": "c0c5caa1-26f8-41fc-eced-4c540f9ee6e8",
        "colab": {
          "base_uri": "https://localhost:8080/",
          "height": 34
        }
      },
      "source": [
        "Too_4[0]"
      ],
      "execution_count": 203,
      "outputs": [
        {
          "output_type": "execute_result",
          "data": {
            "text/plain": [
              "0.41231056256176557"
            ]
          },
          "metadata": {
            "tags": []
          },
          "execution_count": 203
        }
      ]
    },
    {
      "cell_type": "markdown",
      "metadata": {
        "id": "RCatKnFUhzV4",
        "colab_type": "text"
      },
      "source": [
        "Using Tiling now"
      ]
    },
    {
      "cell_type": "code",
      "metadata": {
        "id": "LBlCEHb4XpTT",
        "colab_type": "code",
        "colab": {}
      },
      "source": [
        "Cho_test = Xtemp_test[:2,feat]"
      ],
      "execution_count": 0,
      "outputs": []
    },
    {
      "cell_type": "code",
      "metadata": {
        "id": "C_XooPxmiAQE",
        "colab_type": "code",
        "colab": {
          "base_uri": "https://localhost:8080/",
          "height": 34
        },
        "outputId": "000c1a74-2e21-4014-865f-fde817c61477"
      },
      "source": [
        "Cho_test.shape"
      ],
      "execution_count": 211,
      "outputs": [
        {
          "output_type": "execute_result",
          "data": {
            "text/plain": [
              "(2, 2)"
            ]
          },
          "metadata": {
            "tags": []
          },
          "execution_count": 211
        }
      ]
    },
    {
      "cell_type": "code",
      "metadata": {
        "id": "J_cUqEkPiFva",
        "colab_type": "code",
        "colab": {
          "base_uri": "https://localhost:8080/",
          "height": 52
        },
        "outputId": "526d9ea4-2e27-4ef1-f101-a86efaad5527"
      },
      "source": [
        "Cho_test"
      ],
      "execution_count": 212,
      "outputs": [
        {
          "output_type": "execute_result",
          "data": {
            "text/plain": [
              "array([[5.8, 4. ],\n",
              "       [5.1, 3.3]])"
            ]
          },
          "metadata": {
            "tags": []
          },
          "execution_count": 212
        }
      ]
    },
    {
      "cell_type": "code",
      "metadata": {
        "id": "LKoGkMrxiNg7",
        "colab_type": "code",
        "colab": {}
      },
      "source": [
        "Cho_train = Xtemp_train[:2,feat]"
      ],
      "execution_count": 0,
      "outputs": []
    },
    {
      "cell_type": "code",
      "metadata": {
        "id": "OKUqPmWDibGt",
        "colab_type": "code",
        "colab": {
          "base_uri": "https://localhost:8080/",
          "height": 34
        },
        "outputId": "232e9ffb-82b4-4c2b-ce09-af827c9c2c41"
      },
      "source": [
        "Cho_train.shape"
      ],
      "execution_count": 214,
      "outputs": [
        {
          "output_type": "execute_result",
          "data": {
            "text/plain": [
              "(2, 2)"
            ]
          },
          "metadata": {
            "tags": []
          },
          "execution_count": 214
        }
      ]
    },
    {
      "cell_type": "code",
      "metadata": {
        "id": "ft-KQMzTicvB",
        "colab_type": "code",
        "colab": {
          "base_uri": "https://localhost:8080/",
          "height": 52
        },
        "outputId": "d3d323f4-bf04-4fd2-a023-e1e06c4c2f5a"
      },
      "source": [
        "Cho_train"
      ],
      "execution_count": 215,
      "outputs": [
        {
          "output_type": "execute_result",
          "data": {
            "text/plain": [
              "array([[5.4, 3.9],\n",
              "       [5.7, 3.8]])"
            ]
          },
          "metadata": {
            "tags": []
          },
          "execution_count": 215
        }
      ]
    },
    {
      "cell_type": "code",
      "metadata": {
        "id": "MriyJmdeid--",
        "colab_type": "code",
        "colab": {}
      },
      "source": [
        "Cho_index = Cho_train.shape[0]"
      ],
      "execution_count": 0,
      "outputs": []
    },
    {
      "cell_type": "code",
      "metadata": {
        "id": "9IXfSOdhimSD",
        "colab_type": "code",
        "colab": {
          "base_uri": "https://localhost:8080/",
          "height": 34
        },
        "outputId": "f0e71d3a-a1f3-4728-f2a2-fe33d654e69a"
      },
      "source": [
        "Cho_index"
      ],
      "execution_count": 217,
      "outputs": [
        {
          "output_type": "execute_result",
          "data": {
            "text/plain": [
              "2"
            ]
          },
          "metadata": {
            "tags": []
          },
          "execution_count": 217
        }
      ]
    },
    {
      "cell_type": "code",
      "metadata": {
        "id": "Uu8A-H0VinmC",
        "colab_type": "code",
        "colab": {}
      },
      "source": [
        "Cho_test_tiled = np.tile(Cho_test, (Cho_index,1))"
      ],
      "execution_count": 0,
      "outputs": []
    },
    {
      "cell_type": "code",
      "metadata": {
        "id": "oncZrBUcixH2",
        "colab_type": "code",
        "colab": {
          "base_uri": "https://localhost:8080/",
          "height": 87
        },
        "outputId": "c8cc1dd9-60ed-4941-b787-b4e31293917c"
      },
      "source": [
        "Cho_test_tiled"
      ],
      "execution_count": 224,
      "outputs": [
        {
          "output_type": "execute_result",
          "data": {
            "text/plain": [
              "array([[5.8, 4. ],\n",
              "       [5.1, 3.3],\n",
              "       [5.8, 4. ],\n",
              "       [5.1, 3.3]])"
            ]
          },
          "metadata": {
            "tags": []
          },
          "execution_count": 224
        }
      ]
    },
    {
      "cell_type": "code",
      "metadata": {
        "id": "2A0FrQcUi1VC",
        "colab_type": "code",
        "colab": {
          "base_uri": "https://localhost:8080/",
          "height": 158
        },
        "outputId": "c3a2af2a-102b-444a-f9ca-ea3c45ee047d"
      },
      "source": [
        "for i in range(Cho_index):\n",
        "  print(Cho_train[i])\n",
        "  print(Cho_test_tiled[i])\n",
        "  print(Cho_train[i] - Cho_test_tiled[i])\n",
        "  print(\"----\")"
      ],
      "execution_count": 228,
      "outputs": [
        {
          "output_type": "stream",
          "text": [
            "[5.4 3.9]\n",
            "[5.8 4. ]\n",
            "[-0.4 -0.1]\n",
            "----\n",
            "[5.7 3.8]\n",
            "[5.1 3.3]\n",
            "[0.6 0.5]\n",
            "----\n"
          ],
          "name": "stdout"
        }
      ]
    },
    {
      "cell_type": "code",
      "metadata": {
        "id": "_pRTRORBjyIe",
        "colab_type": "code",
        "colab": {}
      },
      "source": [
        "Cho_tile_index = Cho_test_tiled.shape[0]"
      ],
      "execution_count": 0,
      "outputs": []
    },
    {
      "cell_type": "code",
      "metadata": {
        "id": "vCG4cQSXj434",
        "colab_type": "code",
        "colab": {
          "base_uri": "https://localhost:8080/",
          "height": 34
        },
        "outputId": "5cf30374-26a8-44ea-fde7-f3c64561f2c6"
      },
      "source": [
        "print(Cho_tile_index)"
      ],
      "execution_count": 230,
      "outputs": [
        {
          "output_type": "stream",
          "text": [
            "4\n"
          ],
          "name": "stdout"
        }
      ]
    },
    {
      "cell_type": "code",
      "metadata": {
        "id": "Xmjq89H1jM84",
        "colab_type": "code",
        "colab": {
          "base_uri": "https://localhost:8080/",
          "height": 381
        },
        "outputId": "7253d0bb-459c-40a4-c9ab-f506a269b1de"
      },
      "source": [
        "for i in range(Cho_tile_index):\n",
        "  print(Cho_train[i])\n",
        "  print(Cho_test_tiled[i])\n",
        "  print(Cho_train[i] - Cho_test_tiled[i])\n",
        "  print(\"----\")"
      ],
      "execution_count": 231,
      "outputs": [
        {
          "output_type": "stream",
          "text": [
            "[5.4 3.9]\n",
            "[5.8 4. ]\n",
            "[-0.4 -0.1]\n",
            "----\n",
            "[5.7 3.8]\n",
            "[5.1 3.3]\n",
            "[0.6 0.5]\n",
            "----\n"
          ],
          "name": "stdout"
        },
        {
          "output_type": "error",
          "ename": "IndexError",
          "evalue": "ignored",
          "traceback": [
            "\u001b[0;31m---------------------------------------------------------------------------\u001b[0m",
            "\u001b[0;31mIndexError\u001b[0m                                Traceback (most recent call last)",
            "\u001b[0;32m<ipython-input-231-98cb12976e9c>\u001b[0m in \u001b[0;36m<module>\u001b[0;34m()\u001b[0m\n\u001b[1;32m      1\u001b[0m \u001b[0;32mfor\u001b[0m \u001b[0mi\u001b[0m \u001b[0;32min\u001b[0m \u001b[0mrange\u001b[0m\u001b[0;34m(\u001b[0m\u001b[0mCho_tile_index\u001b[0m\u001b[0;34m)\u001b[0m\u001b[0;34m:\u001b[0m\u001b[0;34m\u001b[0m\u001b[0;34m\u001b[0m\u001b[0m\n\u001b[0;32m----> 2\u001b[0;31m   \u001b[0mprint\u001b[0m\u001b[0;34m(\u001b[0m\u001b[0mCho_train\u001b[0m\u001b[0;34m[\u001b[0m\u001b[0mi\u001b[0m\u001b[0;34m]\u001b[0m\u001b[0;34m)\u001b[0m\u001b[0;34m\u001b[0m\u001b[0;34m\u001b[0m\u001b[0m\n\u001b[0m\u001b[1;32m      3\u001b[0m   \u001b[0mprint\u001b[0m\u001b[0;34m(\u001b[0m\u001b[0mCho_test_tiled\u001b[0m\u001b[0;34m[\u001b[0m\u001b[0mi\u001b[0m\u001b[0;34m]\u001b[0m\u001b[0;34m)\u001b[0m\u001b[0;34m\u001b[0m\u001b[0;34m\u001b[0m\u001b[0m\n\u001b[1;32m      4\u001b[0m   \u001b[0mprint\u001b[0m\u001b[0;34m(\u001b[0m\u001b[0mCho_train\u001b[0m\u001b[0;34m[\u001b[0m\u001b[0mi\u001b[0m\u001b[0;34m]\u001b[0m \u001b[0;34m-\u001b[0m \u001b[0mCho_test_tiled\u001b[0m\u001b[0;34m[\u001b[0m\u001b[0mi\u001b[0m\u001b[0;34m]\u001b[0m\u001b[0;34m)\u001b[0m\u001b[0;34m\u001b[0m\u001b[0;34m\u001b[0m\u001b[0m\n\u001b[1;32m      5\u001b[0m   \u001b[0mprint\u001b[0m\u001b[0;34m(\u001b[0m\u001b[0;34m\"----\"\u001b[0m\u001b[0;34m)\u001b[0m\u001b[0;34m\u001b[0m\u001b[0;34m\u001b[0m\u001b[0m\n",
            "\u001b[0;31mIndexError\u001b[0m: index 2 is out of bounds for axis 0 with size 2"
          ]
        }
      ]
    },
    {
      "cell_type": "code",
      "metadata": {
        "id": "9Gxvrsr8kAf5",
        "colab_type": "code",
        "colab": {
          "base_uri": "https://localhost:8080/",
          "height": 487
        },
        "outputId": "e5269ba9-3c79-4ed8-b51c-4fe179ec78f2"
      },
      "source": [
        "for i in range(Cho_tile_index):\n",
        "  print(Cho_train[i])\n",
        "  print(Cho_test_tiled[i])\n",
        "  print(Cho_train[i] - Cho_test_tiled)\n",
        "  print(\"----\")"
      ],
      "execution_count": 232,
      "outputs": [
        {
          "output_type": "stream",
          "text": [
            "[5.4 3.9]\n",
            "[5.8 4. ]\n",
            "[[-0.4 -0.1]\n",
            " [ 0.3  0.6]\n",
            " [-0.4 -0.1]\n",
            " [ 0.3  0.6]]\n",
            "----\n",
            "[5.7 3.8]\n",
            "[5.1 3.3]\n",
            "[[-0.1 -0.2]\n",
            " [ 0.6  0.5]\n",
            " [-0.1 -0.2]\n",
            " [ 0.6  0.5]]\n",
            "----\n"
          ],
          "name": "stdout"
        },
        {
          "output_type": "error",
          "ename": "IndexError",
          "evalue": "ignored",
          "traceback": [
            "\u001b[0;31m---------------------------------------------------------------------------\u001b[0m",
            "\u001b[0;31mIndexError\u001b[0m                                Traceback (most recent call last)",
            "\u001b[0;32m<ipython-input-232-d48401801de5>\u001b[0m in \u001b[0;36m<module>\u001b[0;34m()\u001b[0m\n\u001b[1;32m      1\u001b[0m \u001b[0;32mfor\u001b[0m \u001b[0mi\u001b[0m \u001b[0;32min\u001b[0m \u001b[0mrange\u001b[0m\u001b[0;34m(\u001b[0m\u001b[0mCho_tile_index\u001b[0m\u001b[0;34m)\u001b[0m\u001b[0;34m:\u001b[0m\u001b[0;34m\u001b[0m\u001b[0;34m\u001b[0m\u001b[0m\n\u001b[0;32m----> 2\u001b[0;31m   \u001b[0mprint\u001b[0m\u001b[0;34m(\u001b[0m\u001b[0mCho_train\u001b[0m\u001b[0;34m[\u001b[0m\u001b[0mi\u001b[0m\u001b[0;34m]\u001b[0m\u001b[0;34m)\u001b[0m\u001b[0;34m\u001b[0m\u001b[0;34m\u001b[0m\u001b[0m\n\u001b[0m\u001b[1;32m      3\u001b[0m   \u001b[0mprint\u001b[0m\u001b[0;34m(\u001b[0m\u001b[0mCho_test_tiled\u001b[0m\u001b[0;34m[\u001b[0m\u001b[0mi\u001b[0m\u001b[0;34m]\u001b[0m\u001b[0;34m)\u001b[0m\u001b[0;34m\u001b[0m\u001b[0;34m\u001b[0m\u001b[0m\n\u001b[1;32m      4\u001b[0m   \u001b[0mprint\u001b[0m\u001b[0;34m(\u001b[0m\u001b[0mCho_train\u001b[0m\u001b[0;34m[\u001b[0m\u001b[0mi\u001b[0m\u001b[0;34m]\u001b[0m \u001b[0;34m-\u001b[0m \u001b[0mCho_test_tiled\u001b[0m\u001b[0;34m)\u001b[0m\u001b[0;34m\u001b[0m\u001b[0;34m\u001b[0m\u001b[0m\n\u001b[1;32m      5\u001b[0m   \u001b[0mprint\u001b[0m\u001b[0;34m(\u001b[0m\u001b[0;34m\"----\"\u001b[0m\u001b[0;34m)\u001b[0m\u001b[0;34m\u001b[0m\u001b[0;34m\u001b[0m\u001b[0m\n",
            "\u001b[0;31mIndexError\u001b[0m: index 2 is out of bounds for axis 0 with size 2"
          ]
        }
      ]
    },
    {
      "cell_type": "code",
      "metadata": {
        "id": "OxbuWeWKk_mf",
        "colab_type": "code",
        "colab": {
          "base_uri": "https://localhost:8080/",
          "height": 265
        },
        "outputId": "c7217b34-79cd-415f-a383-13a1b165df5b"
      },
      "source": [
        "for i in range(Cho_index):\n",
        "  print(Cho_train[i])\n",
        "  print(Cho_test_tiled[i])\n",
        "  print(Cho_train[i] - Cho_test_tiled)\n",
        "  print(\"----\")"
      ],
      "execution_count": 233,
      "outputs": [
        {
          "output_type": "stream",
          "text": [
            "[5.4 3.9]\n",
            "[5.8 4. ]\n",
            "[[-0.4 -0.1]\n",
            " [ 0.3  0.6]\n",
            " [-0.4 -0.1]\n",
            " [ 0.3  0.6]]\n",
            "----\n",
            "[5.7 3.8]\n",
            "[5.1 3.3]\n",
            "[[-0.1 -0.2]\n",
            " [ 0.6  0.5]\n",
            " [-0.1 -0.2]\n",
            " [ 0.6  0.5]]\n",
            "----\n"
          ],
          "name": "stdout"
        }
      ]
    },
    {
      "cell_type": "code",
      "metadata": {
        "id": "NToP2fuklRB6",
        "colab_type": "code",
        "colab": {
          "base_uri": "https://localhost:8080/",
          "height": 372
        },
        "outputId": "2c93a3a3-e53d-4d4e-f552-c8020f5c9623"
      },
      "source": [
        "for i in range(Cho_index):\n",
        "  print(Cho_train[i])\n",
        "  print(Cho_test_tiled)\n",
        "  print(Cho_train[i] - Cho_test_tiled)\n",
        "  print(\"----\")"
      ],
      "execution_count": 234,
      "outputs": [
        {
          "output_type": "stream",
          "text": [
            "[5.4 3.9]\n",
            "[[5.8 4. ]\n",
            " [5.1 3.3]\n",
            " [5.8 4. ]\n",
            " [5.1 3.3]]\n",
            "[[-0.4 -0.1]\n",
            " [ 0.3  0.6]\n",
            " [-0.4 -0.1]\n",
            " [ 0.3  0.6]]\n",
            "----\n",
            "[5.7 3.8]\n",
            "[[5.8 4. ]\n",
            " [5.1 3.3]\n",
            " [5.8 4. ]\n",
            " [5.1 3.3]]\n",
            "[[-0.1 -0.2]\n",
            " [ 0.6  0.5]\n",
            " [-0.1 -0.2]\n",
            " [ 0.6  0.5]]\n",
            "----\n"
          ],
          "name": "stdout"
        }
      ]
    },
    {
      "cell_type": "code",
      "metadata": {
        "id": "u32DhLO2ljVp",
        "colab_type": "code",
        "colab": {
          "base_uri": "https://localhost:8080/",
          "height": 230
        },
        "outputId": "27496bbf-b804-453e-f8b8-dde213febecb"
      },
      "source": [
        "for i in range(Cho_index):\n",
        "  print(Cho_train[i])\n",
        "  print(Cho_test)\n",
        "  print(Cho_train[i] - Cho_test)\n",
        "  print(\"----\")"
      ],
      "execution_count": 235,
      "outputs": [
        {
          "output_type": "stream",
          "text": [
            "[5.4 3.9]\n",
            "[[5.8 4. ]\n",
            " [5.1 3.3]]\n",
            "[[-0.4 -0.1]\n",
            " [ 0.3  0.6]]\n",
            "----\n",
            "[5.7 3.8]\n",
            "[[5.8 4. ]\n",
            " [5.1 3.3]]\n",
            "[[-0.1 -0.2]\n",
            " [ 0.6  0.5]]\n",
            "----\n"
          ],
          "name": "stdout"
        }
      ]
    },
    {
      "cell_type": "code",
      "metadata": {
        "id": "xXqpmDCmmOhs",
        "colab_type": "code",
        "colab": {}
      },
      "source": [
        "for i in range(Cho_index):\n",
        "  print(Cho_train[i])\n",
        "  print(Cho_test)\n",
        "  print(Cho_train[i] - Cho_test)\n",
        "  print(\"----\")\n",
        "  np.sum(np.square(Ch_train[i] - Cho_test),axis=1)"
      ],
      "execution_count": 0,
      "outputs": []
    }
  ]
}