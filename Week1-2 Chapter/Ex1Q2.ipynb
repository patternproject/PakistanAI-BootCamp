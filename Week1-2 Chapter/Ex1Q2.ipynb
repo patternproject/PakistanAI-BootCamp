{
  "nbformat": 4,
  "nbformat_minor": 0,
  "metadata": {
    "colab": {
      "name": "Ex1Q2.ipynb",
      "provenance": [],
      "authorship_tag": "ABX9TyOxN4Cx1m2Xe4YAuWp8ZLWm",
      "include_colab_link": true
    },
    "kernelspec": {
      "name": "python3",
      "display_name": "Python 3"
    }
  },
  "cells": [
    {
      "cell_type": "markdown",
      "metadata": {
        "id": "view-in-github",
        "colab_type": "text"
      },
      "source": [
        "<a href=\"https://colab.research.google.com/github/patternproject/PakistanAI-BootCamp/blob/master/Ex1Q2.ipynb\" target=\"_parent\"><img src=\"https://colab.research.google.com/assets/colab-badge.svg\" alt=\"Open In Colab\"/></a>"
      ]
    },
    {
      "cell_type": "markdown",
      "metadata": {
        "id": "dwadu14OvHPj",
        "colab_type": "text"
      },
      "source": [
        "Coding Challenge # 1.1\n",
        "\n",
        "Q2"
      ]
    },
    {
      "cell_type": "code",
      "metadata": {
        "id": "4vEtcpuWwhuH",
        "colab_type": "code",
        "colab": {}
      },
      "source": [
        "# B. front_x\n",
        "# Given a list of strings, return a list with the strings\n",
        "# in sorted order, except group all the strings that begin with 'x' first.\n",
        "# e.g. ['mix', 'xyz', 'apple', 'xanadu', 'aardvark'] yields\n",
        "# ['xanadu', 'xyz', 'aardvark', 'apple', 'mix']\n",
        "# Hint: this can be done by making 2 lists and sorting each of them\n",
        "# before combining them.\n",
        "\n",
        "#def front_x(words):\n",
        "  # +++your code here+++\n",
        "#  return"
      ],
      "execution_count": 0,
      "outputs": []
    },
    {
      "cell_type": "code",
      "metadata": {
        "id": "qHq_uWyHwicS",
        "colab_type": "code",
        "outputId": "a8bde7c5-0936-4726-896b-f2fec9d3ff6b",
        "colab": {
          "base_uri": "https://localhost:8080/",
          "height": 132
        }
      },
      "source": [
        "def fron_X1(l_words):\n",
        "  l_start_x = []\n",
        "  l_not_x = []\n",
        "  for(l in l_words):\n",
        "    if(l[0] == 'x'):\n",
        "      l_start_x.append(l)\n",
        "    else\n",
        "      l_not_x.append(l)\n",
        "\n",
        "print(\"list with x\")\n",
        "print(l_start_x)\n",
        "\n",
        "print(\"list without x\")\n",
        "print(l_not_x)\n",
        "\n",
        "return([l_start_x,l_not_x])\n"
      ],
      "execution_count": 0,
      "outputs": [
        {
          "output_type": "error",
          "ename": "SyntaxError",
          "evalue": "ignored",
          "traceback": [
            "\u001b[0;36m  File \u001b[0;32m\"<ipython-input-2-566416f45844>\"\u001b[0;36m, line \u001b[0;32m4\u001b[0m\n\u001b[0;31m    for(l in l_words):\u001b[0m\n\u001b[0m                     ^\u001b[0m\n\u001b[0;31mSyntaxError\u001b[0m\u001b[0;31m:\u001b[0m invalid syntax\n"
          ]
        }
      ]
    },
    {
      "cell_type": "code",
      "metadata": {
        "id": "IMGAJ9l3xcti",
        "colab_type": "code",
        "colab": {}
      },
      "source": [
        ""
      ],
      "execution_count": 0,
      "outputs": []
    }
  ]
}
