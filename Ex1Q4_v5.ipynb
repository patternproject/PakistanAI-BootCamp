{
  "nbformat": 4,
  "nbformat_minor": 0,
  "metadata": {
    "colab": {
      "name": "Ex1Q4-v3.ipynb",
      "provenance": [],
      "authorship_tag": "ABX9TyMYZaYbeCUkyWuK7RantDkX",
      "include_colab_link": true
    },
    "kernelspec": {
      "name": "python3",
      "display_name": "Python 3"
    }
  },
  "cells": [
    {
      "cell_type": "markdown",
      "metadata": {
        "id": "view-in-github",
        "colab_type": "text"
      },
      "source": [
        "<a href=\"https://colab.research.google.com/github/patternproject/PakistanAI-BootCamp/blob/Week-1/Ex1Q4_v5.ipynb\" target=\"_parent\"><img src=\"https://colab.research.google.com/assets/colab-badge.svg\" alt=\"Open In Colab\"/></a>"
      ]
    },
    {
      "cell_type": "markdown",
      "metadata": {
        "id": "H9H0F4_eSbru",
        "colab_type": "text"
      },
      "source": [
        "Coding Challenge # 1.1\n",
        "\n",
        "Q4"
      ]
    },
    {
      "cell_type": "markdown",
      "metadata": {
        "id": "9s13AvdU95ii",
        "colab_type": "text"
      },
      "source": [
        "v4 - though file name does not seem to be updated"
      ]
    },
    {
      "cell_type": "code",
      "metadata": {
        "id": "zPe5BDyNVAgy",
        "colab_type": "code",
        "colab": {}
      },
      "source": [
        "# In[1]:\n",
        "# D. Given a list of numbers, return a list where\n",
        "# all adjacent == elements have been reduced to a single element,\n",
        "# so [1, 2, 2, 3] returns [1, 2, 3]. You may create a new list or\n",
        "# modify the passed in list.\n",
        "\n",
        "\n",
        "#def remove_adjacent(nums):\n",
        "  # +++your code here+++\n",
        "#  return"
      ],
      "execution_count": 0,
      "outputs": []
    },
    {
      "cell_type": "markdown",
      "metadata": {
        "id": "8farSO8qaAnf",
        "colab_type": "text"
      },
      "source": [
        "The problem with copying the list in this way is that if you modify the new_list, the old_list is also modified.\n",
        "\n",
        "new_list = old_list"
      ]
    },
    {
      "cell_type": "markdown",
      "metadata": {
        "id": "fTcIKO5JaISy",
        "colab_type": "text"
      },
      "source": [
        "However, if you need the original list unchanged when the new list is modified, you can use copy() method. This is called shallow copy."
      ]
    },
    {
      "cell_type": "code",
      "metadata": {
        "id": "3LLuxEiEVkDS",
        "colab_type": "code",
        "colab": {}
      },
      "source": [
        "def remove_adjacent(l_nums):\n",
        "  # making a copy\n",
        "  l_result = l_nums\n",
        "  # l_result = l_nums.copy()\n",
        "\n",
        "  # getting length of list of numbers \n",
        "  lst = len(l_nums)\n",
        "\n",
        "  \n",
        "  for i in range(0,lst-1):\n",
        "    print(\"----\")\n",
        "    print(i)\n",
        "    print(\"iteration\")\n",
        "    print(\"input list\")\n",
        "    print(l_nums)\n",
        "    print(\"\\n\")\n",
        "    if(l_nums[i] == l_nums[i+1]):\n",
        "      print(l_nums[i])\n",
        "      print(l_nums[i+1])\n",
        "      #l_nums.pop(i)\n",
        "      #l_result.append(l_nums[i])\n",
        "      l_result.pop(i)\n",
        "    print(\"output list\")\n",
        "    print(l_result)"
      ],
      "execution_count": 0,
      "outputs": []
    },
    {
      "cell_type": "code",
      "metadata": {
        "id": "HKPtTQ07XEYG",
        "colab_type": "code",
        "colab": {}
      },
      "source": [
        "test_1 = [1,2]"
      ],
      "execution_count": 0,
      "outputs": []
    },
    {
      "cell_type": "code",
      "metadata": {
        "id": "DOnUI9bQXKAB",
        "colab_type": "code",
        "outputId": "f055e111-489b-4a8e-ea96-c01836093487",
        "colab": {
          "base_uri": "https://localhost:8080/",
          "height": 175
        }
      },
      "source": [
        "remove_adjacent(test_1)"
      ],
      "execution_count": 17,
      "outputs": [
        {
          "output_type": "stream",
          "text": [
            "----\n",
            "0\n",
            "iteration\n",
            "input list\n",
            "[1, 2]\n",
            "\n",
            "\n",
            "output list\n",
            "[1, 2]\n"
          ],
          "name": "stdout"
        }
      ]
    },
    {
      "cell_type": "code",
      "metadata": {
        "id": "3ioVsw34XMD8",
        "colab_type": "code",
        "colab": {}
      },
      "source": [
        "test_2 = [1,1,2]"
      ],
      "execution_count": 0,
      "outputs": []
    },
    {
      "cell_type": "code",
      "metadata": {
        "id": "NxqocTurXdsz",
        "colab_type": "code",
        "colab": {}
      },
      "source": [
        "#remove_adjacent(test_2)"
      ],
      "execution_count": 0,
      "outputs": []
    },
    {
      "cell_type": "code",
      "metadata": {
        "id": "hMzRxLV7Xgzt",
        "colab_type": "code",
        "colab": {}
      },
      "source": [
        "test_3 = [1,1,2,2]\n",
        "#remove_adjacent(test_3)"
      ],
      "execution_count": 0,
      "outputs": []
    },
    {
      "cell_type": "code",
      "metadata": {
        "id": "YAs9YycQaeoe",
        "colab_type": "code",
        "colab": {}
      },
      "source": [
        "test_4 = [1,1,2,2,2]\n",
        "#remove_adjacent(test_4)"
      ],
      "execution_count": 0,
      "outputs": []
    },
    {
      "cell_type": "code",
      "metadata": {
        "id": "vi-UvsbcaqOz",
        "colab_type": "code",
        "colab": {}
      },
      "source": [
        "def remove_adjacent(l_nums):\n",
        "  # instead of making a copy, starting with empty list and building it \n",
        "  # l_result = l_nums\n",
        "  # l_result = l_nums.copy()\n",
        "  l_result = []\n",
        "\n",
        "  # getting length of list of numbers \n",
        "  lst = len(l_nums)\n",
        "\n",
        "  \n",
        "  for i in range(0,lst-1):\n",
        "    print(\"----\")\n",
        "    print(i)\n",
        "    print(\"iteration\")\n",
        "    print(\"input list\")\n",
        "    print(l_nums)\n",
        "    print(\"\\n\")\n",
        "    if(l_nums[i] == l_nums[i+1]):\n",
        "      print(l_nums[i])\n",
        "      print(l_nums[i+1])\n",
        "      # l_nums.pop(i)\n",
        "      # l_result.append(l_nums[i])\n",
        "      # l_result.pop(i)\n",
        "      l_result.append(l_nums[i])         ## append l_nums[i] at end\n",
        "    print(\"output list\")\n",
        "    print(l_result)"
      ],
      "execution_count": 0,
      "outputs": []
    },
    {
      "cell_type": "code",
      "metadata": {
        "id": "wVCMBrjsewJL",
        "colab_type": "code",
        "colab": {}
      },
      "source": [
        "test_3 = [1,1,2,2]\n",
        "#remove_adjacent(test_3)"
      ],
      "execution_count": 0,
      "outputs": []
    },
    {
      "cell_type": "code",
      "metadata": {
        "id": "KP6AoZcXe6Vb",
        "colab_type": "code",
        "colab": {}
      },
      "source": [
        "test_4 = [1,1,2]\n",
        "#remove_adjacent(test_4)"
      ],
      "execution_count": 0,
      "outputs": []
    },
    {
      "cell_type": "code",
      "metadata": {
        "id": "PeD-7rRdfA5W",
        "colab_type": "code",
        "colab": {}
      },
      "source": [
        "def remove_adjacent_1(l_nums):\n",
        "  # start with first element and find the longest chunk of similar elements\n",
        "  # then \n",
        "  # from the first dissimilar element, find the long chunk again\n",
        "  # repeat till end of list\n",
        "  l_chunk = []\n",
        "  \n",
        "  for i in range(len(l_nums)-1):\n",
        "    if l_nums[i] == l_nums[i+1]:\n",
        "      print(l_nums[i], \"at pos\", i, \"matches with\", l_nums[i+1], \"at pos\", i+1, \"\\n\")\n",
        "    else:\n",
        "      print(l_nums[i], \"at pos\", i, \"does NOT match with\", l_nums[i+1], \"at pos\", i+1, \"\\n\")\n",
        "      # skip loop\n",
        "      i_chunk_index = i\n",
        "\n"
      ],
      "execution_count": 0,
      "outputs": []
    },
    {
      "cell_type": "code",
      "metadata": {
        "id": "Er7e7M4SDl5p",
        "colab_type": "code",
        "colab": {}
      },
      "source": [
        "def longest_chunk_1(l_remaining_list):\n",
        "  # start with first element and find the longest chunk of similar elements\n",
        "\n",
        "  print(\"---------------------\")\n",
        "  print(\"entering longest_chunk_1 \\n\")\n",
        "  for e in range(len(l_remaining_list)): \n",
        "    print (l_remaining_list[e],\",\")\n",
        "\n",
        "  l_chunk = []\n",
        "  i=0\n",
        "  \n",
        "  print(\"checking for longest chunk now \\n\")\n",
        "  for i in range(len(l_remaining_list)-1):\n",
        "    if l_remaining_list[i] == l_remaining_list[i+1]:\n",
        "      print(l_remaining_list[i], \"at pos\", i, \"matches with\", l_remaining_list[i+1], \"at pos\", i+1, \"\\n\")\n",
        "    else:\n",
        "      print(l_remaining_list[i], \"at pos\", i, \"does NOT match with\", l_remaining_list[i+1], \"at pos\", i+1, \"\\n\")\n",
        "      # exit out of the loop, we have found a dissimilar element, but we need to add the following element not current one\n",
        "      #i_chunk_index = i\n",
        "      #i += 1\n",
        "      break\n",
        "\n",
        "\n",
        "  print(\"exiting longest_chunk_1\")\n",
        "  print(\"---------------------\")\n",
        "\n",
        "  return i"
      ],
      "execution_count": 0,
      "outputs": []
    },
    {
      "cell_type": "code",
      "metadata": {
        "id": "-ODPvc2MByhg",
        "colab_type": "code",
        "colab": {
          "base_uri": "https://localhost:8080/",
          "height": 281
        },
        "outputId": "0daaa30b-a885-4549-c7e6-1aeb83717ce8"
      },
      "source": [
        "longest_chunk_1(test_4)"
      ],
      "execution_count": 127,
      "outputs": [
        {
          "output_type": "stream",
          "text": [
            "---------------------\n",
            "entering longest_chunk_1 \n",
            "\n",
            "1 ,\n",
            "1 ,\n",
            "2 ,\n",
            "checking for longest chunk now \n",
            "\n",
            "1 at pos 0 matches with 1 at pos 1 \n",
            "\n",
            "1 at pos 1 does NOT match with 2 at pos 2 \n",
            "\n",
            "exiting longest_chunk_1\n",
            "---------------------\n"
          ],
          "name": "stdout"
        },
        {
          "output_type": "execute_result",
          "data": {
            "text/plain": [
              "1"
            ]
          },
          "metadata": {
            "tags": []
          },
          "execution_count": 127
        }
      ]
    },
    {
      "cell_type": "code",
      "metadata": {
        "id": "YCIsBqi7B2_M",
        "colab_type": "code",
        "colab": {}
      },
      "source": [
        "def remove_adjacent_2(l_nums):\n",
        "  # start with first element and find the longest chunk of similar elements\n",
        "  # then \n",
        "  # from the first dissimilar element, find the long chunk again\n",
        "  # repeat till end of list\n",
        "  \n",
        "  # helper function \"longest_chunk_1\" to find the longest chunk which returns the index of last similar element in the list passed to it\n",
        "  # printing the list using loop \n",
        "\n",
        "  print(\"---------------------\")\n",
        "  print(\"entering removing_adjacent_2 \\n\")\n",
        "  \n",
        "  #print(\"printing input list \\n\")\n",
        "  #for e in l_nums: \n",
        "  #  print(e) \n",
        "\n",
        "\n",
        "  for e in range(len(l_nums)): \n",
        "    print (l_nums[e])\n",
        "\n",
        "  i_len = len(l_nums)\n",
        "  print(\"length of list\",i_len,\"\\n\")\n",
        "  l_chunk = []\n",
        "  i_chunk_index = 0\n",
        "\n",
        "  print(\"entering while loop \\n\")\n",
        "\n",
        "  while(i_chunk_index <= i_len):\n",
        "    print(\"iteration\",\"i_chunk_index:\",i_chunk_index, \"\\n\")\n",
        "    print(\"iteration\",\"i_len:\",i_len, \"\\n\")\n",
        "\n",
        "    i_chunk_index = longest_chunk_1(l_nums[i_chunk_index:])\n",
        "    print(\"value returned:\",\"i_chunk_index:\",i_chunk_index, \"\\n\")\n",
        "\n",
        "    # copy the last of repeated elements\n",
        "    l_chunk.append(l_nums[i_chunk_index])\n",
        "    \n",
        "    #updating index\n",
        "    i_temp = i_len - i_chunk_index\n",
        "\n",
        "    # printing the list using loop \n",
        "    print(\"updated list \\n\")\n",
        "    for e in l_chunk: \n",
        "      print(e) \n",
        "\n",
        "    #for e in range(len(l_chunk)): \n",
        "    #  print (l_chunk[e])\n",
        "\n",
        "    i_chunk_index = i_temp + 1\n",
        "    #i_chunk_index = i_temp\n",
        "    print(\"updated value:\",\"i_chunk_index:\",i_chunk_index, \"\\n\")\n",
        "\n",
        "\n",
        "  return l_chunk"
      ],
      "execution_count": 0,
      "outputs": []
    },
    {
      "cell_type": "code",
      "metadata": {
        "id": "KUSHqCiLXShs",
        "colab_type": "code",
        "colab": {
          "base_uri": "https://localhost:8080/",
          "height": 985
        },
        "outputId": "a3dcd415-ef7b-49b1-eeae-0bffff7b04bd"
      },
      "source": [
        "remove_adjacent_2([1,1,2])"
      ],
      "execution_count": 143,
      "outputs": [
        {
          "output_type": "stream",
          "text": [
            "---------------------\n",
            "entering removing_adjacent_2 \n",
            "\n",
            "1\n",
            "1\n",
            "2\n",
            "length of list 3 \n",
            "\n",
            "entering while loop \n",
            "\n",
            "iteration i_chunk_index: 0 \n",
            "\n",
            "iteration i_len: 3 \n",
            "\n",
            "---------------------\n",
            "entering longest_chunk_1 \n",
            "\n",
            "1 ,\n",
            "1 ,\n",
            "2 ,\n",
            "checking for longest chunk now \n",
            "\n",
            "1 at pos 0 matches with 1 at pos 1 \n",
            "\n",
            "1 at pos 1 does NOT match with 2 at pos 2 \n",
            "\n",
            "exiting longest_chunk_1\n",
            "---------------------\n",
            "value returned: i_chunk_index: 1 \n",
            "\n",
            "updated list \n",
            "\n",
            "1\n",
            "updated value: i_chunk_index: 3 \n",
            "\n",
            "iteration i_chunk_index: 3 \n",
            "\n",
            "iteration i_len: 3 \n",
            "\n",
            "---------------------\n",
            "entering longest_chunk_1 \n",
            "\n",
            "checking for longest chunk now \n",
            "\n",
            "exiting longest_chunk_1\n",
            "---------------------\n",
            "value returned: i_chunk_index: 0 \n",
            "\n",
            "updated list \n",
            "\n",
            "1\n",
            "1\n",
            "updated value: i_chunk_index: 4 \n",
            "\n"
          ],
          "name": "stdout"
        },
        {
          "output_type": "execute_result",
          "data": {
            "text/plain": [
              "[1, 1]"
            ]
          },
          "metadata": {
            "tags": []
          },
          "execution_count": 143
        }
      ]
    },
    {
      "cell_type": "code",
      "metadata": {
        "id": "cPau7kaVirdE",
        "colab_type": "code",
        "colab": {}
      },
      "source": [
        "l_temp =  [1,2,3]"
      ],
      "execution_count": 0,
      "outputs": []
    },
    {
      "cell_type": "code",
      "metadata": {
        "id": "Dj5TtOuaqjjs",
        "colab_type": "code",
        "colab": {
          "base_uri": "https://localhost:8080/",
          "height": 34
        },
        "outputId": "807ba06a-9343-4301-f488-fd9872ce1ed5"
      },
      "source": [
        "l_temp[1]"
      ],
      "execution_count": 101,
      "outputs": [
        {
          "output_type": "execute_result",
          "data": {
            "text/plain": [
              "2"
            ]
          },
          "metadata": {
            "tags": []
          },
          "execution_count": 101
        }
      ]
    },
    {
      "cell_type": "code",
      "metadata": {
        "id": "vukI6FgLqml6",
        "colab_type": "code",
        "colab": {}
      },
      "source": [
        ""
      ],
      "execution_count": 0,
      "outputs": []
    }
  ]
}