{
  "nbformat": 4,
  "nbformat_minor": 0,
  "metadata": {
    "anaconda-cloud": {},
    "kernelspec": {
      "name": "python3",
      "display_name": "Python 3"
    },
    "colab": {
      "name": "My KNN.ipynb",
      "provenance": [],
      "toc_visible": true,
      "include_colab_link": true
    }
  },
  "cells": [
    {
      "cell_type": "markdown",
      "metadata": {
        "id": "view-in-github",
        "colab_type": "text"
      },
      "source": [
        "<a href=\"https://colab.research.google.com/github/patternproject/p.PakistanAI-BootCamp/blob/Week-3/MyAttempt/My_KNN.ipynb\" target=\"_parent\"><img src=\"https://colab.research.google.com/assets/colab-badge.svg\" alt=\"Open In Colab\"/></a>"
      ]
    },
    {
      "cell_type": "markdown",
      "metadata": {
        "id": "t1CJpJsKX5Vf",
        "colab_type": "text"
      },
      "source": [
        "# K Nearest Neighbors\n",
        "### *Written By: Sibt ul Hussain*\n",
        "----\n",
        "## Goal\n",
        "\n",
        "Your goal in this assigment is to implement a KNN Classifier.\n",
        "\n",
        "**Note** Please note that you are allowed to use only those libraries which we have discussed in the workshop, i.e. numpy and pandas.\n",
        "\n",
        "**Please read each step carefully and understand it fully before proceeding with code writing**"
      ]
    },
    {
      "cell_type": "markdown",
      "metadata": {
        "id": "Dr8ZF1AeiPob",
        "colab_type": "text"
      },
      "source": [
        "# Revision History\n",
        "\n",
        "---\n",
        "\n",
        "\n",
        "\n",
        "\n",
        "\n",
        "\n",
        "\n",
        "*   v1: First Version \n",
        "*   v2: Adding logging to trace what is happening in OOP \n",
        "*   v3: changing the logging time stamp to local zone i.e Karachi\n",
        "*   v4: debug statements added across all the functions of class KNearestNeighbor\n",
        "\n"
      ]
    },
    {
      "cell_type": "markdown",
      "metadata": {
        "id": "qYa9pYGIX5Vj",
        "colab_type": "text"
      },
      "source": [
        "Lets suppose there are $m$ examples of size $d$, which are stored in a training matrix $D$ of size $m \\times d$. Now if we use Euclidean distance for the finding the best match for a given test example  $q_{d\\times1}$ how many multiplications and additions we will need to perform ?"
      ]
    },
    {
      "cell_type": "markdown",
      "metadata": {
        "id": "cekDkaqWX5Vl",
        "colab_type": "text"
      },
      "source": [
        "Here you will be implementing three versions of KNN classifiers, those are:\n",
        " 1. Using two nested loops, i.e. for a given example you will have to compute its L2 distance with all the training samples, thus you will need to implement it using two nested loops...**Please first complete the assignment using this method and then go for further optimizations mentioned in step 2 and 3**\n",
        " 2. Using one loop, i.e. you can get rid of one loop using the numpy vectorization (tiling the test example).\n",
        " 3. The number of multiplications and additions can be reduced a lot if we use an alternate definition of Euclidean distance, i.e. $$||x-y||^2=||x||^2+||y||^2-2x^Ty$$\n",
        "instead of using the traditional definition $$||x-y||^2=\\sum_i (x_i-y_i)^2$$ This definition will help you to implement a very fast version of KNN classifier without using any loop whatsoever. \n",
        "\n",
        "#### HelpFul Functions\n",
        "You might find following functions to be extremely helpful\n",
        " - **[argpartition] (http://docs.scipy.org/doc/numpy/reference/generated/numpy.argpartition.html)** uses introselect algorithm to perform an indirect partition along the given axis. This can lead to O(n) complexity instead of O(nlogn). Remember indexing start from 0."
      ]
    },
    {
      "cell_type": "markdown",
      "metadata": {
        "id": "jqovkoCaX5Vm",
        "colab_type": "text"
      },
      "source": [
        "### K Nearest Neighbour Classifier\n",
        "\n",
        "Now in this assignment we will be implementing the K Nearest Neighbour Classifier for Continuous attributes.\n"
      ]
    },
    {
      "cell_type": "code",
      "metadata": {
        "scrolled": true,
        "id": "FexecwKfX5Vo",
        "colab_type": "code",
        "outputId": "f963cf2a-a5b3-40ce-ad44-461f470b08c3",
        "colab": {
          "base_uri": "https://localhost:8080/",
          "height": 34
        }
      },
      "source": [
        "%pylab inline\n",
        "plt.style.use('ggplot')\n",
        "matplotlib.rcParams['figure.figsize'] = (10.0, 8.0)\n",
        "import numpy as np"
      ],
      "execution_count": 1,
      "outputs": [
        {
          "output_type": "stream",
          "text": [
            "Populating the interactive namespace from numpy and matplotlib\n"
          ],
          "name": "stdout"
        }
      ]
    },
    {
      "cell_type": "code",
      "metadata": {
        "id": "ml8_zmOJCQTK",
        "colab_type": "code",
        "colab": {}
      },
      "source": [
        "# for getting the right time zone\n",
        "from datetime import datetime\n",
        "import time\n",
        "\n",
        "from pytz import timezone, utc"
      ],
      "execution_count": 0,
      "outputs": []
    },
    {
      "cell_type": "code",
      "metadata": {
        "id": "pK9B-xgHDgCr",
        "colab_type": "code",
        "colab": {}
      },
      "source": [
        "#import pytz\n",
        "#print(pytz.all_timezones) # 'Asia/Karachi' --> what we want"
      ],
      "execution_count": 0,
      "outputs": []
    },
    {
      "cell_type": "code",
      "metadata": {
        "id": "CB8IX1KiCVF6",
        "colab_type": "code",
        "colab": {}
      },
      "source": [
        "import logging"
      ],
      "execution_count": 0,
      "outputs": []
    },
    {
      "cell_type": "markdown",
      "metadata": {
        "id": "4d-DcFvQEjFF",
        "colab_type": "text"
      },
      "source": [
        "changing the logging time stamp to local zone i.e Karachi\n",
        "\n",
        "SRC: https://stackoverflow.com/questions/32402502/how-to-change-the-time-zone-in-python-logging"
      ]
    },
    {
      "cell_type": "code",
      "metadata": {
        "id": "7MHdtFTgCW_7",
        "colab_type": "code",
        "colab": {}
      },
      "source": [
        "#logging.basicConfig(format=\"%(asctime)s %(message)s\", datefmt=\"%Y-%m-%d %H:%M:%S\")\n",
        "\n",
        "# The filemode is set to w, which means the log file is opened in “write mode” each time basicConfig() is called, and each run of the program will rewrite the file. \n",
        "logging.basicConfig(filename='example.log',filemode='w', level=logging.DEBUG,format='%(asctime)s %(message)s', datefmt=\"%Y-%m-%d %H:%M:%S\")\n",
        "\n",
        "\n",
        "logger = logging.getLogger(__name__)\n",
        "logger.error(\"default\")\n",
        "\n",
        "logging.Formatter.converter = time.localtime\n",
        "logger.error(\"localtime\")\n",
        "\n",
        "logging.Formatter.converter = time.gmtime\n",
        "logger.error(\"gmtime\")\n",
        "\n",
        "def customTime(*args):\n",
        "  utc_dt = utc.localize(datetime.utcnow())\n",
        "  #my_tz = timezone(\"US/Eastern\")\n",
        "  my_tz = timezone(\"Asia/Karachi\")\n",
        "  converted = utc_dt.astimezone(my_tz)\n",
        "  return converted.timetuple()\n",
        "\n",
        "logging.Formatter.converter = customTime\n",
        "logger.error(\"customTime\")"
      ],
      "execution_count": 0,
      "outputs": []
    },
    {
      "cell_type": "code",
      "metadata": {
        "id": "iqDa3ntCnfy-",
        "colab_type": "code",
        "colab": {}
      },
      "source": [
        "# The filemode is set to w, which means the log file is opened in “write mode” each time basicConfig() is called, and each run of the program will rewrite the file. \n",
        "#logging.basicConfig(filename='example.log',filemode='w', level=logging.DEBUG,format='%(asctime)s %(message)s')\n",
        "\n",
        "\n",
        "# this 'w' flag does not seem to work for colab. you have to restart the run-time to get a new file \"example.log\""
      ],
      "execution_count": 0,
      "outputs": []
    },
    {
      "cell_type": "code",
      "metadata": {
        "id": "RWFTaSKcpn23",
        "colab_type": "code",
        "colab": {}
      },
      "source": [
        "logging.debug('Logging Started')"
      ],
      "execution_count": 0,
      "outputs": []
    },
    {
      "cell_type": "code",
      "metadata": {
        "id": "fuMugfvc8fck",
        "colab_type": "code",
        "colab": {
          "base_uri": "https://localhost:8080/",
          "height": 105
        },
        "outputId": "f9b4becf-6b8e-4dc3-b05d-448839e11f31"
      },
      "source": [
        "! cat example.log"
      ],
      "execution_count": 8,
      "outputs": [
        {
          "output_type": "stream",
          "text": [
            "2020-03-05 05:16:54 default\n",
            "2020-03-05 05:16:54 localtime\n",
            "2020-03-05 05:16:54 gmtime\n",
            "2020-03-05 10:16:54 customTime\n",
            "2020-03-05 10:16:54 Logging Started\n"
          ],
          "name": "stdout"
        }
      ]
    },
    {
      "cell_type": "markdown",
      "metadata": {
        "id": "G6fTWR9oFCpM",
        "colab_type": "text"
      },
      "source": [
        "Implmentation of KNearestNeighbor Class"
      ]
    },
    {
      "cell_type": "code",
      "metadata": {
        "deletable": false,
        "nbgrader": {
          "checksum": "59f09954abcbb6d74cb44946b9986f85",
          "grade": false,
          "grade_id": "class",
          "locked": false,
          "solution": true
        },
        "scrolled": false,
        "id": "IkWw1tQjX5Vv",
        "colab_type": "code",
        "colab": {}
      },
      "source": [
        "# TODO: You have to implement the following class\n",
        "\n",
        "class KNearestNeighbor:\n",
        "    ''' Implements the KNearest Neigbours For Classification... '''\n",
        "    def __init__(self, k, scalefeatures=False):        \n",
        "        logging.debug(f'>>>>>>>>>>>>>>>>>>>>>>>>>>>>>>>>>>>>>>')\n",
        "        logging.debug(f'Entering: __init__ of kNearestNeighbor')\n",
        "        logging.debug(f'with k=, {k}')\n",
        "        self.k=k\n",
        "        self.scalefeatures=scalefeatures\n",
        "        logging.debug(f'Leaving: __init__ of kNearestNeighbor')\n",
        "        logging.debug(f'-------------------------------------')\n",
        "        \n",
        "    \n",
        "    def compute_distances_two_loops(self, X):\n",
        "        \"\"\"\n",
        "        Compute the distance between each test point in X and each training point\n",
        "        in self.X_train using a nested loop over both the training data and the \n",
        "        test data.\n",
        "\n",
        "        Input:\n",
        "        X - An num_test x dimension array where each row is a test point.\n",
        "\n",
        "        Output:\n",
        "        dists - A num_test x num_train array where dists[i, j] is the distance\n",
        "                between the ith test point and the jth training point.\n",
        "        \"\"\"\n",
        "        logging.debug(f'>>>>>>>>>>>>>>>>>>>>>>>>>>>>>>>>>>>>>>')\n",
        "        logging.debug('Entering: compute_distances_two_loops()')\n",
        "        #logging.debug(f'X passed is) {X}')\n",
        "        \n",
        "        num_test = X.shape[0]\n",
        "        num_train = self.X_train.shape[0]\n",
        "        dists = np.zeros((num_test, num_train))\n",
        "        for i in range(num_test):\n",
        "            for j in range(num_train):\n",
        "                #####################################################################\n",
        "                # TODO:                                                             #\n",
        "                # Compute the l2 distance between the ith test point and the jth    #\n",
        "                # training point, and store the result in dists[i, j]               #\n",
        "                #####################################################################\n",
        "                # YOUR CODE HERE\n",
        "                #print(i)\n",
        "                #print(j)\n",
        "                logging.debug(f'ith test point: {X[i]}')\n",
        "                logging.debug(f'jth training point: {self.X_train[j]}')\n",
        "                logging.debug(f'l2 distance: {np.linalg.norm(X[i]-self.X_train[j])}')\n",
        "                dists[i][j] = np.linalg.norm(X[i]-self.X_train[j])\n",
        "                #pass\n",
        "\n",
        "                #####################################################################\n",
        "                #                       END OF YOUR CODE                            #\n",
        "                #####################################################################\n",
        "        \n",
        "        logging.debug(f'Leaving: compute_distances_two_loop()')\n",
        "        logging.debug(f'-------------------------------------')\n",
        "        return dists\n",
        "\n",
        "    def compute_distances_one_loop(self, X):\n",
        "        \"\"\"\n",
        "        Compute the distance between each test point in X and each training point\n",
        "        in self.X_train using a single loop over the test data.\n",
        "\n",
        "        Input / Output: Same as compute_distances_two_loops\n",
        "        \"\"\"\n",
        "        logging.debug(f'>>>>>>>>>>>>>>>>>>>>>>>>>>>>>>>>>>>>>>')\n",
        "        logging.debug('Entering: compute_distances_one_loop()')\n",
        "        num_test = X.shape[0]\n",
        "        num_train = self.X_train.shape[0]\n",
        "        dists = np.zeros((num_test, num_train))\n",
        "        for i in range(num_test):\n",
        "            #######################################################################\n",
        "            # TODO:                                                               #\n",
        "            # Compute the l2 distance between the ith test point and all training #\n",
        "            # points, and store the result in dists[i, :].                        #\n",
        "            #######################################################################\n",
        "            # YOUR CODE HERE\n",
        "            pass\n",
        "            \n",
        "            #######################################################################\n",
        "            #                         END OF YOUR CODE                            #\n",
        "            #######################################################################\n",
        "        \n",
        "        logging.debug(f'Leaving: compute_distances_one_loop()')\n",
        "        logging.debug(f'-------------------------------------')\n",
        "\n",
        "        return dists\n",
        "\n",
        "    def compute_distances_no_loops(self, X):\n",
        "        \"\"\"\n",
        "        Compute the distance between each test point in X and each training point\n",
        "        in self.X_train using no explicit loops.\n",
        "\n",
        "        Input / Output: Same as compute_distances_two_loops\n",
        "        \"\"\"\n",
        "        \n",
        "        logging.debug(f'>>>>>>>>>>>>>>>>>>>>>>>>>>>>>>>>>>>>>>')\n",
        "        logging.debug('Entering: compute_distances_no_loops()')\n",
        "\n",
        "        num_test = X.shape[0]\n",
        "        num_train = self.X_train.shape[0]\n",
        "        dists = np.zeros((num_test, num_train)) \n",
        "        #########################################################################\n",
        "        # TODO:                                                                 #\n",
        "        # Compute the l2 distance between all test points and all training      #\n",
        "        # points without using any explicit loops, and store the result in      #\n",
        "        # dists.                                                                #\n",
        "        # HINT: Try to formulate the l2 distance using matrix multiplication    #\n",
        "        #       and two broadcast sums.   \n",
        "        #                                                                       #\n",
        "        #########################################################################\n",
        "        # YOUR CODE HERE\n",
        "        \n",
        "        #########################################################################\n",
        "        #                         END OF YOUR CODE                              #\n",
        "        #########################################################################\n",
        "        \n",
        "        \n",
        "        logging.debug(f'Leaving: compute_distances_no_loops()')\n",
        "        logging.debug(f'-------------------------------------')\n",
        "\n",
        "        return dists\n",
        "    \n",
        "    \n",
        "    def scale_features(self,X):\n",
        "        \"\"\"\n",
        "            Normalize each feature to lie in the range [0 ,1]\n",
        "\n",
        "            Input:\n",
        "            ------\n",
        "\n",
        "                X= M x d dimensional data matrix\n",
        "\n",
        "            Returns:\n",
        "            --------\n",
        "\n",
        "                normalized X\n",
        "        \"\"\"\n",
        "        \n",
        "        logging.debug(f'>>>>>>>>>>>>>>>>>>>>>>>>>>>>>>>>>>>>>>')\n",
        "        logging.debug('Entering: scale_features()')\n",
        "\n",
        "        # we will store these values compute on training set to use during testing \n",
        "        self.xmin= np.min(X,axis=0)\n",
        "        self.xmax= np.max(X,axis=0)\n",
        "\n",
        "        logging.debug(f'Leaving: scale_features()')\n",
        "        logging.debug(f'-------------------------------------')\n",
        "\n",
        "        return (X-self.xmin)/(self.xmax-self.xmin)\n",
        "\n",
        "\n",
        "    def train(self, X, Y):\n",
        "        ''' Train K Nearest Neighbour classifier using the given \n",
        "            X [m x d] data matrix and Y labels matrix\n",
        "            \n",
        "            Input:\n",
        "            ------\n",
        "            X: [m x d] a data matrix of m d-dimensional examples.\n",
        "            Y: [m x 1] a label vector.\n",
        "            \n",
        "            Returns:\n",
        "            -----------\n",
        "            Nothing\n",
        "            '''\n",
        "        \n",
        "        logging.debug(f'>>>>>>>>>>>>>>>>>>>>>>>>>>>>>>>>>>>>>>')\n",
        "        logging.debug(f'Entering: train() kNearestNeighbor')\n",
        "        \n",
        "        nexamples,nfeatures=X.shape\n",
        "        \n",
        "        if self.scalefeatures:\n",
        "            X=self.scale_features(X)\n",
        "        \n",
        "        # YOUR CODE HERE\n",
        "        #define self.X_train to store the training data...\n",
        "        self.X_train = X\n",
        "        \n",
        "        #define self.Y_train to store the training labels\n",
        "        self.Y_train = Y\n",
        "\n",
        "        logging.debug(f'Leaving: train() kNearestNeighbor')\n",
        "        logging.debug(f'-------------------------------------')\n",
        "    \n",
        "    def predict(self, X, methodtype='noloops'):\n",
        "        \n",
        "        \"\"\"\n",
        "        Test the trained K-Nearset Neighoubr classifier result on the given examples X\n",
        "        \n",
        "                   \n",
        "            Input:\n",
        "            ------\n",
        "            X: [m x d] a matrix of m  d-dimensional test examples.\n",
        "            methodtype: which method to use for calculating distances.\n",
        "               noloops: without using any loop\n",
        "               oneloop: using one loop\n",
        "               twoloops: using two nested loops...\n",
        "               \n",
        "            Returns:\n",
        "            -----------\n",
        "                pclass: the predicted class for the given set of examples, i.e. to which it belongs\n",
        "        \"\"\"\n",
        "        \n",
        "        logging.debug(f'>>>>>>>>>>>>>>>>>>>>>>>>>>>>>>>>>>>>>>')\n",
        "        logging.debug('Entering: predict()')\n",
        "        \n",
        "        num_test = X.shape[0]\n",
        "        \n",
        "        if self.scalefeatures:\n",
        "            X=(X-self.xmin)/(self.xmax-self.xmin)\n",
        "        \n",
        "        y_pred = np.zeros(num_test, dtype = self.Y_train.dtype)\n",
        "        \n",
        "        # defining a function variable so that you will only need to call compute_distance...\n",
        "        if methodtype == 'noloops':\n",
        "            compute_distance = self.compute_distances_no_loops\n",
        "        elif methodtype == 'oneloop':\n",
        "            compute_distance = self.compute_distances_one_loop\n",
        "        else:\n",
        "            compute_distance = self.compute_distances_two_loops\n",
        "        \n",
        "        dists=compute_distance(X)\n",
        "        # YOUR CODE HERE\n",
        "        \n",
        "        # YOUR CODE END HERE\n",
        "\n",
        "        logging.debug(f'Leaving: predict()')\n",
        "        logging.debug(f'-------------------------------------')\n",
        "        \n",
        "        return y_pred"
      ],
      "execution_count": 0,
      "outputs": []
    },
    {
      "cell_type": "code",
      "metadata": {
        "scrolled": true,
        "id": "B1bVbP55X5V0",
        "colab_type": "code",
        "colab": {}
      },
      "source": [
        "import pandas as pd\n",
        "import tools as t # set of tools for plotting, data splitting, etc.."
      ],
      "execution_count": 0,
      "outputs": []
    },
    {
      "cell_type": "code",
      "metadata": {
        "id": "1vdHPfvcpyLG",
        "colab_type": "code",
        "colab": {}
      },
      "source": [
        "logging.debug('Importing Libraries')"
      ],
      "execution_count": 0,
      "outputs": []
    },
    {
      "cell_type": "code",
      "metadata": {
        "scrolled": true,
        "id": "Z7zY7RAJX5V_",
        "colab_type": "code",
        "outputId": "be1b60ab-65b5-4137-c378-e9046c4b65a7",
        "colab": {
          "base_uri": "https://localhost:8080/",
          "height": 176
        }
      },
      "source": [
        "#load the data set\n",
        "data=pd.read_csv('./iris.data')\n",
        "data.columns=['SepalLength','SepalWidth','PetalLength','PetalWidth','Class']\n",
        "print(data.describe())"
      ],
      "execution_count": 12,
      "outputs": [
        {
          "output_type": "stream",
          "text": [
            "       SepalLength  SepalWidth  PetalLength  PetalWidth\n",
            "count   149.000000  149.000000   149.000000  149.000000\n",
            "mean      5.848322    3.051007     3.774497    1.205369\n",
            "std       0.828594    0.433499     1.759651    0.761292\n",
            "min       4.300000    2.000000     1.000000    0.100000\n",
            "25%       5.100000    2.800000     1.600000    0.300000\n",
            "50%       5.800000    3.000000     4.400000    1.300000\n",
            "75%       6.400000    3.300000     5.100000    1.800000\n",
            "max       7.900000    4.400000     6.900000    2.500000\n"
          ],
          "name": "stdout"
        }
      ]
    },
    {
      "cell_type": "code",
      "metadata": {
        "id": "w0xbAeZBp2d-",
        "colab_type": "code",
        "colab": {}
      },
      "source": [
        "logging.debug('Read the data set')\n",
        "logging.debug(f'data read is \\n {data.describe()}')"
      ],
      "execution_count": 0,
      "outputs": []
    },
    {
      "cell_type": "code",
      "metadata": {
        "scrolled": true,
        "id": "Qy5E9umMX5WD",
        "colab_type": "code",
        "colab": {}
      },
      "source": [
        "# Get your data in matrix\n",
        "X=np.asarray(data[['SepalLength','SepalWidth','PetalLength','PetalWidth']].dropna())\n",
        "Y=np.asarray(data['Class'].dropna())\n",
        "# print(\" Data Set Dimensions=\", X.shape, \" True Class labels dimensions\", Y.shape)"
      ],
      "execution_count": 0,
      "outputs": []
    },
    {
      "cell_type": "code",
      "metadata": {
        "id": "C_9M9kpop7w3",
        "colab_type": "code",
        "colab": {}
      },
      "source": [
        "logging.debug('Converted to numpy arrays')\n",
        "logging.debug('Dropped na')\n",
        "logging.debug(f'Data Set Dimensions= {X.shape}, True Class labels dimensions={Y.shape}')\n",
        "\n",
        "\n",
        "#logging.debug(\" Data Set Dimensions=\", X.shape, \" True Class labels dimensions\", Y.shape)\n",
        "#logging.debug(\" Data Set Dimensions= {} True Class labels dimensions {}\".format(X.shape, Y.shape))\n"
      ],
      "execution_count": 0,
      "outputs": []
    },
    {
      "cell_type": "code",
      "metadata": {
        "scrolled": true,
        "id": "g9I5HuTMX5WP",
        "colab_type": "code",
        "colab": {}
      },
      "source": [
        "# Split your data into training and test-set... \n",
        "# see the documentation of split_data in tools for further information...\n",
        "Xtrain,Ytrain,Xtest,Ytest=t.split_data(X,Y)\n",
        "\n",
        "#print(\" Training Data Set Dimensions=\", Xtrain.shape, \"Training True Class labels dimensions\", Ytrain.shape)   \n",
        "#print(\" Test Data Set Dimensions=\", Xtest.shape, \"Test True Class labels dimensions\", Ytest.shape)"
      ],
      "execution_count": 0,
      "outputs": []
    },
    {
      "cell_type": "code",
      "metadata": {
        "id": "FCbI006BqE_H",
        "colab_type": "code",
        "colab": {}
      },
      "source": [
        "logging.debug('Split into train and test sets')\n",
        "#logging.debug(\" Training Data Set Dimensions=\", Xtrain.shape, \"Training True Class labels dimensions\", Ytrain.shape)   \n",
        "#logging.debug(\" Test Data Set Dimensions=\", Xtest.shape, \"Test True Class labels dimensions\", Ytest.shape)\n",
        "#logging.error(f'{name} raised an error')\n",
        "logging.debug(f'Test Data Set Dimensions=, {Xtest.shape} Test True Class labels dimensions {Ytest.shape}')"
      ],
      "execution_count": 0,
      "outputs": []
    },
    {
      "cell_type": "markdown",
      "metadata": {
        "id": "RmfDkcj2X5WV",
        "colab_type": "text"
      },
      "source": [
        "# Training Time"
      ]
    },
    {
      "cell_type": "code",
      "metadata": {
        "scrolled": false,
        "id": "IVEilxk-X5WX",
        "colab_type": "code",
        "colab": {}
      },
      "source": [
        "# Lets train a Decision Tree Classifier on Petal Length and Width\n",
        "feat=[0,1]\n",
        "knn=KNearestNeighbor(3) # train a 3-nearest neighbour classifier...\n",
        "knn.train(Xtrain[:,feat],Ytrain)"
      ],
      "execution_count": 0,
      "outputs": []
    },
    {
      "cell_type": "markdown",
      "metadata": {
        "id": "gglSqL9yX5Wb",
        "colab_type": "text"
      },
      "source": [
        "### Testing Your Distance Implementation and Timing (Profiling it)"
      ]
    },
    {
      "cell_type": "code",
      "metadata": {
        "id": "puKT2tZYX5Wd",
        "colab_type": "code",
        "colab": {}
      },
      "source": [
        "#first lets compute distance of each test example from all the training examples using two loops\n",
        "# logging.debug('This message should go to the log file')\n",
        "dists = knn.compute_distances_two_loops(Xtest[:,feat])"
      ],
      "execution_count": 0,
      "outputs": []
    },
    {
      "cell_type": "code",
      "metadata": {
        "id": "tflI9S7EX5Wl",
        "colab_type": "code",
        "outputId": "a69a0bf7-f6d3-4415-b7b9-ac0d45ab1bf2",
        "colab": {
          "base_uri": "https://localhost:8080/",
          "height": 308
        }
      },
      "source": [
        "print(dists.shape)\n",
        "# We can visualize the distance matrix: each row is a single test example and its distances to training examples\",\n",
        "plt.imshow(dists, interpolation='none')\n",
        "plt.gray()\n",
        "#here dark means less distance and light means high distance..."
      ],
      "execution_count": 20,
      "outputs": [
        {
          "output_type": "stream",
          "text": [
            "(45, 104)\n"
          ],
          "name": "stdout"
        },
        {
          "output_type": "display_data",
          "data": {
            "image/png": "[encoded data removed]",
            "text/plain": [
              "<Figure size 720x576 with 1 Axes>"
            ]
          },
          "metadata": {
            "tags": []
          }
        }
      ]
    },
    {
      "cell_type": "markdown",
      "metadata": {
        "id": "9UWtf9Y9X5Ws",
        "colab_type": "text"
      },
      "source": [
        "#### Optimization time\n",
        "If you find spending too much time on these two steps skip them and come back later to speed up your implementation"
      ]
    },
    {
      "cell_type": "code",
      "metadata": {
        "id": "pGBPwOSQGYZL",
        "colab_type": "code",
        "colab": {
          "base_uri": "https://localhost:8080/",
          "height": 34
        },
        "outputId": "ed5dedb6-4389-4292-83c4-0466239dd5c6"
      },
      "source": [
        "!pip install nose"
      ],
      "execution_count": 21,
      "outputs": [
        {
          "output_type": "stream",
          "text": [
            "Requirement already satisfied: nose in /usr/local/lib/python3.6/dist-packages (1.3.7)\n"
          ],
          "name": "stdout"
        }
      ]
    },
    {
      "cell_type": "code",
      "metadata": {
        "deletable": false,
        "nbgrader": {
          "checksum": "300f70ef9c215a5baa6a2dfe507a11cd",
          "grade": true,
          "grade_id": "dist_tests",
          "locked": true,
          "points": 5,
          "solution": false
        },
        "id": "1qCLM1aTX5Wt",
        "colab_type": "code",
        "colab": {
          "base_uri": "https://localhost:8080/",
          "height": 370
        },
        "outputId": "b3293de0-b810-43bf-a82d-46153b1bcc38"
      },
      "source": [
        "from nose.tools import assert_less_equal\n",
        "feat=[0,1]\n",
        "knn=KNearestNeighbor(3)\n",
        "knn.train(Xtrain[:,feat],Ytrain)\n",
        "\n",
        "dists = knn.compute_distances_two_loops(Xtest[:,feat])\n",
        "one_loop_dists = knn.compute_distances_one_loop(Xtest[:,feat])\n",
        "no_loop_dists = knn.compute_distances_no_loops(Xtest[:,feat])\n",
        "\n",
        "difference = np.linalg.norm(dists - one_loop_dists, ord='fro')\n",
        "difference_1 = np.linalg.norm(dists - no_loop_dists, ord='fro')\n",
        "\n",
        "assert_less_equal(difference, 0.001, \"Two loops and one loop distance varies\")\n",
        "assert_less_equal(difference_1, 0.001, \"Two loops and no loop distance varies\")"
      ],
      "execution_count": 22,
      "outputs": [
        {
          "output_type": "error",
          "ename": "AssertionError",
          "evalue": "ignored",
          "traceback": [
            "\u001b[0;31m---------------------------------------------------------------------------\u001b[0m",
            "\u001b[0;31mAssertionError\u001b[0m                            Traceback (most recent call last)",
            "\u001b[0;32m<ipython-input-22-b7c3abfa3cdb>\u001b[0m in \u001b[0;36m<module>\u001b[0;34m()\u001b[0m\n\u001b[1;32m     11\u001b[0m \u001b[0mdifference_1\u001b[0m \u001b[0;34m=\u001b[0m \u001b[0mnp\u001b[0m\u001b[0;34m.\u001b[0m\u001b[0mlinalg\u001b[0m\u001b[0;34m.\u001b[0m\u001b[0mnorm\u001b[0m\u001b[0;34m(\u001b[0m\u001b[0mdists\u001b[0m \u001b[0;34m-\u001b[0m \u001b[0mno_loop_dists\u001b[0m\u001b[0;34m,\u001b[0m \u001b[0mord\u001b[0m\u001b[0;34m=\u001b[0m\u001b[0;34m'fro'\u001b[0m\u001b[0;34m)\u001b[0m\u001b[0;34m\u001b[0m\u001b[0;34m\u001b[0m\u001b[0m\n\u001b[1;32m     12\u001b[0m \u001b[0;34m\u001b[0m\u001b[0m\n\u001b[0;32m---> 13\u001b[0;31m \u001b[0massert_less_equal\u001b[0m\u001b[0;34m(\u001b[0m\u001b[0mdifference\u001b[0m\u001b[0;34m,\u001b[0m \u001b[0;36m0.001\u001b[0m\u001b[0;34m,\u001b[0m \u001b[0;34m\"Two loops and one loop distance varies\"\u001b[0m\u001b[0;34m)\u001b[0m\u001b[0;34m\u001b[0m\u001b[0;34m\u001b[0m\u001b[0m\n\u001b[0m\u001b[1;32m     14\u001b[0m \u001b[0massert_less_equal\u001b[0m\u001b[0;34m(\u001b[0m\u001b[0mdifference_1\u001b[0m\u001b[0;34m,\u001b[0m \u001b[0;36m0.001\u001b[0m\u001b[0;34m,\u001b[0m \u001b[0;34m\"Two loops and no loop distance varies\"\u001b[0m\u001b[0;34m)\u001b[0m\u001b[0;34m\u001b[0m\u001b[0;34m\u001b[0m\u001b[0m\n",
            "\u001b[0;32m/usr/lib/python3.6/unittest/case.py\u001b[0m in \u001b[0;36massertLessEqual\u001b[0;34m(self, a, b, msg)\u001b[0m\n\u001b[1;32m   1213\u001b[0m         \u001b[0;32mif\u001b[0m \u001b[0;32mnot\u001b[0m \u001b[0ma\u001b[0m \u001b[0;34m<=\u001b[0m \u001b[0mb\u001b[0m\u001b[0;34m:\u001b[0m\u001b[0;34m\u001b[0m\u001b[0;34m\u001b[0m\u001b[0m\n\u001b[1;32m   1214\u001b[0m             \u001b[0mstandardMsg\u001b[0m \u001b[0;34m=\u001b[0m \u001b[0;34m'%s not less than or equal to %s'\u001b[0m \u001b[0;34m%\u001b[0m \u001b[0;34m(\u001b[0m\u001b[0msafe_repr\u001b[0m\u001b[0;34m(\u001b[0m\u001b[0ma\u001b[0m\u001b[0;34m)\u001b[0m\u001b[0;34m,\u001b[0m \u001b[0msafe_repr\u001b[0m\u001b[0;34m(\u001b[0m\u001b[0mb\u001b[0m\u001b[0;34m)\u001b[0m\u001b[0;34m)\u001b[0m\u001b[0;34m\u001b[0m\u001b[0;34m\u001b[0m\u001b[0m\n\u001b[0;32m-> 1215\u001b[0;31m             \u001b[0mself\u001b[0m\u001b[0;34m.\u001b[0m\u001b[0mfail\u001b[0m\u001b[0;34m(\u001b[0m\u001b[0mself\u001b[0m\u001b[0;34m.\u001b[0m\u001b[0m_formatMessage\u001b[0m\u001b[0;34m(\u001b[0m\u001b[0mmsg\u001b[0m\u001b[0;34m,\u001b[0m \u001b[0mstandardMsg\u001b[0m\u001b[0;34m)\u001b[0m\u001b[0;34m)\u001b[0m\u001b[0;34m\u001b[0m\u001b[0;34m\u001b[0m\u001b[0m\n\u001b[0m\u001b[1;32m   1216\u001b[0m \u001b[0;34m\u001b[0m\u001b[0m\n\u001b[1;32m   1217\u001b[0m     \u001b[0;32mdef\u001b[0m \u001b[0massertGreater\u001b[0m\u001b[0;34m(\u001b[0m\u001b[0mself\u001b[0m\u001b[0;34m,\u001b[0m \u001b[0ma\u001b[0m\u001b[0;34m,\u001b[0m \u001b[0mb\u001b[0m\u001b[0;34m,\u001b[0m \u001b[0mmsg\u001b[0m\u001b[0;34m=\u001b[0m\u001b[0;32mNone\u001b[0m\u001b[0;34m)\u001b[0m\u001b[0;34m:\u001b[0m\u001b[0;34m\u001b[0m\u001b[0;34m\u001b[0m\u001b[0m\n",
            "\u001b[0;32m/usr/lib/python3.6/unittest/case.py\u001b[0m in \u001b[0;36mfail\u001b[0;34m(self, msg)\u001b[0m\n\u001b[1;32m    668\u001b[0m     \u001b[0;32mdef\u001b[0m \u001b[0mfail\u001b[0m\u001b[0;34m(\u001b[0m\u001b[0mself\u001b[0m\u001b[0;34m,\u001b[0m \u001b[0mmsg\u001b[0m\u001b[0;34m=\u001b[0m\u001b[0;32mNone\u001b[0m\u001b[0;34m)\u001b[0m\u001b[0;34m:\u001b[0m\u001b[0;34m\u001b[0m\u001b[0;34m\u001b[0m\u001b[0m\n\u001b[1;32m    669\u001b[0m         \u001b[0;34m\"\"\"Fail immediately, with the given message.\"\"\"\u001b[0m\u001b[0;34m\u001b[0m\u001b[0;34m\u001b[0m\u001b[0m\n\u001b[0;32m--> 670\u001b[0;31m         \u001b[0;32mraise\u001b[0m \u001b[0mself\u001b[0m\u001b[0;34m.\u001b[0m\u001b[0mfailureException\u001b[0m\u001b[0;34m(\u001b[0m\u001b[0mmsg\u001b[0m\u001b[0;34m)\u001b[0m\u001b[0;34m\u001b[0m\u001b[0;34m\u001b[0m\u001b[0m\n\u001b[0m\u001b[1;32m    671\u001b[0m \u001b[0;34m\u001b[0m\u001b[0m\n\u001b[1;32m    672\u001b[0m     \u001b[0;32mdef\u001b[0m \u001b[0massertFalse\u001b[0m\u001b[0;34m(\u001b[0m\u001b[0mself\u001b[0m\u001b[0;34m,\u001b[0m \u001b[0mexpr\u001b[0m\u001b[0;34m,\u001b[0m \u001b[0mmsg\u001b[0m\u001b[0;34m=\u001b[0m\u001b[0;32mNone\u001b[0m\u001b[0;34m)\u001b[0m\u001b[0;34m:\u001b[0m\u001b[0;34m\u001b[0m\u001b[0;34m\u001b[0m\u001b[0m\n",
            "\u001b[0;31mAssertionError\u001b[0m: 88.50231635386727 not less than or equal to 0.001 : Two loops and one loop distance varies"
          ]
        }
      ]
    },
    {
      "cell_type": "code",
      "metadata": {
        "deletable": false,
        "nbgrader": {
          "checksum": "d0818833671408129430944090dad13b",
          "grade": true,
          "grade_id": "time_tests",
          "locked": true,
          "points": 5,
          "solution": false
        },
        "id": "OcdjaqbqX5Wx",
        "colab_type": "code",
        "colab": {}
      },
      "source": [
        "from nose.tools import assert_less_equal\n",
        "import time\n",
        "\n",
        "feat=[0,1]\n",
        "knn=KNearestNeighbor(3)\n",
        "knn.train(Xtrain[:,feat],Ytrain)\n",
        "\n",
        "start = time.time()\n",
        "knn.compute_distances_two_loops(Xtest[:,feat])\n",
        "end = time.time()\n",
        "two_loops = (end - start)\n",
        "print(\"Two loops took : \",(end - start))\n",
        "\n",
        "start = time.time()\n",
        "one_loop = knn.compute_distances_one_loop(Xtest[:,feat])\n",
        "end = time.time()\n",
        "one_loop = (end - start)\n",
        "print(\"One loops took : \",(end - start))\n",
        "\n",
        "start = time.time()\n",
        "no_loop = knn.compute_distances_no_loops(Xtest[:,feat])\n",
        "end = time.time()\n",
        "no_loop = (end - start)\n",
        "print(\"No loops took  : \",(end - start))\n",
        "\n",
        "assert_less_equal(one_loop, two_loops/10.0)\n",
        "assert_less_equal(no_loop, one_loop)"
      ],
      "execution_count": 0,
      "outputs": []
    },
    {
      "cell_type": "markdown",
      "metadata": {
        "id": "qU0d5EJhX5W2",
        "colab_type": "text"
      },
      "source": [
        "# Testing"
      ]
    },
    {
      "cell_type": "code",
      "metadata": {
        "id": "LR_JMiBIX5W3",
        "colab_type": "code",
        "colab": {}
      },
      "source": [
        "#Lets test it on the set of unseen examples...\n",
        "pclasses=knn.predict(Xtest[:,feat])"
      ],
      "execution_count": 0,
      "outputs": []
    },
    {
      "cell_type": "code",
      "metadata": {
        "scrolled": false,
        "id": "Bjj8OnwFX5W8",
        "colab_type": "code",
        "colab": {}
      },
      "source": [
        "print(pclasses)"
      ],
      "execution_count": 0,
      "outputs": []
    },
    {
      "cell_type": "markdown",
      "metadata": {
        "id": "dpsLXpLaX5XK",
        "colab_type": "text"
      },
      "source": [
        "Lets see how good we are doing...\n",
        "=================="
      ]
    },
    {
      "cell_type": "code",
      "metadata": {
        "scrolled": true,
        "id": "Ct4u7JbVX5XL",
        "colab_type": "code",
        "colab": {}
      },
      "source": [
        "#Lets see how good we are doing, by finding the accuracy on the test set..\n",
        "print(np.sum(pclasses==Ytest))\n",
        "print(\"Accuracy = \", np.sum(pclasses==Ytest)/float(Ytest.shape[0]))"
      ],
      "execution_count": 0,
      "outputs": []
    },
    {
      "cell_type": "code",
      "metadata": {
        "deletable": false,
        "nbgrader": {
          "checksum": "e3441b6f30ada807d9770e6ff2e4facd",
          "grade": true,
          "grade_id": "acc_tests",
          "locked": true,
          "points": 2,
          "solution": false
        },
        "id": "Gev6vs7lX5XR",
        "colab_type": "code",
        "colab": {}
      },
      "source": [
        "from nose.tools import assert_greater_equal\n",
        "\n",
        "eat=[0,1]\n",
        "knn=KNearestNeighbor(3)\n",
        "knn.train(Xtrain[:,feat],Ytrain)\n",
        "pclasses=knn.predict(Xtest[:,feat])\n",
        "acc = np.sum(pclasses==Ytest)/float(Ytest.shape[0])\n",
        "\n",
        "assert_greater_equal(acc, 0.64)"
      ],
      "execution_count": 0,
      "outputs": []
    },
    {
      "cell_type": "code",
      "metadata": {
        "scrolled": true,
        "id": "SnAMj8gZX5XU",
        "colab_type": "code",
        "colab": {}
      },
      "source": [
        "#Lets plot the decision surface\n",
        "#%debug\n",
        "print(\" Plotting the Decision Surface of Training Set... \")\n",
        "t.plot_decision_regions(Xtrain[:,feat],Ytrain,clf=knn, res=0.02, cycle_marker=True, legend=1)"
      ],
      "execution_count": 0,
      "outputs": []
    },
    {
      "cell_type": "code",
      "metadata": {
        "scrolled": true,
        "id": "AYinJJKPX5XY",
        "colab_type": "code",
        "colab": {}
      },
      "source": [
        "print(\" Plotting the Decision Surface of Test Set... \")\n",
        "t.plot_decision_regions(Xtest[:,feat],Ytest,clf=knn, res=0.02, cycle_marker=True, legend=1)"
      ],
      "execution_count": 0,
      "outputs": []
    },
    {
      "cell_type": "markdown",
      "metadata": {
        "id": "rzTShErpX5Xc",
        "colab_type": "text"
      },
      "source": [
        "# Feature Scaling (or Normalization)\n",
        "\n",
        "Since we are using Euclidean distance to find the nearest neighbours, which is (as we have seen in the lectures) is heavily influenced by differently scaled features (that features having different scales and ranges). So to make best of K Nearest Neigbhour classifier we will be needed to first scale each feature dimension. Now lets go and write code for the feature scaling in KNearestNeighbour..."
      ]
    },
    {
      "cell_type": "code",
      "metadata": {
        "id": "EJ9H9hlsX5Xe",
        "colab_type": "code",
        "colab": {}
      },
      "source": [
        "# Lets train a KNN Classifier on Normalized Petal Length and Width\n",
        "feat=[0,1]\n",
        "knn=KNearestNeighbor(3,scalefeatures=True) # train a 3-nearest neighbour classifier...\n",
        "\n",
        "knn.train(Xtrain[:,feat],Ytrain)\n",
        "#Lets test it on the set of unseen examples...\n",
        "pclasses=knn.predict(Xtest[:,feat])\n",
        "\n",
        "print(np.sum(pclasses==Ytest))\n",
        "print(\"Accuracy = \", np.sum(pclasses==Ytest)/float(Ytest.shape[0]))"
      ],
      "execution_count": 0,
      "outputs": []
    },
    {
      "cell_type": "code",
      "metadata": {
        "id": "k0hXPHnxX5Xi",
        "colab_type": "code",
        "colab": {}
      },
      "source": [
        "print(\" Plotting the Decision Surface of Test Set... \")\n",
        "t.plot_decision_regions(Xtest[:,feat],Ytest,clf=knn, res=0.02, cycle_marker=True, legend=1)"
      ],
      "execution_count": 0,
      "outputs": []
    },
    {
      "cell_type": "markdown",
      "metadata": {
        "id": "6DdhoGiEX5Xl",
        "colab_type": "text"
      },
      "source": [
        "# Comment on the effect of feature scaling and normalization. \n",
        "\n",
        "What is the difference between the results of normalized features and non-normalized features? Why we are seeing the improvement (or decrease) in the accuracy?"
      ]
    },
    {
      "cell_type": "markdown",
      "metadata": {
        "id": "M-isCam-X5Xm",
        "colab_type": "text"
      },
      "source": [
        "# Lets Train on all four features...."
      ]
    },
    {
      "cell_type": "code",
      "metadata": {
        "scrolled": true,
        "id": "AtfLyafuX5Xn",
        "colab_type": "code",
        "colab": {}
      },
      "source": [
        "#Lets Train on all four features....\n",
        "\n",
        "# Lets train a Decision Tree Classifier on Petal Length and Width\n",
        "feat=[0, 1, 2, 3]\n",
        "knn=KNearestNeighbor(3)#\n",
        "knn.train(Xtrain[:,feat],Ytrain)\n",
        "pclasses=knn.predict(Xtest[:,feat])\n",
        "#Lets see how good we are doing, by finding the accuracy on the test set..\n",
        "print(np.sum(pclasses==Ytest))\n",
        "print(\"Accuracy = \", np.sum(pclasses==Ytest)/float(Ytest.shape[0]))"
      ],
      "execution_count": 0,
      "outputs": []
    },
    {
      "cell_type": "code",
      "metadata": {
        "deletable": false,
        "nbgrader": {
          "checksum": "8709cf4d5940a2b0ebeb13e2eb0c4508",
          "grade": true,
          "grade_id": "acc_all_tests",
          "locked": true,
          "points": 2,
          "solution": false
        },
        "id": "FBMqmOA_X5Xr",
        "colab_type": "code",
        "colab": {}
      },
      "source": [
        "from nose.tools import assert_greater_equal\n",
        "\n",
        "feat=[0, 1, 2, 3]\n",
        "knn=KNearestNeighbor(3)\n",
        "knn.train(Xtrain[:,feat],Ytrain)\n",
        "pclasses=knn.predict(Xtest[:,feat])\n",
        "acc = np.sum(pclasses==Ytest)/float(Ytest.shape[0])\n",
        "\n",
        "assert_greater_equal(acc, 0.90)"
      ],
      "execution_count": 0,
      "outputs": []
    },
    {
      "cell_type": "markdown",
      "metadata": {
        "id": "oYgEnf-5X5Xx",
        "colab_type": "text"
      },
      "source": [
        "What can you conclude ?\n",
        "====================\n",
        "Using more features means giving more information to our classifier which results in better accuracy. Reducing a single feature means reducing a whole dimension meaning neglecting a whole dimension of maybe useful data.\n",
        "\n"
      ]
    },
    {
      "cell_type": "markdown",
      "metadata": {
        "id": "N0y8smOoX5Xz",
        "colab_type": "text"
      },
      "source": [
        "# Cross-Validation\n",
        "\n",
        "Until now we have been splitting the dataset into a training and test set rather randomly and were reporting a rather artifical performance. Now we are going to test our system exhaustively by making use of k-fold [cross validation](http://en.wikipedia.org/wiki/Cross-validation_%28statistics%29). \n",
        "\n",
        "Now go and tune your hyper-parameters (K in this case) to opitmize the performance for only first two parameters."
      ]
    },
    {
      "cell_type": "code",
      "metadata": {
        "id": "PJ4-mlxhX5X0",
        "colab_type": "code",
        "colab": {}
      },
      "source": [
        "import time"
      ],
      "execution_count": 0,
      "outputs": []
    },
    {
      "cell_type": "code",
      "metadata": {
        "deletable": false,
        "nbgrader": {
          "checksum": "112478757f94c156450112bf1d5695a6",
          "grade": false,
          "grade_id": "kfold",
          "locked": false,
          "solution": true
        },
        "id": "04zYWnYSX5X6",
        "colab_type": "code",
        "colab": {}
      },
      "source": [
        "# Now lets cross validate for best paramters, and test the result...\n",
        "# We will be training four different models on four different partitions of data set and \n",
        "# then will be reporting the mean accuracy of the four classifiers.\n",
        "stime=time.time()\n",
        "\n",
        "\n",
        "nfolds=4 # lets use four folds..\n",
        "folds=t.generate_folds(X,Y,nfolds)\n",
        "features=[0,1] # features to use for our system\n",
        "#now lets train and test on these folds...\n",
        "\n",
        "#Lets perform the grid search...\n",
        "ks=np.arange(1,20,2) # search the k in the range one to 20...\n",
        "foldacc=[] # store the mean accuracy of every fold in this list\n",
        "bestMeanAccuracy = 0.0 # store the best mean accuracy across folds in this\n",
        "bestk = 0 # store the value of best k in this\n",
        "\n",
        "# YOUR CODE START HERE\n",
        "\n",
        "\n",
        "# YOUR CODE END HERE\n",
        "\n",
        "print(\"\\n\\nBest value for K = {} which gives mean accuracy = {}\".format(bestk,bestMeanAccuracy))\n",
        "etime=time.time()\n",
        "\n",
        "print('\\nTotal Time Taken ={}'.format(etime-stime))"
      ],
      "execution_count": 0,
      "outputs": []
    },
    {
      "cell_type": "code",
      "metadata": {
        "id": "0lxTBjXcX5X_",
        "colab_type": "code",
        "colab": {}
      },
      "source": [
        "#Lets plot the accuracy w.r.t K\n",
        "plt.plot(ks,foldacc)\n",
        "plt.xlabel('K Neigbhours (Value of K\\'s)')\n",
        "plt.ylabel('Accuracy')\n",
        "plt.title('Cross Validation Accuracy for different Values of K')"
      ],
      "execution_count": 0,
      "outputs": []
    },
    {
      "cell_type": "markdown",
      "metadata": {
        "id": "YyVf2FlqX5YI",
        "colab_type": "text"
      },
      "source": [
        "# Lets retrain the classifier with best-k and see its accuracy using only first two features..."
      ]
    },
    {
      "cell_type": "code",
      "metadata": {
        "id": "kjgRZ29BX5YL",
        "colab_type": "code",
        "colab": {}
      },
      "source": [
        "print(bestk)"
      ],
      "execution_count": 0,
      "outputs": []
    },
    {
      "cell_type": "code",
      "metadata": {
        "id": "u1Bek0j0X5YQ",
        "colab_type": "code",
        "colab": {}
      },
      "source": [
        "feat=[0,1]\n",
        "knn=KNearestNeighbor(bestk,scalefeatures=True) # train a kbest-nearest neighbour classifier...\n",
        "knn.train(Xtrain[:,feat],Ytrain)\n",
        "\n",
        "#Lets test it on the set of unseen examples...\n",
        "pclasses=knn.predict(Xtest[:,feat])\n",
        "#Lets see how good we are doing, by finding the accuracy on the test set..\n",
        "print(np.sum(pclasses==Ytest))\n",
        "print(\"KNN Accuracy (for best K={}) ={} \".format(bestk,np.sum(pclasses==Ytest)/float(Ytest.shape[0])))"
      ],
      "execution_count": 0,
      "outputs": []
    },
    {
      "cell_type": "code",
      "metadata": {
        "id": "hUG8Gm4-X5YV",
        "colab_type": "code",
        "colab": {}
      },
      "source": [
        "print(\" Plotting the Decision Surface of Test Set... \")\n",
        "t.plot_decision_regions(Xtest[:,feat],Ytest,clf=knn, res=0.02, cycle_marker=True, legend=1)"
      ],
      "execution_count": 0,
      "outputs": []
    },
    {
      "cell_type": "markdown",
      "metadata": {
        "id": "k8Y3sicJX5Ya",
        "colab_type": "text"
      },
      "source": [
        "### Note the improvement of properly configured classifier w.r.t. to the classifier trained using only 3 Neigbours\n",
        "\n",
        "In this case the dataset is small so no improvement is shown by using bestk versus k=3 but if the dataset had been large, surely bestk would have given better results."
      ]
    },
    {
      "cell_type": "markdown",
      "metadata": {
        "id": "2aAgo8zWX5Yc",
        "colab_type": "text"
      },
      "source": [
        "This is the true representative accuracy measure of our system. Since, we are removing the selection bias and hence can be much more confidently use the score as a reflection of our system's performance."
      ]
    }
  ]
}