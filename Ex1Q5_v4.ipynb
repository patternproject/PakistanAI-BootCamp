{
  "nbformat": 4,
  "nbformat_minor": 0,
  "metadata": {
    "colab": {
      "name": "Ex1Q5-v1.ipynb",
      "provenance": [],
      "collapsed_sections": [],
      "authorship_tag": "ABX9TyPCor+I/zZFZKO48lx6ZJ38",
      "include_colab_link": true
    },
    "kernelspec": {
      "name": "python3",
      "display_name": "Python 3"
    }
  },
  "cells": [
    {
      "cell_type": "markdown",
      "metadata": {
        "id": "view-in-github",
        "colab_type": "text"
      },
      "source": [
        "<a href=\"https://colab.research.google.com/github/patternproject/p.PakistanAI-BootCamp/blob/Week-1/Ex1Q5_v4.ipynb\" target=\"_parent\"><img src=\"https://colab.research.google.com/assets/colab-badge.svg\" alt=\"Open In Colab\"/></a>"
      ]
    },
    {
      "cell_type": "markdown",
      "metadata": {
        "id": "KvvZs1476eZ3",
        "colab_type": "text"
      },
      "source": [
        "Coding Challenge # 1.1\n",
        "\n",
        "Q5 - v4"
      ]
    },
    {
      "cell_type": "code",
      "metadata": {
        "id": "xTUu5won6aai",
        "colab_type": "code",
        "colab": {}
      },
      "source": [
        "# E. Given two lists sorted in increasing order, create and return a merged\n",
        "# list of all the elements in sorted order. You may modify the passed in lists.\n",
        "# Ideally, the solution should work in \"linear\" time, making a single\n",
        "# pass of both lists.\n",
        "\n",
        "#def linear_merge(list1, list2):\n",
        "  # +++your code here+++\n",
        "#  return"
      ],
      "execution_count": 0,
      "outputs": []
    },
    {
      "cell_type": "code",
      "metadata": {
        "id": "AsufFmHv6xgH",
        "colab_type": "code",
        "colab": {}
      },
      "source": [
        "def linear_merge(l1,l2):\n",
        "\n",
        "  # merge the two lists\n",
        "  # using + operator to concat \n",
        "  l_merged = l1 + l2 \n",
        "  print(l_merged)\n",
        "\n",
        "  # sort the merged list\n",
        "  #print(\"\\n\")\n",
        "  #print(sorted(l_merged))\n",
        "\n",
        "  print(\"returning now\")\n",
        "  return(sorted(l_merged))\n",
        "  #return(l_merged.sort())"
      ],
      "execution_count": 0,
      "outputs": []
    },
    {
      "cell_type": "code",
      "metadata": {
        "id": "_M1981F57Chd",
        "colab_type": "code",
        "colab": {}
      },
      "source": [
        "l_temp1 = [2,4]\n",
        "l_temp2 = [1,2]\n",
        "l_temp3 = [3,3,3]\n"
      ],
      "execution_count": 0,
      "outputs": []
    },
    {
      "cell_type": "code",
      "metadata": {
        "id": "nvAAiNEx7L9q",
        "colab_type": "code",
        "outputId": "842eedcf-dbf2-4a8c-c592-df553255708e",
        "colab": {
          "base_uri": "https://localhost:8080/",
          "height": 105
        }
      },
      "source": [
        "l_result = linear_merge(l_temp1, l_temp2) "
      ],
      "execution_count": 0,
      "outputs": [
        {
          "output_type": "stream",
          "text": [
            "[2, 4, 1, 2]\n",
            "\n",
            "\n",
            "[1, 2, 2, 4]\n",
            "returning now\n"
          ],
          "name": "stdout"
        }
      ]
    },
    {
      "cell_type": "code",
      "metadata": {
        "id": "jFsAM8Ni7Ne6",
        "colab_type": "code",
        "outputId": "e3a25584-08e9-49fe-83af-07d8478fc8fc",
        "colab": {
          "base_uri": "https://localhost:8080/",
          "height": 34
        }
      },
      "source": [
        "print(l_result)"
      ],
      "execution_count": 0,
      "outputs": [
        {
          "output_type": "stream",
          "text": [
            "[1, 2, 2, 4]\n"
          ],
          "name": "stdout"
        }
      ]
    },
    {
      "cell_type": "code",
      "metadata": {
        "id": "I8eLgz4OFEzI",
        "colab_type": "code",
        "outputId": "c8e718b7-41da-462a-d567-6dc96594c04d",
        "colab": {
          "base_uri": "https://localhost:8080/",
          "height": 52
        }
      },
      "source": [
        "l_result2 = linear_merge(l_temp1, l_temp3) "
      ],
      "execution_count": 0,
      "outputs": [
        {
          "output_type": "stream",
          "text": [
            "[2, 4, 3, 3, 3]\n",
            "returning now\n"
          ],
          "name": "stdout"
        }
      ]
    },
    {
      "cell_type": "code",
      "metadata": {
        "id": "q-oamwY7HHRr",
        "colab_type": "code",
        "outputId": "2460e92e-f8e3-450d-92f0-69485603427a",
        "colab": {
          "base_uri": "https://localhost:8080/",
          "height": 34
        }
      },
      "source": [
        "print(l_result2)"
      ],
      "execution_count": 0,
      "outputs": [
        {
          "output_type": "stream",
          "text": [
            "[2, 3, 3, 3, 4]\n"
          ],
          "name": "stdout"
        }
      ]
    },
    {
      "cell_type": "code",
      "metadata": {
        "id": "sLFmqXhSHIqm",
        "colab_type": "code",
        "colab": {}
      },
      "source": [
        ""
      ],
      "execution_count": 0,
      "outputs": []
    }
  ]
}