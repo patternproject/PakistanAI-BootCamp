{
  "nbformat": 4,
  "nbformat_minor": 0,
  "metadata": {
    "kernelspec": {
      "display_name": "Python 3",
      "language": "python",
      "name": "python3"
    },
    "language_info": {
      "codemirror_mode": {
        "name": "ipython",
        "version": 3
      },
      "file_extension": ".py",
      "mimetype": "text/x-python",
      "name": "python",
      "nbconvert_exporter": "python",
      "pygments_lexer": "ipython3",
      "version": "3.7.4"
    },
    "colab": {
      "name": "Coding Challenge # 3.2 - Hacking Strings.ipynb",
      "provenance": [],
      "include_colab_link": true
    }
  },
  "cells": [
    {
      "cell_type": "markdown",
      "metadata": {
        "id": "view-in-github",
        "colab_type": "text"
      },
      "source": [
        "<a href=\"https://colab.research.google.com/github/patternproject/PakistanAI-BootCamp/blob/Week-1/Coding_Challenge_3_2_Hacking_Strings.ipynb\" target=\"_parent\"><img src=\"https://colab.research.google.com/assets/colab-badge.svg\" alt=\"Open In Colab\"/></a>"
      ]
    },
    {
      "cell_type": "code",
      "metadata": {
        "id": "gS1GYGnZ-Eu2",
        "colab_type": "code",
        "colab": {}
      },
      "source": [
        "# In[1]:\n",
        "# Additional basic string exercises\n",
        "# D. verbing\n",
        "# Given a string, if its length is at least 3,\n",
        "# add 'ing' to its end.\n",
        "# Unless it already ends in 'ing', in which case\n",
        "# add 'ly' instead.\n",
        "# If the string length is less than 3, leave it unchanged.\n",
        "# Return the resulting string.\n",
        "def verbing(s):\n",
        "  # +++your code here+++\n",
        "  return\n",
        "\n"
      ],
      "execution_count": 0,
      "outputs": []
    },
    {
      "cell_type": "code",
      "metadata": {
        "id": "MqmEo_rD-Eu6",
        "colab_type": "code",
        "colab": {}
      },
      "source": [
        "# E. not_bad\n",
        "# Given a string, find the first appearance of the\n",
        "# substring 'not' and 'bad'. If the 'bad' follows\n",
        "# the 'not', replace the whole 'not'...'bad' substring\n",
        "# with 'good'.\n",
        "# Return the resulting string.\n",
        "# So 'This dinner is not that bad!' yields:\n",
        "# This dinner is good!\n",
        "def not_bad(s):\n",
        "  # +++your code here+++\n",
        "  return\n",
        "\n"
      ],
      "execution_count": 0,
      "outputs": []
    },
    {
      "cell_type": "code",
      "metadata": {
        "id": "FWowwkjI-Eu8",
        "colab_type": "code",
        "colab": {}
      },
      "source": [
        "# F. front_back\n",
        "# Consider dividing a string into two halves.\n",
        "# If the length is even, the front and back halves are the same length.\n",
        "# If the length is odd, we'll say that the extra char goes in the front half.\n",
        "# e.g. 'abcde', the front half is 'abc', the back half 'de'.\n",
        "# Given 2 strings, a and b, return a string of the form\n",
        "#  a-front + b-front + a-back + b-back\n",
        "def front_back(a, b):\n",
        "  # +++your code here+++\n",
        "  return\n",
        "\n"
      ],
      "execution_count": 0,
      "outputs": []
    },
    {
      "cell_type": "code",
      "metadata": {
        "id": "_FhFNl9g-EvA",
        "colab_type": "code",
        "colab": {}
      },
      "source": [
        "# Simple provided test() function used in main() to print\n",
        "# what each function returns vs. what it's supposed to return.\n",
        "def test(got, expected):\n",
        "  if got == expected:\n",
        "    prefix = ' OK '\n",
        "  else:\n",
        "    prefix = '  X '\n",
        "  print '%s got: %s expected: %s' % (prefix, repr(got), repr(expected))\n",
        "\n"
      ],
      "execution_count": 0,
      "outputs": []
    },
    {
      "cell_type": "code",
      "metadata": {
        "id": "FcXkrm24-EvC",
        "colab_type": "code",
        "colab": {}
      },
      "source": [
        "# main() calls the above functions with interesting inputs,\n",
        "# using the above test() to check if the result is correct or not.\n",
        "print 'verbing'\n",
        "test(verbing('hail'), 'hailing')\n",
        "test(verbing('swiming'), 'swimingly')\n",
        "test(verbing('do'), 'do')\n",
        "\n",
        "print\n",
        "print 'not_bad'\n",
        "test(not_bad('This movie is not so bad'), 'This movie is good')\n",
        "test(not_bad('This dinner is not that bad!'), 'This dinner is good!')\n",
        "test(not_bad('This tea is not hot'), 'This tea is not hot')\n",
        "test(not_bad(\"It's bad yet not\"), \"It's bad yet not\")\n",
        "\n",
        "print\n",
        "print 'front_back'\n",
        "test(front_back('abcd', 'xy'), 'abxcdy')\n",
        "test(front_back('abcde', 'xyz'), 'abcxydez')\n",
        "test(front_back('Kitten', 'Donut'), 'KitDontenut')"
      ],
      "execution_count": 0,
      "outputs": []
    }
  ]
}