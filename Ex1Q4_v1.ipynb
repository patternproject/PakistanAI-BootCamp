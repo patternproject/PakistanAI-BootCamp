{
  "nbformat": 4,
  "nbformat_minor": 0,
  "metadata": {
    "colab": {
      "name": "Ex1Q4-v1.ipynb",
      "provenance": [],
      "authorship_tag": "ABX9TyP/OZ9WfuT+9u7tqYANqK+j",
      "include_colab_link": true
    },
    "kernelspec": {
      "name": "python3",
      "display_name": "Python 3"
    }
  },
  "cells": [
    {
      "cell_type": "markdown",
      "metadata": {
        "id": "view-in-github",
        "colab_type": "text"
      },
      "source": [
        "<a href=\"https://colab.research.google.com/github/patternproject/PakistanAI-BootCamp/blob/master/Ex1Q4_v1.ipynb\" target=\"_parent\"><img src=\"https://colab.research.google.com/assets/colab-badge.svg\" alt=\"Open In Colab\"/></a>"
      ]
    },
    {
      "cell_type": "markdown",
      "metadata": {
        "id": "H9H0F4_eSbru",
        "colab_type": "text"
      },
      "source": [
        "Coding Challenge # 1.1\n",
        "\n",
        "Q4"
      ]
    },
    {
      "cell_type": "code",
      "metadata": {
        "id": "zPe5BDyNVAgy",
        "colab_type": "code",
        "colab": {}
      },
      "source": [
        "# In[1]:\n",
        "# D. Given a list of numbers, return a list where\n",
        "# all adjacent == elements have been reduced to a single element,\n",
        "# so [1, 2, 2, 3] returns [1, 2, 3]. You may create a new list or\n",
        "# modify the passed in list.\n",
        "\n",
        "\n",
        "#def remove_adjacent(nums):\n",
        "  # +++your code here+++\n",
        "#  return"
      ],
      "execution_count": 0,
      "outputs": []
    },
    {
      "cell_type": "code",
      "metadata": {
        "id": "3LLuxEiEVkDS",
        "colab_type": "code",
        "colab": {}
      },
      "source": [
        "def remove_adjacent(l_nums):\n",
        "  # making a copy\n",
        "  l_result = []\n",
        "\n",
        "  # getting length of list of numbers \n",
        "  lst = len(l_nums)\n",
        "  \n",
        "  for i in range(0,lst-1):\n",
        "    print(i)\n",
        "    print(\"iteration\")\n",
        "    print(l_nums)\n",
        "    print(\"\\n\")\n",
        "    if(l_nums[i] == l_nums[i+1]):\n",
        "      print(l_nums[i])\n",
        "      print(l_nums[i+1])\n",
        "      #l_nums.pop(i)\n",
        "      l_result.append(l_nums[i])\n",
        "    print(l_result)"
      ],
      "execution_count": 0,
      "outputs": []
    },
    {
      "cell_type": "code",
      "metadata": {
        "id": "HKPtTQ07XEYG",
        "colab_type": "code",
        "colab": {}
      },
      "source": [
        "test_1 = [1,2]"
      ],
      "execution_count": 0,
      "outputs": []
    },
    {
      "cell_type": "code",
      "metadata": {
        "id": "DOnUI9bQXKAB",
        "colab_type": "code",
        "colab": {
          "base_uri": "https://localhost:8080/",
          "height": 122
        },
        "outputId": "f5ee6a21-634b-4d8d-ad5b-3648ef92cb8d"
      },
      "source": [
        "remove_adjacent(test_1)"
      ],
      "execution_count": 14,
      "outputs": [
        {
          "output_type": "stream",
          "text": [
            "0\n",
            "iteration\n",
            "[1, 2]\n",
            "\n",
            "\n",
            "[]\n"
          ],
          "name": "stdout"
        }
      ]
    },
    {
      "cell_type": "code",
      "metadata": {
        "id": "3ioVsw34XMD8",
        "colab_type": "code",
        "colab": {}
      },
      "source": [
        "test_2 = [1,1,2]"
      ],
      "execution_count": 0,
      "outputs": []
    },
    {
      "cell_type": "code",
      "metadata": {
        "id": "NxqocTurXdsz",
        "colab_type": "code",
        "colab": {
          "base_uri": "https://localhost:8080/",
          "height": 519
        },
        "outputId": "6221027f-51ea-4e78-a64b-982cb9164773"
      },
      "source": [
        "remove_adjacent(test_2)"
      ],
      "execution_count": 10,
      "outputs": [
        {
          "output_type": "stream",
          "text": [
            "0\n",
            "iteration\n",
            "[1, 1, 2]\n",
            "\n",
            "\n",
            "1\n",
            "1\n",
            "[1, 2]\n",
            "1\n",
            "iteration\n",
            "[1, 2]\n",
            "\n",
            "\n"
          ],
          "name": "stdout"
        },
        {
          "output_type": "error",
          "ename": "IndexError",
          "evalue": "ignored",
          "traceback": [
            "\u001b[0;31m---------------------------------------------------------------------------\u001b[0m",
            "\u001b[0;31mIndexError\u001b[0m                                Traceback (most recent call last)",
            "\u001b[0;32m<ipython-input-10-8540bc4f02e5>\u001b[0m in \u001b[0;36m<module>\u001b[0;34m()\u001b[0m\n\u001b[0;32m----> 1\u001b[0;31m \u001b[0mremove_adjacent\u001b[0m\u001b[0;34m(\u001b[0m\u001b[0mtest_2\u001b[0m\u001b[0;34m)\u001b[0m\u001b[0;34m\u001b[0m\u001b[0;34m\u001b[0m\u001b[0m\n\u001b[0m",
            "\u001b[0;32m<ipython-input-6-060d66f28b54>\u001b[0m in \u001b[0;36mremove_adjacent\u001b[0;34m(l_nums)\u001b[0m\n\u001b[1;32m      8\u001b[0m     \u001b[0mprint\u001b[0m\u001b[0;34m(\u001b[0m\u001b[0ml_nums\u001b[0m\u001b[0;34m)\u001b[0m\u001b[0;34m\u001b[0m\u001b[0;34m\u001b[0m\u001b[0m\n\u001b[1;32m      9\u001b[0m     \u001b[0mprint\u001b[0m\u001b[0;34m(\u001b[0m\u001b[0;34m\"\\n\"\u001b[0m\u001b[0;34m)\u001b[0m\u001b[0;34m\u001b[0m\u001b[0;34m\u001b[0m\u001b[0m\n\u001b[0;32m---> 10\u001b[0;31m     \u001b[0;32mif\u001b[0m\u001b[0;34m(\u001b[0m\u001b[0ml_nums\u001b[0m\u001b[0;34m[\u001b[0m\u001b[0mi\u001b[0m\u001b[0;34m]\u001b[0m \u001b[0;34m==\u001b[0m \u001b[0ml_nums\u001b[0m\u001b[0;34m[\u001b[0m\u001b[0mi\u001b[0m\u001b[0;34m+\u001b[0m\u001b[0;36m1\u001b[0m\u001b[0;34m]\u001b[0m\u001b[0;34m)\u001b[0m\u001b[0;34m:\u001b[0m\u001b[0;34m\u001b[0m\u001b[0;34m\u001b[0m\u001b[0m\n\u001b[0m\u001b[1;32m     11\u001b[0m       \u001b[0mprint\u001b[0m\u001b[0;34m(\u001b[0m\u001b[0ml_nums\u001b[0m\u001b[0;34m[\u001b[0m\u001b[0mi\u001b[0m\u001b[0;34m]\u001b[0m\u001b[0;34m)\u001b[0m\u001b[0;34m\u001b[0m\u001b[0;34m\u001b[0m\u001b[0m\n\u001b[1;32m     12\u001b[0m       \u001b[0mprint\u001b[0m\u001b[0;34m(\u001b[0m\u001b[0ml_nums\u001b[0m\u001b[0;34m[\u001b[0m\u001b[0mi\u001b[0m\u001b[0;34m+\u001b[0m\u001b[0;36m1\u001b[0m\u001b[0;34m]\u001b[0m\u001b[0;34m)\u001b[0m\u001b[0;34m\u001b[0m\u001b[0;34m\u001b[0m\u001b[0m\n",
            "\u001b[0;31mIndexError\u001b[0m: list index out of range"
          ]
        }
      ]
    },
    {
      "cell_type": "code",
      "metadata": {
        "id": "hMzRxLV7Xgzt",
        "colab_type": "code",
        "colab": {}
      },
      "source": [
        ""
      ],
      "execution_count": 0,
      "outputs": []
    }
  ]
}