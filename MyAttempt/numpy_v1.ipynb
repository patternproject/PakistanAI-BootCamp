{
  "nbformat": 4,
  "nbformat_minor": 0,
  "metadata": {
    "colab": {
      "name": "numpy - v1.ipynb",
      "provenance": [],
      "collapsed_sections": [],
      "authorship_tag": "ABX9TyOfVgFixswzvwXXkTgESPau",
      "include_colab_link": true
    },
    "kernelspec": {
      "name": "python3",
      "display_name": "Python 3"
    }
  },
  "cells": [
    {
      "cell_type": "markdown",
      "metadata": {
        "id": "view-in-github",
        "colab_type": "text"
      },
      "source": [
        "<a href=\"https://colab.research.google.com/github/patternproject/p.PakistanAI-BootCamp/blob/Week-3/MyAttempt/numpy_v1.ipynb\" target=\"_parent\"><img src=\"https://colab.research.google.com/assets/colab-badge.svg\" alt=\"Open In Colab\"/></a>"
      ]
    },
    {
      "cell_type": "markdown",
      "metadata": {
        "id": "nJqY7oey2wpx",
        "colab_type": "text"
      },
      "source": [
        "# Revision History\n",
        "\n",
        "*   v1: Learning Numpy\n",
        "*   V2: Loading IRIS dataset and playing with it\n",
        "*   V3: Continued on V2\n",
        "*   V4: Able to try the logic on single value of iris dataset\n",
        "*   V5: More experiments\n",
        "*   V6: able to solve it with numpy (do not know, about the one loop solution)\n",
        "*   V7: More experiments\n",
        "*   V8: More experiments using np.tile \n",
        "*   V9: Minor Changes\n",
        "*   V10: Minor Changes\n",
        "*   V11: Looks done with one loop"
      ]
    },
    {
      "cell_type": "code",
      "metadata": {
        "id": "5MLFNhJcybIJ",
        "colab_type": "code",
        "colab": {}
      },
      "source": [
        "import numpy as np\n",
        "import math\n",
        "import pandas as pd\n",
        "import tools as t # set of tools for plotting, data splitting, etc.."
      ],
      "execution_count": 0,
      "outputs": []
    },
    {
      "cell_type": "code",
      "metadata": {
        "id": "daLLPBMyyeLg",
        "colab_type": "code",
        "colab": {}
      },
      "source": [
        "p1 = np.array([1,2])\n",
        "p2 = np.array([3,4])"
      ],
      "execution_count": 0,
      "outputs": []
    },
    {
      "cell_type": "code",
      "metadata": {
        "id": "ysRnc2rAykUI",
        "colab_type": "code",
        "colab": {}
      },
      "source": [
        "distance = math.sqrt( ((p1[0]-p2[0])**2)+((p1[1]-p2[1])**2) )"
      ],
      "execution_count": 0,
      "outputs": []
    },
    {
      "cell_type": "code",
      "metadata": {
        "id": "Yy_Rx03Ey_s_",
        "colab_type": "code",
        "outputId": "28191cc1-1a93-48ff-b7bb-99e815c81484",
        "colab": {
          "base_uri": "https://localhost:8080/",
          "height": 34
        }
      },
      "source": [
        "print(distance)"
      ],
      "execution_count": 239,
      "outputs": [
        {
          "output_type": "stream",
          "text": [
            "2.8284271247461903\n"
          ],
          "name": "stdout"
        }
      ]
    },
    {
      "cell_type": "code",
      "metadata": {
        "id": "YwMhmH9NzFG1",
        "colab_type": "code",
        "outputId": "83035093-c9a6-4ba2-87e5-d03311126f68",
        "colab": {
          "base_uri": "https://localhost:8080/",
          "height": 34
        }
      },
      "source": [
        " # Calculating distance \n",
        "math.sqrt(math.pow(p1[0] - p2[0], 2) + math.pow(p1[1] - p2[1], 2) ) "
      ],
      "execution_count": 240,
      "outputs": [
        {
          "output_type": "execute_result",
          "data": {
            "text/plain": [
              "2.8284271247461903"
            ]
          },
          "metadata": {
            "tags": []
          },
          "execution_count": 240
        }
      ]
    },
    {
      "cell_type": "code",
      "metadata": {
        "id": "aRAiIdk4zrWJ",
        "colab_type": "code",
        "colab": {}
      },
      "source": [
        "def my_f(p1,p2):\n",
        "  return (math.sqrt(math.pow(p1 - p2,2)))"
      ],
      "execution_count": 0,
      "outputs": []
    },
    {
      "cell_type": "code",
      "metadata": {
        "id": "AhLokfPTz9YB",
        "colab_type": "code",
        "colab": {}
      },
      "source": [
        "#my_f(p1,p2)"
      ],
      "execution_count": 0,
      "outputs": []
    },
    {
      "cell_type": "code",
      "metadata": {
        "id": "yuWJPMR0z_EA",
        "colab_type": "code",
        "outputId": "ae5e32f5-dda2-4e39-b4be-b782de627f9a",
        "colab": {
          "base_uri": "https://localhost:8080/",
          "height": 34
        }
      },
      "source": [
        "p1-p2"
      ],
      "execution_count": 243,
      "outputs": [
        {
          "output_type": "execute_result",
          "data": {
            "text/plain": [
              "array([-2, -2])"
            ]
          },
          "metadata": {
            "tags": []
          },
          "execution_count": 243
        }
      ]
    },
    {
      "cell_type": "code",
      "metadata": {
        "id": "6g8WtX2K0IKb",
        "colab_type": "code",
        "colab": {}
      },
      "source": [
        "dist = np.linalg.norm(p1-p2)"
      ],
      "execution_count": 0,
      "outputs": []
    },
    {
      "cell_type": "code",
      "metadata": {
        "id": "9fdU-Soe1LpD",
        "colab_type": "code",
        "outputId": "a8ec248e-ebad-4227-e88e-9fb0b37ff832",
        "colab": {
          "base_uri": "https://localhost:8080/",
          "height": 34
        }
      },
      "source": [
        "print(dist)"
      ],
      "execution_count": 245,
      "outputs": [
        {
          "output_type": "stream",
          "text": [
            "2.8284271247461903\n"
          ],
          "name": "stdout"
        }
      ]
    },
    {
      "cell_type": "code",
      "metadata": {
        "id": "NkEb7GPw1QMK",
        "colab_type": "code",
        "colab": {}
      },
      "source": [
        "def setup(n):\n",
        "    a = np.random.rand(n, 3)\n",
        "    b = np.random.rand(n, 3)\n",
        "    out0 = np.array([a, b])\n",
        "    out1 = np.array([a.T, b.T])\n",
        "    return out0, out1"
      ],
      "execution_count": 0,
      "outputs": []
    },
    {
      "cell_type": "code",
      "metadata": {
        "id": "lg7R8PXu2EY0",
        "colab_type": "code",
        "colab": {}
      },
      "source": [
        "setup = setup"
      ],
      "execution_count": 0,
      "outputs": []
    },
    {
      "cell_type": "code",
      "metadata": {
        "id": "03fBVj8n2FtP",
        "colab_type": "code",
        "outputId": "10fd52b7-d42c-46ec-ae02-8a9f80565e08",
        "colab": {
          "base_uri": "https://localhost:8080/",
          "height": 34
        }
      },
      "source": [
        "setup"
      ],
      "execution_count": 248,
      "outputs": [
        {
          "output_type": "execute_result",
          "data": {
            "text/plain": [
              "<function __main__.setup>"
            ]
          },
          "metadata": {
            "tags": []
          },
          "execution_count": 248
        }
      ]
    },
    {
      "cell_type": "code",
      "metadata": {
        "id": "h2wGL1232Ggk",
        "colab_type": "code",
        "outputId": "5a9b45e4-e529-47b4-92eb-5b7866547546",
        "colab": {
          "base_uri": "https://localhost:8080/",
          "height": 34
        }
      },
      "source": [
        "setup"
      ],
      "execution_count": 249,
      "outputs": [
        {
          "output_type": "execute_result",
          "data": {
            "text/plain": [
              "<function __main__.setup>"
            ]
          },
          "metadata": {
            "tags": []
          },
          "execution_count": 249
        }
      ]
    },
    {
      "cell_type": "code",
      "metadata": {
        "id": "KjlnkmIr2TIn",
        "colab_type": "code",
        "outputId": "a225a1ef-ef04-4ee5-d51c-4d224982dec5",
        "colab": {
          "base_uri": "https://localhost:8080/",
          "height": 176
        }
      },
      "source": [
        "setup(1)"
      ],
      "execution_count": 250,
      "outputs": [
        {
          "output_type": "execute_result",
          "data": {
            "text/plain": [
              "(array([[[0.58792152, 0.72335909, 0.68269428]],\n",
              " \n",
              "        [[0.9170929 , 0.53605036, 0.64329976]]]), array([[[0.58792152],\n",
              "         [0.72335909],\n",
              "         [0.68269428]],\n",
              " \n",
              "        [[0.9170929 ],\n",
              "         [0.53605036],\n",
              "         [0.64329976]]]))"
            ]
          },
          "metadata": {
            "tags": []
          },
          "execution_count": 250
        }
      ]
    },
    {
      "cell_type": "markdown",
      "metadata": {
        "id": "Hps2kyIN2_kI",
        "colab_type": "text"
      },
      "source": [
        "SRC: https://stackoverflow.com/questions/1401712/how-can-the-euclidean-distance-be-calculated-with-numpy"
      ]
    },
    {
      "cell_type": "code",
      "metadata": {
        "id": "6uV0w6-v2VaH",
        "colab_type": "code",
        "colab": {}
      },
      "source": [
        "def linalg_norm(data):\n",
        "    a, b = data[0]\n",
        "    return numpy.linalg.norm(a - b, axis=1)\n",
        "\n",
        "\n",
        "def linalg_norm_T(data):\n",
        "    a, b = data[1]\n",
        "    return numpy.linalg.norm(a - b, axis=0)\n",
        "\n",
        "\n",
        "def sqrt_sum(data):\n",
        "    a, b = data[0]\n",
        "    return numpy.sqrt(numpy.sum((a - b) ** 2, axis=1))\n",
        "\n",
        "\n",
        "def sqrt_sum_T(data):\n",
        "    a, b = data[1]\n",
        "    return numpy.sqrt(numpy.sum((a - b) ** 2, axis=0))\n"
      ],
      "execution_count": 0,
      "outputs": []
    },
    {
      "cell_type": "code",
      "metadata": {
        "id": "R1rsAnpZ29zh",
        "colab_type": "code",
        "colab": {}
      },
      "source": [
        "#a"
      ],
      "execution_count": 0,
      "outputs": []
    },
    {
      "cell_type": "code",
      "metadata": {
        "id": "crj8c6CT3GRt",
        "colab_type": "code",
        "colab": {}
      },
      "source": [
        "a,b = setup(1)"
      ],
      "execution_count": 0,
      "outputs": []
    },
    {
      "cell_type": "code",
      "metadata": {
        "id": "gyMnmtEj3Llj",
        "colab_type": "code",
        "outputId": "830238a3-51a9-457e-836d-da5f8dd8fd04",
        "colab": {
          "base_uri": "https://localhost:8080/",
          "height": 70
        }
      },
      "source": [
        "a"
      ],
      "execution_count": 254,
      "outputs": [
        {
          "output_type": "execute_result",
          "data": {
            "text/plain": [
              "array([[[0.56640675, 0.9903965 , 0.34084118]],\n",
              "\n",
              "       [[0.92687983, 0.29603067, 0.04864387]]])"
            ]
          },
          "metadata": {
            "tags": []
          },
          "execution_count": 254
        }
      ]
    },
    {
      "cell_type": "code",
      "metadata": {
        "id": "--TAMMBl3Mgr",
        "colab_type": "code",
        "outputId": "50c0d568-0be7-4707-ddb8-d4e958c9f28a",
        "colab": {
          "base_uri": "https://localhost:8080/",
          "height": 141
        }
      },
      "source": [
        "b"
      ],
      "execution_count": 255,
      "outputs": [
        {
          "output_type": "execute_result",
          "data": {
            "text/plain": [
              "array([[[0.56640675],\n",
              "        [0.9903965 ],\n",
              "        [0.34084118]],\n",
              "\n",
              "       [[0.92687983],\n",
              "        [0.29603067],\n",
              "        [0.04864387]]])"
            ]
          },
          "metadata": {
            "tags": []
          },
          "execution_count": 255
        }
      ]
    },
    {
      "cell_type": "code",
      "metadata": {
        "id": "10fHiyiu3NWN",
        "colab_type": "code",
        "outputId": "6f00a509-dfa0-4e05-96bc-203d6dddaca4",
        "colab": {
          "base_uri": "https://localhost:8080/",
          "height": 34
        }
      },
      "source": [
        "a.shape, b.shape"
      ],
      "execution_count": 256,
      "outputs": [
        {
          "output_type": "execute_result",
          "data": {
            "text/plain": [
              "((2, 1, 3), (2, 3, 1))"
            ]
          },
          "metadata": {
            "tags": []
          },
          "execution_count": 256
        }
      ]
    },
    {
      "cell_type": "code",
      "metadata": {
        "id": "IQqfw2op3QSB",
        "colab_type": "code",
        "outputId": "b259a030-d365-4829-a57e-2eb06af5b958",
        "colab": {
          "base_uri": "https://localhost:8080/",
          "height": 34
        }
      },
      "source": [
        "p1"
      ],
      "execution_count": 257,
      "outputs": [
        {
          "output_type": "execute_result",
          "data": {
            "text/plain": [
              "array([1, 2])"
            ]
          },
          "metadata": {
            "tags": []
          },
          "execution_count": 257
        }
      ]
    },
    {
      "cell_type": "code",
      "metadata": {
        "id": "eSz9MwKA4JOq",
        "colab_type": "code",
        "outputId": "b4629bee-c9c1-46d0-8056-1758752c3b2a",
        "colab": {
          "base_uri": "https://localhost:8080/",
          "height": 34
        }
      },
      "source": [
        "p2"
      ],
      "execution_count": 258,
      "outputs": [
        {
          "output_type": "execute_result",
          "data": {
            "text/plain": [
              "array([3, 4])"
            ]
          },
          "metadata": {
            "tags": []
          },
          "execution_count": 258
        }
      ]
    },
    {
      "cell_type": "code",
      "metadata": {
        "id": "EKDAOi7J4KEB",
        "colab_type": "code",
        "outputId": "0e0021bd-fde5-4019-f12d-645f77860cdd",
        "colab": {
          "base_uri": "https://localhost:8080/",
          "height": 34
        }
      },
      "source": [
        "np.linalg.norm(p1-p2)"
      ],
      "execution_count": 259,
      "outputs": [
        {
          "output_type": "execute_result",
          "data": {
            "text/plain": [
              "2.8284271247461903"
            ]
          },
          "metadata": {
            "tags": []
          },
          "execution_count": 259
        }
      ]
    },
    {
      "cell_type": "markdown",
      "metadata": {
        "id": "aslxSvqbJV5D",
        "colab_type": "text"
      },
      "source": [
        "Trying to reduce the no of rows passed to KNN Class"
      ]
    },
    {
      "cell_type": "markdown",
      "metadata": {
        "id": "L5-LCrTGJbyS",
        "colab_type": "text"
      },
      "source": [
        "let's read the same data and see how to break it apart"
      ]
    },
    {
      "cell_type": "code",
      "metadata": {
        "id": "NDFrAfdN-7AT",
        "colab_type": "code",
        "outputId": "5f8612fe-1757-4aac-9918-3c4ac5f81678",
        "colab": {
          "base_uri": "https://localhost:8080/",
          "height": 176
        }
      },
      "source": [
        "data=pd.read_csv('./iris.data')\n",
        "data.columns=['SepalLength','SepalWidth','PetalLength','PetalWidth','Class']\n",
        "print(data.describe())"
      ],
      "execution_count": 260,
      "outputs": [
        {
          "output_type": "stream",
          "text": [
            "       SepalLength  SepalWidth  PetalLength  PetalWidth\n",
            "count   149.000000  149.000000   149.000000  149.000000\n",
            "mean      5.848322    3.051007     3.774497    1.205369\n",
            "std       0.828594    0.433499     1.759651    0.761292\n",
            "min       4.300000    2.000000     1.000000    0.100000\n",
            "25%       5.100000    2.800000     1.600000    0.300000\n",
            "50%       5.800000    3.000000     4.400000    1.300000\n",
            "75%       6.400000    3.300000     5.100000    1.800000\n",
            "max       7.900000    4.400000     6.900000    2.500000\n"
          ],
          "name": "stdout"
        }
      ]
    },
    {
      "cell_type": "code",
      "metadata": {
        "id": "PNkwuQ6FJoEI",
        "colab_type": "code",
        "colab": {}
      },
      "source": [
        "# Get your data in matrix\n",
        "X=np.asarray(data[['SepalLength','SepalWidth','PetalLength','PetalWidth']].dropna())"
      ],
      "execution_count": 0,
      "outputs": []
    },
    {
      "cell_type": "code",
      "metadata": {
        "id": "36lPKZvrJsur",
        "colab_type": "code",
        "outputId": "9fcc45ca-8056-492c-8007-986e1221a710",
        "colab": {
          "base_uri": "https://localhost:8080/",
          "height": 1000
        }
      },
      "source": [
        "print(X)"
      ],
      "execution_count": 262,
      "outputs": [
        {
          "output_type": "stream",
          "text": [
            "[[4.9 3.  1.4 0.2]\n",
            " [4.7 3.2 1.3 0.2]\n",
            " [4.6 3.1 1.5 0.2]\n",
            " [5.  3.6 1.4 0.2]\n",
            " [5.4 3.9 1.7 0.4]\n",
            " [4.6 3.4 1.4 0.3]\n",
            " [5.  3.4 1.5 0.2]\n",
            " [4.4 2.9 1.4 0.2]\n",
            " [4.9 3.1 1.5 0.1]\n",
            " [5.4 3.7 1.5 0.2]\n",
            " [4.8 3.4 1.6 0.2]\n",
            " [4.8 3.  1.4 0.1]\n",
            " [4.3 3.  1.1 0.1]\n",
            " [5.8 4.  1.2 0.2]\n",
            " [5.7 4.4 1.5 0.4]\n",
            " [5.4 3.9 1.3 0.4]\n",
            " [5.1 3.5 1.4 0.3]\n",
            " [5.7 3.8 1.7 0.3]\n",
            " [5.1 3.8 1.5 0.3]\n",
            " [5.4 3.4 1.7 0.2]\n",
            " [5.1 3.7 1.5 0.4]\n",
            " [4.6 3.6 1.  0.2]\n",
            " [5.1 3.3 1.7 0.5]\n",
            " [4.8 3.4 1.9 0.2]\n",
            " [5.  3.  1.6 0.2]\n",
            " [5.  3.4 1.6 0.4]\n",
            " [5.2 3.5 1.5 0.2]\n",
            " [5.2 3.4 1.4 0.2]\n",
            " [4.7 3.2 1.6 0.2]\n",
            " [4.8 3.1 1.6 0.2]\n",
            " [5.4 3.4 1.5 0.4]\n",
            " [5.2 4.1 1.5 0.1]\n",
            " [5.5 4.2 1.4 0.2]\n",
            " [4.9 3.1 1.5 0.1]\n",
            " [5.  3.2 1.2 0.2]\n",
            " [5.5 3.5 1.3 0.2]\n",
            " [4.9 3.1 1.5 0.1]\n",
            " [4.4 3.  1.3 0.2]\n",
            " [5.1 3.4 1.5 0.2]\n",
            " [5.  3.5 1.3 0.3]\n",
            " [4.5 2.3 1.3 0.3]\n",
            " [4.4 3.2 1.3 0.2]\n",
            " [5.  3.5 1.6 0.6]\n",
            " [5.1 3.8 1.9 0.4]\n",
            " [4.8 3.  1.4 0.3]\n",
            " [5.1 3.8 1.6 0.2]\n",
            " [4.6 3.2 1.4 0.2]\n",
            " [5.3 3.7 1.5 0.2]\n",
            " [5.  3.3 1.4 0.2]\n",
            " [7.  3.2 4.7 1.4]\n",
            " [6.4 3.2 4.5 1.5]\n",
            " [6.9 3.1 4.9 1.5]\n",
            " [5.5 2.3 4.  1.3]\n",
            " [6.5 2.8 4.6 1.5]\n",
            " [5.7 2.8 4.5 1.3]\n",
            " [6.3 3.3 4.7 1.6]\n",
            " [4.9 2.4 3.3 1. ]\n",
            " [6.6 2.9 4.6 1.3]\n",
            " [5.2 2.7 3.9 1.4]\n",
            " [5.  2.  3.5 1. ]\n",
            " [5.9 3.  4.2 1.5]\n",
            " [6.  2.2 4.  1. ]\n",
            " [6.1 2.9 4.7 1.4]\n",
            " [5.6 2.9 3.6 1.3]\n",
            " [6.7 3.1 4.4 1.4]\n",
            " [5.6 3.  4.5 1.5]\n",
            " [5.8 2.7 4.1 1. ]\n",
            " [6.2 2.2 4.5 1.5]\n",
            " [5.6 2.5 3.9 1.1]\n",
            " [5.9 3.2 4.8 1.8]\n",
            " [6.1 2.8 4.  1.3]\n",
            " [6.3 2.5 4.9 1.5]\n",
            " [6.1 2.8 4.7 1.2]\n",
            " [6.4 2.9 4.3 1.3]\n",
            " [6.6 3.  4.4 1.4]\n",
            " [6.8 2.8 4.8 1.4]\n",
            " [6.7 3.  5.  1.7]\n",
            " [6.  2.9 4.5 1.5]\n",
            " [5.7 2.6 3.5 1. ]\n",
            " [5.5 2.4 3.8 1.1]\n",
            " [5.5 2.4 3.7 1. ]\n",
            " [5.8 2.7 3.9 1.2]\n",
            " [6.  2.7 5.1 1.6]\n",
            " [5.4 3.  4.5 1.5]\n",
            " [6.  3.4 4.5 1.6]\n",
            " [6.7 3.1 4.7 1.5]\n",
            " [6.3 2.3 4.4 1.3]\n",
            " [5.6 3.  4.1 1.3]\n",
            " [5.5 2.5 4.  1.3]\n",
            " [5.5 2.6 4.4 1.2]\n",
            " [6.1 3.  4.6 1.4]\n",
            " [5.8 2.6 4.  1.2]\n",
            " [5.  2.3 3.3 1. ]\n",
            " [5.6 2.7 4.2 1.3]\n",
            " [5.7 3.  4.2 1.2]\n",
            " [5.7 2.9 4.2 1.3]\n",
            " [6.2 2.9 4.3 1.3]\n",
            " [5.1 2.5 3.  1.1]\n",
            " [5.7 2.8 4.1 1.3]\n",
            " [6.3 3.3 6.  2.5]\n",
            " [5.8 2.7 5.1 1.9]\n",
            " [7.1 3.  5.9 2.1]\n",
            " [6.3 2.9 5.6 1.8]\n",
            " [6.5 3.  5.8 2.2]\n",
            " [7.6 3.  6.6 2.1]\n",
            " [4.9 2.5 4.5 1.7]\n",
            " [7.3 2.9 6.3 1.8]\n",
            " [6.7 2.5 5.8 1.8]\n",
            " [7.2 3.6 6.1 2.5]\n",
            " [6.5 3.2 5.1 2. ]\n",
            " [6.4 2.7 5.3 1.9]\n",
            " [6.8 3.  5.5 2.1]\n",
            " [5.7 2.5 5.  2. ]\n",
            " [5.8 2.8 5.1 2.4]\n",
            " [6.4 3.2 5.3 2.3]\n",
            " [6.5 3.  5.5 1.8]\n",
            " [7.7 3.8 6.7 2.2]\n",
            " [7.7 2.6 6.9 2.3]\n",
            " [6.  2.2 5.  1.5]\n",
            " [6.9 3.2 5.7 2.3]\n",
            " [5.6 2.8 4.9 2. ]\n",
            " [7.7 2.8 6.7 2. ]\n",
            " [6.3 2.7 4.9 1.8]\n",
            " [6.7 3.3 5.7 2.1]\n",
            " [7.2 3.2 6.  1.8]\n",
            " [6.2 2.8 4.8 1.8]\n",
            " [6.1 3.  4.9 1.8]\n",
            " [6.4 2.8 5.6 2.1]\n",
            " [7.2 3.  5.8 1.6]\n",
            " [7.4 2.8 6.1 1.9]\n",
            " [7.9 3.8 6.4 2. ]\n",
            " [6.4 2.8 5.6 2.2]\n",
            " [6.3 2.8 5.1 1.5]\n",
            " [6.1 2.6 5.6 1.4]\n",
            " [7.7 3.  6.1 2.3]\n",
            " [6.3 3.4 5.6 2.4]\n",
            " [6.4 3.1 5.5 1.8]\n",
            " [6.  3.  4.8 1.8]\n",
            " [6.9 3.1 5.4 2.1]\n",
            " [6.7 3.1 5.6 2.4]\n",
            " [6.9 3.1 5.1 2.3]\n",
            " [5.8 2.7 5.1 1.9]\n",
            " [6.8 3.2 5.9 2.3]\n",
            " [6.7 3.3 5.7 2.5]\n",
            " [6.7 3.  5.2 2.3]\n",
            " [6.3 2.5 5.  1.9]\n",
            " [6.5 3.  5.2 2. ]\n",
            " [6.2 3.4 5.4 2.3]\n",
            " [5.9 3.  5.1 1.8]]\n"
          ],
          "name": "stdout"
        }
      ]
    },
    {
      "cell_type": "code",
      "metadata": {
        "id": "WD5gGkIsMoi1",
        "colab_type": "code",
        "outputId": "a9e0eea4-8826-454a-8ed1-fb1271069ca9",
        "colab": {
          "base_uri": "https://localhost:8080/",
          "height": 34
        }
      },
      "source": [
        "print(X.shape)"
      ],
      "execution_count": 263,
      "outputs": [
        {
          "output_type": "stream",
          "text": [
            "(149, 4)\n"
          ],
          "name": "stdout"
        }
      ]
    },
    {
      "cell_type": "code",
      "metadata": {
        "id": "sG3Jk0iOJtuK",
        "colab_type": "code",
        "colab": {}
      },
      "source": [
        "Y=np.asarray(data['Class'].dropna())"
      ],
      "execution_count": 0,
      "outputs": []
    },
    {
      "cell_type": "code",
      "metadata": {
        "id": "tR-JDaYwMrim",
        "colab_type": "code",
        "outputId": "1f41624f-2587-4d64-a083-f57a47ed3372",
        "colab": {
          "base_uri": "https://localhost:8080/",
          "height": 34
        }
      },
      "source": [
        "print(Y.shape)"
      ],
      "execution_count": 265,
      "outputs": [
        {
          "output_type": "stream",
          "text": [
            "(149,)\n"
          ],
          "name": "stdout"
        }
      ]
    },
    {
      "cell_type": "code",
      "metadata": {
        "id": "X-lphaxMK7V6",
        "colab_type": "code",
        "outputId": "47e4ed86-373e-4d6e-e626-1ba25184748d",
        "colab": {
          "base_uri": "https://localhost:8080/",
          "height": 638
        }
      },
      "source": [
        "print(Y)"
      ],
      "execution_count": 266,
      "outputs": [
        {
          "output_type": "stream",
          "text": [
            "['Iris-setosa' 'Iris-setosa' 'Iris-setosa' 'Iris-setosa' 'Iris-setosa'\n",
            " 'Iris-setosa' 'Iris-setosa' 'Iris-setosa' 'Iris-setosa' 'Iris-setosa'\n",
            " 'Iris-setosa' 'Iris-setosa' 'Iris-setosa' 'Iris-setosa' 'Iris-setosa'\n",
            " 'Iris-setosa' 'Iris-setosa' 'Iris-setosa' 'Iris-setosa' 'Iris-setosa'\n",
            " 'Iris-setosa' 'Iris-setosa' 'Iris-setosa' 'Iris-setosa' 'Iris-setosa'\n",
            " 'Iris-setosa' 'Iris-setosa' 'Iris-setosa' 'Iris-setosa' 'Iris-setosa'\n",
            " 'Iris-setosa' 'Iris-setosa' 'Iris-setosa' 'Iris-setosa' 'Iris-setosa'\n",
            " 'Iris-setosa' 'Iris-setosa' 'Iris-setosa' 'Iris-setosa' 'Iris-setosa'\n",
            " 'Iris-setosa' 'Iris-setosa' 'Iris-setosa' 'Iris-setosa' 'Iris-setosa'\n",
            " 'Iris-setosa' 'Iris-setosa' 'Iris-setosa' 'Iris-setosa' 'Iris-versicolor'\n",
            " 'Iris-versicolor' 'Iris-versicolor' 'Iris-versicolor' 'Iris-versicolor'\n",
            " 'Iris-versicolor' 'Iris-versicolor' 'Iris-versicolor' 'Iris-versicolor'\n",
            " 'Iris-versicolor' 'Iris-versicolor' 'Iris-versicolor' 'Iris-versicolor'\n",
            " 'Iris-versicolor' 'Iris-versicolor' 'Iris-versicolor' 'Iris-versicolor'\n",
            " 'Iris-versicolor' 'Iris-versicolor' 'Iris-versicolor' 'Iris-versicolor'\n",
            " 'Iris-versicolor' 'Iris-versicolor' 'Iris-versicolor' 'Iris-versicolor'\n",
            " 'Iris-versicolor' 'Iris-versicolor' 'Iris-versicolor' 'Iris-versicolor'\n",
            " 'Iris-versicolor' 'Iris-versicolor' 'Iris-versicolor' 'Iris-versicolor'\n",
            " 'Iris-versicolor' 'Iris-versicolor' 'Iris-versicolor' 'Iris-versicolor'\n",
            " 'Iris-versicolor' 'Iris-versicolor' 'Iris-versicolor' 'Iris-versicolor'\n",
            " 'Iris-versicolor' 'Iris-versicolor' 'Iris-versicolor' 'Iris-versicolor'\n",
            " 'Iris-versicolor' 'Iris-versicolor' 'Iris-versicolor' 'Iris-versicolor'\n",
            " 'Iris-versicolor' 'Iris-virginica' 'Iris-virginica' 'Iris-virginica'\n",
            " 'Iris-virginica' 'Iris-virginica' 'Iris-virginica' 'Iris-virginica'\n",
            " 'Iris-virginica' 'Iris-virginica' 'Iris-virginica' 'Iris-virginica'\n",
            " 'Iris-virginica' 'Iris-virginica' 'Iris-virginica' 'Iris-virginica'\n",
            " 'Iris-virginica' 'Iris-virginica' 'Iris-virginica' 'Iris-virginica'\n",
            " 'Iris-virginica' 'Iris-virginica' 'Iris-virginica' 'Iris-virginica'\n",
            " 'Iris-virginica' 'Iris-virginica' 'Iris-virginica' 'Iris-virginica'\n",
            " 'Iris-virginica' 'Iris-virginica' 'Iris-virginica' 'Iris-virginica'\n",
            " 'Iris-virginica' 'Iris-virginica' 'Iris-virginica' 'Iris-virginica'\n",
            " 'Iris-virginica' 'Iris-virginica' 'Iris-virginica' 'Iris-virginica'\n",
            " 'Iris-virginica' 'Iris-virginica' 'Iris-virginica' 'Iris-virginica'\n",
            " 'Iris-virginica' 'Iris-virginica' 'Iris-virginica' 'Iris-virginica'\n",
            " 'Iris-virginica' 'Iris-virginica' 'Iris-virginica']\n"
          ],
          "name": "stdout"
        }
      ]
    },
    {
      "cell_type": "code",
      "metadata": {
        "id": "kVjiWS7JMZvN",
        "colab_type": "code",
        "colab": {}
      },
      "source": [
        "Xtrain,Ytrain,Xtest,Ytest=t.split_data(X,Y)"
      ],
      "execution_count": 0,
      "outputs": []
    },
    {
      "cell_type": "code",
      "metadata": {
        "id": "i8O9A7FWMgpm",
        "colab_type": "code",
        "outputId": "9ac78cfa-8bd8-449b-dd95-16b7943afd15",
        "colab": {
          "base_uri": "https://localhost:8080/",
          "height": 1000
        }
      },
      "source": [
        "print(Xtrain)"
      ],
      "execution_count": 268,
      "outputs": [
        {
          "output_type": "stream",
          "text": [
            "[[5.  3.4 1.6 0.4]\n",
            " [4.7 3.2 1.3 0.2]\n",
            " [4.3 3.  1.1 0.1]\n",
            " [5.1 3.3 1.7 0.5]\n",
            " [4.6 3.6 1.  0.2]\n",
            " [5.  3.4 1.5 0.2]\n",
            " [4.9 3.  1.4 0.2]\n",
            " [4.9 3.1 1.5 0.1]\n",
            " [5.  3.3 1.4 0.2]\n",
            " [5.  3.5 1.3 0.3]\n",
            " [5.3 3.7 1.5 0.2]\n",
            " [5.5 3.5 1.3 0.2]\n",
            " [5.  3.2 1.2 0.2]\n",
            " [5.1 3.7 1.5 0.4]\n",
            " [4.8 3.  1.4 0.1]\n",
            " [5.1 3.8 1.5 0.3]\n",
            " [5.  3.  1.6 0.2]\n",
            " [4.8 3.  1.4 0.3]\n",
            " [5.1 3.4 1.5 0.2]\n",
            " [4.7 3.2 1.6 0.2]\n",
            " [4.8 3.1 1.6 0.2]\n",
            " [5.1 3.8 1.9 0.4]\n",
            " [4.4 3.  1.3 0.2]\n",
            " [5.2 4.1 1.5 0.1]\n",
            " [5.4 3.4 1.5 0.4]\n",
            " [5.2 3.4 1.4 0.2]\n",
            " [4.4 3.2 1.3 0.2]\n",
            " [4.8 3.4 1.6 0.2]\n",
            " [5.1 3.8 1.6 0.2]\n",
            " [5.4 3.9 1.7 0.4]\n",
            " [5.2 3.5 1.5 0.2]\n",
            " [5.7 4.4 1.5 0.4]\n",
            " [5.8 4.  1.2 0.2]\n",
            " [4.6 3.4 1.4 0.3]\n",
            " [5.7 3.  4.2 1.2]\n",
            " [5.1 2.5 3.  1.1]\n",
            " [5.9 3.2 4.8 1.8]\n",
            " [5.9 3.  4.2 1.5]\n",
            " [6.7 3.1 4.4 1.4]\n",
            " [5.5 2.4 3.7 1. ]\n",
            " [5.6 3.  4.5 1.5]\n",
            " [6.2 2.2 4.5 1.5]\n",
            " [7.  3.2 4.7 1.4]\n",
            " [6.  2.9 4.5 1.5]\n",
            " [5.5 2.3 4.  1.3]\n",
            " [5.8 2.6 4.  1.2]\n",
            " [6.6 3.  4.4 1.4]\n",
            " [5.  2.3 3.3 1. ]\n",
            " [6.  3.4 4.5 1.6]\n",
            " [5.6 2.7 4.2 1.3]\n",
            " [6.3 2.5 4.9 1.5]\n",
            " [5.6 2.9 3.6 1.3]\n",
            " [5.8 2.7 4.1 1. ]\n",
            " [5.  2.  3.5 1. ]\n",
            " [6.4 2.9 4.3 1.3]\n",
            " [5.8 2.7 3.9 1.2]\n",
            " [6.1 3.  4.6 1.4]\n",
            " [6.7 3.  5.  1.7]\n",
            " [5.7 2.6 3.5 1. ]\n",
            " [5.5 2.5 4.  1.3]\n",
            " [6.9 3.1 4.9 1.5]\n",
            " [5.5 2.6 4.4 1.2]\n",
            " [5.7 2.9 4.2 1.3]\n",
            " [6.1 2.8 4.7 1.2]\n",
            " [6.6 2.9 4.6 1.3]\n",
            " [6.3 2.3 4.4 1.3]\n",
            " [5.7 2.8 4.1 1.3]\n",
            " [6.1 2.8 4.  1.3]\n",
            " [6.  2.2 4.  1. ]\n",
            " [6.  3.  4.8 1.8]\n",
            " [7.3 2.9 6.3 1.8]\n",
            " [7.4 2.8 6.1 1.9]\n",
            " [6.5 3.  5.5 1.8]\n",
            " [6.1 2.6 5.6 1.4]\n",
            " [6.4 3.2 5.3 2.3]\n",
            " [5.8 2.7 5.1 1.9]\n",
            " [7.7 3.  6.1 2.3]\n",
            " [6.9 3.1 5.4 2.1]\n",
            " [6.2 3.4 5.4 2.3]\n",
            " [6.7 2.5 5.8 1.8]\n",
            " [6.2 2.8 4.8 1.8]\n",
            " [6.3 2.9 5.6 1.8]\n",
            " [7.7 3.8 6.7 2.2]\n",
            " [7.6 3.  6.6 2.1]\n",
            " [6.  2.2 5.  1.5]\n",
            " [6.3 2.7 4.9 1.8]\n",
            " [5.8 2.7 5.1 1.9]\n",
            " [6.3 3.3 6.  2.5]\n",
            " [6.7 3.3 5.7 2.5]\n",
            " [5.8 2.8 5.1 2.4]\n",
            " [6.3 2.8 5.1 1.5]\n",
            " [7.7 2.6 6.9 2.3]\n",
            " [6.5 3.2 5.1 2. ]\n",
            " [5.9 3.  5.1 1.8]\n",
            " [7.7 2.8 6.7 2. ]\n",
            " [5.7 2.5 5.  2. ]\n",
            " [5.6 2.8 4.9 2. ]\n",
            " [7.2 3.  5.8 1.6]\n",
            " [7.2 3.6 6.1 2.5]\n",
            " [6.3 3.4 5.6 2.4]\n",
            " [6.3 2.5 5.  1.9]\n",
            " [6.4 2.8 5.6 2.2]\n",
            " [6.7 3.1 5.6 2.4]\n",
            " [7.9 3.8 6.4 2. ]]\n"
          ],
          "name": "stdout"
        }
      ]
    },
    {
      "cell_type": "code",
      "metadata": {
        "id": "HNCkQ3lQMvwp",
        "colab_type": "code",
        "outputId": "b4f996a5-a872-48aa-9305-32b236109726",
        "colab": {
          "base_uri": "https://localhost:8080/",
          "height": 34
        }
      },
      "source": [
        "print(Xtrain.shape)"
      ],
      "execution_count": 269,
      "outputs": [
        {
          "output_type": "stream",
          "text": [
            "(104, 4)\n"
          ],
          "name": "stdout"
        }
      ]
    },
    {
      "cell_type": "code",
      "metadata": {
        "id": "rCb5dkP-Mzz1",
        "colab_type": "code",
        "outputId": "ac308ed5-3d77-4a0b-f3d5-3e9f8212e211",
        "colab": {
          "base_uri": "https://localhost:8080/",
          "height": 34
        }
      },
      "source": [
        "print(Xtest.shape)"
      ],
      "execution_count": 270,
      "outputs": [
        {
          "output_type": "stream",
          "text": [
            "(45, 4)\n"
          ],
          "name": "stdout"
        }
      ]
    },
    {
      "cell_type": "code",
      "metadata": {
        "id": "YkMo5LJUK88O",
        "colab_type": "code",
        "colab": {}
      },
      "source": [
        "# Lets train a Decision Tree Classifier on Petal Length and Width\n",
        "feat=[0,1]"
      ],
      "execution_count": 0,
      "outputs": []
    },
    {
      "cell_type": "code",
      "metadata": {
        "id": "X9wOM9-SM5Oi",
        "colab_type": "code",
        "outputId": "c7a0f86f-5aa9-4c58-a274-cf71b2036e3b",
        "colab": {
          "base_uri": "https://localhost:8080/",
          "height": 52
        }
      },
      "source": [
        "Xtrain[feat]"
      ],
      "execution_count": 272,
      "outputs": [
        {
          "output_type": "execute_result",
          "data": {
            "text/plain": [
              "array([[5. , 3.4, 1.6, 0.4],\n",
              "       [4.7, 3.2, 1.3, 0.2]])"
            ]
          },
          "metadata": {
            "tags": []
          },
          "execution_count": 272
        }
      ]
    },
    {
      "cell_type": "code",
      "metadata": {
        "id": "tRhpXaQcM7sr",
        "colab_type": "code",
        "colab": {}
      },
      "source": [
        "#Xtrain[,feat]"
      ],
      "execution_count": 0,
      "outputs": []
    },
    {
      "cell_type": "code",
      "metadata": {
        "id": "mFfdX8ZWxCb5",
        "colab_type": "code",
        "outputId": "02bd1461-a0c7-40bf-98a8-cdc942e645d2",
        "colab": {
          "base_uri": "https://localhost:8080/",
          "height": 1000
        }
      },
      "source": [
        "Xtrain[:,feat]"
      ],
      "execution_count": 274,
      "outputs": [
        {
          "output_type": "execute_result",
          "data": {
            "text/plain": [
              "array([[5. , 3.4],\n",
              "       [4.7, 3.2],\n",
              "       [4.3, 3. ],\n",
              "       [5.1, 3.3],\n",
              "       [4.6, 3.6],\n",
              "       [5. , 3.4],\n",
              "       [4.9, 3. ],\n",
              "       [4.9, 3.1],\n",
              "       [5. , 3.3],\n",
              "       [5. , 3.5],\n",
              "       [5.3, 3.7],\n",
              "       [5.5, 3.5],\n",
              "       [5. , 3.2],\n",
              "       [5.1, 3.7],\n",
              "       [4.8, 3. ],\n",
              "       [5.1, 3.8],\n",
              "       [5. , 3. ],\n",
              "       [4.8, 3. ],\n",
              "       [5.1, 3.4],\n",
              "       [4.7, 3.2],\n",
              "       [4.8, 3.1],\n",
              "       [5.1, 3.8],\n",
              "       [4.4, 3. ],\n",
              "       [5.2, 4.1],\n",
              "       [5.4, 3.4],\n",
              "       [5.2, 3.4],\n",
              "       [4.4, 3.2],\n",
              "       [4.8, 3.4],\n",
              "       [5.1, 3.8],\n",
              "       [5.4, 3.9],\n",
              "       [5.2, 3.5],\n",
              "       [5.7, 4.4],\n",
              "       [5.8, 4. ],\n",
              "       [4.6, 3.4],\n",
              "       [5.7, 3. ],\n",
              "       [5.1, 2.5],\n",
              "       [5.9, 3.2],\n",
              "       [5.9, 3. ],\n",
              "       [6.7, 3.1],\n",
              "       [5.5, 2.4],\n",
              "       [5.6, 3. ],\n",
              "       [6.2, 2.2],\n",
              "       [7. , 3.2],\n",
              "       [6. , 2.9],\n",
              "       [5.5, 2.3],\n",
              "       [5.8, 2.6],\n",
              "       [6.6, 3. ],\n",
              "       [5. , 2.3],\n",
              "       [6. , 3.4],\n",
              "       [5.6, 2.7],\n",
              "       [6.3, 2.5],\n",
              "       [5.6, 2.9],\n",
              "       [5.8, 2.7],\n",
              "       [5. , 2. ],\n",
              "       [6.4, 2.9],\n",
              "       [5.8, 2.7],\n",
              "       [6.1, 3. ],\n",
              "       [6.7, 3. ],\n",
              "       [5.7, 2.6],\n",
              "       [5.5, 2.5],\n",
              "       [6.9, 3.1],\n",
              "       [5.5, 2.6],\n",
              "       [5.7, 2.9],\n",
              "       [6.1, 2.8],\n",
              "       [6.6, 2.9],\n",
              "       [6.3, 2.3],\n",
              "       [5.7, 2.8],\n",
              "       [6.1, 2.8],\n",
              "       [6. , 2.2],\n",
              "       [6. , 3. ],\n",
              "       [7.3, 2.9],\n",
              "       [7.4, 2.8],\n",
              "       [6.5, 3. ],\n",
              "       [6.1, 2.6],\n",
              "       [6.4, 3.2],\n",
              "       [5.8, 2.7],\n",
              "       [7.7, 3. ],\n",
              "       [6.9, 3.1],\n",
              "       [6.2, 3.4],\n",
              "       [6.7, 2.5],\n",
              "       [6.2, 2.8],\n",
              "       [6.3, 2.9],\n",
              "       [7.7, 3.8],\n",
              "       [7.6, 3. ],\n",
              "       [6. , 2.2],\n",
              "       [6.3, 2.7],\n",
              "       [5.8, 2.7],\n",
              "       [6.3, 3.3],\n",
              "       [6.7, 3.3],\n",
              "       [5.8, 2.8],\n",
              "       [6.3, 2.8],\n",
              "       [7.7, 2.6],\n",
              "       [6.5, 3.2],\n",
              "       [5.9, 3. ],\n",
              "       [7.7, 2.8],\n",
              "       [5.7, 2.5],\n",
              "       [5.6, 2.8],\n",
              "       [7.2, 3. ],\n",
              "       [7.2, 3.6],\n",
              "       [6.3, 3.4],\n",
              "       [6.3, 2.5],\n",
              "       [6.4, 2.8],\n",
              "       [6.7, 3.1],\n",
              "       [7.9, 3.8]])"
            ]
          },
          "metadata": {
            "tags": []
          },
          "execution_count": 274
        }
      ]
    },
    {
      "cell_type": "code",
      "metadata": {
        "id": "DhDgtyYDxGt1",
        "colab_type": "code",
        "outputId": "d2fcb1ab-4140-4b84-d073-6e0e7613ca0c",
        "colab": {
          "base_uri": "https://localhost:8080/",
          "height": 34
        }
      },
      "source": [
        "Xtrain[2,feat]"
      ],
      "execution_count": 275,
      "outputs": [
        {
          "output_type": "execute_result",
          "data": {
            "text/plain": [
              "array([4.3, 3. ])"
            ]
          },
          "metadata": {
            "tags": []
          },
          "execution_count": 275
        }
      ]
    },
    {
      "cell_type": "code",
      "metadata": {
        "id": "-Z2kv4t8xTVm",
        "colab_type": "code",
        "colab": {}
      },
      "source": [
        "Xtemp_train = Xtrain[:5,feat]"
      ],
      "execution_count": 0,
      "outputs": []
    },
    {
      "cell_type": "code",
      "metadata": {
        "id": "K-NiAENcxWTd",
        "colab_type": "code",
        "colab": {}
      },
      "source": [
        "Xtemp_test = Xtest[:5,feat]"
      ],
      "execution_count": 0,
      "outputs": []
    },
    {
      "cell_type": "code",
      "metadata": {
        "id": "2Hjf_agbyBpv",
        "colab_type": "code",
        "outputId": "c38afaba-5ba9-457f-d94d-05c62fabd543",
        "colab": {
          "base_uri": "https://localhost:8080/",
          "height": 105
        }
      },
      "source": [
        "print(Xtemp_train)"
      ],
      "execution_count": 278,
      "outputs": [
        {
          "output_type": "stream",
          "text": [
            "[[5.  3.4]\n",
            " [4.7 3.2]\n",
            " [4.3 3. ]\n",
            " [5.1 3.3]\n",
            " [4.6 3.6]]\n"
          ],
          "name": "stdout"
        }
      ]
    },
    {
      "cell_type": "code",
      "metadata": {
        "id": "s8edTo9sH45k",
        "colab_type": "code",
        "outputId": "d8e14661-6c48-42ec-805f-2e512cf02f37",
        "colab": {
          "base_uri": "https://localhost:8080/",
          "height": 34
        }
      },
      "source": [
        "Xtemp_train.shape"
      ],
      "execution_count": 279,
      "outputs": [
        {
          "output_type": "execute_result",
          "data": {
            "text/plain": [
              "(5, 2)"
            ]
          },
          "metadata": {
            "tags": []
          },
          "execution_count": 279
        }
      ]
    },
    {
      "cell_type": "code",
      "metadata": {
        "id": "BEr-CHwKyDqH",
        "colab_type": "code",
        "outputId": "871a1b74-c2ab-410f-fdf4-70ed55295d13",
        "colab": {
          "base_uri": "https://localhost:8080/",
          "height": 105
        }
      },
      "source": [
        "print(Xtemp_test)"
      ],
      "execution_count": 280,
      "outputs": [
        {
          "output_type": "stream",
          "text": [
            "[[4.9 3.1]\n",
            " [5.4 3.7]\n",
            " [5.4 3.9]\n",
            " [4.8 3.4]\n",
            " [5.1 3.5]]\n"
          ],
          "name": "stdout"
        }
      ]
    },
    {
      "cell_type": "code",
      "metadata": {
        "id": "FMYi7fa4H8pY",
        "colab_type": "code",
        "outputId": "ba771c2f-5a10-40e4-f4b3-3ace2ae0a8e6",
        "colab": {
          "base_uri": "https://localhost:8080/",
          "height": 34
        }
      },
      "source": [
        "Xtemp_train.shape"
      ],
      "execution_count": 281,
      "outputs": [
        {
          "output_type": "execute_result",
          "data": {
            "text/plain": [
              "(5, 2)"
            ]
          },
          "metadata": {
            "tags": []
          },
          "execution_count": 281
        }
      ]
    },
    {
      "cell_type": "code",
      "metadata": {
        "id": "Z6qvlgP8ybC7",
        "colab_type": "code",
        "colab": {}
      },
      "source": [
        "Xtemp_train.size\n",
        "Xtemp_train.shape\n",
        "Xtemp_train.shape[0]\n",
        "Xtemp_test.shape[0]\n",
        "#np.zeros((5,5))\n",
        "\n",
        "dists = np.zeros((Xtemp_train.shape[0],Xtemp_test.shape[0]))"
      ],
      "execution_count": 0,
      "outputs": []
    },
    {
      "cell_type": "code",
      "metadata": {
        "id": "DTk4UBDpyF31",
        "colab_type": "code",
        "colab": {}
      },
      "source": [
        "\n",
        "def two_loops(a1,a2):\n",
        "  first_dim = a1.shape[0]\n",
        "  second_dim = a2.shape[0]\n",
        "\n",
        "  for i in range(first_dim):\n",
        "    for j in range(second_dim):\n",
        "      dists[i,j] = np.linalg.norm(a1[i]-a2[j])\n",
        "\n",
        "\n",
        "  return dists"
      ],
      "execution_count": 0,
      "outputs": []
    },
    {
      "cell_type": "code",
      "metadata": {
        "id": "TI0RROjRyeou",
        "colab_type": "code",
        "colab": {}
      },
      "source": [
        "d = two_loops(Xtemp_train,Xtemp_test)"
      ],
      "execution_count": 0,
      "outputs": []
    },
    {
      "cell_type": "code",
      "metadata": {
        "id": "M0HChot2yf7N",
        "colab_type": "code",
        "outputId": "f9fb6607-0c29-43cc-8460-b5341ce9356f",
        "colab": {
          "base_uri": "https://localhost:8080/",
          "height": 105
        }
      },
      "source": [
        "print(d)"
      ],
      "execution_count": 285,
      "outputs": [
        {
          "output_type": "stream",
          "text": [
            "[[0.31622777 0.5        0.64031242 0.2        0.14142136]\n",
            " [0.2236068  0.86023253 0.98994949 0.2236068  0.5       ]\n",
            " [0.60827625 1.30384048 1.42126704 0.64031242 0.94339811]\n",
            " [0.28284271 0.5        0.67082039 0.31622777 0.2       ]\n",
            " [0.58309519 0.80622577 0.85440037 0.28284271 0.50990195]]\n"
          ],
          "name": "stdout"
        }
      ]
    },
    {
      "cell_type": "code",
      "metadata": {
        "id": "QzSyl4KF0g_r",
        "colab_type": "code",
        "outputId": "048a6988-ad4b-4a51-8894-a6b7bf2eaca5",
        "colab": {
          "base_uri": "https://localhost:8080/",
          "height": 34
        }
      },
      "source": [
        "np.linalg.norm(Xtemp_train[0,] - Xtemp_test[0,])"
      ],
      "execution_count": 286,
      "outputs": [
        {
          "output_type": "execute_result",
          "data": {
            "text/plain": [
              "0.31622776601683766"
            ]
          },
          "metadata": {
            "tags": []
          },
          "execution_count": 286
        }
      ]
    },
    {
      "cell_type": "code",
      "metadata": {
        "id": "EdM9oQl50zP3",
        "colab_type": "code",
        "outputId": "23ed0cb1-cad3-4422-f474-1a8312ed7edc",
        "colab": {
          "base_uri": "https://localhost:8080/",
          "height": 34
        }
      },
      "source": [
        "Xtemp_train[0,]"
      ],
      "execution_count": 287,
      "outputs": [
        {
          "output_type": "execute_result",
          "data": {
            "text/plain": [
              "array([5. , 3.4])"
            ]
          },
          "metadata": {
            "tags": []
          },
          "execution_count": 287
        }
      ]
    },
    {
      "cell_type": "code",
      "metadata": {
        "id": "qmqoIpKY03_2",
        "colab_type": "code",
        "outputId": "8d274df7-2264-4fe3-cd73-aee838a35cd6",
        "colab": {
          "base_uri": "https://localhost:8080/",
          "height": 34
        }
      },
      "source": [
        "Xtemp_test[0,]"
      ],
      "execution_count": 288,
      "outputs": [
        {
          "output_type": "execute_result",
          "data": {
            "text/plain": [
              "array([4.9, 3.1])"
            ]
          },
          "metadata": {
            "tags": []
          },
          "execution_count": 288
        }
      ]
    },
    {
      "cell_type": "code",
      "metadata": {
        "id": "U9UNNUIO1KFs",
        "colab_type": "code",
        "outputId": "045975ea-f58c-4d3b-ff81-9d696028ecd0",
        "colab": {
          "base_uri": "https://localhost:8080/",
          "height": 34
        }
      },
      "source": [
        "Xtemp_test[0,].shape"
      ],
      "execution_count": 289,
      "outputs": [
        {
          "output_type": "execute_result",
          "data": {
            "text/plain": [
              "(2,)"
            ]
          },
          "metadata": {
            "tags": []
          },
          "execution_count": 289
        }
      ]
    },
    {
      "cell_type": "code",
      "metadata": {
        "id": "IaVi6PV91O7t",
        "colab_type": "code",
        "outputId": "e2664a27-ec60-4720-92ed-25fa73b23a9f",
        "colab": {
          "base_uri": "https://localhost:8080/",
          "height": 34
        }
      },
      "source": [
        "Xtemp_train[0,] - Xtemp_test[0,]"
      ],
      "execution_count": 290,
      "outputs": [
        {
          "output_type": "execute_result",
          "data": {
            "text/plain": [
              "array([0.1, 0.3])"
            ]
          },
          "metadata": {
            "tags": []
          },
          "execution_count": 290
        }
      ]
    },
    {
      "cell_type": "code",
      "metadata": {
        "id": "PadCoEBu1hwe",
        "colab_type": "code",
        "colab": {}
      },
      "source": [
        "my_t = Xtemp_train[0,] - Xtemp_test[0,]"
      ],
      "execution_count": 0,
      "outputs": []
    },
    {
      "cell_type": "code",
      "metadata": {
        "id": "dH_qq6-C1yMf",
        "colab_type": "code",
        "outputId": "d81b5b66-5c3e-49ef-d26b-34c1967b5930",
        "colab": {
          "base_uri": "https://localhost:8080/",
          "height": 34
        }
      },
      "source": [
        "my_t[0]"
      ],
      "execution_count": 292,
      "outputs": [
        {
          "output_type": "execute_result",
          "data": {
            "text/plain": [
              "0.09999999999999964"
            ]
          },
          "metadata": {
            "tags": []
          },
          "execution_count": 292
        }
      ]
    },
    {
      "cell_type": "code",
      "metadata": {
        "id": "_fD2hf161zPq",
        "colab_type": "code",
        "outputId": "69595617-cbb3-4e6c-f23b-c788e7458dab",
        "colab": {
          "base_uri": "https://localhost:8080/",
          "height": 34
        }
      },
      "source": [
        "my_t[1]"
      ],
      "execution_count": 293,
      "outputs": [
        {
          "output_type": "execute_result",
          "data": {
            "text/plain": [
              "0.2999999999999998"
            ]
          },
          "metadata": {
            "tags": []
          },
          "execution_count": 293
        }
      ]
    },
    {
      "cell_type": "code",
      "metadata": {
        "id": "D8adL4gALBuy",
        "colab_type": "code",
        "outputId": "d04fa14d-82a7-482e-ce8f-99b65808f6ab",
        "colab": {
          "base_uri": "https://localhost:8080/",
          "height": 34
        }
      },
      "source": [
        "math.pow(my_t[0],2)"
      ],
      "execution_count": 294,
      "outputs": [
        {
          "output_type": "execute_result",
          "data": {
            "text/plain": [
              "0.009999999999999929"
            ]
          },
          "metadata": {
            "tags": []
          },
          "execution_count": 294
        }
      ]
    },
    {
      "cell_type": "code",
      "metadata": {
        "id": "7lGLBWHLLFMV",
        "colab_type": "code",
        "outputId": "8fca8c49-aefc-4df9-99be-0f05e3cf255a",
        "colab": {
          "base_uri": "https://localhost:8080/",
          "height": 34
        }
      },
      "source": [
        "math.pow(my_t[1],2)"
      ],
      "execution_count": 295,
      "outputs": [
        {
          "output_type": "execute_result",
          "data": {
            "text/plain": [
              "0.0899999999999999"
            ]
          },
          "metadata": {
            "tags": []
          },
          "execution_count": 295
        }
      ]
    },
    {
      "cell_type": "code",
      "metadata": {
        "id": "GGqtwpDzLS-C",
        "colab_type": "code",
        "outputId": "76dcd5f9-b03d-4dca-abd2-d52def5eb183",
        "colab": {
          "base_uri": "https://localhost:8080/",
          "height": 34
        }
      },
      "source": [
        "math.pow(my_t[0],2) + math.pow(my_t[1],2)"
      ],
      "execution_count": 296,
      "outputs": [
        {
          "output_type": "execute_result",
          "data": {
            "text/plain": [
              "0.09999999999999983"
            ]
          },
          "metadata": {
            "tags": []
          },
          "execution_count": 296
        }
      ]
    },
    {
      "cell_type": "code",
      "metadata": {
        "id": "1yxNzmi_12xV",
        "colab_type": "code",
        "outputId": "658e6b41-482b-40bb-b37e-cfd8824a6cc0",
        "colab": {
          "base_uri": "https://localhost:8080/",
          "height": 34
        }
      },
      "source": [
        "math.sqrt(math.pow(my_t[0],2) + math.pow(my_t[1],2))"
      ],
      "execution_count": 297,
      "outputs": [
        {
          "output_type": "execute_result",
          "data": {
            "text/plain": [
              "0.31622776601683766"
            ]
          },
          "metadata": {
            "tags": []
          },
          "execution_count": 297
        }
      ]
    },
    {
      "cell_type": "code",
      "metadata": {
        "id": "wcnl5VBt2CzZ",
        "colab_type": "code",
        "outputId": "2c4fbd30-5264-4933-a602-82a3f42595e0",
        "colab": {
          "base_uri": "https://localhost:8080/",
          "height": 34
        }
      },
      "source": [
        "d[0,0]"
      ],
      "execution_count": 298,
      "outputs": [
        {
          "output_type": "execute_result",
          "data": {
            "text/plain": [
              "0.31622776601683766"
            ]
          },
          "metadata": {
            "tags": []
          },
          "execution_count": 298
        }
      ]
    },
    {
      "cell_type": "markdown",
      "metadata": {
        "id": "yNxn0cKP2fRc",
        "colab_type": "text"
      },
      "source": [
        "if condition returns True, then nothing happens:"
      ]
    },
    {
      "cell_type": "code",
      "metadata": {
        "id": "QE5j5oSa2HJN",
        "colab_type": "code",
        "outputId": "6f2192b3-ba97-4d6b-900a-16f1dec47eb0",
        "colab": {
          "base_uri": "https://localhost:8080/",
          "height": 34
        }
      },
      "source": [
        "math.sqrt(math.pow(my_t[0],2) + math.pow(my_t[1],2)) == d[0,0]"
      ],
      "execution_count": 299,
      "outputs": [
        {
          "output_type": "execute_result",
          "data": {
            "text/plain": [
              "True"
            ]
          },
          "metadata": {
            "tags": []
          },
          "execution_count": 299
        }
      ]
    },
    {
      "cell_type": "markdown",
      "metadata": {
        "id": "hBOetAN19Jdh",
        "colab_type": "text"
      },
      "source": [
        "testing out np.meshgrid()"
      ]
    },
    {
      "cell_type": "code",
      "metadata": {
        "id": "filKftbu2R7D",
        "colab_type": "code",
        "colab": {}
      },
      "source": [
        "a = np.array([1,2])\n",
        "b = np.array([3,4])"
      ],
      "execution_count": 0,
      "outputs": []
    },
    {
      "cell_type": "code",
      "metadata": {
        "id": "BTgapshQ9UwO",
        "colab_type": "code",
        "colab": {}
      },
      "source": [
        "c,dg = np.meshgrid(a,b)"
      ],
      "execution_count": 0,
      "outputs": []
    },
    {
      "cell_type": "code",
      "metadata": {
        "id": "760JDY3i9mmb",
        "colab_type": "code",
        "outputId": "9ff79976-1669-4fd0-afd3-70ed954f0508",
        "colab": {
          "base_uri": "https://localhost:8080/",
          "height": 52
        }
      },
      "source": [
        "c"
      ],
      "execution_count": 302,
      "outputs": [
        {
          "output_type": "execute_result",
          "data": {
            "text/plain": [
              "array([[1, 2],\n",
              "       [1, 2]])"
            ]
          },
          "metadata": {
            "tags": []
          },
          "execution_count": 302
        }
      ]
    },
    {
      "cell_type": "code",
      "metadata": {
        "id": "Yb-G5IXb9npq",
        "colab_type": "code",
        "outputId": "9d22a2bf-f216-4313-b7dc-1cf6f57d4da9",
        "colab": {
          "base_uri": "https://localhost:8080/",
          "height": 52
        }
      },
      "source": [
        "dg"
      ],
      "execution_count": 303,
      "outputs": [
        {
          "output_type": "execute_result",
          "data": {
            "text/plain": [
              "array([[3, 3],\n",
              "       [4, 4]])"
            ]
          },
          "metadata": {
            "tags": []
          },
          "execution_count": 303
        }
      ]
    },
    {
      "cell_type": "code",
      "metadata": {
        "id": "ywG89ArO-Ftk",
        "colab_type": "code",
        "colab": {}
      },
      "source": [
        "c,dk = np.meshgrid(b,a)"
      ],
      "execution_count": 0,
      "outputs": []
    },
    {
      "cell_type": "code",
      "metadata": {
        "id": "zrA7P5ac-0Rw",
        "colab_type": "code",
        "outputId": "74027365-da01-4f59-f278-53f36ebb74a1",
        "colab": {
          "base_uri": "https://localhost:8080/",
          "height": 52
        }
      },
      "source": [
        "c"
      ],
      "execution_count": 305,
      "outputs": [
        {
          "output_type": "execute_result",
          "data": {
            "text/plain": [
              "array([[3, 4],\n",
              "       [3, 4]])"
            ]
          },
          "metadata": {
            "tags": []
          },
          "execution_count": 305
        }
      ]
    },
    {
      "cell_type": "code",
      "metadata": {
        "id": "qBlUvxF6-1FL",
        "colab_type": "code",
        "outputId": "86dca3b6-9197-4300-f0e0-ca6007e8cf14",
        "colab": {
          "base_uri": "https://localhost:8080/",
          "height": 52
        }
      },
      "source": [
        "dk"
      ],
      "execution_count": 306,
      "outputs": [
        {
          "output_type": "execute_result",
          "data": {
            "text/plain": [
              "array([[1, 1],\n",
              "       [2, 2]])"
            ]
          },
          "metadata": {
            "tags": []
          },
          "execution_count": 306
        }
      ]
    },
    {
      "cell_type": "code",
      "metadata": {
        "id": "WQukUZ4Ohf__",
        "colab_type": "code",
        "colab": {}
      },
      "source": [
        ""
      ],
      "execution_count": 0,
      "outputs": []
    },
    {
      "cell_type": "markdown",
      "metadata": {
        "id": "av7y2e0jHaD3",
        "colab_type": "text"
      },
      "source": [
        "Trying to get one-loop distance thing working"
      ]
    },
    {
      "cell_type": "code",
      "metadata": {
        "id": "VHH5q4lDHZy9",
        "colab_type": "code",
        "colab": {}
      },
      "source": [
        "Xtemp = Xtemp_train - Xtemp_test"
      ],
      "execution_count": 0,
      "outputs": []
    },
    {
      "cell_type": "code",
      "metadata": {
        "id": "PESk1e0e-1rx",
        "colab_type": "code",
        "outputId": "32cc83f3-4af4-4e21-a6ba-b5228733d454",
        "colab": {
          "base_uri": "https://localhost:8080/",
          "height": 105
        }
      },
      "source": [
        "Xtemp"
      ],
      "execution_count": 308,
      "outputs": [
        {
          "output_type": "execute_result",
          "data": {
            "text/plain": [
              "array([[ 0.1,  0.3],\n",
              "       [-0.7, -0.5],\n",
              "       [-1.1, -0.9],\n",
              "       [ 0.3, -0.1],\n",
              "       [-0.5,  0.1]])"
            ]
          },
          "metadata": {
            "tags": []
          },
          "execution_count": 308
        }
      ]
    },
    {
      "cell_type": "code",
      "metadata": {
        "id": "HWcuFM0EHtHf",
        "colab_type": "code",
        "outputId": "00fb163e-24df-4675-d005-e2e95f6b930c",
        "colab": {
          "base_uri": "https://localhost:8080/",
          "height": 34
        }
      },
      "source": [
        "Xtemp.shape"
      ],
      "execution_count": 309,
      "outputs": [
        {
          "output_type": "execute_result",
          "data": {
            "text/plain": [
              "(5, 2)"
            ]
          },
          "metadata": {
            "tags": []
          },
          "execution_count": 309
        }
      ]
    },
    {
      "cell_type": "code",
      "metadata": {
        "id": "Ed4lKPKiIC8V",
        "colab_type": "code",
        "outputId": "b17161b4-0bd2-4e38-cd3d-438edaa1bce0",
        "colab": {
          "base_uri": "https://localhost:8080/",
          "height": 105
        }
      },
      "source": [
        "# using np.pow instead of math.pow\n",
        "\n",
        "Xtemp2 = np.power(Xtemp,2)\n",
        "\n",
        "Xtemp2"
      ],
      "execution_count": 310,
      "outputs": [
        {
          "output_type": "execute_result",
          "data": {
            "text/plain": [
              "array([[0.01, 0.09],\n",
              "       [0.49, 0.25],\n",
              "       [1.21, 0.81],\n",
              "       [0.09, 0.01],\n",
              "       [0.25, 0.01]])"
            ]
          },
          "metadata": {
            "tags": []
          },
          "execution_count": 310
        }
      ]
    },
    {
      "cell_type": "code",
      "metadata": {
        "id": "1B7C2VhSIVTV",
        "colab_type": "code",
        "outputId": "1a91008b-02c8-4671-9197-47aa07c2790e",
        "colab": {
          "base_uri": "https://localhost:8080/",
          "height": 34
        }
      },
      "source": [
        "Xtemp3 = np.sum(Xtemp2,axis=1)\n",
        "\n",
        "Xtemp3"
      ],
      "execution_count": 311,
      "outputs": [
        {
          "output_type": "execute_result",
          "data": {
            "text/plain": [
              "array([0.1 , 0.74, 2.02, 0.1 , 0.26])"
            ]
          },
          "metadata": {
            "tags": []
          },
          "execution_count": 311
        }
      ]
    },
    {
      "cell_type": "code",
      "metadata": {
        "id": "aEwET6sjKH_1",
        "colab_type": "code",
        "outputId": "07c5c5f7-cdd1-460b-cb64-6b4819446219",
        "colab": {
          "base_uri": "https://localhost:8080/",
          "height": 34
        }
      },
      "source": [
        "Xtemp4 = np.sqrt(Xtemp3)\n",
        "\n",
        "Xtemp4"
      ],
      "execution_count": 312,
      "outputs": [
        {
          "output_type": "execute_result",
          "data": {
            "text/plain": [
              "array([0.31622777, 0.86023253, 1.42126704, 0.31622777, 0.50990195])"
            ]
          },
          "metadata": {
            "tags": []
          },
          "execution_count": 312
        }
      ]
    },
    {
      "cell_type": "code",
      "metadata": {
        "id": "4lM-6s_ULlTx",
        "colab_type": "code",
        "outputId": "6ed6bb5a-7b8e-4034-a20e-e28db77e051d",
        "colab": {
          "base_uri": "https://localhost:8080/",
          "height": 34
        }
      },
      "source": [
        "Xtemp4[0]"
      ],
      "execution_count": 313,
      "outputs": [
        {
          "output_type": "execute_result",
          "data": {
            "text/plain": [
              "0.31622776601683766"
            ]
          },
          "metadata": {
            "tags": []
          },
          "execution_count": 313
        }
      ]
    },
    {
      "cell_type": "code",
      "metadata": {
        "id": "9-huRxg0Lt-v",
        "colab_type": "code",
        "outputId": "eac3c61b-319c-46cf-d97c-542b2a83224f",
        "colab": {
          "base_uri": "https://localhost:8080/",
          "height": 34
        }
      },
      "source": [
        "Xtemp4[0] == d[0,0]"
      ],
      "execution_count": 314,
      "outputs": [
        {
          "output_type": "execute_result",
          "data": {
            "text/plain": [
              "True"
            ]
          },
          "metadata": {
            "tags": []
          },
          "execution_count": 314
        }
      ]
    },
    {
      "cell_type": "code",
      "metadata": {
        "id": "OjJrAQB8L4Ec",
        "colab_type": "code",
        "outputId": "c174ed3e-22bd-4588-fbf2-c55924333b70",
        "colab": {
          "base_uri": "https://localhost:8080/",
          "height": 34
        }
      },
      "source": [
        "Xtemp4[0] - d[0,0]"
      ],
      "execution_count": 315,
      "outputs": [
        {
          "output_type": "execute_result",
          "data": {
            "text/plain": [
              "0.0"
            ]
          },
          "metadata": {
            "tags": []
          },
          "execution_count": 315
        }
      ]
    },
    {
      "cell_type": "code",
      "metadata": {
        "id": "UpjogyJYL7Bs",
        "colab_type": "code",
        "outputId": "b439f336-ec1d-4fb7-82de-b9b5575ef6b1",
        "colab": {
          "base_uri": "https://localhost:8080/",
          "height": 34
        }
      },
      "source": [
        "d[0,0]"
      ],
      "execution_count": 316,
      "outputs": [
        {
          "output_type": "execute_result",
          "data": {
            "text/plain": [
              "0.31622776601683766"
            ]
          },
          "metadata": {
            "tags": []
          },
          "execution_count": 316
        }
      ]
    },
    {
      "cell_type": "code",
      "metadata": {
        "id": "jwopgASbMNA7",
        "colab_type": "code",
        "outputId": "fc30c8ed-7c41-4c41-cb2d-07b4bb3958a2",
        "colab": {
          "base_uri": "https://localhost:8080/",
          "height": 34
        }
      },
      "source": [
        "math.sqrt(math.pow(my_t[0],2) + math.pow(my_t[1],2))"
      ],
      "execution_count": 317,
      "outputs": [
        {
          "output_type": "execute_result",
          "data": {
            "text/plain": [
              "0.31622776601683766"
            ]
          },
          "metadata": {
            "tags": []
          },
          "execution_count": 317
        }
      ]
    },
    {
      "cell_type": "code",
      "metadata": {
        "id": "L3IlzMKuMVPa",
        "colab_type": "code",
        "outputId": "ce187c24-cad8-4042-a234-d031c07b3283",
        "colab": {
          "base_uri": "https://localhost:8080/",
          "height": 105
        }
      },
      "source": [
        "d"
      ],
      "execution_count": 318,
      "outputs": [
        {
          "output_type": "execute_result",
          "data": {
            "text/plain": [
              "array([[0.31622777, 0.5       , 0.64031242, 0.2       , 0.14142136],\n",
              "       [0.2236068 , 0.86023253, 0.98994949, 0.2236068 , 0.5       ],\n",
              "       [0.60827625, 1.30384048, 1.42126704, 0.64031242, 0.94339811],\n",
              "       [0.28284271, 0.5       , 0.67082039, 0.31622777, 0.2       ],\n",
              "       [0.58309519, 0.80622577, 0.85440037, 0.28284271, 0.50990195]])"
            ]
          },
          "metadata": {
            "tags": []
          },
          "execution_count": 318
        }
      ]
    },
    {
      "cell_type": "code",
      "metadata": {
        "id": "wNFv2gsbMfb1",
        "colab_type": "code",
        "colab": {}
      },
      "source": [
        "Too_train = Xtrain[:1,feat]"
      ],
      "execution_count": 0,
      "outputs": []
    },
    {
      "cell_type": "code",
      "metadata": {
        "id": "6oEM0wIcWhu2",
        "colab_type": "code",
        "outputId": "381978d1-faef-49f3-c487-7d506ff46028",
        "colab": {
          "base_uri": "https://localhost:8080/",
          "height": 34
        }
      },
      "source": [
        "Too_train.shape"
      ],
      "execution_count": 320,
      "outputs": [
        {
          "output_type": "execute_result",
          "data": {
            "text/plain": [
              "(1, 2)"
            ]
          },
          "metadata": {
            "tags": []
          },
          "execution_count": 320
        }
      ]
    },
    {
      "cell_type": "code",
      "metadata": {
        "id": "ESaX7xPDWjkf",
        "colab_type": "code",
        "outputId": "16ab2d17-14c5-44ab-8b8c-ad3703c783b3",
        "colab": {
          "base_uri": "https://localhost:8080/",
          "height": 34
        }
      },
      "source": [
        "Too_train"
      ],
      "execution_count": 321,
      "outputs": [
        {
          "output_type": "execute_result",
          "data": {
            "text/plain": [
              "array([[5. , 3.4]])"
            ]
          },
          "metadata": {
            "tags": []
          },
          "execution_count": 321
        }
      ]
    },
    {
      "cell_type": "code",
      "metadata": {
        "id": "yXlcvaqpWllc",
        "colab_type": "code",
        "colab": {}
      },
      "source": [
        "Too_test = Xtest[:1,feat]"
      ],
      "execution_count": 0,
      "outputs": []
    },
    {
      "cell_type": "code",
      "metadata": {
        "id": "zOFh-VVtWozm",
        "colab_type": "code",
        "outputId": "4d544f1e-ca8c-41f4-db85-a3c20c9c65c8",
        "colab": {
          "base_uri": "https://localhost:8080/",
          "height": 34
        }
      },
      "source": [
        "Too_test.shape"
      ],
      "execution_count": 323,
      "outputs": [
        {
          "output_type": "execute_result",
          "data": {
            "text/plain": [
              "(1, 2)"
            ]
          },
          "metadata": {
            "tags": []
          },
          "execution_count": 323
        }
      ]
    },
    {
      "cell_type": "code",
      "metadata": {
        "id": "8hsmmax-Wsmq",
        "colab_type": "code",
        "outputId": "9f09ee00-946f-47cf-b587-6e2cd87b0770",
        "colab": {
          "base_uri": "https://localhost:8080/",
          "height": 34
        }
      },
      "source": [
        "Too_test"
      ],
      "execution_count": 324,
      "outputs": [
        {
          "output_type": "execute_result",
          "data": {
            "text/plain": [
              "array([[4.9, 3.1]])"
            ]
          },
          "metadata": {
            "tags": []
          },
          "execution_count": 324
        }
      ]
    },
    {
      "cell_type": "code",
      "metadata": {
        "id": "dDrPXWKCWusL",
        "colab_type": "code",
        "colab": {}
      },
      "source": [
        "Too_1 = Too_train - Too_test"
      ],
      "execution_count": 0,
      "outputs": []
    },
    {
      "cell_type": "code",
      "metadata": {
        "id": "4I_wmGD1W5U-",
        "colab_type": "code",
        "outputId": "19fa1c07-dfea-48b5-ce8b-e41c7494505f",
        "colab": {
          "base_uri": "https://localhost:8080/",
          "height": 34
        }
      },
      "source": [
        "Too_1.shape"
      ],
      "execution_count": 326,
      "outputs": [
        {
          "output_type": "execute_result",
          "data": {
            "text/plain": [
              "(1, 2)"
            ]
          },
          "metadata": {
            "tags": []
          },
          "execution_count": 326
        }
      ]
    },
    {
      "cell_type": "code",
      "metadata": {
        "id": "_-d6-n4vXAem",
        "colab_type": "code",
        "outputId": "f805bfd6-f5a4-465f-c7dd-a309cf338680",
        "colab": {
          "base_uri": "https://localhost:8080/",
          "height": 34
        }
      },
      "source": [
        "Too_1"
      ],
      "execution_count": 327,
      "outputs": [
        {
          "output_type": "execute_result",
          "data": {
            "text/plain": [
              "array([[0.1, 0.3]])"
            ]
          },
          "metadata": {
            "tags": []
          },
          "execution_count": 327
        }
      ]
    },
    {
      "cell_type": "code",
      "metadata": {
        "id": "PonHEpp9XCai",
        "colab_type": "code",
        "colab": {}
      },
      "source": [
        "Too_2 = np.power(Too_1,2)"
      ],
      "execution_count": 0,
      "outputs": []
    },
    {
      "cell_type": "code",
      "metadata": {
        "id": "URxzhR7-XL3T",
        "colab_type": "code",
        "outputId": "29da6438-afab-4cf0-824d-eb9893032cc7",
        "colab": {
          "base_uri": "https://localhost:8080/",
          "height": 34
        }
      },
      "source": [
        "Too_2.shape"
      ],
      "execution_count": 329,
      "outputs": [
        {
          "output_type": "execute_result",
          "data": {
            "text/plain": [
              "(1, 2)"
            ]
          },
          "metadata": {
            "tags": []
          },
          "execution_count": 329
        }
      ]
    },
    {
      "cell_type": "code",
      "metadata": {
        "id": "v8ajP5DRXN3C",
        "colab_type": "code",
        "outputId": "043eba33-1bb9-406e-fed9-c408b3b8d88a",
        "colab": {
          "base_uri": "https://localhost:8080/",
          "height": 34
        }
      },
      "source": [
        "Too_2"
      ],
      "execution_count": 330,
      "outputs": [
        {
          "output_type": "execute_result",
          "data": {
            "text/plain": [
              "array([[0.01, 0.09]])"
            ]
          },
          "metadata": {
            "tags": []
          },
          "execution_count": 330
        }
      ]
    },
    {
      "cell_type": "code",
      "metadata": {
        "id": "8mQVFXBwXPbz",
        "colab_type": "code",
        "colab": {}
      },
      "source": [
        "Too_3 = np.sum(Too_2,axis=1)"
      ],
      "execution_count": 0,
      "outputs": []
    },
    {
      "cell_type": "code",
      "metadata": {
        "id": "iXogxzbnXWvn",
        "colab_type": "code",
        "outputId": "4742c942-a34b-4b41-a62f-6adaddbfa96e",
        "colab": {
          "base_uri": "https://localhost:8080/",
          "height": 34
        }
      },
      "source": [
        "Too_3.shape"
      ],
      "execution_count": 332,
      "outputs": [
        {
          "output_type": "execute_result",
          "data": {
            "text/plain": [
              "(1,)"
            ]
          },
          "metadata": {
            "tags": []
          },
          "execution_count": 332
        }
      ]
    },
    {
      "cell_type": "code",
      "metadata": {
        "id": "BSaxjUb8XY82",
        "colab_type": "code",
        "outputId": "f1a33b76-8a88-487d-c3e6-a006321c66c5",
        "colab": {
          "base_uri": "https://localhost:8080/",
          "height": 34
        }
      },
      "source": [
        "Too_3"
      ],
      "execution_count": 333,
      "outputs": [
        {
          "output_type": "execute_result",
          "data": {
            "text/plain": [
              "array([0.1])"
            ]
          },
          "metadata": {
            "tags": []
          },
          "execution_count": 333
        }
      ]
    },
    {
      "cell_type": "code",
      "metadata": {
        "id": "m1_gD_yCXb89",
        "colab_type": "code",
        "colab": {}
      },
      "source": [
        "Too_4 = np.sqrt(Too_3)"
      ],
      "execution_count": 0,
      "outputs": []
    },
    {
      "cell_type": "code",
      "metadata": {
        "id": "SB4qXSH_XmE8",
        "colab_type": "code",
        "outputId": "28069491-d539-4c6a-dd34-7523975c7cc2",
        "colab": {
          "base_uri": "https://localhost:8080/",
          "height": 34
        }
      },
      "source": [
        "Too_4.shape"
      ],
      "execution_count": 335,
      "outputs": [
        {
          "output_type": "execute_result",
          "data": {
            "text/plain": [
              "(1,)"
            ]
          },
          "metadata": {
            "tags": []
          },
          "execution_count": 335
        }
      ]
    },
    {
      "cell_type": "code",
      "metadata": {
        "id": "4iR1JiPkXn5q",
        "colab_type": "code",
        "outputId": "cde02d78-9377-429d-816c-c56459d11784",
        "colab": {
          "base_uri": "https://localhost:8080/",
          "height": 34
        }
      },
      "source": [
        "Too_4[0]"
      ],
      "execution_count": 336,
      "outputs": [
        {
          "output_type": "execute_result",
          "data": {
            "text/plain": [
              "0.31622776601683766"
            ]
          },
          "metadata": {
            "tags": []
          },
          "execution_count": 336
        }
      ]
    },
    {
      "cell_type": "markdown",
      "metadata": {
        "id": "RCatKnFUhzV4",
        "colab_type": "text"
      },
      "source": [
        "Using Tiling now"
      ]
    },
    {
      "cell_type": "code",
      "metadata": {
        "id": "LBlCEHb4XpTT",
        "colab_type": "code",
        "colab": {}
      },
      "source": [
        "Cho_test = Xtemp_test[:2,feat]"
      ],
      "execution_count": 0,
      "outputs": []
    },
    {
      "cell_type": "code",
      "metadata": {
        "id": "C_XooPxmiAQE",
        "colab_type": "code",
        "colab": {
          "base_uri": "https://localhost:8080/",
          "height": 34
        },
        "outputId": "43698c22-4433-4e5a-a7fd-4a5c52f8150d"
      },
      "source": [
        "Cho_test.shape"
      ],
      "execution_count": 338,
      "outputs": [
        {
          "output_type": "execute_result",
          "data": {
            "text/plain": [
              "(2, 2)"
            ]
          },
          "metadata": {
            "tags": []
          },
          "execution_count": 338
        }
      ]
    },
    {
      "cell_type": "code",
      "metadata": {
        "id": "J_cUqEkPiFva",
        "colab_type": "code",
        "colab": {
          "base_uri": "https://localhost:8080/",
          "height": 52
        },
        "outputId": "ec4b6fcc-f488-4d4c-df51-e6a947cba178"
      },
      "source": [
        "Cho_test"
      ],
      "execution_count": 339,
      "outputs": [
        {
          "output_type": "execute_result",
          "data": {
            "text/plain": [
              "array([[4.9, 3.1],\n",
              "       [5.4, 3.7]])"
            ]
          },
          "metadata": {
            "tags": []
          },
          "execution_count": 339
        }
      ]
    },
    {
      "cell_type": "code",
      "metadata": {
        "id": "LKoGkMrxiNg7",
        "colab_type": "code",
        "colab": {}
      },
      "source": [
        "Cho_train = Xtemp_train[:2,feat]"
      ],
      "execution_count": 0,
      "outputs": []
    },
    {
      "cell_type": "code",
      "metadata": {
        "id": "OKUqPmWDibGt",
        "colab_type": "code",
        "colab": {
          "base_uri": "https://localhost:8080/",
          "height": 34
        },
        "outputId": "181387c8-3e8b-410a-ca36-9d1e5f1df251"
      },
      "source": [
        "Cho_train.shape"
      ],
      "execution_count": 341,
      "outputs": [
        {
          "output_type": "execute_result",
          "data": {
            "text/plain": [
              "(2, 2)"
            ]
          },
          "metadata": {
            "tags": []
          },
          "execution_count": 341
        }
      ]
    },
    {
      "cell_type": "code",
      "metadata": {
        "id": "ft-KQMzTicvB",
        "colab_type": "code",
        "colab": {
          "base_uri": "https://localhost:8080/",
          "height": 52
        },
        "outputId": "bd94ef7b-1e4d-4d3f-eccb-ea40ef0cbb1c"
      },
      "source": [
        "Cho_train"
      ],
      "execution_count": 342,
      "outputs": [
        {
          "output_type": "execute_result",
          "data": {
            "text/plain": [
              "array([[5. , 3.4],\n",
              "       [4.7, 3.2]])"
            ]
          },
          "metadata": {
            "tags": []
          },
          "execution_count": 342
        }
      ]
    },
    {
      "cell_type": "code",
      "metadata": {
        "id": "MriyJmdeid--",
        "colab_type": "code",
        "colab": {}
      },
      "source": [
        "Cho_index = Cho_train.shape[0]"
      ],
      "execution_count": 0,
      "outputs": []
    },
    {
      "cell_type": "code",
      "metadata": {
        "id": "9IXfSOdhimSD",
        "colab_type": "code",
        "colab": {
          "base_uri": "https://localhost:8080/",
          "height": 34
        },
        "outputId": "e193c42a-97da-4641-d4de-d3e3d3840844"
      },
      "source": [
        "Cho_index"
      ],
      "execution_count": 344,
      "outputs": [
        {
          "output_type": "execute_result",
          "data": {
            "text/plain": [
              "2"
            ]
          },
          "metadata": {
            "tags": []
          },
          "execution_count": 344
        }
      ]
    },
    {
      "cell_type": "code",
      "metadata": {
        "id": "AJrt0LBstb19",
        "colab_type": "code",
        "colab": {}
      },
      "source": [
        ""
      ],
      "execution_count": 0,
      "outputs": []
    },
    {
      "cell_type": "code",
      "metadata": {
        "id": "Uu8A-H0VinmC",
        "colab_type": "code",
        "colab": {}
      },
      "source": [
        "Cho_test_tiled = np.tile(Cho_test, (Cho_index,1))"
      ],
      "execution_count": 0,
      "outputs": []
    },
    {
      "cell_type": "code",
      "metadata": {
        "id": "oncZrBUcixH2",
        "colab_type": "code",
        "colab": {
          "base_uri": "https://localhost:8080/",
          "height": 87
        },
        "outputId": "c801628c-bdd0-4ae0-817e-1109262dacf2"
      },
      "source": [
        "Cho_test_tiled"
      ],
      "execution_count": 346,
      "outputs": [
        {
          "output_type": "execute_result",
          "data": {
            "text/plain": [
              "array([[4.9, 3.1],\n",
              "       [5.4, 3.7],\n",
              "       [4.9, 3.1],\n",
              "       [5.4, 3.7]])"
            ]
          },
          "metadata": {
            "tags": []
          },
          "execution_count": 346
        }
      ]
    },
    {
      "cell_type": "code",
      "metadata": {
        "id": "2A0FrQcUi1VC",
        "colab_type": "code",
        "colab": {
          "base_uri": "https://localhost:8080/",
          "height": 158
        },
        "outputId": "8f853e12-b150-4edc-c34f-09ca928a9cdb"
      },
      "source": [
        "for i in range(Cho_index):\n",
        "  print(Cho_train[i])\n",
        "  print(Cho_test_tiled[i])\n",
        "  print(Cho_train[i] - Cho_test_tiled[i])\n",
        "  print(\"----\")"
      ],
      "execution_count": 347,
      "outputs": [
        {
          "output_type": "stream",
          "text": [
            "[5.  3.4]\n",
            "[4.9 3.1]\n",
            "[0.1 0.3]\n",
            "----\n",
            "[4.7 3.2]\n",
            "[5.4 3.7]\n",
            "[-0.7 -0.5]\n",
            "----\n"
          ],
          "name": "stdout"
        }
      ]
    },
    {
      "cell_type": "code",
      "metadata": {
        "id": "_pRTRORBjyIe",
        "colab_type": "code",
        "colab": {}
      },
      "source": [
        "Cho_tile_index = Cho_test_tiled.shape[0]"
      ],
      "execution_count": 0,
      "outputs": []
    },
    {
      "cell_type": "code",
      "metadata": {
        "id": "vCG4cQSXj434",
        "colab_type": "code",
        "colab": {
          "base_uri": "https://localhost:8080/",
          "height": 34
        },
        "outputId": "854524f1-2ecb-4fc8-8a46-fcc7eee1ae7b"
      },
      "source": [
        "print(Cho_tile_index)"
      ],
      "execution_count": 349,
      "outputs": [
        {
          "output_type": "stream",
          "text": [
            "4\n"
          ],
          "name": "stdout"
        }
      ]
    },
    {
      "cell_type": "code",
      "metadata": {
        "id": "Xmjq89H1jM84",
        "colab_type": "code",
        "colab": {
          "base_uri": "https://localhost:8080/",
          "height": 34
        },
        "outputId": "4d8037fd-5efd-4ba6-da41-3087f3b545fc"
      },
      "source": [
        "'''\n",
        "for i in range(Cho_tile_index):\n",
        "  print(Cho_train[i])\n",
        "  print(Cho_test_tiled[i])\n",
        "  print(Cho_train[i] - Cho_test_tiled[i])\n",
        "  print(\"----\")\n",
        "'''"
      ],
      "execution_count": 351,
      "outputs": [
        {
          "output_type": "execute_result",
          "data": {
            "text/plain": [
              "'\\nfor i in range(Cho_tile_index):\\n  print(Cho_train[i])\\n  print(Cho_test_tiled[i])\\n  print(Cho_train[i] - Cho_test_tiled[i])\\n  print(\"----\")\\n'"
            ]
          },
          "metadata": {
            "tags": []
          },
          "execution_count": 351
        }
      ]
    },
    {
      "cell_type": "code",
      "metadata": {
        "id": "9Gxvrsr8kAf5",
        "colab_type": "code",
        "colab": {
          "base_uri": "https://localhost:8080/",
          "height": 487
        },
        "outputId": "765ed242-0310-4109-b663-06dac8039fdd"
      },
      "source": [
        "for i in range(Cho_tile_index):\n",
        "  print(Cho_train[i])\n",
        "  print(Cho_test_tiled[i])\n",
        "  print(Cho_train[i] - Cho_test_tiled)\n",
        "  print(\"----\")"
      ],
      "execution_count": 352,
      "outputs": [
        {
          "output_type": "stream",
          "text": [
            "[5.  3.4]\n",
            "[4.9 3.1]\n",
            "[[ 0.1  0.3]\n",
            " [-0.4 -0.3]\n",
            " [ 0.1  0.3]\n",
            " [-0.4 -0.3]]\n",
            "----\n",
            "[4.7 3.2]\n",
            "[5.4 3.7]\n",
            "[[-0.2  0.1]\n",
            " [-0.7 -0.5]\n",
            " [-0.2  0.1]\n",
            " [-0.7 -0.5]]\n",
            "----\n"
          ],
          "name": "stdout"
        },
        {
          "output_type": "error",
          "ename": "IndexError",
          "evalue": "ignored",
          "traceback": [
            "\u001b[0;31m---------------------------------------------------------------------------\u001b[0m",
            "\u001b[0;31mIndexError\u001b[0m                                Traceback (most recent call last)",
            "\u001b[0;32m<ipython-input-352-d48401801de5>\u001b[0m in \u001b[0;36m<module>\u001b[0;34m()\u001b[0m\n\u001b[1;32m      1\u001b[0m \u001b[0;32mfor\u001b[0m \u001b[0mi\u001b[0m \u001b[0;32min\u001b[0m \u001b[0mrange\u001b[0m\u001b[0;34m(\u001b[0m\u001b[0mCho_tile_index\u001b[0m\u001b[0;34m)\u001b[0m\u001b[0;34m:\u001b[0m\u001b[0;34m\u001b[0m\u001b[0;34m\u001b[0m\u001b[0m\n\u001b[0;32m----> 2\u001b[0;31m   \u001b[0mprint\u001b[0m\u001b[0;34m(\u001b[0m\u001b[0mCho_train\u001b[0m\u001b[0;34m[\u001b[0m\u001b[0mi\u001b[0m\u001b[0;34m]\u001b[0m\u001b[0;34m)\u001b[0m\u001b[0;34m\u001b[0m\u001b[0;34m\u001b[0m\u001b[0m\n\u001b[0m\u001b[1;32m      3\u001b[0m   \u001b[0mprint\u001b[0m\u001b[0;34m(\u001b[0m\u001b[0mCho_test_tiled\u001b[0m\u001b[0;34m[\u001b[0m\u001b[0mi\u001b[0m\u001b[0;34m]\u001b[0m\u001b[0;34m)\u001b[0m\u001b[0;34m\u001b[0m\u001b[0;34m\u001b[0m\u001b[0m\n\u001b[1;32m      4\u001b[0m   \u001b[0mprint\u001b[0m\u001b[0;34m(\u001b[0m\u001b[0mCho_train\u001b[0m\u001b[0;34m[\u001b[0m\u001b[0mi\u001b[0m\u001b[0;34m]\u001b[0m \u001b[0;34m-\u001b[0m \u001b[0mCho_test_tiled\u001b[0m\u001b[0;34m)\u001b[0m\u001b[0;34m\u001b[0m\u001b[0;34m\u001b[0m\u001b[0m\n\u001b[1;32m      5\u001b[0m   \u001b[0mprint\u001b[0m\u001b[0;34m(\u001b[0m\u001b[0;34m\"----\"\u001b[0m\u001b[0;34m)\u001b[0m\u001b[0;34m\u001b[0m\u001b[0;34m\u001b[0m\u001b[0m\n",
            "\u001b[0;31mIndexError\u001b[0m: index 2 is out of bounds for axis 0 with size 2"
          ]
        }
      ]
    },
    {
      "cell_type": "code",
      "metadata": {
        "id": "OxbuWeWKk_mf",
        "colab_type": "code",
        "colab": {
          "base_uri": "https://localhost:8080/",
          "height": 265
        },
        "outputId": "d08c31eb-9ceb-4724-8331-36d4c279de91"
      },
      "source": [
        "for i in range(Cho_index):\n",
        "  print(Cho_train[i])\n",
        "  print(Cho_test_tiled[i])\n",
        "  print(Cho_train[i] - Cho_test_tiled)\n",
        "  print(\"----\")"
      ],
      "execution_count": 353,
      "outputs": [
        {
          "output_type": "stream",
          "text": [
            "[5.  3.4]\n",
            "[4.9 3.1]\n",
            "[[ 0.1  0.3]\n",
            " [-0.4 -0.3]\n",
            " [ 0.1  0.3]\n",
            " [-0.4 -0.3]]\n",
            "----\n",
            "[4.7 3.2]\n",
            "[5.4 3.7]\n",
            "[[-0.2  0.1]\n",
            " [-0.7 -0.5]\n",
            " [-0.2  0.1]\n",
            " [-0.7 -0.5]]\n",
            "----\n"
          ],
          "name": "stdout"
        }
      ]
    },
    {
      "cell_type": "code",
      "metadata": {
        "id": "NToP2fuklRB6",
        "colab_type": "code",
        "colab": {
          "base_uri": "https://localhost:8080/",
          "height": 372
        },
        "outputId": "2936d87c-6df4-4a10-8faa-5fb9fff115cd"
      },
      "source": [
        "for i in range(Cho_index):\n",
        "  print(Cho_train[i])\n",
        "  print(Cho_test_tiled)\n",
        "  print(Cho_train[i] - Cho_test_tiled)\n",
        "  print(\"----\")"
      ],
      "execution_count": 354,
      "outputs": [
        {
          "output_type": "stream",
          "text": [
            "[5.  3.4]\n",
            "[[4.9 3.1]\n",
            " [5.4 3.7]\n",
            " [4.9 3.1]\n",
            " [5.4 3.7]]\n",
            "[[ 0.1  0.3]\n",
            " [-0.4 -0.3]\n",
            " [ 0.1  0.3]\n",
            " [-0.4 -0.3]]\n",
            "----\n",
            "[4.7 3.2]\n",
            "[[4.9 3.1]\n",
            " [5.4 3.7]\n",
            " [4.9 3.1]\n",
            " [5.4 3.7]]\n",
            "[[-0.2  0.1]\n",
            " [-0.7 -0.5]\n",
            " [-0.2  0.1]\n",
            " [-0.7 -0.5]]\n",
            "----\n"
          ],
          "name": "stdout"
        }
      ]
    },
    {
      "cell_type": "code",
      "metadata": {
        "id": "u32DhLO2ljVp",
        "colab_type": "code",
        "colab": {
          "base_uri": "https://localhost:8080/",
          "height": 230
        },
        "outputId": "84c8270c-515e-4b8f-a5c4-df2cd8ea59d5"
      },
      "source": [
        "for i in range(Cho_index):\n",
        "  print(Cho_train[i])\n",
        "  print(Cho_test)\n",
        "  print(Cho_train[i] - Cho_test)\n",
        "  print(\"----\")"
      ],
      "execution_count": 355,
      "outputs": [
        {
          "output_type": "stream",
          "text": [
            "[5.  3.4]\n",
            "[[4.9 3.1]\n",
            " [5.4 3.7]]\n",
            "[[ 0.1  0.3]\n",
            " [-0.4 -0.3]]\n",
            "----\n",
            "[4.7 3.2]\n",
            "[[4.9 3.1]\n",
            " [5.4 3.7]]\n",
            "[[-0.2  0.1]\n",
            " [-0.7 -0.5]]\n",
            "----\n"
          ],
          "name": "stdout"
        }
      ]
    },
    {
      "cell_type": "code",
      "metadata": {
        "id": "0uhYabGOtvta",
        "colab_type": "code",
        "colab": {
          "base_uri": "https://localhost:8080/",
          "height": 34
        },
        "outputId": "e9ba54f6-7507-4a6c-d170-78fa8ee90566"
      },
      "source": [
        "\n",
        "Cho_train_index = Cho_train.shape[0]\n",
        "\n",
        "Cho_train_index"
      ],
      "execution_count": 369,
      "outputs": [
        {
          "output_type": "execute_result",
          "data": {
            "text/plain": [
              "2"
            ]
          },
          "metadata": {
            "tags": []
          },
          "execution_count": 369
        }
      ]
    },
    {
      "cell_type": "code",
      "metadata": {
        "id": "u4dayscNtzxe",
        "colab_type": "code",
        "colab": {
          "base_uri": "https://localhost:8080/",
          "height": 34
        },
        "outputId": "f9f3b250-53f2-4769-e074-32f9e624492e"
      },
      "source": [
        "Cho_test_index = Cho_test.shape[0]\n",
        "Cho_test_index"
      ],
      "execution_count": 370,
      "outputs": [
        {
          "output_type": "execute_result",
          "data": {
            "text/plain": [
              "2"
            ]
          },
          "metadata": {
            "tags": []
          },
          "execution_count": 370
        }
      ]
    },
    {
      "cell_type": "code",
      "metadata": {
        "id": "cnAMyTpdp5yP",
        "colab_type": "code",
        "colab": {
          "base_uri": "https://localhost:8080/",
          "height": 34
        },
        "outputId": "aa6d999f-efa0-47b2-980c-adaab943d30f"
      },
      "source": [
        "#result = np.zeros(Cho_index)\n",
        "\n",
        "\n",
        "\n",
        "cho_dists = np.zeros((Cho_train_index, Cho_test_index))\n",
        "cho_dists.shape"
      ],
      "execution_count": 372,
      "outputs": [
        {
          "output_type": "execute_result",
          "data": {
            "text/plain": [
              "(2, 2)"
            ]
          },
          "metadata": {
            "tags": []
          },
          "execution_count": 372
        }
      ]
    },
    {
      "cell_type": "code",
      "metadata": {
        "id": "xXqpmDCmmOhs",
        "colab_type": "code",
        "colab": {
          "base_uri": "https://localhost:8080/",
          "height": 230
        },
        "outputId": "bddbd36a-7b52-4d55-8b50-36467fea5567"
      },
      "source": [
        "for i in range(Cho_index):\n",
        "  print(Cho_train[i])\n",
        "  print(Cho_test)\n",
        "  print(Cho_train[i] - Cho_test)\n",
        "  print(\"----\")\n",
        "  cho_dists[i,:] = np.sqrt(np.sum(np.square(Cho_train[i] - Cho_test),axis=1))\n"
      ],
      "execution_count": 373,
      "outputs": [
        {
          "output_type": "stream",
          "text": [
            "[5.  3.4]\n",
            "[[4.9 3.1]\n",
            " [5.4 3.7]]\n",
            "[[ 0.1  0.3]\n",
            " [-0.4 -0.3]]\n",
            "----\n",
            "[4.7 3.2]\n",
            "[[4.9 3.1]\n",
            " [5.4 3.7]]\n",
            "[[-0.2  0.1]\n",
            " [-0.7 -0.5]]\n",
            "----\n"
          ],
          "name": "stdout"
        }
      ]
    },
    {
      "cell_type": "code",
      "metadata": {
        "id": "yc64IV0WnluB",
        "colab_type": "code",
        "colab": {
          "base_uri": "https://localhost:8080/",
          "height": 52
        },
        "outputId": "cbb821bf-69af-49af-bb41-f7638e4d1faa"
      },
      "source": [
        "cho_dists"
      ],
      "execution_count": 374,
      "outputs": [
        {
          "output_type": "execute_result",
          "data": {
            "text/plain": [
              "array([[0.31622777, 0.5       ],\n",
              "       [0.2236068 , 0.86023253]])"
            ]
          },
          "metadata": {
            "tags": []
          },
          "execution_count": 374
        }
      ]
    },
    {
      "cell_type": "code",
      "metadata": {
        "id": "qcgR5Nyypbj1",
        "colab_type": "code",
        "colab": {}
      },
      "source": [
        ""
      ],
      "execution_count": 0,
      "outputs": []
    }
  ]
}