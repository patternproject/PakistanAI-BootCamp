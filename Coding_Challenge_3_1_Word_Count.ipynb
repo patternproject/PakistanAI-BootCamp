{
  "nbformat": 4,
  "nbformat_minor": 0,
  "metadata": {
    "kernelspec": {
      "display_name": "Python 3",
      "language": "python",
      "name": "python3"
    },
    "language_info": {
      "codemirror_mode": {
        "name": "ipython",
        "version": 3
      },
      "file_extension": ".py",
      "mimetype": "text/x-python",
      "name": "python",
      "nbconvert_exporter": "python",
      "pygments_lexer": "ipython3",
      "version": "3.7.4"
    },
    "colab": {
      "name": "Coding Challenge # 3.1 - Word Count.ipynb",
      "provenance": [],
      "include_colab_link": true
    }
  },
  "cells": [
    {
      "cell_type": "markdown",
      "metadata": {
        "id": "view-in-github",
        "colab_type": "text"
      },
      "source": [
        "<a href=\"https://colab.research.google.com/github/patternproject/PakistanAI-BootCamp/blob/Week-1/Coding_Challenge_3_1_Word_Count.ipynb\" target=\"_parent\"><img src=\"https://colab.research.google.com/assets/colab-badge.svg\" alt=\"Open In Colab\"/></a>"
      ]
    },
    {
      "cell_type": "markdown",
      "metadata": {
        "id": "3E9qzSZU-DZX",
        "colab_type": "text"
      },
      "source": [
        "# Word count exercise\n",
        "You are provided with a file named `alice.txt`. This file contains the famous story **Alice's Adventures in Wonderland**.\n",
        "your goal is to implement the following tasks using that file."
      ]
    },
    {
      "cell_type": "code",
      "metadata": {
        "id": "Yg0upl9T-DZY",
        "colab_type": "code",
        "colab": {}
      },
      "source": [
        "# Implement the function file_to_list that receives a filename \n",
        "# and returns a list of words in that file\n",
        "# Use str.split() (no arguments) to split on all whitespace.\n",
        "# for opening and reading a file, look for a functions open(...) and read lines(...)\n",
        "\n",
        "\n",
        "def file_to_string():\n",
        "    # your code here\n",
        "    return\n",
        "    "
      ],
      "execution_count": 0,
      "outputs": []
    },
    {
      "cell_type": "code",
      "metadata": {
        "collapsed": true,
        "id": "E_bbGkLo-DZb",
        "colab_type": "code",
        "colab": {}
      },
      "source": [
        "# implement a print_words(filename) function that counts\n",
        "# how often each word appears in the text and prints:\n",
        "# word1 count1\n",
        "# word2 count2\n",
        "# ...\n",
        "# Print the above list in order sorted by word (python will sort punctuation to\n",
        "# come before letters -- that's fine). Store all the words as lowercase,\n",
        "# so 'The' and 'the' count as the same word.\n",
        "\n",
        "def print_count(list_of_words):\n",
        "    # you code here\n",
        "    return"
      ],
      "execution_count": 0,
      "outputs": []
    },
    {
      "cell_type": "code",
      "metadata": {
        "collapsed": true,
        "id": "AXZzM063-DZd",
        "colab_type": "code",
        "colab": {}
      },
      "source": [
        "# implement a print_top(filename) which is similar\n",
        "# to print_words() but which prints just the top 20 most common words sorted\n",
        "# so the most common word is first, then the next most common, and so on.\n",
        "\n",
        "\n",
        "def print_top(list_of_words):\n",
        "    #your code here\n",
        "    return"
      ],
      "execution_count": 0,
      "outputs": []
    }
  ]
}