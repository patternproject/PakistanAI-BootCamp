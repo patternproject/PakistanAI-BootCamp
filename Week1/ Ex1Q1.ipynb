{
  "nbformat": 4,
  "nbformat_minor": 0,
  "metadata": {
    "colab": {
      "name": "Ex1Q1.ipynb",
      "provenance": [],
      "include_colab_link": true
    },
    "kernelspec": {
      "name": "python3",
      "display_name": "Python 3"
    }
  },
  "cells": [
    {
      "cell_type": "markdown",
      "metadata": {
        "id": "view-in-github",
        "colab_type": "text"
      },
      "source": [
        "<a href=\"https://colab.research.google.com/github/patternproject/PakistanAI-BootCamp/blob/master/Week1/%20Ex1Q1.ipynb\" target=\"_parent\"><img src=\"https://colab.research.google.com/assets/colab-badge.svg\" alt=\"Open In Colab\"/></a>"
      ]
    },
    {
      "cell_type": "markdown",
      "metadata": {
        "id": "t3jKJ_Oas_SJ",
        "colab_type": "text"
      },
      "source": [
        "Coding Challenge # 1.1 \n",
        "\n",
        "Q1"
      ]
    },
    {
      "cell_type": "markdown",
      "metadata": {
        "id": "cZekxVYMv4_h",
        "colab_type": "text"
      },
      "source": [
        "Target was:\n",
        "\n",
        "A. match_ends\n",
        "Given a list of strings, return the count of the number of\n",
        "strings where the string length is 2 or more and the first\n",
        "and last chars of the string are the same.\n",
        "\n",
        "Note: python does not have a ++ operator, but += works.\n",
        "\n",
        "def match_ends(words):\n",
        "  +++your code here+++\n",
        "  return"
      ]
    },
    {
      "cell_type": "code",
      "metadata": {
        "id": "q2ut4ghQmOox",
        "colab_type": "code",
        "colab": {}
      },
      "source": [
        "import string"
      ],
      "execution_count": 0,
      "outputs": []
    },
    {
      "cell_type": "code",
      "metadata": {
        "id": "sts-vOk7mcOZ",
        "colab_type": "code",
        "colab": {}
      },
      "source": [
        "test_1 = \"abc\"\n",
        "test_2 = \"\"\n",
        "test_3 = \"lllllllllllllllllll\"\n",
        "test_4 = \"abcda\""
      ],
      "execution_count": 0,
      "outputs": []
    },
    {
      "cell_type": "code",
      "metadata": {
        "id": "geKVb7iHmRd0",
        "colab_type": "code",
        "colab": {}
      },
      "source": [
        "def fun_1(str_input):\n",
        "  # check length of string\n",
        "  print(len(str_input))"
      ],
      "execution_count": 0,
      "outputs": []
    },
    {
      "cell_type": "code",
      "metadata": {
        "id": "e9ApRvoFmlkX",
        "colab_type": "code",
        "outputId": "1935929d-17c1-44e7-c7d8-223792a6dca2",
        "colab": {
          "base_uri": "https://localhost:8080/",
          "height": 34
        }
      },
      "source": [
        "fun_1(test_1)"
      ],
      "execution_count": 0,
      "outputs": [
        {
          "output_type": "stream",
          "text": [
            "3\n"
          ],
          "name": "stdout"
        }
      ]
    },
    {
      "cell_type": "code",
      "metadata": {
        "id": "Vu29lj0omsWY",
        "colab_type": "code",
        "outputId": "9e957489-8823-477c-d574-0b603b83a6a0",
        "colab": {
          "base_uri": "https://localhost:8080/",
          "height": 34
        }
      },
      "source": [
        "fun_1(test_2)"
      ],
      "execution_count": 0,
      "outputs": [
        {
          "output_type": "stream",
          "text": [
            "0\n"
          ],
          "name": "stdout"
        }
      ]
    },
    {
      "cell_type": "code",
      "metadata": {
        "id": "HnP3SH1pvlUM",
        "colab_type": "code",
        "outputId": "a20549d7-c4c5-409f-baa9-764e2928e5f1",
        "colab": {
          "base_uri": "https://localhost:8080/",
          "height": 52
        }
      },
      "source": [
        "def fun_2(list_str_input):\n",
        "  for l in list_str_input:\n",
        "    print(len(l))\n",
        "\n",
        "\n",
        "fun_2([test_1,test_2])"
      ],
      "execution_count": 0,
      "outputs": [
        {
          "output_type": "stream",
          "text": [
            "3\n",
            "0\n"
          ],
          "name": "stdout"
        }
      ]
    },
    {
      "cell_type": "code",
      "metadata": {
        "id": "idgSUCxev3s0",
        "colab_type": "code",
        "outputId": "bd40750c-a155-41e3-de99-fae59cafee5a",
        "colab": {
          "base_uri": "https://localhost:8080/",
          "height": 34
        }
      },
      "source": [
        "def fun_3(list_str_input):\n",
        "  count=0\n",
        "  for l in list_str_input:\n",
        "    if (len(l)>2):\n",
        "      count +=1\n",
        "  return count\n",
        "\n",
        "fun_3([test_1,test_2,test_3])"
      ],
      "execution_count": 0,
      "outputs": [
        {
          "output_type": "execute_result",
          "data": {
            "text/plain": [
              "2"
            ]
          },
          "metadata": {
            "tags": []
          },
          "execution_count": 32
        }
      ]
    },
    {
      "cell_type": "code",
      "metadata": {
        "id": "bM49HTQcwctZ",
        "colab_type": "code",
        "colab": {}
      },
      "source": [
        "def fun_4(list_str_input):\n",
        "  count=0\n",
        "  for l in list_str_input:\n",
        "    if (len(l)>2) and (l[0] == l[len(l)-1]):\n",
        "      count +=1\n",
        "  return count"
      ],
      "execution_count": 0,
      "outputs": []
    },
    {
      "cell_type": "code",
      "metadata": {
        "id": "J_FyV-McxF2G",
        "colab_type": "code",
        "outputId": "5792614b-d0e2-4ee9-b2c6-540d5bedb667",
        "colab": {
          "base_uri": "https://localhost:8080/",
          "height": 34
        }
      },
      "source": [
        "fun_4([test_1,test_2,test_3,test_4])"
      ],
      "execution_count": 0,
      "outputs": [
        {
          "output_type": "execute_result",
          "data": {
            "text/plain": [
              "2"
            ]
          },
          "metadata": {
            "tags": []
          },
          "execution_count": 34
        }
      ]
    },
    {
      "cell_type": "code",
      "metadata": {
        "id": "wp2eZHBxxR4g",
        "colab_type": "code",
        "colab": {}
      },
      "source": [
        ""
      ],
      "execution_count": 0,
      "outputs": []
    }
  ]
}