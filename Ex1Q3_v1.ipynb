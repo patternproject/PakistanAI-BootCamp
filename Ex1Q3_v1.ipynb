{
  "nbformat": 4,
  "nbformat_minor": 0,
  "metadata": {
    "colab": {
      "name": "Ex1Q3-v1.ipynb",
      "provenance": [],
      "authorship_tag": "ABX9TyOkkfAvBqhZfe2DPlIqWErw",
      "include_colab_link": true
    },
    "kernelspec": {
      "name": "python3",
      "display_name": "Python 3"
    }
  },
  "cells": [
    {
      "cell_type": "markdown",
      "metadata": {
        "id": "view-in-github",
        "colab_type": "text"
      },
      "source": [
        "<a href=\"https://colab.research.google.com/github/patternproject/PakistanAI-BootCamp/blob/master/Ex1Q3_v1.ipynb\" target=\"_parent\"><img src=\"https://colab.research.google.com/assets/colab-badge.svg\" alt=\"Open In Colab\"/></a>"
      ]
    },
    {
      "cell_type": "markdown",
      "metadata": {
        "id": "he_IGjvQ2Aap",
        "colab_type": "text"
      },
      "source": [
        "Coding Challenge # 1.1\n",
        "\n",
        "Q3"
      ]
    },
    {
      "cell_type": "code",
      "metadata": {
        "id": "bE6XPweh1_kW",
        "colab_type": "code",
        "colab": {}
      },
      "source": [
        "# C. sort_last\n",
        "# Given a list of non-empty tuples, return a list sorted in increasing\n",
        "# order by the last element in each tuple.\n",
        "# e.g. [(1, 7), (1, 3), (3, 4, 5), (2, 2)] yields\n",
        "# [(2, 2), (1, 3), (3, 4, 5), (1, 7)]\n",
        "# Hint: use a custom key= function to extract the last element form each tuple.\n",
        "def sort_last(tuples):\n",
        "  # +++your code here+++\n",
        "  return"
      ],
      "execution_count": 0,
      "outputs": []
    },
    {
      "cell_type": "code",
      "metadata": {
        "id": "Q6MyXDiK2jYd",
        "colab_type": "code",
        "colab": {}
      },
      "source": [
        ""
      ],
      "execution_count": 0,
      "outputs": []
    }
  ]
}