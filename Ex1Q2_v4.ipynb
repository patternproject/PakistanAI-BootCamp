{
  "nbformat": 4,
  "nbformat_minor": 0,
  "metadata": {
    "colab": {
      "name": "Ex1Q2-v4.ipynb",
      "provenance": [],
      "collapsed_sections": [],
      "authorship_tag": "ABX9TyN21JG6DyrLpKaGfcTUpwM2",
      "include_colab_link": true
    },
    "kernelspec": {
      "name": "python3",
      "display_name": "Python 3"
    }
  },
  "cells": [
    {
      "cell_type": "markdown",
      "metadata": {
        "id": "view-in-github",
        "colab_type": "text"
      },
      "source": [
        "<a href=\"https://colab.research.google.com/github/patternproject/PakistanAI-BootCamp/blob/master/Ex1Q2_v4.ipynb\" target=\"_parent\"><img src=\"https://colab.research.google.com/assets/colab-badge.svg\" alt=\"Open In Colab\"/></a>"
      ]
    },
    {
      "cell_type": "markdown",
      "metadata": {
        "id": "dwadu14OvHPj",
        "colab_type": "text"
      },
      "source": [
        "Coding Challenge # 1.1\n",
        "\n",
        "Q2"
      ]
    },
    {
      "cell_type": "code",
      "metadata": {
        "id": "4vEtcpuWwhuH",
        "colab_type": "code",
        "colab": {}
      },
      "source": [
        "# B. front_x\n",
        "# Given a list of strings, return a list with the strings\n",
        "# in sorted order, except group all the strings that begin with 'x' first.\n",
        "# e.g. ['mix', 'xyz', 'apple', 'xanadu', 'aardvark'] yields\n",
        "# ['xanadu', 'xyz', 'aardvark', 'apple', 'mix']\n",
        "# Hint: this can be done by making 2 lists and sorting each of them\n",
        "# before combining them.\n",
        "\n",
        "#def front_x(words):\n",
        "  # +++your code here+++\n",
        "#  return"
      ],
      "execution_count": 0,
      "outputs": []
    },
    {
      "cell_type": "code",
      "metadata": {
        "id": "qHq_uWyHwicS",
        "colab_type": "code",
        "colab": {}
      },
      "source": [
        "def front_x1(l_words):\n",
        "  l_start_x = []\n",
        "  l_not_x = []\n",
        "  \n",
        "  for l in l_words:\n",
        "    if(l[0] == 'x'):\n",
        "      l_start_x.append(l)\n",
        "    else:\n",
        "      l_not_x.append(l)\n",
        "\n",
        "  print(\"list with x\")\n",
        "  print(l_start_x)\n",
        "  print(\"\\n\")\n",
        "\n",
        "  print(\"list without x\")\n",
        "  print(l_not_x)\n",
        "  print(\"\\n\")\n",
        "  \n",
        "  print(\"appended lists\")\n",
        "  #print(l_start_x.extend(l_not_x))\n",
        "  print(l_start_x + l_not_x)\n",
        "  print(\"\\n\")\n",
        "  \n",
        "  \n",
        "  return(l_start_x + l_not_x)\n"
      ],
      "execution_count": 0,
      "outputs": []
    },
    {
      "cell_type": "code",
      "metadata": {
        "id": "IMGAJ9l3xcti",
        "colab_type": "code",
        "colab": {}
      },
      "source": [
        "test_1 = ['x','xy','aaa','f','xxx']\n",
        "test_2 = []\n",
        "test_3 = ['a']"
      ],
      "execution_count": 0,
      "outputs": []
    },
    {
      "cell_type": "code",
      "metadata": {
        "id": "0TT6MiYTy5UU",
        "colab_type": "code",
        "colab": {
          "base_uri": "https://localhost:8080/",
          "height": 246
        },
        "outputId": "9291aa4a-930e-4991-e079-ed5be90b8f9e"
      },
      "source": [
        "front_x1(test_1)"
      ],
      "execution_count": 42,
      "outputs": [
        {
          "output_type": "stream",
          "text": [
            "list with x\n",
            "['x', 'xy', 'xxx']\n",
            "\n",
            "\n",
            "list without x\n",
            "['aaa', 'f']\n",
            "\n",
            "\n",
            "appended lists\n",
            "['x', 'xy', 'xxx', 'aaa', 'f']\n",
            "\n",
            "\n"
          ],
          "name": "stdout"
        },
        {
          "output_type": "execute_result",
          "data": {
            "text/plain": [
              "['x', 'xy', 'xxx', 'aaa', 'f']"
            ]
          },
          "metadata": {
            "tags": []
          },
          "execution_count": 42
        }
      ]
    },
    {
      "cell_type": "code",
      "metadata": {
        "id": "6c92O8b70N4u",
        "colab_type": "code",
        "colab": {
          "base_uri": "https://localhost:8080/",
          "height": 246
        },
        "outputId": "802bcc26-d864-4796-f295-0ff6dcbb90a8"
      },
      "source": [
        "front_x1(test_2)"
      ],
      "execution_count": 43,
      "outputs": [
        {
          "output_type": "stream",
          "text": [
            "list with x\n",
            "[]\n",
            "\n",
            "\n",
            "list without x\n",
            "[]\n",
            "\n",
            "\n",
            "appended lists\n",
            "[]\n",
            "\n",
            "\n"
          ],
          "name": "stdout"
        },
        {
          "output_type": "execute_result",
          "data": {
            "text/plain": [
              "[]"
            ]
          },
          "metadata": {
            "tags": []
          },
          "execution_count": 43
        }
      ]
    },
    {
      "cell_type": "code",
      "metadata": {
        "id": "5obqifMt1rSS",
        "colab_type": "code",
        "colab": {
          "base_uri": "https://localhost:8080/",
          "height": 246
        },
        "outputId": "9ff9adfd-1c66-4d6e-cf7f-f30875ec4a1f"
      },
      "source": [
        "front_x1(test_3)"
      ],
      "execution_count": 44,
      "outputs": [
        {
          "output_type": "stream",
          "text": [
            "list with x\n",
            "[]\n",
            "\n",
            "\n",
            "list without x\n",
            "['a']\n",
            "\n",
            "\n",
            "appended lists\n",
            "['a']\n",
            "\n",
            "\n"
          ],
          "name": "stdout"
        },
        {
          "output_type": "execute_result",
          "data": {
            "text/plain": [
              "['a']"
            ]
          },
          "metadata": {
            "tags": []
          },
          "execution_count": 44
        }
      ]
    },
    {
      "cell_type": "code",
      "metadata": {
        "id": "rLE8QPZu1wSD",
        "colab_type": "code",
        "colab": {}
      },
      "source": [
        ""
      ],
      "execution_count": 0,
      "outputs": []
    }
  ]
}