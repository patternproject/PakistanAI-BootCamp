{
  "nbformat": 4,
  "nbformat_minor": 0,
  "metadata": {
    "colab": {
      "name": "numpy - v1.ipynb",
      "provenance": [],
      "collapsed_sections": [],
      "authorship_tag": "ABX9TyMjauoRFAg8ePdBERSAH/BI",
      "include_colab_link": true
    },
    "kernelspec": {
      "name": "python3",
      "display_name": "Python 3"
    }
  },
  "cells": [
    {
      "cell_type": "markdown",
      "metadata": {
        "id": "view-in-github",
        "colab_type": "text"
      },
      "source": [
        "<a href=\"https://colab.research.google.com/github/patternproject/p.PakistanAI-BootCamp/blob/Week-3/MyAttempt/numpy_v1.ipynb\" target=\"_parent\"><img src=\"https://colab.research.google.com/assets/colab-badge.svg\" alt=\"Open In Colab\"/></a>"
      ]
    },
    {
      "cell_type": "markdown",
      "metadata": {
        "id": "nJqY7oey2wpx",
        "colab_type": "text"
      },
      "source": [
        "# Revision History\n",
        "\n",
        "*   v1: Learning Numpy\n",
        "*   V2: Loading IRIS dataset and playing with it\n",
        "*   V3: Continued on V2\n",
        "\n"
      ]
    },
    {
      "cell_type": "code",
      "metadata": {
        "id": "5MLFNhJcybIJ",
        "colab_type": "code",
        "colab": {}
      },
      "source": [
        "import numpy as np\n",
        "import math\n",
        "import pandas as pd\n",
        "import tools as t # set of tools for plotting, data splitting, etc.."
      ],
      "execution_count": 0,
      "outputs": []
    },
    {
      "cell_type": "code",
      "metadata": {
        "id": "daLLPBMyyeLg",
        "colab_type": "code",
        "colab": {}
      },
      "source": [
        "p1 = np.array([1,2])\n",
        "p2 = np.array([3,4])"
      ],
      "execution_count": 0,
      "outputs": []
    },
    {
      "cell_type": "code",
      "metadata": {
        "id": "ysRnc2rAykUI",
        "colab_type": "code",
        "colab": {}
      },
      "source": [
        "distance = math.sqrt( ((p1[0]-p2[0])**2)+((p1[1]-p2[1])**2) )"
      ],
      "execution_count": 0,
      "outputs": []
    },
    {
      "cell_type": "code",
      "metadata": {
        "id": "Yy_Rx03Ey_s_",
        "colab_type": "code",
        "colab": {
          "base_uri": "https://localhost:8080/",
          "height": 34
        },
        "outputId": "3697a4f9-5342-42c7-bc7a-201c348443c7"
      },
      "source": [
        "print(distance)"
      ],
      "execution_count": 7,
      "outputs": [
        {
          "output_type": "stream",
          "text": [
            "2.8284271247461903\n"
          ],
          "name": "stdout"
        }
      ]
    },
    {
      "cell_type": "code",
      "metadata": {
        "id": "YwMhmH9NzFG1",
        "colab_type": "code",
        "colab": {
          "base_uri": "https://localhost:8080/",
          "height": 34
        },
        "outputId": "7023d742-c01f-440d-c0d3-d98d89f6ffb9"
      },
      "source": [
        " # Calculating distance \n",
        "math.sqrt(math.pow(p1[0] - p2[0], 2) + math.pow(p1[1] - p2[1], 2) ) "
      ],
      "execution_count": 9,
      "outputs": [
        {
          "output_type": "execute_result",
          "data": {
            "text/plain": [
              "2.8284271247461903"
            ]
          },
          "metadata": {
            "tags": []
          },
          "execution_count": 9
        }
      ]
    },
    {
      "cell_type": "code",
      "metadata": {
        "id": "aRAiIdk4zrWJ",
        "colab_type": "code",
        "colab": {}
      },
      "source": [
        "def my_f(p1,p2):\n",
        "  return (math.sqrt(math.pow(p1 - p2,2)))"
      ],
      "execution_count": 0,
      "outputs": []
    },
    {
      "cell_type": "code",
      "metadata": {
        "id": "AhLokfPTz9YB",
        "colab_type": "code",
        "colab": {
          "base_uri": "https://localhost:8080/",
          "height": 238
        },
        "outputId": "7d1f4fc6-ee86-41d4-8e77-ab4f12afa961"
      },
      "source": [
        "my_f(p1,p2)"
      ],
      "execution_count": 13,
      "outputs": [
        {
          "output_type": "error",
          "ename": "TypeError",
          "evalue": "ignored",
          "traceback": [
            "\u001b[0;31m---------------------------------------------------------------------------\u001b[0m",
            "\u001b[0;31mTypeError\u001b[0m                                 Traceback (most recent call last)",
            "\u001b[0;32m<ipython-input-13-4f1ee70df445>\u001b[0m in \u001b[0;36m<module>\u001b[0;34m()\u001b[0m\n\u001b[0;32m----> 1\u001b[0;31m \u001b[0mmy_f\u001b[0m\u001b[0;34m(\u001b[0m\u001b[0mp1\u001b[0m\u001b[0;34m,\u001b[0m\u001b[0mp2\u001b[0m\u001b[0;34m)\u001b[0m\u001b[0;34m\u001b[0m\u001b[0;34m\u001b[0m\u001b[0m\n\u001b[0m",
            "\u001b[0;32m<ipython-input-12-f9e498df4429>\u001b[0m in \u001b[0;36mmy_f\u001b[0;34m(p1, p2)\u001b[0m\n\u001b[1;32m      1\u001b[0m \u001b[0;32mdef\u001b[0m \u001b[0mmy_f\u001b[0m\u001b[0;34m(\u001b[0m\u001b[0mp1\u001b[0m\u001b[0;34m,\u001b[0m\u001b[0mp2\u001b[0m\u001b[0;34m)\u001b[0m\u001b[0;34m:\u001b[0m\u001b[0;34m\u001b[0m\u001b[0;34m\u001b[0m\u001b[0m\n\u001b[0;32m----> 2\u001b[0;31m   \u001b[0;32mreturn\u001b[0m \u001b[0;34m(\u001b[0m\u001b[0mmath\u001b[0m\u001b[0;34m.\u001b[0m\u001b[0msqrt\u001b[0m\u001b[0;34m(\u001b[0m\u001b[0mmath\u001b[0m\u001b[0;34m.\u001b[0m\u001b[0mpow\u001b[0m\u001b[0;34m(\u001b[0m\u001b[0mp1\u001b[0m \u001b[0;34m-\u001b[0m \u001b[0mp2\u001b[0m\u001b[0;34m,\u001b[0m\u001b[0;36m2\u001b[0m\u001b[0;34m)\u001b[0m\u001b[0;34m)\u001b[0m\u001b[0;34m)\u001b[0m\u001b[0;34m\u001b[0m\u001b[0;34m\u001b[0m\u001b[0m\n\u001b[0m",
            "\u001b[0;31mTypeError\u001b[0m: only size-1 arrays can be converted to Python scalars"
          ]
        }
      ]
    },
    {
      "cell_type": "code",
      "metadata": {
        "id": "yuWJPMR0z_EA",
        "colab_type": "code",
        "colab": {
          "base_uri": "https://localhost:8080/",
          "height": 34
        },
        "outputId": "102d4f7a-fc07-489c-8438-4b399cd65268"
      },
      "source": [
        "p1-p2"
      ],
      "execution_count": 14,
      "outputs": [
        {
          "output_type": "execute_result",
          "data": {
            "text/plain": [
              "array([-2, -2])"
            ]
          },
          "metadata": {
            "tags": []
          },
          "execution_count": 14
        }
      ]
    },
    {
      "cell_type": "code",
      "metadata": {
        "id": "6g8WtX2K0IKb",
        "colab_type": "code",
        "colab": {}
      },
      "source": [
        "dist = np.linalg.norm(p1-p2)"
      ],
      "execution_count": 0,
      "outputs": []
    },
    {
      "cell_type": "code",
      "metadata": {
        "id": "9fdU-Soe1LpD",
        "colab_type": "code",
        "colab": {
          "base_uri": "https://localhost:8080/",
          "height": 34
        },
        "outputId": "a68aac67-b748-4a7d-b59e-d179215f2658"
      },
      "source": [
        "print(dist)"
      ],
      "execution_count": 17,
      "outputs": [
        {
          "output_type": "stream",
          "text": [
            "2.8284271247461903\n"
          ],
          "name": "stdout"
        }
      ]
    },
    {
      "cell_type": "code",
      "metadata": {
        "id": "NkEb7GPw1QMK",
        "colab_type": "code",
        "colab": {}
      },
      "source": [
        "def setup(n):\n",
        "    a = np.random.rand(n, 3)\n",
        "    b = np.random.rand(n, 3)\n",
        "    out0 = np.array([a, b])\n",
        "    out1 = np.array([a.T, b.T])\n",
        "    return out0, out1"
      ],
      "execution_count": 0,
      "outputs": []
    },
    {
      "cell_type": "code",
      "metadata": {
        "id": "lg7R8PXu2EY0",
        "colab_type": "code",
        "colab": {}
      },
      "source": [
        "setup = setup"
      ],
      "execution_count": 0,
      "outputs": []
    },
    {
      "cell_type": "code",
      "metadata": {
        "id": "03fBVj8n2FtP",
        "colab_type": "code",
        "colab": {
          "base_uri": "https://localhost:8080/",
          "height": 34
        },
        "outputId": "a40f5f6d-4e05-4dd6-a498-6dcf610f6e75"
      },
      "source": [
        "setup"
      ],
      "execution_count": 20,
      "outputs": [
        {
          "output_type": "execute_result",
          "data": {
            "text/plain": [
              "<function __main__.setup>"
            ]
          },
          "metadata": {
            "tags": []
          },
          "execution_count": 20
        }
      ]
    },
    {
      "cell_type": "code",
      "metadata": {
        "id": "h2wGL1232Ggk",
        "colab_type": "code",
        "colab": {
          "base_uri": "https://localhost:8080/",
          "height": 34
        },
        "outputId": "f703fbee-df86-4ad1-e675-607c578ac8d9"
      },
      "source": [
        "setup"
      ],
      "execution_count": 21,
      "outputs": [
        {
          "output_type": "execute_result",
          "data": {
            "text/plain": [
              "<function __main__.setup>"
            ]
          },
          "metadata": {
            "tags": []
          },
          "execution_count": 21
        }
      ]
    },
    {
      "cell_type": "code",
      "metadata": {
        "id": "KjlnkmIr2TIn",
        "colab_type": "code",
        "colab": {
          "base_uri": "https://localhost:8080/",
          "height": 176
        },
        "outputId": "3422e469-98ed-44bf-d937-3ba41e038101"
      },
      "source": [
        "setup(1)"
      ],
      "execution_count": 24,
      "outputs": [
        {
          "output_type": "execute_result",
          "data": {
            "text/plain": [
              "(array([[[0.95849134, 0.08792642, 0.04677609]],\n",
              " \n",
              "        [[0.44648981, 0.26559254, 0.61228534]]]), array([[[0.95849134],\n",
              "         [0.08792642],\n",
              "         [0.04677609]],\n",
              " \n",
              "        [[0.44648981],\n",
              "         [0.26559254],\n",
              "         [0.61228534]]]))"
            ]
          },
          "metadata": {
            "tags": []
          },
          "execution_count": 24
        }
      ]
    },
    {
      "cell_type": "markdown",
      "metadata": {
        "id": "Hps2kyIN2_kI",
        "colab_type": "text"
      },
      "source": [
        "SRC: https://stackoverflow.com/questions/1401712/how-can-the-euclidean-distance-be-calculated-with-numpy"
      ]
    },
    {
      "cell_type": "code",
      "metadata": {
        "id": "6uV0w6-v2VaH",
        "colab_type": "code",
        "colab": {}
      },
      "source": [
        "def linalg_norm(data):\n",
        "    a, b = data[0]\n",
        "    return numpy.linalg.norm(a - b, axis=1)\n",
        "\n",
        "\n",
        "def linalg_norm_T(data):\n",
        "    a, b = data[1]\n",
        "    return numpy.linalg.norm(a - b, axis=0)\n",
        "\n",
        "\n",
        "def sqrt_sum(data):\n",
        "    a, b = data[0]\n",
        "    return numpy.sqrt(numpy.sum((a - b) ** 2, axis=1))\n",
        "\n",
        "\n",
        "def sqrt_sum_T(data):\n",
        "    a, b = data[1]\n",
        "    return numpy.sqrt(numpy.sum((a - b) ** 2, axis=0))\n"
      ],
      "execution_count": 0,
      "outputs": []
    },
    {
      "cell_type": "code",
      "metadata": {
        "id": "R1rsAnpZ29zh",
        "colab_type": "code",
        "colab": {
          "base_uri": "https://localhost:8080/",
          "height": 34
        },
        "outputId": "654371d0-0433-4bb9-e104-4644400ca963"
      },
      "source": [
        "a"
      ],
      "execution_count": 26,
      "outputs": [
        {
          "output_type": "execute_result",
          "data": {
            "text/plain": [
              "array([1, 2])"
            ]
          },
          "metadata": {
            "tags": []
          },
          "execution_count": 26
        }
      ]
    },
    {
      "cell_type": "code",
      "metadata": {
        "id": "crj8c6CT3GRt",
        "colab_type": "code",
        "colab": {}
      },
      "source": [
        "a,b = setup(1)"
      ],
      "execution_count": 0,
      "outputs": []
    },
    {
      "cell_type": "code",
      "metadata": {
        "id": "gyMnmtEj3Llj",
        "colab_type": "code",
        "colab": {
          "base_uri": "https://localhost:8080/",
          "height": 70
        },
        "outputId": "11752b92-8f37-4bfc-dd29-601854808562"
      },
      "source": [
        "a"
      ],
      "execution_count": 28,
      "outputs": [
        {
          "output_type": "execute_result",
          "data": {
            "text/plain": [
              "array([[[0.47271323, 0.35026109, 0.4297344 ]],\n",
              "\n",
              "       [[0.9382958 , 0.96237702, 0.05143486]]])"
            ]
          },
          "metadata": {
            "tags": []
          },
          "execution_count": 28
        }
      ]
    },
    {
      "cell_type": "code",
      "metadata": {
        "id": "--TAMMBl3Mgr",
        "colab_type": "code",
        "colab": {
          "base_uri": "https://localhost:8080/",
          "height": 141
        },
        "outputId": "0270d70a-9fb7-4ecc-fe40-6fec77e17ee7"
      },
      "source": [
        "b"
      ],
      "execution_count": 29,
      "outputs": [
        {
          "output_type": "execute_result",
          "data": {
            "text/plain": [
              "array([[[0.47271323],\n",
              "        [0.35026109],\n",
              "        [0.4297344 ]],\n",
              "\n",
              "       [[0.9382958 ],\n",
              "        [0.96237702],\n",
              "        [0.05143486]]])"
            ]
          },
          "metadata": {
            "tags": []
          },
          "execution_count": 29
        }
      ]
    },
    {
      "cell_type": "code",
      "metadata": {
        "id": "10fHiyiu3NWN",
        "colab_type": "code",
        "colab": {
          "base_uri": "https://localhost:8080/",
          "height": 34
        },
        "outputId": "94584dcd-3010-4f4b-fe83-6ff02adcfd5f"
      },
      "source": [
        "a.shape, b.shape"
      ],
      "execution_count": 32,
      "outputs": [
        {
          "output_type": "execute_result",
          "data": {
            "text/plain": [
              "((2, 1, 3), (2, 3, 1))"
            ]
          },
          "metadata": {
            "tags": []
          },
          "execution_count": 32
        }
      ]
    },
    {
      "cell_type": "code",
      "metadata": {
        "id": "IQqfw2op3QSB",
        "colab_type": "code",
        "colab": {
          "base_uri": "https://localhost:8080/",
          "height": 34
        },
        "outputId": "38ce098b-1453-4cd3-d23b-4f1e2ce3f53f"
      },
      "source": [
        "p1"
      ],
      "execution_count": 33,
      "outputs": [
        {
          "output_type": "execute_result",
          "data": {
            "text/plain": [
              "array([1, 2])"
            ]
          },
          "metadata": {
            "tags": []
          },
          "execution_count": 33
        }
      ]
    },
    {
      "cell_type": "code",
      "metadata": {
        "id": "eSz9MwKA4JOq",
        "colab_type": "code",
        "colab": {
          "base_uri": "https://localhost:8080/",
          "height": 34
        },
        "outputId": "6359ad35-23d6-4fee-9228-aef26020656d"
      },
      "source": [
        "p2"
      ],
      "execution_count": 34,
      "outputs": [
        {
          "output_type": "execute_result",
          "data": {
            "text/plain": [
              "array([3, 4])"
            ]
          },
          "metadata": {
            "tags": []
          },
          "execution_count": 34
        }
      ]
    },
    {
      "cell_type": "code",
      "metadata": {
        "id": "EKDAOi7J4KEB",
        "colab_type": "code",
        "colab": {
          "base_uri": "https://localhost:8080/",
          "height": 34
        },
        "outputId": "fc04e3d2-e2d2-4a58-b4c9-d8e6bc250161"
      },
      "source": [
        "np.linalg.norm(p1-p2)"
      ],
      "execution_count": 36,
      "outputs": [
        {
          "output_type": "execute_result",
          "data": {
            "text/plain": [
              "2.8284271247461903"
            ]
          },
          "metadata": {
            "tags": []
          },
          "execution_count": 36
        }
      ]
    },
    {
      "cell_type": "markdown",
      "metadata": {
        "id": "aslxSvqbJV5D",
        "colab_type": "text"
      },
      "source": [
        "Trying to reduce the no of rows passed to KNN Class"
      ]
    },
    {
      "cell_type": "markdown",
      "metadata": {
        "id": "L5-LCrTGJbyS",
        "colab_type": "text"
      },
      "source": [
        "let's read the same data and see how to break it apart"
      ]
    },
    {
      "cell_type": "code",
      "metadata": {
        "id": "NDFrAfdN-7AT",
        "colab_type": "code",
        "colab": {
          "base_uri": "https://localhost:8080/",
          "height": 176
        },
        "outputId": "98e29bad-4ddc-4012-f0d3-3572d12e677f"
      },
      "source": [
        "data=pd.read_csv('./iris.data')\n",
        "data.columns=['SepalLength','SepalWidth','PetalLength','PetalWidth','Class']\n",
        "print(data.describe())"
      ],
      "execution_count": 38,
      "outputs": [
        {
          "output_type": "stream",
          "text": [
            "       SepalLength  SepalWidth  PetalLength  PetalWidth\n",
            "count   149.000000  149.000000   149.000000  149.000000\n",
            "mean      5.848322    3.051007     3.774497    1.205369\n",
            "std       0.828594    0.433499     1.759651    0.761292\n",
            "min       4.300000    2.000000     1.000000    0.100000\n",
            "25%       5.100000    2.800000     1.600000    0.300000\n",
            "50%       5.800000    3.000000     4.400000    1.300000\n",
            "75%       6.400000    3.300000     5.100000    1.800000\n",
            "max       7.900000    4.400000     6.900000    2.500000\n"
          ],
          "name": "stdout"
        }
      ]
    },
    {
      "cell_type": "code",
      "metadata": {
        "id": "PNkwuQ6FJoEI",
        "colab_type": "code",
        "colab": {}
      },
      "source": [
        "# Get your data in matrix\n",
        "X=np.asarray(data[['SepalLength','SepalWidth','PetalLength','PetalWidth']].dropna())"
      ],
      "execution_count": 0,
      "outputs": []
    },
    {
      "cell_type": "code",
      "metadata": {
        "id": "36lPKZvrJsur",
        "colab_type": "code",
        "colab": {
          "base_uri": "https://localhost:8080/",
          "height": 1000
        },
        "outputId": "542da980-54d6-4f05-faea-614cebe82d6b"
      },
      "source": [
        "print(X)"
      ],
      "execution_count": 40,
      "outputs": [
        {
          "output_type": "stream",
          "text": [
            "[[4.9 3.  1.4 0.2]\n",
            " [4.7 3.2 1.3 0.2]\n",
            " [4.6 3.1 1.5 0.2]\n",
            " [5.  3.6 1.4 0.2]\n",
            " [5.4 3.9 1.7 0.4]\n",
            " [4.6 3.4 1.4 0.3]\n",
            " [5.  3.4 1.5 0.2]\n",
            " [4.4 2.9 1.4 0.2]\n",
            " [4.9 3.1 1.5 0.1]\n",
            " [5.4 3.7 1.5 0.2]\n",
            " [4.8 3.4 1.6 0.2]\n",
            " [4.8 3.  1.4 0.1]\n",
            " [4.3 3.  1.1 0.1]\n",
            " [5.8 4.  1.2 0.2]\n",
            " [5.7 4.4 1.5 0.4]\n",
            " [5.4 3.9 1.3 0.4]\n",
            " [5.1 3.5 1.4 0.3]\n",
            " [5.7 3.8 1.7 0.3]\n",
            " [5.1 3.8 1.5 0.3]\n",
            " [5.4 3.4 1.7 0.2]\n",
            " [5.1 3.7 1.5 0.4]\n",
            " [4.6 3.6 1.  0.2]\n",
            " [5.1 3.3 1.7 0.5]\n",
            " [4.8 3.4 1.9 0.2]\n",
            " [5.  3.  1.6 0.2]\n",
            " [5.  3.4 1.6 0.4]\n",
            " [5.2 3.5 1.5 0.2]\n",
            " [5.2 3.4 1.4 0.2]\n",
            " [4.7 3.2 1.6 0.2]\n",
            " [4.8 3.1 1.6 0.2]\n",
            " [5.4 3.4 1.5 0.4]\n",
            " [5.2 4.1 1.5 0.1]\n",
            " [5.5 4.2 1.4 0.2]\n",
            " [4.9 3.1 1.5 0.1]\n",
            " [5.  3.2 1.2 0.2]\n",
            " [5.5 3.5 1.3 0.2]\n",
            " [4.9 3.1 1.5 0.1]\n",
            " [4.4 3.  1.3 0.2]\n",
            " [5.1 3.4 1.5 0.2]\n",
            " [5.  3.5 1.3 0.3]\n",
            " [4.5 2.3 1.3 0.3]\n",
            " [4.4 3.2 1.3 0.2]\n",
            " [5.  3.5 1.6 0.6]\n",
            " [5.1 3.8 1.9 0.4]\n",
            " [4.8 3.  1.4 0.3]\n",
            " [5.1 3.8 1.6 0.2]\n",
            " [4.6 3.2 1.4 0.2]\n",
            " [5.3 3.7 1.5 0.2]\n",
            " [5.  3.3 1.4 0.2]\n",
            " [7.  3.2 4.7 1.4]\n",
            " [6.4 3.2 4.5 1.5]\n",
            " [6.9 3.1 4.9 1.5]\n",
            " [5.5 2.3 4.  1.3]\n",
            " [6.5 2.8 4.6 1.5]\n",
            " [5.7 2.8 4.5 1.3]\n",
            " [6.3 3.3 4.7 1.6]\n",
            " [4.9 2.4 3.3 1. ]\n",
            " [6.6 2.9 4.6 1.3]\n",
            " [5.2 2.7 3.9 1.4]\n",
            " [5.  2.  3.5 1. ]\n",
            " [5.9 3.  4.2 1.5]\n",
            " [6.  2.2 4.  1. ]\n",
            " [6.1 2.9 4.7 1.4]\n",
            " [5.6 2.9 3.6 1.3]\n",
            " [6.7 3.1 4.4 1.4]\n",
            " [5.6 3.  4.5 1.5]\n",
            " [5.8 2.7 4.1 1. ]\n",
            " [6.2 2.2 4.5 1.5]\n",
            " [5.6 2.5 3.9 1.1]\n",
            " [5.9 3.2 4.8 1.8]\n",
            " [6.1 2.8 4.  1.3]\n",
            " [6.3 2.5 4.9 1.5]\n",
            " [6.1 2.8 4.7 1.2]\n",
            " [6.4 2.9 4.3 1.3]\n",
            " [6.6 3.  4.4 1.4]\n",
            " [6.8 2.8 4.8 1.4]\n",
            " [6.7 3.  5.  1.7]\n",
            " [6.  2.9 4.5 1.5]\n",
            " [5.7 2.6 3.5 1. ]\n",
            " [5.5 2.4 3.8 1.1]\n",
            " [5.5 2.4 3.7 1. ]\n",
            " [5.8 2.7 3.9 1.2]\n",
            " [6.  2.7 5.1 1.6]\n",
            " [5.4 3.  4.5 1.5]\n",
            " [6.  3.4 4.5 1.6]\n",
            " [6.7 3.1 4.7 1.5]\n",
            " [6.3 2.3 4.4 1.3]\n",
            " [5.6 3.  4.1 1.3]\n",
            " [5.5 2.5 4.  1.3]\n",
            " [5.5 2.6 4.4 1.2]\n",
            " [6.1 3.  4.6 1.4]\n",
            " [5.8 2.6 4.  1.2]\n",
            " [5.  2.3 3.3 1. ]\n",
            " [5.6 2.7 4.2 1.3]\n",
            " [5.7 3.  4.2 1.2]\n",
            " [5.7 2.9 4.2 1.3]\n",
            " [6.2 2.9 4.3 1.3]\n",
            " [5.1 2.5 3.  1.1]\n",
            " [5.7 2.8 4.1 1.3]\n",
            " [6.3 3.3 6.  2.5]\n",
            " [5.8 2.7 5.1 1.9]\n",
            " [7.1 3.  5.9 2.1]\n",
            " [6.3 2.9 5.6 1.8]\n",
            " [6.5 3.  5.8 2.2]\n",
            " [7.6 3.  6.6 2.1]\n",
            " [4.9 2.5 4.5 1.7]\n",
            " [7.3 2.9 6.3 1.8]\n",
            " [6.7 2.5 5.8 1.8]\n",
            " [7.2 3.6 6.1 2.5]\n",
            " [6.5 3.2 5.1 2. ]\n",
            " [6.4 2.7 5.3 1.9]\n",
            " [6.8 3.  5.5 2.1]\n",
            " [5.7 2.5 5.  2. ]\n",
            " [5.8 2.8 5.1 2.4]\n",
            " [6.4 3.2 5.3 2.3]\n",
            " [6.5 3.  5.5 1.8]\n",
            " [7.7 3.8 6.7 2.2]\n",
            " [7.7 2.6 6.9 2.3]\n",
            " [6.  2.2 5.  1.5]\n",
            " [6.9 3.2 5.7 2.3]\n",
            " [5.6 2.8 4.9 2. ]\n",
            " [7.7 2.8 6.7 2. ]\n",
            " [6.3 2.7 4.9 1.8]\n",
            " [6.7 3.3 5.7 2.1]\n",
            " [7.2 3.2 6.  1.8]\n",
            " [6.2 2.8 4.8 1.8]\n",
            " [6.1 3.  4.9 1.8]\n",
            " [6.4 2.8 5.6 2.1]\n",
            " [7.2 3.  5.8 1.6]\n",
            " [7.4 2.8 6.1 1.9]\n",
            " [7.9 3.8 6.4 2. ]\n",
            " [6.4 2.8 5.6 2.2]\n",
            " [6.3 2.8 5.1 1.5]\n",
            " [6.1 2.6 5.6 1.4]\n",
            " [7.7 3.  6.1 2.3]\n",
            " [6.3 3.4 5.6 2.4]\n",
            " [6.4 3.1 5.5 1.8]\n",
            " [6.  3.  4.8 1.8]\n",
            " [6.9 3.1 5.4 2.1]\n",
            " [6.7 3.1 5.6 2.4]\n",
            " [6.9 3.1 5.1 2.3]\n",
            " [5.8 2.7 5.1 1.9]\n",
            " [6.8 3.2 5.9 2.3]\n",
            " [6.7 3.3 5.7 2.5]\n",
            " [6.7 3.  5.2 2.3]\n",
            " [6.3 2.5 5.  1.9]\n",
            " [6.5 3.  5.2 2. ]\n",
            " [6.2 3.4 5.4 2.3]\n",
            " [5.9 3.  5.1 1.8]]\n"
          ],
          "name": "stdout"
        }
      ]
    },
    {
      "cell_type": "code",
      "metadata": {
        "id": "WD5gGkIsMoi1",
        "colab_type": "code",
        "colab": {
          "base_uri": "https://localhost:8080/",
          "height": 34
        },
        "outputId": "da93a9bd-5e2a-4639-8c53-f7c95b61a6a9"
      },
      "source": [
        "print(X.shape)"
      ],
      "execution_count": 48,
      "outputs": [
        {
          "output_type": "stream",
          "text": [
            "(149, 4)\n"
          ],
          "name": "stdout"
        }
      ]
    },
    {
      "cell_type": "code",
      "metadata": {
        "id": "sG3Jk0iOJtuK",
        "colab_type": "code",
        "colab": {}
      },
      "source": [
        "Y=np.asarray(data['Class'].dropna())"
      ],
      "execution_count": 0,
      "outputs": []
    },
    {
      "cell_type": "code",
      "metadata": {
        "id": "tR-JDaYwMrim",
        "colab_type": "code",
        "colab": {
          "base_uri": "https://localhost:8080/",
          "height": 34
        },
        "outputId": "386e412e-4e95-4536-9c01-1a831433cd04"
      },
      "source": [
        "print(Y.shape)"
      ],
      "execution_count": 49,
      "outputs": [
        {
          "output_type": "stream",
          "text": [
            "(149,)\n"
          ],
          "name": "stdout"
        }
      ]
    },
    {
      "cell_type": "code",
      "metadata": {
        "id": "X-lphaxMK7V6",
        "colab_type": "code",
        "colab": {
          "base_uri": "https://localhost:8080/",
          "height": 638
        },
        "outputId": "f9264aca-ba5f-4baf-fcd1-9dd07e3fd5b3"
      },
      "source": [
        "print(Y)"
      ],
      "execution_count": 42,
      "outputs": [
        {
          "output_type": "stream",
          "text": [
            "['Iris-setosa' 'Iris-setosa' 'Iris-setosa' 'Iris-setosa' 'Iris-setosa'\n",
            " 'Iris-setosa' 'Iris-setosa' 'Iris-setosa' 'Iris-setosa' 'Iris-setosa'\n",
            " 'Iris-setosa' 'Iris-setosa' 'Iris-setosa' 'Iris-setosa' 'Iris-setosa'\n",
            " 'Iris-setosa' 'Iris-setosa' 'Iris-setosa' 'Iris-setosa' 'Iris-setosa'\n",
            " 'Iris-setosa' 'Iris-setosa' 'Iris-setosa' 'Iris-setosa' 'Iris-setosa'\n",
            " 'Iris-setosa' 'Iris-setosa' 'Iris-setosa' 'Iris-setosa' 'Iris-setosa'\n",
            " 'Iris-setosa' 'Iris-setosa' 'Iris-setosa' 'Iris-setosa' 'Iris-setosa'\n",
            " 'Iris-setosa' 'Iris-setosa' 'Iris-setosa' 'Iris-setosa' 'Iris-setosa'\n",
            " 'Iris-setosa' 'Iris-setosa' 'Iris-setosa' 'Iris-setosa' 'Iris-setosa'\n",
            " 'Iris-setosa' 'Iris-setosa' 'Iris-setosa' 'Iris-setosa' 'Iris-versicolor'\n",
            " 'Iris-versicolor' 'Iris-versicolor' 'Iris-versicolor' 'Iris-versicolor'\n",
            " 'Iris-versicolor' 'Iris-versicolor' 'Iris-versicolor' 'Iris-versicolor'\n",
            " 'Iris-versicolor' 'Iris-versicolor' 'Iris-versicolor' 'Iris-versicolor'\n",
            " 'Iris-versicolor' 'Iris-versicolor' 'Iris-versicolor' 'Iris-versicolor'\n",
            " 'Iris-versicolor' 'Iris-versicolor' 'Iris-versicolor' 'Iris-versicolor'\n",
            " 'Iris-versicolor' 'Iris-versicolor' 'Iris-versicolor' 'Iris-versicolor'\n",
            " 'Iris-versicolor' 'Iris-versicolor' 'Iris-versicolor' 'Iris-versicolor'\n",
            " 'Iris-versicolor' 'Iris-versicolor' 'Iris-versicolor' 'Iris-versicolor'\n",
            " 'Iris-versicolor' 'Iris-versicolor' 'Iris-versicolor' 'Iris-versicolor'\n",
            " 'Iris-versicolor' 'Iris-versicolor' 'Iris-versicolor' 'Iris-versicolor'\n",
            " 'Iris-versicolor' 'Iris-versicolor' 'Iris-versicolor' 'Iris-versicolor'\n",
            " 'Iris-versicolor' 'Iris-versicolor' 'Iris-versicolor' 'Iris-versicolor'\n",
            " 'Iris-versicolor' 'Iris-virginica' 'Iris-virginica' 'Iris-virginica'\n",
            " 'Iris-virginica' 'Iris-virginica' 'Iris-virginica' 'Iris-virginica'\n",
            " 'Iris-virginica' 'Iris-virginica' 'Iris-virginica' 'Iris-virginica'\n",
            " 'Iris-virginica' 'Iris-virginica' 'Iris-virginica' 'Iris-virginica'\n",
            " 'Iris-virginica' 'Iris-virginica' 'Iris-virginica' 'Iris-virginica'\n",
            " 'Iris-virginica' 'Iris-virginica' 'Iris-virginica' 'Iris-virginica'\n",
            " 'Iris-virginica' 'Iris-virginica' 'Iris-virginica' 'Iris-virginica'\n",
            " 'Iris-virginica' 'Iris-virginica' 'Iris-virginica' 'Iris-virginica'\n",
            " 'Iris-virginica' 'Iris-virginica' 'Iris-virginica' 'Iris-virginica'\n",
            " 'Iris-virginica' 'Iris-virginica' 'Iris-virginica' 'Iris-virginica'\n",
            " 'Iris-virginica' 'Iris-virginica' 'Iris-virginica' 'Iris-virginica'\n",
            " 'Iris-virginica' 'Iris-virginica' 'Iris-virginica' 'Iris-virginica'\n",
            " 'Iris-virginica' 'Iris-virginica' 'Iris-virginica']\n"
          ],
          "name": "stdout"
        }
      ]
    },
    {
      "cell_type": "code",
      "metadata": {
        "id": "kVjiWS7JMZvN",
        "colab_type": "code",
        "colab": {}
      },
      "source": [
        "Xtrain,Ytrain,Xtest,Ytest=t.split_data(X,Y)"
      ],
      "execution_count": 0,
      "outputs": []
    },
    {
      "cell_type": "code",
      "metadata": {
        "id": "i8O9A7FWMgpm",
        "colab_type": "code",
        "colab": {
          "base_uri": "https://localhost:8080/",
          "height": 1000
        },
        "outputId": "36a6ae0e-8aa8-4bcc-d714-78e7e07a477f"
      },
      "source": [
        "print(Xtrain)"
      ],
      "execution_count": 47,
      "outputs": [
        {
          "output_type": "stream",
          "text": [
            "[[4.4 3.2 1.3 0.2]\n",
            " [4.6 3.4 1.4 0.3]\n",
            " [4.8 3.4 1.9 0.2]\n",
            " [4.7 3.2 1.3 0.2]\n",
            " [5.2 4.1 1.5 0.1]\n",
            " [5.  3.4 1.5 0.2]\n",
            " [5.4 3.4 1.5 0.4]\n",
            " [4.8 3.  1.4 0.3]\n",
            " [5.4 3.9 1.7 0.4]\n",
            " [5.1 3.7 1.5 0.4]\n",
            " [5.1 3.3 1.7 0.5]\n",
            " [5.5 4.2 1.4 0.2]\n",
            " [5.  3.2 1.2 0.2]\n",
            " [4.7 3.2 1.6 0.2]\n",
            " [4.5 2.3 1.3 0.3]\n",
            " [4.8 3.4 1.6 0.2]\n",
            " [5.8 4.  1.2 0.2]\n",
            " [5.1 3.8 1.9 0.4]\n",
            " [5.5 3.5 1.3 0.2]\n",
            " [4.8 3.1 1.6 0.2]\n",
            " [5.3 3.7 1.5 0.2]\n",
            " [5.  3.5 1.6 0.6]\n",
            " [4.6 3.2 1.4 0.2]\n",
            " [5.  3.4 1.6 0.4]\n",
            " [4.3 3.  1.1 0.1]\n",
            " [5.7 3.8 1.7 0.3]\n",
            " [5.4 3.4 1.7 0.2]\n",
            " [4.9 3.  1.4 0.2]\n",
            " [5.7 4.4 1.5 0.4]\n",
            " [4.4 2.9 1.4 0.2]\n",
            " [4.9 3.1 1.5 0.1]\n",
            " [5.1 3.5 1.4 0.3]\n",
            " [5.1 3.8 1.6 0.2]\n",
            " [5.2 3.5 1.5 0.2]\n",
            " [4.9 2.4 3.3 1. ]\n",
            " [5.6 2.9 3.6 1.3]\n",
            " [5.1 2.5 3.  1.1]\n",
            " [6.2 2.9 4.3 1.3]\n",
            " [6.  2.9 4.5 1.5]\n",
            " [5.7 2.8 4.5 1.3]\n",
            " [6.5 2.8 4.6 1.5]\n",
            " [6.4 2.9 4.3 1.3]\n",
            " [6.3 2.5 4.9 1.5]\n",
            " [6.7 3.1 4.4 1.4]\n",
            " [5.7 2.9 4.2 1.3]\n",
            " [6.  2.2 4.  1. ]\n",
            " [5.6 3.  4.1 1.3]\n",
            " [6.9 3.1 4.9 1.5]\n",
            " [5.  2.  3.5 1. ]\n",
            " [5.4 3.  4.5 1.5]\n",
            " [5.5 2.4 3.7 1. ]\n",
            " [6.1 2.8 4.  1.3]\n",
            " [5.8 2.7 4.1 1. ]\n",
            " [6.3 2.3 4.4 1.3]\n",
            " [6.1 3.  4.6 1.4]\n",
            " [6.2 2.2 4.5 1.5]\n",
            " [5.5 2.5 4.  1.3]\n",
            " [7.  3.2 4.7 1.4]\n",
            " [6.7 3.1 4.7 1.5]\n",
            " [6.  3.4 4.5 1.6]\n",
            " [5.5 2.4 3.8 1.1]\n",
            " [5.6 2.7 4.2 1.3]\n",
            " [6.4 3.2 4.5 1.5]\n",
            " [5.2 2.7 3.9 1.4]\n",
            " [6.3 3.3 4.7 1.6]\n",
            " [5.8 2.7 3.9 1.2]\n",
            " [6.1 2.8 4.7 1.2]\n",
            " [5.9 3.2 4.8 1.8]\n",
            " [5.7 2.8 4.1 1.3]\n",
            " [6.1 2.6 5.6 1.4]\n",
            " [6.5 3.2 5.1 2. ]\n",
            " [7.7 3.  6.1 2.3]\n",
            " [6.4 2.8 5.6 2.1]\n",
            " [7.2 3.2 6.  1.8]\n",
            " [6.5 3.  5.8 2.2]\n",
            " [7.9 3.8 6.4 2. ]\n",
            " [7.1 3.  5.9 2.1]\n",
            " [6.3 2.7 4.9 1.8]\n",
            " [6.7 3.  5.2 2.3]\n",
            " [5.8 2.8 5.1 2.4]\n",
            " [6.  3.  4.8 1.8]\n",
            " [6.1 3.  4.9 1.8]\n",
            " [6.7 2.5 5.8 1.8]\n",
            " [6.3 2.9 5.6 1.8]\n",
            " [6.2 3.4 5.4 2.3]\n",
            " [6.3 3.3 6.  2.5]\n",
            " [6.9 3.1 5.4 2.1]\n",
            " [5.7 2.5 5.  2. ]\n",
            " [6.3 2.5 5.  1.9]\n",
            " [7.7 3.8 6.7 2.2]\n",
            " [6.7 3.1 5.6 2.4]\n",
            " [7.7 2.6 6.9 2.3]\n",
            " [6.4 2.8 5.6 2.2]\n",
            " [7.2 3.6 6.1 2.5]\n",
            " [5.9 3.  5.1 1.8]\n",
            " [7.2 3.  5.8 1.6]\n",
            " [6.3 3.4 5.6 2.4]\n",
            " [6.4 3.2 5.3 2.3]\n",
            " [6.9 3.2 5.7 2.3]\n",
            " [6.7 3.3 5.7 2.5]\n",
            " [6.5 3.  5.2 2. ]\n",
            " [6.4 2.7 5.3 1.9]\n",
            " [7.7 2.8 6.7 2. ]\n",
            " [7.4 2.8 6.1 1.9]]\n"
          ],
          "name": "stdout"
        }
      ]
    },
    {
      "cell_type": "code",
      "metadata": {
        "id": "HNCkQ3lQMvwp",
        "colab_type": "code",
        "colab": {
          "base_uri": "https://localhost:8080/",
          "height": 34
        },
        "outputId": "2d318228-0558-44aa-8809-240fef35b8d6"
      },
      "source": [
        "print(Xtrain.shape)"
      ],
      "execution_count": 50,
      "outputs": [
        {
          "output_type": "stream",
          "text": [
            "(104, 4)\n"
          ],
          "name": "stdout"
        }
      ]
    },
    {
      "cell_type": "code",
      "metadata": {
        "id": "rCb5dkP-Mzz1",
        "colab_type": "code",
        "colab": {
          "base_uri": "https://localhost:8080/",
          "height": 34
        },
        "outputId": "bf5bd46c-7927-4baf-c5eb-b23c467baac5"
      },
      "source": [
        "print(Xtest.shape)"
      ],
      "execution_count": 51,
      "outputs": [
        {
          "output_type": "stream",
          "text": [
            "(45, 4)\n"
          ],
          "name": "stdout"
        }
      ]
    },
    {
      "cell_type": "code",
      "metadata": {
        "id": "YkMo5LJUK88O",
        "colab_type": "code",
        "colab": {}
      },
      "source": [
        "# Lets train a Decision Tree Classifier on Petal Length and Width\n",
        "feat=[0,1]"
      ],
      "execution_count": 0,
      "outputs": []
    },
    {
      "cell_type": "code",
      "metadata": {
        "id": "X9wOM9-SM5Oi",
        "colab_type": "code",
        "colab": {
          "base_uri": "https://localhost:8080/",
          "height": 52
        },
        "outputId": "dc761e7c-e786-41b2-c2da-4aedb8e0ebe2"
      },
      "source": [
        "Xtrain[feat]"
      ],
      "execution_count": 52,
      "outputs": [
        {
          "output_type": "execute_result",
          "data": {
            "text/plain": [
              "array([[4.4, 3.2, 1.3, 0.2],\n",
              "       [4.6, 3.4, 1.4, 0.3]])"
            ]
          },
          "metadata": {
            "tags": []
          },
          "execution_count": 52
        }
      ]
    },
    {
      "cell_type": "code",
      "metadata": {
        "id": "tRhpXaQcM7sr",
        "colab_type": "code",
        "colab": {
          "base_uri": "https://localhost:8080/",
          "height": 132
        },
        "outputId": "fd8dbb91-7cf0-49b3-bce9-ec22b7d41279"
      },
      "source": [
        "Xtrain[,feat]"
      ],
      "execution_count": 53,
      "outputs": [
        {
          "output_type": "error",
          "ename": "SyntaxError",
          "evalue": "ignored",
          "traceback": [
            "\u001b[0;36m  File \u001b[0;32m\"<ipython-input-53-0dcddf9a5360>\"\u001b[0;36m, line \u001b[0;32m1\u001b[0m\n\u001b[0;31m    Xtrain[,feat]\u001b[0m\n\u001b[0m           ^\u001b[0m\n\u001b[0;31mSyntaxError\u001b[0m\u001b[0;31m:\u001b[0m invalid syntax\n"
          ]
        }
      ]
    },
    {
      "cell_type": "code",
      "metadata": {
        "id": "mFfdX8ZWxCb5",
        "colab_type": "code",
        "colab": {
          "base_uri": "https://localhost:8080/",
          "height": 1000
        },
        "outputId": "7f46c0f9-0aea-446d-a594-9a536e81f97b"
      },
      "source": [
        "Xtrain[:,feat]"
      ],
      "execution_count": 54,
      "outputs": [
        {
          "output_type": "execute_result",
          "data": {
            "text/plain": [
              "array([[4.4, 3.2],\n",
              "       [4.6, 3.4],\n",
              "       [4.8, 3.4],\n",
              "       [4.7, 3.2],\n",
              "       [5.2, 4.1],\n",
              "       [5. , 3.4],\n",
              "       [5.4, 3.4],\n",
              "       [4.8, 3. ],\n",
              "       [5.4, 3.9],\n",
              "       [5.1, 3.7],\n",
              "       [5.1, 3.3],\n",
              "       [5.5, 4.2],\n",
              "       [5. , 3.2],\n",
              "       [4.7, 3.2],\n",
              "       [4.5, 2.3],\n",
              "       [4.8, 3.4],\n",
              "       [5.8, 4. ],\n",
              "       [5.1, 3.8],\n",
              "       [5.5, 3.5],\n",
              "       [4.8, 3.1],\n",
              "       [5.3, 3.7],\n",
              "       [5. , 3.5],\n",
              "       [4.6, 3.2],\n",
              "       [5. , 3.4],\n",
              "       [4.3, 3. ],\n",
              "       [5.7, 3.8],\n",
              "       [5.4, 3.4],\n",
              "       [4.9, 3. ],\n",
              "       [5.7, 4.4],\n",
              "       [4.4, 2.9],\n",
              "       [4.9, 3.1],\n",
              "       [5.1, 3.5],\n",
              "       [5.1, 3.8],\n",
              "       [5.2, 3.5],\n",
              "       [4.9, 2.4],\n",
              "       [5.6, 2.9],\n",
              "       [5.1, 2.5],\n",
              "       [6.2, 2.9],\n",
              "       [6. , 2.9],\n",
              "       [5.7, 2.8],\n",
              "       [6.5, 2.8],\n",
              "       [6.4, 2.9],\n",
              "       [6.3, 2.5],\n",
              "       [6.7, 3.1],\n",
              "       [5.7, 2.9],\n",
              "       [6. , 2.2],\n",
              "       [5.6, 3. ],\n",
              "       [6.9, 3.1],\n",
              "       [5. , 2. ],\n",
              "       [5.4, 3. ],\n",
              "       [5.5, 2.4],\n",
              "       [6.1, 2.8],\n",
              "       [5.8, 2.7],\n",
              "       [6.3, 2.3],\n",
              "       [6.1, 3. ],\n",
              "       [6.2, 2.2],\n",
              "       [5.5, 2.5],\n",
              "       [7. , 3.2],\n",
              "       [6.7, 3.1],\n",
              "       [6. , 3.4],\n",
              "       [5.5, 2.4],\n",
              "       [5.6, 2.7],\n",
              "       [6.4, 3.2],\n",
              "       [5.2, 2.7],\n",
              "       [6.3, 3.3],\n",
              "       [5.8, 2.7],\n",
              "       [6.1, 2.8],\n",
              "       [5.9, 3.2],\n",
              "       [5.7, 2.8],\n",
              "       [6.1, 2.6],\n",
              "       [6.5, 3.2],\n",
              "       [7.7, 3. ],\n",
              "       [6.4, 2.8],\n",
              "       [7.2, 3.2],\n",
              "       [6.5, 3. ],\n",
              "       [7.9, 3.8],\n",
              "       [7.1, 3. ],\n",
              "       [6.3, 2.7],\n",
              "       [6.7, 3. ],\n",
              "       [5.8, 2.8],\n",
              "       [6. , 3. ],\n",
              "       [6.1, 3. ],\n",
              "       [6.7, 2.5],\n",
              "       [6.3, 2.9],\n",
              "       [6.2, 3.4],\n",
              "       [6.3, 3.3],\n",
              "       [6.9, 3.1],\n",
              "       [5.7, 2.5],\n",
              "       [6.3, 2.5],\n",
              "       [7.7, 3.8],\n",
              "       [6.7, 3.1],\n",
              "       [7.7, 2.6],\n",
              "       [6.4, 2.8],\n",
              "       [7.2, 3.6],\n",
              "       [5.9, 3. ],\n",
              "       [7.2, 3. ],\n",
              "       [6.3, 3.4],\n",
              "       [6.4, 3.2],\n",
              "       [6.9, 3.2],\n",
              "       [6.7, 3.3],\n",
              "       [6.5, 3. ],\n",
              "       [6.4, 2.7],\n",
              "       [7.7, 2.8],\n",
              "       [7.4, 2.8]])"
            ]
          },
          "metadata": {
            "tags": []
          },
          "execution_count": 54
        }
      ]
    },
    {
      "cell_type": "code",
      "metadata": {
        "id": "DhDgtyYDxGt1",
        "colab_type": "code",
        "colab": {
          "base_uri": "https://localhost:8080/",
          "height": 34
        },
        "outputId": "7ec3ae8b-4b02-4623-ccec-1634f9fc6615"
      },
      "source": [
        "Xtrain[2,feat]"
      ],
      "execution_count": 55,
      "outputs": [
        {
          "output_type": "execute_result",
          "data": {
            "text/plain": [
              "array([4.8, 3.4])"
            ]
          },
          "metadata": {
            "tags": []
          },
          "execution_count": 55
        }
      ]
    },
    {
      "cell_type": "code",
      "metadata": {
        "id": "-Z2kv4t8xTVm",
        "colab_type": "code",
        "colab": {
          "base_uri": "https://localhost:8080/",
          "height": 105
        },
        "outputId": "9d18a218-c821-499e-e863-dcc4ec40f10f"
      },
      "source": [
        "Xtrain[:5,feat]"
      ],
      "execution_count": 56,
      "outputs": [
        {
          "output_type": "execute_result",
          "data": {
            "text/plain": [
              "array([[4.4, 3.2],\n",
              "       [4.6, 3.4],\n",
              "       [4.8, 3.4],\n",
              "       [4.7, 3.2],\n",
              "       [5.2, 4.1]])"
            ]
          },
          "metadata": {
            "tags": []
          },
          "execution_count": 56
        }
      ]
    },
    {
      "cell_type": "code",
      "metadata": {
        "id": "K-NiAENcxWTd",
        "colab_type": "code",
        "colab": {}
      },
      "source": [
        ""
      ],
      "execution_count": 0,
      "outputs": []
    }
  ]
}