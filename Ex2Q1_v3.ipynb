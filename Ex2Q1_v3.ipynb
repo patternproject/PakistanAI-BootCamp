{
  "nbformat": 4,
  "nbformat_minor": 0,
  "metadata": {
    "kernelspec": {
      "display_name": "Python 3",
      "language": "python",
      "name": "python3"
    },
    "language_info": {
      "codemirror_mode": {
        "name": "ipython",
        "version": 3
      },
      "file_extension": ".py",
      "mimetype": "text/x-python",
      "name": "python",
      "nbconvert_exporter": "python",
      "pygments_lexer": "ipython3",
      "version": "3.7.4"
    },
    "colab": {
      "name": "Coding Challenge # 2 - Text Generator.ipynb",
      "provenance": [],
      "include_colab_link": true
    }
  },
  "cells": [
    {
      "cell_type": "markdown",
      "metadata": {
        "id": "view-in-github",
        "colab_type": "text"
      },
      "source": [
        "<a href=\"https://colab.research.google.com/github/patternproject/p.PakistanAI-BootCamp/blob/Week-1/Ex2Q1_v3.ipynb\" target=\"_parent\"><img src=\"https://colab.research.google.com/assets/colab-badge.svg\" alt=\"Open In Colab\"/></a>"
      ]
    },
    {
      "cell_type": "markdown",
      "metadata": {
        "id": "pxDRK4nDkYb5",
        "colab_type": "text"
      },
      "source": [
        "Ex 2\n",
        "\n",
        "Q1 \n",
        "\n",
        "V3"
      ]
    },
    {
      "cell_type": "markdown",
      "metadata": {
        "id": "12AHlhT3-A-S",
        "colab_type": "text"
      },
      "source": [
        "# Mimic exercise\n",
        "\n",
        "Build a \"mimic\" dict that maps each word that appears in the file to a list of all the words that immediately follow that word in the file.\n",
        "\n",
        "The list of words can be be in any order and should include duplicates. So for example the key \"and\" might have the list [\"then\", \"best\", \"then\", \"after\", ...] listing all the words which came after \"and\" in the text. We'll say that the empty string is what comes before the first word in the file.\n",
        "\n",
        "With the mimic dict, it's fairly easy to emit random text that mimics the original. Print a word, then look up what words might come next and pick one at random as the next work.\n",
        "\n",
        "Use the empty string as the first word to prime things. If we ever get stuck with a word that is not in the dict, go back to the empty string to keep things moving.\n",
        "\n",
        "\n",
        "**Note**: The standard python module 'random' includes a random.choice(list) method which picks a random element from a non-empty list.\n",
        "\n",
        "For fun, feed your program to itself as input. Could work on getting it to put in linebreaks around 70 columns, so the output looks better."
      ]
    },
    {
      "cell_type": "code",
      "metadata": {
        "id": "X7TLsOSR-A-V",
        "colab_type": "code",
        "colab": {}
      },
      "source": [
        "import random\n",
        "import sys\n",
        "import pickle "
      ],
      "execution_count": 0,
      "outputs": []
    },
    {
      "cell_type": "code",
      "metadata": {
        "id": "XTV3VA3UD-ex",
        "colab_type": "code",
        "colab": {
          "base_uri": "https://localhost:8080/",
          "height": 210
        },
        "outputId": "3bbef707-0f34-462d-84c4-7e1de6ce3986"
      },
      "source": [
        "! wget https://github.com/patternproject/p.PakistanAI-BootCamp/blob/Week-1/small.txt"
      ],
      "execution_count": 15,
      "outputs": [
        {
          "output_type": "stream",
          "text": [
            "--2020-02-21 09:34:55--  https://github.com/patternproject/p.PakistanAI-BootCamp/blob/Week-1/small.txt\n",
            "Resolving github.com (github.com)... 192.30.253.113\n",
            "Connecting to github.com (github.com)|192.30.253.113|:443... connected.\n",
            "HTTP request sent, awaiting response... 200 OK\n",
            "Length: unspecified [text/html]\n",
            "Saving to: ‘small.txt’\n",
            "\n",
            "\rsmall.txt               [<=>                 ]       0  --.-KB/s               \rsmall.txt               [ <=>                ]  66.22K  --.-KB/s    in 0.03s   \n",
            "\n",
            "2020-02-21 09:34:55 (2.40 MB/s) - ‘small.txt’ saved [67808]\n",
            "\n"
          ],
          "name": "stdout"
        }
      ]
    },
    {
      "cell_type": "code",
      "metadata": {
        "id": "lTaSSHyOEFoo",
        "colab_type": "code",
        "colab": {
          "base_uri": "https://localhost:8080/",
          "height": 34
        },
        "outputId": "3eb4241d-848b-4e62-b856-5f385b740bf6"
      },
      "source": [
        "! ls"
      ],
      "execution_count": 16,
      "outputs": [
        {
          "output_type": "stream",
          "text": [
            "sample_data  small.txt\n"
          ],
          "name": "stdout"
        }
      ]
    },
    {
      "cell_type": "code",
      "metadata": {
        "id": "ayJE803lEJnR",
        "colab_type": "code",
        "colab": {
          "base_uri": "https://localhost:8080/",
          "height": 34
        },
        "outputId": "a26c2993-6215-40fc-b80b-2fafb8a815fb"
      },
      "source": [
        "! pwd"
      ],
      "execution_count": 6,
      "outputs": [
        {
          "output_type": "stream",
          "text": [
            "/content\n"
          ],
          "name": "stdout"
        }
      ]
    },
    {
      "cell_type": "markdown",
      "metadata": {
        "id": "Y55DXGRZEQ9W",
        "colab_type": "text"
      },
      "source": [
        "File has been downloaded intp /content directory"
      ]
    },
    {
      "cell_type": "markdown",
      "metadata": {
        "id": "XeYWMfYCEQ2O",
        "colab_type": "text"
      },
      "source": [
        ""
      ]
    },
    {
      "cell_type": "code",
      "metadata": {
        "id": "C9jBFyb4E0cT",
        "colab_type": "code",
        "colab": {}
      },
      "source": [
        "path = '/content/small.txt'"
      ],
      "execution_count": 0,
      "outputs": []
    },
    {
      "cell_type": "code",
      "metadata": {
        "id": "IAZYGx97-A-Z",
        "colab_type": "code",
        "colab": {}
      },
      "source": [
        "### Function that reads a txt file and stores a pickle file\n",
        "### Txt file was getting corrupted so interacting with pickle file should be simpler\n",
        "\n",
        "\n",
        "def file_to_pickle(s_filename):\n",
        "  \"\"\"Takes a filename and stores a pickle file.\n",
        "  \n",
        "     Parameters:\n",
        "     s_filename (string): name of the input file name\n",
        "  \n",
        "     Returns:\n",
        "     None\n",
        "  \"\"\"\n",
        "  input_file = open(s_filename,'r')\n",
        "  l_lines = input_file.read()\n",
        "\n",
        "  print(l_lines)\n",
        "\n",
        "  # Its important to use binary mode \n",
        "  f_pickle = open('smallPickle', 'ab') \n",
        "      \n",
        "  # source, destination \n",
        "  pickle.dump(l_lines, f_pickle)                      \n",
        "  f_pickle.close() \n",
        "  \n",
        "  input_file.close()\n",
        "\n",
        "  return"
      ],
      "execution_count": 0,
      "outputs": []
    },
    {
      "cell_type": "code",
      "metadata": {
        "id": "cTAf2cj_FB-7",
        "colab_type": "code",
        "colab": {
          "base_uri": "https://localhost:8080/",
          "height": 87
        },
        "outputId": "f126a9e9-18d4-4bb8-95bd-6f0dce64c8df"
      },
      "source": [
        "# file_to_pickle(path)"
      ],
      "execution_count": 27,
      "outputs": [
        {
          "output_type": "stream",
          "text": [
            "We are not what we should be\n",
            "We are not what we need to be\n",
            "But at least we are not what we used to be\n",
            "  -- Football Coach\n"
          ],
          "name": "stdout"
        }
      ]
    },
    {
      "cell_type": "code",
      "metadata": {
        "id": "p0bwA9qNKO6U",
        "colab_type": "code",
        "colab": {}
      },
      "source": [
        "pickle_path = '/content/smallPickle'"
      ],
      "execution_count": 0,
      "outputs": []
    },
    {
      "cell_type": "code",
      "metadata": {
        "id": "o5pLkxHqJpC9",
        "colab_type": "code",
        "colab": {}
      },
      "source": [
        "# Implement the function file_to_list that receives a pickle filename \n",
        "# and returns a list of words in that file\n",
        "# Use str.split() (no arguments) to split on all whitespace.\n",
        "# for opening and reading a file, look for a functions open(...) and read lines(...)\n",
        "\n",
        "\n",
        "def file_to_list(s_filename):\n",
        "  \"\"\"Takes a filename and returns a list of words.\n",
        "  \n",
        "     Parameters:\n",
        "     s_filename (string): name of the input (pickle) file name\n",
        "  \n",
        "     Returns:\n",
        "     l_words (list): list of words in that file\n",
        "  \"\"\"\n",
        "  \n",
        "  # for reading also binary mode is important \n",
        "  f_handle = open(s_filename, 'rb')      \n",
        "  input_file = pickle.load(f_handle) \n",
        "  f_handle.close()\n",
        "\n",
        "  print(input_file)\n",
        "\n",
        "  \n",
        "\n",
        "  return"
      ],
      "execution_count": 0,
      "outputs": []
    },
    {
      "cell_type": "code",
      "metadata": {
        "id": "18UqD6yjKx7-",
        "colab_type": "code",
        "colab": {
          "base_uri": "https://localhost:8080/",
          "height": 87
        },
        "outputId": "e2907513-cbaf-4a83-a9f7-b62c9d11f878"
      },
      "source": [
        "file_to_list(pickle_path)"
      ],
      "execution_count": 35,
      "outputs": [
        {
          "output_type": "stream",
          "text": [
            "We are not what we should be\n",
            "We are not what we need to be\n",
            "But at least we are not what we used to be\n",
            "  -- Football Coach\n"
          ],
          "name": "stdout"
        }
      ]
    },
    {
      "cell_type": "markdown",
      "metadata": {
        "id": "XYn1ilg6JoNf",
        "colab_type": "text"
      },
      "source": [
        ""
      ]
    },
    {
      "cell_type": "code",
      "metadata": {
        "id": "e3W4oaa_-A-c",
        "colab_type": "code",
        "colab": {}
      },
      "source": [
        "def mimic_dict(filename):\n",
        "    \"\"\"Returns mimic dict mapping each word to list of words which follow it.\"\"\"\n",
        "    # +++your code here+++\n",
        "    return"
      ],
      "execution_count": 0,
      "outputs": []
    },
    {
      "cell_type": "code",
      "metadata": {
        "id": "aasl0OxF-A-f",
        "colab_type": "code",
        "colab": {}
      },
      "source": [
        "def print_mimic(mimic_dict, word):\n",
        "    \"\"\"Given mimic dict and start word, prints 200 random words.\"\"\"\n",
        "    # +++your code here+++\n",
        "    return"
      ],
      "execution_count": 0,
      "outputs": []
    }
  ]
}