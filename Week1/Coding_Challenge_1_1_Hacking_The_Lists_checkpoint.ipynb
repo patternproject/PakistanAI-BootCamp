{
  "nbformat": 4,
  "nbformat_minor": 0,
  "metadata": {
    "kernelspec": {
      "display_name": "Python 3",
      "language": "python",
      "name": "python3"
    },
    "language_info": {
      "codemirror_mode": {
        "name": "ipython",
        "version": 3
      },
      "file_extension": ".py",
      "mimetype": "text/x-python",
      "name": "python",
      "nbconvert_exporter": "python",
      "pygments_lexer": "ipython3",
      "version": "3.7.4"
    },
    "colab": {
      "name": "Coding Challenge # 1.1 - Hacking The Lists-checkpoint.ipynb",
      "provenance": [],
      "include_colab_link": true
    }
  },
  "cells": [
    {
      "cell_type": "markdown",
      "metadata": {
        "id": "view-in-github",
        "colab_type": "text"
      },
      "source": [
        "<a href=\"https://colab.research.google.com/github/patternproject/PakistanAI-BootCamp/blob/master/Coding_Challenge_1_1_Hacking_The_Lists_checkpoint.ipynb\" target=\"_parent\"><img src=\"https://colab.research.google.com/assets/colab-badge.svg\" alt=\"Open In Colab\"/></a>"
      ]
    },
    {
      "cell_type": "code",
      "metadata": {
        "id": "pz5IWNyctp8V",
        "colab_type": "code",
        "colab": {}
      },
      "source": [
        "# In[1]:\n",
        "# A. match_ends\n",
        "# Given a list of strings, return the count of the number of\n",
        "# strings where the string length is 2 or more and the first\n",
        "# and last chars of the string are the same.\n",
        "# Note: python does not have a ++ operator, but += works.\n",
        "def match_ends(words):\n",
        "  # +++your code here+++\n",
        "  return\n",
        "\n"
      ],
      "execution_count": 0,
      "outputs": []
    },
    {
      "cell_type": "code",
      "metadata": {
        "id": "fbCfRFRHtp8c",
        "colab_type": "code",
        "colab": {}
      },
      "source": [
        "# B. front_x\n",
        "# Given a list of strings, return a list with the strings\n",
        "# in sorted order, except group all the strings that begin with 'x' first.\n",
        "# e.g. ['mix', 'xyz', 'apple', 'xanadu', 'aardvark'] yields\n",
        "# ['xanadu', 'xyz', 'aardvark', 'apple', 'mix']\n",
        "# Hint: this can be done by making 2 lists and sorting each of them\n",
        "# before combining them.\n",
        "def front_x(words):\n",
        "  # +++your code here+++\n",
        "  return\n",
        "\n",
        "\n"
      ],
      "execution_count": 0,
      "outputs": []
    },
    {
      "cell_type": "code",
      "metadata": {
        "id": "r4S3p97ktp8i",
        "colab_type": "code",
        "colab": {}
      },
      "source": [
        "# C. sort_last\n",
        "# Given a list of non-empty tuples, return a list sorted in increasing\n",
        "# order by the last element in each tuple.\n",
        "# e.g. [(1, 7), (1, 3), (3, 4, 5), (2, 2)] yields\n",
        "# [(2, 2), (1, 3), (3, 4, 5), (1, 7)]\n",
        "# Hint: use a custom key= function to extract the last element form each tuple.\n",
        "def sort_last(tuples):\n",
        "  # +++your code here+++\n",
        "  return\n",
        "\n"
      ],
      "execution_count": 0,
      "outputs": []
    },
    {
      "cell_type": "code",
      "metadata": {
        "id": "Pps07ogstp8n",
        "colab_type": "code",
        "colab": {}
      },
      "source": [
        "# Simple provided test() function used in main() to print\n",
        "# what each function returns vs. what it's supposed to return.\n",
        "def test(got, expected):\n",
        "  if got == expected:\n",
        "    prefix = ' OK '\n",
        "  else:\n",
        "    prefix = '  X '\n",
        "  print '%s got: %s expected: %s' % (prefix, repr(got), repr(expected))\n",
        "\n"
      ],
      "execution_count": 0,
      "outputs": []
    },
    {
      "cell_type": "code",
      "metadata": {
        "ExecuteTime": {
          "end_time": "2020-02-10T20:54:38.154541Z",
          "start_time": "2020-02-10T20:54:38.142569Z"
        },
        "id": "g3Xf8IY8tp8u",
        "colab_type": "code",
        "colab": {}
      },
      "source": [
        "# Calls the above functions with interesting inputs.\n",
        "\n",
        "print 'match_ends'\n",
        "test(match_ends(['aba', 'xyz', 'aa', 'x', 'bbb']), 3)\n",
        "test(match_ends(['', 'x', 'xy', 'xyx', 'xx']), 2)\n",
        "test(match_ends(['aaa', 'be', 'abc', 'hello']), 1)\n",
        "\n",
        "print\n",
        "print 'front_x'\n",
        "test(front_x(['bbb', 'ccc', 'axx', 'xzz', 'xaa']),\n",
        "     ['xaa', 'xzz', 'axx', 'bbb', 'ccc'])\n",
        "test(front_x(['ccc', 'bbb', 'aaa', 'xcc', 'xaa']),\n",
        "     ['xaa', 'xcc', 'aaa', 'bbb', 'ccc'])\n",
        "test(front_x(['mix', 'xyz', 'apple', 'xanadu', 'aardvark']),\n",
        "     ['xanadu', 'xyz', 'aardvark', 'apple', 'mix'])\n",
        "\n",
        "     \n",
        "print\n",
        "print 'sort_last'\n",
        "test(sort_last([(1, 3), (3, 2), (2, 1)]),\n",
        "     [(2, 1), (3, 2), (1, 3)])\n",
        "test(sort_last([(2, 3), (1, 2), (3, 1)]),\n",
        "     [(3, 1), (1, 2), (2, 3)])\n",
        "test(sort_last([(1, 7), (1, 3), (3, 4, 5), (2, 2)]),\n",
        "     [(2, 2), (1, 3), (3, 4, 5), (1, 7)])"
      ],
      "execution_count": 0,
      "outputs": []
    },
    {
      "cell_type": "code",
      "metadata": {
        "ExecuteTime": {
          "end_time": "2020-02-10T20:55:01.012434Z",
          "start_time": "2020-02-10T20:55:01.008461Z"
        },
        "id": "sZ7jPVHXtp8z",
        "colab_type": "code",
        "colab": {}
      },
      "source": [
        "# In[1]:\n",
        "# D. Given a list of numbers, return a list where\n",
        "# all adjacent == elements have been reduced to a single element,\n",
        "# so [1, 2, 2, 3] returns [1, 2, 3]. You may create a new list or\n",
        "# modify the passed in list.\n",
        "def remove_adjacent(nums):\n",
        "  # +++your code here+++\n",
        "  return\n"
      ],
      "execution_count": 0,
      "outputs": []
    },
    {
      "cell_type": "code",
      "metadata": {
        "id": "L1wWXK65tp84",
        "colab_type": "code",
        "colab": {}
      },
      "source": [
        "# E. Given two lists sorted in increasing order, create and return a merged\n",
        "# list of all the elements in sorted order. You may modify the passed in lists.\n",
        "# Ideally, the solution should work in \"linear\" time, making a single\n",
        "# pass of both lists.\n",
        "def linear_merge(list1, list2):\n",
        "  # +++your code here+++\n",
        "  return\n",
        "\n",
        "# Note: the solution above is kind of cute, but unforunately list.pop(0)\n",
        "# is not constant time with the standard python list implementation, so\n",
        "# the above is not strictly linear time.\n",
        "# An alternate approach uses pop(-1) to remove the endmost elements\n",
        "# from each list, building a solution list which is backwards.\n",
        "# Then use reversed() to put the result back in the correct order. That\n",
        "# solution works in linear time, but is more ugly."
      ],
      "execution_count": 0,
      "outputs": []
    },
    {
      "cell_type": "code",
      "metadata": {
        "id": "D8DkMu5Gtp87",
        "colab_type": "code",
        "colab": {}
      },
      "source": [
        "# Simple provided test() function used in main() to print\n",
        "# what each function returns vs. what it's supposed to return.\n",
        "def test(got, expected):\n",
        "  if got == expected:\n",
        "    prefix = ' OK '\n",
        "  else:\n",
        "    prefix = '  X '\n",
        "  print '%s got: %s expected: %s' % (prefix, repr(got), repr(expected))"
      ],
      "execution_count": 0,
      "outputs": []
    },
    {
      "cell_type": "code",
      "metadata": {
        "id": "Sr9BUj7Stp9A",
        "colab_type": "code",
        "colab": {}
      },
      "source": [
        "# Calls the above functions with interesting inputs.\n",
        "print 'remove_adjacent'\n",
        "test(remove_adjacent([1, 2, 2, 3]), [1, 2, 3])\n",
        "test(remove_adjacent([2, 2, 3, 3, 3]), [2, 3])\n",
        "test(remove_adjacent([]), [])\n",
        "\n",
        "print\n",
        "print 'linear_merge'\n",
        "test(linear_merge(['aa', 'xx', 'zz'], ['bb', 'cc']),\n",
        "     ['aa', 'bb', 'cc', 'xx', 'zz'])\n",
        "test(linear_merge(['aa', 'xx'], ['bb', 'cc', 'zz']),\n",
        "     ['aa', 'bb', 'cc', 'xx', 'zz'])\n",
        "test(linear_merge(['aa', 'aa'], ['aa', 'bb', 'bb']),\n",
        "     ['aa', 'aa', 'aa', 'bb', 'bb'])"
      ],
      "execution_count": 0,
      "outputs": []
    }
  ]
}
