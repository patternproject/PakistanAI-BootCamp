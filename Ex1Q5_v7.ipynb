{
  "nbformat": 4,
  "nbformat_minor": 0,
  "metadata": {
    "colab": {
      "name": "Ex1Q5-v1.ipynb",
      "provenance": [],
      "collapsed_sections": [],
      "authorship_tag": "ABX9TyOUcoN8xxmqz0XZ1iGllEEL",
      "include_colab_link": true
    },
    "kernelspec": {
      "name": "python3",
      "display_name": "Python 3"
    }
  },
  "cells": [
    {
      "cell_type": "markdown",
      "metadata": {
        "id": "view-in-github",
        "colab_type": "text"
      },
      "source": [
        "<a href=\"https://colab.research.google.com/github/patternproject/p.PakistanAI-BootCamp/blob/Week-1/Ex1Q5_v7.ipynb\" target=\"_parent\"><img src=\"https://colab.research.google.com/assets/colab-badge.svg\" alt=\"Open In Colab\"/></a>"
      ]
    },
    {
      "cell_type": "markdown",
      "metadata": {
        "id": "KvvZs1476eZ3",
        "colab_type": "text"
      },
      "source": [
        "Coding Challenge # 1.1\n",
        "\n",
        "Q5 - v7"
      ]
    },
    {
      "cell_type": "code",
      "metadata": {
        "id": "xTUu5won6aai",
        "colab_type": "code",
        "colab": {}
      },
      "source": [
        "# E. Given two lists sorted in increasing order, create and return a merged\n",
        "# list of all the elements in sorted order. You may modify the passed in lists.\n",
        "# Ideally, the solution should work in \"linear\" time, making a single\n",
        "# pass of both lists.\n",
        "\n",
        "#def linear_merge(list1, list2):\n",
        "  # +++your code here+++\n",
        "#  return"
      ],
      "execution_count": 0,
      "outputs": []
    },
    {
      "cell_type": "code",
      "metadata": {
        "id": "AsufFmHv6xgH",
        "colab_type": "code",
        "colab": {}
      },
      "source": [
        "def linear_merge(l1,l2):\n",
        "\n",
        "  # merge the two lists\n",
        "  # using + operator to concat \n",
        "  l_merged = l1 + l2 \n",
        "  print(l_merged)\n",
        "\n",
        "  # sort the merged list\n",
        "  #print(\"\\n\")\n",
        "  #print(sorted(l_merged))\n",
        "\n",
        "  print(\"returning now\")\n",
        "  return(sorted(l_merged))\n",
        "  #return(l_merged.sort())"
      ],
      "execution_count": 0,
      "outputs": []
    },
    {
      "cell_type": "code",
      "metadata": {
        "id": "_M1981F57Chd",
        "colab_type": "code",
        "colab": {}
      },
      "source": [
        "l_temp1 = [1,2]\n",
        "l_temp2 = [3,4]\n",
        "l_temp3 = [1,3]\n",
        "l_temp4 = [2,4]\n",
        "l_temp5 = [2,3]\n",
        "l_temp6 = [1,4]\n",
        "l_temp7 = [3,3,3]\n"
      ],
      "execution_count": 0,
      "outputs": []
    },
    {
      "cell_type": "code",
      "metadata": {
        "id": "nvAAiNEx7L9q",
        "colab_type": "code",
        "outputId": "842eedcf-dbf2-4a8c-c592-df553255708e",
        "colab": {
          "base_uri": "https://localhost:8080/",
          "height": 105
        }
      },
      "source": [
        "l_result = linear_merge(l_temp1, l_temp2) "
      ],
      "execution_count": 0,
      "outputs": [
        {
          "output_type": "stream",
          "text": [
            "[2, 4, 1, 2]\n",
            "\n",
            "\n",
            "[1, 2, 2, 4]\n",
            "returning now\n"
          ],
          "name": "stdout"
        }
      ]
    },
    {
      "cell_type": "code",
      "metadata": {
        "id": "jFsAM8Ni7Ne6",
        "colab_type": "code",
        "outputId": "e3a25584-08e9-49fe-83af-07d8478fc8fc",
        "colab": {
          "base_uri": "https://localhost:8080/",
          "height": 34
        }
      },
      "source": [
        "print(l_result)"
      ],
      "execution_count": 0,
      "outputs": [
        {
          "output_type": "stream",
          "text": [
            "[1, 2, 2, 4]\n"
          ],
          "name": "stdout"
        }
      ]
    },
    {
      "cell_type": "code",
      "metadata": {
        "id": "I8eLgz4OFEzI",
        "colab_type": "code",
        "outputId": "c8e718b7-41da-462a-d567-6dc96594c04d",
        "colab": {
          "base_uri": "https://localhost:8080/",
          "height": 52
        }
      },
      "source": [
        "l_result2 = linear_merge(l_temp1, l_temp3) "
      ],
      "execution_count": 0,
      "outputs": [
        {
          "output_type": "stream",
          "text": [
            "[2, 4, 3, 3, 3]\n",
            "returning now\n"
          ],
          "name": "stdout"
        }
      ]
    },
    {
      "cell_type": "code",
      "metadata": {
        "id": "q-oamwY7HHRr",
        "colab_type": "code",
        "outputId": "2460e92e-f8e3-450d-92f0-69485603427a",
        "colab": {
          "base_uri": "https://localhost:8080/",
          "height": 34
        }
      },
      "source": [
        "print(l_result2)"
      ],
      "execution_count": 0,
      "outputs": [
        {
          "output_type": "stream",
          "text": [
            "[2, 3, 3, 3, 4]\n"
          ],
          "name": "stdout"
        }
      ]
    },
    {
      "cell_type": "code",
      "metadata": {
        "id": "sLFmqXhSHIqm",
        "colab_type": "code",
        "colab": {}
      },
      "source": [
        "# implementing without built-in sort function\n",
        "\n",
        "def linear_merge2(l1,l2):\n",
        "  \"\"\"Merges the two input list and then returns a combined sorted list\"\"\"\n",
        "  \n",
        "  print(\"first list\")\n",
        "  print(l1)\n",
        "  #print(\"\\n\")\n",
        "  print(\"second list\")\n",
        "  print(l2)\n",
        "  #print(\"\\n\")\n",
        "\n",
        "\n",
        "  l_merged = []\n",
        "\n",
        "  for e in l1:\n",
        "    print(\"outer loop with e equal to\")\n",
        "    print(e)\n",
        "    for m in l2:\n",
        "      print(\"inner loop with m equal to\")\n",
        "      print(m)\n",
        "      if e < m:\n",
        "        l_merged.append(e)\n",
        "        print(\"if branch\")\n",
        "        print(\"----------------\")\n",
        "        print(\"l_merged\")\n",
        "        print(l_merged)\n",
        "        print(\"\\n\")\n",
        "        break\n",
        "      \n",
        "      elif e >= m:\n",
        "        l_merged.append(m)\n",
        "        print(\"else branch\")\n",
        "        print(\"----------------\")\n",
        "        print(\"l_merged\")\n",
        "        print(l_merged)\n",
        "        print(\"\\n\")\n",
        "        \n",
        "        l2.remove(m)\n",
        "        print(\"removed l2\")\n",
        "        print(l2)\n",
        "        print(\"\\n\")\n",
        "\n",
        "  print(\"out of for loop\")\n",
        "  print(l_merged)\n",
        "  print(\"\\n\")\n",
        "\n",
        "  if len(l2) > 0:\n",
        "    l_merged.extend(l2)\n",
        "\n",
        "  print(\"after final if \")\n",
        "  print(l_merged)\n",
        "\n",
        "  print(\"exiting function\")\n",
        "  return(l_merged)"
      ],
      "execution_count": 0,
      "outputs": []
    },
    {
      "cell_type": "code",
      "metadata": {
        "id": "Po-6NtRESJii",
        "colab_type": "code",
        "outputId": "9e75b407-3f88-42aa-d02a-5d9e6c82f3b4",
        "colab": {
          "base_uri": "https://localhost:8080/",
          "height": 122
        }
      },
      "source": [
        "l_result3 = linear_merge2(l_temp1, l_temp2) "
      ],
      "execution_count": 0,
      "outputs": [
        {
          "output_type": "stream",
          "text": [
            "if branch\n",
            "[1]\n",
            "if branch\n",
            "[1, 2]\n",
            "[1, 2, 3, 4]\n",
            "exiting function\n"
          ],
          "name": "stdout"
        }
      ]
    },
    {
      "cell_type": "code",
      "metadata": {
        "id": "BlZqwK51Ubk5",
        "colab_type": "code",
        "outputId": "cb8738cf-12c5-4e2f-9b77-53998d4e8172",
        "colab": {
          "base_uri": "https://localhost:8080/",
          "height": 633
        }
      },
      "source": [
        "l_temp3 = [1,3]\n",
        "l_temp4 = [2,4]\n",
        "l_result4 = linear_merge2(l_temp3, l_temp4) "
      ],
      "execution_count": 0,
      "outputs": [
        {
          "output_type": "stream",
          "text": [
            "first list\n",
            "[1, 3]\n",
            "second list\n",
            "[2, 4]\n",
            "outer loop with e equal to\n",
            "1\n",
            "inner loop with m equal to\n",
            "2\n",
            "if branch\n",
            "----------------\n",
            "l_merged\n",
            "[1]\n",
            "\n",
            "\n",
            "outer loop with e equal to\n",
            "3\n",
            "inner loop with m equal to\n",
            "2\n",
            "else branch\n",
            "----------------\n",
            "l_merged\n",
            "[1, 2]\n",
            "\n",
            "\n",
            "removed l2\n",
            "[4]\n",
            "\n",
            "\n",
            "out of for loop\n",
            "[1, 2]\n",
            "\n",
            "\n",
            "after final if \n",
            "[1, 2, 4]\n",
            "exiting function\n"
          ],
          "name": "stdout"
        }
      ]
    },
    {
      "cell_type": "code",
      "metadata": {
        "id": "43vpiJzOVH6Q",
        "colab_type": "code",
        "colab": {}
      },
      "source": [
        ""
      ],
      "execution_count": 0,
      "outputs": []
    }
  ]
}