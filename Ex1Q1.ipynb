{
  "nbformat": 4,
  "nbformat_minor": 0,
  "metadata": {
    "colab": {
      "name": "Ex1Q1.ipynb",
      "provenance": []
    },
    "kernelspec": {
      "name": "python3",
      "display_name": "Python 3"
    }
  },
  "cells": [
    {
      "cell_type": "markdown",
      "metadata": {
        "id": "t3jKJ_Oas_SJ",
        "colab_type": "text"
      },
      "source": [
        "Coding Challenge # 1.1 \n",
        "\n",
        "Q1"
      ]
    },
    {
      "cell_type": "code",
      "metadata": {
        "id": "q2ut4ghQmOox",
        "colab_type": "code",
        "colab": {}
      },
      "source": [
        "import string"
      ],
      "execution_count": 0,
      "outputs": []
    },
    {
      "cell_type": "code",
      "metadata": {
        "id": "sts-vOk7mcOZ",
        "colab_type": "code",
        "colab": {}
      },
      "source": [
        "test_1 = \"abc\"\n",
        "test_2 = \"\"\n",
        "test_3 = \"lllllllllllllllllll\"\n",
        "test_4 = \"abcda\""
      ],
      "execution_count": 0,
      "outputs": []
    },
    {
      "cell_type": "code",
      "metadata": {
        "id": "geKVb7iHmRd0",
        "colab_type": "code",
        "colab": {}
      },
      "source": [
        "def fun_1(str_input):\n",
        "  # check length of string\n",
        "  print(len(str_input))"
      ],
      "execution_count": 0,
      "outputs": []
    },
    {
      "cell_type": "code",
      "metadata": {
        "id": "e9ApRvoFmlkX",
        "colab_type": "code",
        "colab": {
          "base_uri": "https://localhost:8080/",
          "height": 34
        },
        "outputId": "1935929d-17c1-44e7-c7d8-223792a6dca2"
      },
      "source": [
        "fun_1(test_1)"
      ],
      "execution_count": 29,
      "outputs": [
        {
          "output_type": "stream",
          "text": [
            "3\n"
          ],
          "name": "stdout"
        }
      ]
    },
    {
      "cell_type": "code",
      "metadata": {
        "id": "Vu29lj0omsWY",
        "colab_type": "code",
        "colab": {
          "base_uri": "https://localhost:8080/",
          "height": 34
        },
        "outputId": "9e957489-8823-477c-d574-0b603b83a6a0"
      },
      "source": [
        "fun_1(test_2)"
      ],
      "execution_count": 30,
      "outputs": [
        {
          "output_type": "stream",
          "text": [
            "0\n"
          ],
          "name": "stdout"
        }
      ]
    },
    {
      "cell_type": "code",
      "metadata": {
        "id": "HnP3SH1pvlUM",
        "colab_type": "code",
        "colab": {
          "base_uri": "https://localhost:8080/",
          "height": 52
        },
        "outputId": "a20549d7-c4c5-409f-baa9-764e2928e5f1"
      },
      "source": [
        "def fun_2(list_str_input):\n",
        "  for l in list_str_input:\n",
        "    print(len(l))\n",
        "\n",
        "\n",
        "fun_2([test_1,test_2])"
      ],
      "execution_count": 31,
      "outputs": [
        {
          "output_type": "stream",
          "text": [
            "3\n",
            "0\n"
          ],
          "name": "stdout"
        }
      ]
    },
    {
      "cell_type": "code",
      "metadata": {
        "id": "idgSUCxev3s0",
        "colab_type": "code",
        "colab": {
          "base_uri": "https://localhost:8080/",
          "height": 34
        },
        "outputId": "bd40750c-a155-41e3-de99-fae59cafee5a"
      },
      "source": [
        "def fun_3(list_str_input):\n",
        "  count=0\n",
        "  for l in list_str_input:\n",
        "    if (len(l)>2):\n",
        "      count +=1\n",
        "  return count\n",
        "\n",
        "fun_3([test_1,test_2,test_3])"
      ],
      "execution_count": 32,
      "outputs": [
        {
          "output_type": "execute_result",
          "data": {
            "text/plain": [
              "2"
            ]
          },
          "metadata": {
            "tags": []
          },
          "execution_count": 32
        }
      ]
    },
    {
      "cell_type": "code",
      "metadata": {
        "id": "bM49HTQcwctZ",
        "colab_type": "code",
        "colab": {}
      },
      "source": [
        "def fun_4(list_str_input):\n",
        "  count=0\n",
        "  for l in list_str_input:\n",
        "    if (len(l)>2) and (l[0] == l[len(l)-1]):\n",
        "      count +=1\n",
        "  return count"
      ],
      "execution_count": 0,
      "outputs": []
    },
    {
      "cell_type": "code",
      "metadata": {
        "id": "J_FyV-McxF2G",
        "colab_type": "code",
        "colab": {
          "base_uri": "https://localhost:8080/",
          "height": 34
        },
        "outputId": "5792614b-d0e2-4ee9-b2c6-540d5bedb667"
      },
      "source": [
        "fun_4([test_1,test_2,test_3,test_4])"
      ],
      "execution_count": 34,
      "outputs": [
        {
          "output_type": "execute_result",
          "data": {
            "text/plain": [
              "2"
            ]
          },
          "metadata": {
            "tags": []
          },
          "execution_count": 34
        }
      ]
    },
    {
      "cell_type": "code",
      "metadata": {
        "id": "wp2eZHBxxR4g",
        "colab_type": "code",
        "colab": {}
      },
      "source": [
        ""
      ],
      "execution_count": 0,
      "outputs": []
    }
  ]
}