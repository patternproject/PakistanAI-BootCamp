{
  "nbformat": 4,
  "nbformat_minor": 0,
  "metadata": {
    "colab": {
      "name": "numpy - v1.ipynb",
      "provenance": [],
      "collapsed_sections": [],
      "authorship_tag": "ABX9TyMnf2wQGQC1gRXYjzD+2Zgf",
      "include_colab_link": true
    },
    "kernelspec": {
      "name": "python3",
      "display_name": "Python 3"
    }
  },
  "cells": [
    {
      "cell_type": "markdown",
      "metadata": {
        "id": "view-in-github",
        "colab_type": "text"
      },
      "source": [
        "<a href=\"https://colab.research.google.com/github/patternproject/p.PakistanAI-BootCamp/blob/Week-3/MyAttempt/numpy_v1.ipynb\" target=\"_parent\"><img src=\"https://colab.research.google.com/assets/colab-badge.svg\" alt=\"Open In Colab\"/></a>"
      ]
    },
    {
      "cell_type": "markdown",
      "metadata": {
        "id": "nJqY7oey2wpx",
        "colab_type": "text"
      },
      "source": [
        "# Revision History\n",
        "\n",
        "*   v1: Learning Numpy\n",
        "*   V2: Loading IRIS dataset and playing with it\n",
        "*   V3: Continued on V2\n",
        "*   V4: Able to try the logic on single value of iris dataset\n",
        "*   V5: More experiments\n",
        "\n"
      ]
    },
    {
      "cell_type": "code",
      "metadata": {
        "id": "5MLFNhJcybIJ",
        "colab_type": "code",
        "colab": {}
      },
      "source": [
        "import numpy as np\n",
        "import math\n",
        "import pandas as pd\n",
        "import tools as t # set of tools for plotting, data splitting, etc.."
      ],
      "execution_count": 0,
      "outputs": []
    },
    {
      "cell_type": "code",
      "metadata": {
        "id": "daLLPBMyyeLg",
        "colab_type": "code",
        "colab": {}
      },
      "source": [
        "p1 = np.array([1,2])\n",
        "p2 = np.array([3,4])"
      ],
      "execution_count": 0,
      "outputs": []
    },
    {
      "cell_type": "code",
      "metadata": {
        "id": "ysRnc2rAykUI",
        "colab_type": "code",
        "colab": {}
      },
      "source": [
        "distance = math.sqrt( ((p1[0]-p2[0])**2)+((p1[1]-p2[1])**2) )"
      ],
      "execution_count": 0,
      "outputs": []
    },
    {
      "cell_type": "code",
      "metadata": {
        "id": "Yy_Rx03Ey_s_",
        "colab_type": "code",
        "outputId": "e5396fed-bf76-4d04-b784-5c903c7c7d51",
        "colab": {
          "base_uri": "https://localhost:8080/",
          "height": 34
        }
      },
      "source": [
        "print(distance)"
      ],
      "execution_count": 4,
      "outputs": [
        {
          "output_type": "stream",
          "text": [
            "2.8284271247461903\n"
          ],
          "name": "stdout"
        }
      ]
    },
    {
      "cell_type": "code",
      "metadata": {
        "id": "YwMhmH9NzFG1",
        "colab_type": "code",
        "outputId": "bc1f8fa6-b163-4b60-c7e8-77a67fa11820",
        "colab": {
          "base_uri": "https://localhost:8080/",
          "height": 34
        }
      },
      "source": [
        " # Calculating distance \n",
        "math.sqrt(math.pow(p1[0] - p2[0], 2) + math.pow(p1[1] - p2[1], 2) ) "
      ],
      "execution_count": 5,
      "outputs": [
        {
          "output_type": "execute_result",
          "data": {
            "text/plain": [
              "2.8284271247461903"
            ]
          },
          "metadata": {
            "tags": []
          },
          "execution_count": 5
        }
      ]
    },
    {
      "cell_type": "code",
      "metadata": {
        "id": "aRAiIdk4zrWJ",
        "colab_type": "code",
        "colab": {}
      },
      "source": [
        "def my_f(p1,p2):\n",
        "  return (math.sqrt(math.pow(p1 - p2,2)))"
      ],
      "execution_count": 0,
      "outputs": []
    },
    {
      "cell_type": "code",
      "metadata": {
        "id": "AhLokfPTz9YB",
        "colab_type": "code",
        "outputId": "b4dbeaa7-5cf6-4059-c608-7132fcf13ce7",
        "colab": {
          "base_uri": "https://localhost:8080/",
          "height": 238
        }
      },
      "source": [
        "#my_f(p1,p2)"
      ],
      "execution_count": 7,
      "outputs": [
        {
          "output_type": "error",
          "ename": "TypeError",
          "evalue": "ignored",
          "traceback": [
            "\u001b[0;31m---------------------------------------------------------------------------\u001b[0m",
            "\u001b[0;31mTypeError\u001b[0m                                 Traceback (most recent call last)",
            "\u001b[0;32m<ipython-input-7-4f1ee70df445>\u001b[0m in \u001b[0;36m<module>\u001b[0;34m()\u001b[0m\n\u001b[0;32m----> 1\u001b[0;31m \u001b[0mmy_f\u001b[0m\u001b[0;34m(\u001b[0m\u001b[0mp1\u001b[0m\u001b[0;34m,\u001b[0m\u001b[0mp2\u001b[0m\u001b[0;34m)\u001b[0m\u001b[0;34m\u001b[0m\u001b[0;34m\u001b[0m\u001b[0m\n\u001b[0m",
            "\u001b[0;32m<ipython-input-6-f9e498df4429>\u001b[0m in \u001b[0;36mmy_f\u001b[0;34m(p1, p2)\u001b[0m\n\u001b[1;32m      1\u001b[0m \u001b[0;32mdef\u001b[0m \u001b[0mmy_f\u001b[0m\u001b[0;34m(\u001b[0m\u001b[0mp1\u001b[0m\u001b[0;34m,\u001b[0m\u001b[0mp2\u001b[0m\u001b[0;34m)\u001b[0m\u001b[0;34m:\u001b[0m\u001b[0;34m\u001b[0m\u001b[0;34m\u001b[0m\u001b[0m\n\u001b[0;32m----> 2\u001b[0;31m   \u001b[0;32mreturn\u001b[0m \u001b[0;34m(\u001b[0m\u001b[0mmath\u001b[0m\u001b[0;34m.\u001b[0m\u001b[0msqrt\u001b[0m\u001b[0;34m(\u001b[0m\u001b[0mmath\u001b[0m\u001b[0;34m.\u001b[0m\u001b[0mpow\u001b[0m\u001b[0;34m(\u001b[0m\u001b[0mp1\u001b[0m \u001b[0;34m-\u001b[0m \u001b[0mp2\u001b[0m\u001b[0;34m,\u001b[0m\u001b[0;36m2\u001b[0m\u001b[0;34m)\u001b[0m\u001b[0;34m)\u001b[0m\u001b[0;34m)\u001b[0m\u001b[0;34m\u001b[0m\u001b[0;34m\u001b[0m\u001b[0m\n\u001b[0m",
            "\u001b[0;31mTypeError\u001b[0m: only size-1 arrays can be converted to Python scalars"
          ]
        }
      ]
    },
    {
      "cell_type": "code",
      "metadata": {
        "id": "yuWJPMR0z_EA",
        "colab_type": "code",
        "colab": {}
      },
      "source": [
        "p1-p2"
      ],
      "execution_count": 0,
      "outputs": []
    },
    {
      "cell_type": "code",
      "metadata": {
        "id": "6g8WtX2K0IKb",
        "colab_type": "code",
        "colab": {}
      },
      "source": [
        "dist = np.linalg.norm(p1-p2)"
      ],
      "execution_count": 0,
      "outputs": []
    },
    {
      "cell_type": "code",
      "metadata": {
        "id": "9fdU-Soe1LpD",
        "colab_type": "code",
        "colab": {}
      },
      "source": [
        "print(dist)"
      ],
      "execution_count": 0,
      "outputs": []
    },
    {
      "cell_type": "code",
      "metadata": {
        "id": "NkEb7GPw1QMK",
        "colab_type": "code",
        "colab": {}
      },
      "source": [
        "def setup(n):\n",
        "    a = np.random.rand(n, 3)\n",
        "    b = np.random.rand(n, 3)\n",
        "    out0 = np.array([a, b])\n",
        "    out1 = np.array([a.T, b.T])\n",
        "    return out0, out1"
      ],
      "execution_count": 0,
      "outputs": []
    },
    {
      "cell_type": "code",
      "metadata": {
        "id": "lg7R8PXu2EY0",
        "colab_type": "code",
        "colab": {}
      },
      "source": [
        "setup = setup"
      ],
      "execution_count": 0,
      "outputs": []
    },
    {
      "cell_type": "code",
      "metadata": {
        "id": "03fBVj8n2FtP",
        "colab_type": "code",
        "colab": {}
      },
      "source": [
        "setup"
      ],
      "execution_count": 0,
      "outputs": []
    },
    {
      "cell_type": "code",
      "metadata": {
        "id": "h2wGL1232Ggk",
        "colab_type": "code",
        "colab": {}
      },
      "source": [
        "setup"
      ],
      "execution_count": 0,
      "outputs": []
    },
    {
      "cell_type": "code",
      "metadata": {
        "id": "KjlnkmIr2TIn",
        "colab_type": "code",
        "colab": {}
      },
      "source": [
        "setup(1)"
      ],
      "execution_count": 0,
      "outputs": []
    },
    {
      "cell_type": "markdown",
      "metadata": {
        "id": "Hps2kyIN2_kI",
        "colab_type": "text"
      },
      "source": [
        "SRC: https://stackoverflow.com/questions/1401712/how-can-the-euclidean-distance-be-calculated-with-numpy"
      ]
    },
    {
      "cell_type": "code",
      "metadata": {
        "id": "6uV0w6-v2VaH",
        "colab_type": "code",
        "colab": {}
      },
      "source": [
        "def linalg_norm(data):\n",
        "    a, b = data[0]\n",
        "    return numpy.linalg.norm(a - b, axis=1)\n",
        "\n",
        "\n",
        "def linalg_norm_T(data):\n",
        "    a, b = data[1]\n",
        "    return numpy.linalg.norm(a - b, axis=0)\n",
        "\n",
        "\n",
        "def sqrt_sum(data):\n",
        "    a, b = data[0]\n",
        "    return numpy.sqrt(numpy.sum((a - b) ** 2, axis=1))\n",
        "\n",
        "\n",
        "def sqrt_sum_T(data):\n",
        "    a, b = data[1]\n",
        "    return numpy.sqrt(numpy.sum((a - b) ** 2, axis=0))\n"
      ],
      "execution_count": 0,
      "outputs": []
    },
    {
      "cell_type": "code",
      "metadata": {
        "id": "R1rsAnpZ29zh",
        "colab_type": "code",
        "colab": {}
      },
      "source": [
        "a"
      ],
      "execution_count": 0,
      "outputs": []
    },
    {
      "cell_type": "code",
      "metadata": {
        "id": "crj8c6CT3GRt",
        "colab_type": "code",
        "colab": {}
      },
      "source": [
        "a,b = setup(1)"
      ],
      "execution_count": 0,
      "outputs": []
    },
    {
      "cell_type": "code",
      "metadata": {
        "id": "gyMnmtEj3Llj",
        "colab_type": "code",
        "colab": {}
      },
      "source": [
        "a"
      ],
      "execution_count": 0,
      "outputs": []
    },
    {
      "cell_type": "code",
      "metadata": {
        "id": "--TAMMBl3Mgr",
        "colab_type": "code",
        "colab": {}
      },
      "source": [
        "b"
      ],
      "execution_count": 0,
      "outputs": []
    },
    {
      "cell_type": "code",
      "metadata": {
        "id": "10fHiyiu3NWN",
        "colab_type": "code",
        "colab": {}
      },
      "source": [
        "a.shape, b.shape"
      ],
      "execution_count": 0,
      "outputs": []
    },
    {
      "cell_type": "code",
      "metadata": {
        "id": "IQqfw2op3QSB",
        "colab_type": "code",
        "colab": {}
      },
      "source": [
        "p1"
      ],
      "execution_count": 0,
      "outputs": []
    },
    {
      "cell_type": "code",
      "metadata": {
        "id": "eSz9MwKA4JOq",
        "colab_type": "code",
        "colab": {}
      },
      "source": [
        "p2"
      ],
      "execution_count": 0,
      "outputs": []
    },
    {
      "cell_type": "code",
      "metadata": {
        "id": "EKDAOi7J4KEB",
        "colab_type": "code",
        "colab": {}
      },
      "source": [
        "np.linalg.norm(p1-p2)"
      ],
      "execution_count": 0,
      "outputs": []
    },
    {
      "cell_type": "markdown",
      "metadata": {
        "id": "aslxSvqbJV5D",
        "colab_type": "text"
      },
      "source": [
        "Trying to reduce the no of rows passed to KNN Class"
      ]
    },
    {
      "cell_type": "markdown",
      "metadata": {
        "id": "L5-LCrTGJbyS",
        "colab_type": "text"
      },
      "source": [
        "let's read the same data and see how to break it apart"
      ]
    },
    {
      "cell_type": "code",
      "metadata": {
        "id": "NDFrAfdN-7AT",
        "colab_type": "code",
        "colab": {}
      },
      "source": [
        "data=pd.read_csv('./iris.data')\n",
        "data.columns=['SepalLength','SepalWidth','PetalLength','PetalWidth','Class']\n",
        "print(data.describe())"
      ],
      "execution_count": 0,
      "outputs": []
    },
    {
      "cell_type": "code",
      "metadata": {
        "id": "PNkwuQ6FJoEI",
        "colab_type": "code",
        "colab": {}
      },
      "source": [
        "# Get your data in matrix\n",
        "X=np.asarray(data[['SepalLength','SepalWidth','PetalLength','PetalWidth']].dropna())"
      ],
      "execution_count": 0,
      "outputs": []
    },
    {
      "cell_type": "code",
      "metadata": {
        "id": "36lPKZvrJsur",
        "colab_type": "code",
        "colab": {}
      },
      "source": [
        "print(X)"
      ],
      "execution_count": 0,
      "outputs": []
    },
    {
      "cell_type": "code",
      "metadata": {
        "id": "WD5gGkIsMoi1",
        "colab_type": "code",
        "colab": {}
      },
      "source": [
        "print(X.shape)"
      ],
      "execution_count": 0,
      "outputs": []
    },
    {
      "cell_type": "code",
      "metadata": {
        "id": "sG3Jk0iOJtuK",
        "colab_type": "code",
        "colab": {}
      },
      "source": [
        "Y=np.asarray(data['Class'].dropna())"
      ],
      "execution_count": 0,
      "outputs": []
    },
    {
      "cell_type": "code",
      "metadata": {
        "id": "tR-JDaYwMrim",
        "colab_type": "code",
        "colab": {}
      },
      "source": [
        "print(Y.shape)"
      ],
      "execution_count": 0,
      "outputs": []
    },
    {
      "cell_type": "code",
      "metadata": {
        "id": "X-lphaxMK7V6",
        "colab_type": "code",
        "colab": {}
      },
      "source": [
        "print(Y)"
      ],
      "execution_count": 0,
      "outputs": []
    },
    {
      "cell_type": "code",
      "metadata": {
        "id": "kVjiWS7JMZvN",
        "colab_type": "code",
        "colab": {}
      },
      "source": [
        "Xtrain,Ytrain,Xtest,Ytest=t.split_data(X,Y)"
      ],
      "execution_count": 0,
      "outputs": []
    },
    {
      "cell_type": "code",
      "metadata": {
        "id": "i8O9A7FWMgpm",
        "colab_type": "code",
        "colab": {}
      },
      "source": [
        "print(Xtrain)"
      ],
      "execution_count": 0,
      "outputs": []
    },
    {
      "cell_type": "code",
      "metadata": {
        "id": "HNCkQ3lQMvwp",
        "colab_type": "code",
        "colab": {}
      },
      "source": [
        "print(Xtrain.shape)"
      ],
      "execution_count": 0,
      "outputs": []
    },
    {
      "cell_type": "code",
      "metadata": {
        "id": "rCb5dkP-Mzz1",
        "colab_type": "code",
        "colab": {}
      },
      "source": [
        "print(Xtest.shape)"
      ],
      "execution_count": 0,
      "outputs": []
    },
    {
      "cell_type": "code",
      "metadata": {
        "id": "YkMo5LJUK88O",
        "colab_type": "code",
        "colab": {}
      },
      "source": [
        "# Lets train a Decision Tree Classifier on Petal Length and Width\n",
        "feat=[0,1]"
      ],
      "execution_count": 0,
      "outputs": []
    },
    {
      "cell_type": "code",
      "metadata": {
        "id": "X9wOM9-SM5Oi",
        "colab_type": "code",
        "colab": {}
      },
      "source": [
        "Xtrain[feat]"
      ],
      "execution_count": 0,
      "outputs": []
    },
    {
      "cell_type": "code",
      "metadata": {
        "id": "tRhpXaQcM7sr",
        "colab_type": "code",
        "colab": {}
      },
      "source": [
        "Xtrain[,feat]"
      ],
      "execution_count": 0,
      "outputs": []
    },
    {
      "cell_type": "code",
      "metadata": {
        "id": "mFfdX8ZWxCb5",
        "colab_type": "code",
        "colab": {}
      },
      "source": [
        "Xtrain[:,feat]"
      ],
      "execution_count": 0,
      "outputs": []
    },
    {
      "cell_type": "code",
      "metadata": {
        "id": "DhDgtyYDxGt1",
        "colab_type": "code",
        "colab": {}
      },
      "source": [
        "Xtrain[2,feat]"
      ],
      "execution_count": 0,
      "outputs": []
    },
    {
      "cell_type": "code",
      "metadata": {
        "id": "-Z2kv4t8xTVm",
        "colab_type": "code",
        "colab": {}
      },
      "source": [
        "Xtemp_train = Xtrain[:5,feat]"
      ],
      "execution_count": 0,
      "outputs": []
    },
    {
      "cell_type": "code",
      "metadata": {
        "id": "K-NiAENcxWTd",
        "colab_type": "code",
        "colab": {}
      },
      "source": [
        "Xtemp_test = Xtest[:5,feat]"
      ],
      "execution_count": 0,
      "outputs": []
    },
    {
      "cell_type": "code",
      "metadata": {
        "id": "2Hjf_agbyBpv",
        "colab_type": "code",
        "colab": {}
      },
      "source": [
        "print(Xtemp_train)"
      ],
      "execution_count": 0,
      "outputs": []
    },
    {
      "cell_type": "code",
      "metadata": {
        "id": "BEr-CHwKyDqH",
        "colab_type": "code",
        "colab": {}
      },
      "source": [
        "print(Xtemp_test)"
      ],
      "execution_count": 0,
      "outputs": []
    },
    {
      "cell_type": "code",
      "metadata": {
        "id": "Z6qvlgP8ybC7",
        "colab_type": "code",
        "colab": {}
      },
      "source": [
        "Xtemp_train.size\n",
        "Xtemp_train.shape\n",
        "Xtemp_train.shape[0]\n",
        "Xtemp_test.shape[0]\n",
        "#np.zeros((5,5))\n",
        "\n",
        "dists = np.zeros((Xtemp_train.shape[0],Xtemp_test.shape[0]))"
      ],
      "execution_count": 0,
      "outputs": []
    },
    {
      "cell_type": "code",
      "metadata": {
        "id": "DTk4UBDpyF31",
        "colab_type": "code",
        "colab": {}
      },
      "source": [
        "\n",
        "def two_loops(a1,a2):\n",
        "  first_dim = a1.shape[0]\n",
        "  second_dim = a2.shape[0]\n",
        "\n",
        "  for i in range(first_dim):\n",
        "    for j in range(second_dim):\n",
        "      dists[i,j] = np.linalg.norm(a1[i]-a2[j])\n",
        "\n",
        "\n",
        "  return dists"
      ],
      "execution_count": 0,
      "outputs": []
    },
    {
      "cell_type": "code",
      "metadata": {
        "id": "TI0RROjRyeou",
        "colab_type": "code",
        "colab": {}
      },
      "source": [
        "d = two_loops(Xtemp_train,Xtemp_test)"
      ],
      "execution_count": 0,
      "outputs": []
    },
    {
      "cell_type": "code",
      "metadata": {
        "id": "M0HChot2yf7N",
        "colab_type": "code",
        "colab": {}
      },
      "source": [
        "print(d)"
      ],
      "execution_count": 0,
      "outputs": []
    },
    {
      "cell_type": "code",
      "metadata": {
        "id": "QzSyl4KF0g_r",
        "colab_type": "code",
        "colab": {}
      },
      "source": [
        "np.linalg.norm(Xtemp_train[0,] - Xtemp_test[0,])"
      ],
      "execution_count": 0,
      "outputs": []
    },
    {
      "cell_type": "code",
      "metadata": {
        "id": "EdM9oQl50zP3",
        "colab_type": "code",
        "colab": {}
      },
      "source": [
        "Xtemp_train[0,]"
      ],
      "execution_count": 0,
      "outputs": []
    },
    {
      "cell_type": "code",
      "metadata": {
        "id": "qmqoIpKY03_2",
        "colab_type": "code",
        "colab": {}
      },
      "source": [
        "Xtemp_test[0,]"
      ],
      "execution_count": 0,
      "outputs": []
    },
    {
      "cell_type": "code",
      "metadata": {
        "id": "U9UNNUIO1KFs",
        "colab_type": "code",
        "colab": {}
      },
      "source": [
        "Xtemp_test[0,].shape"
      ],
      "execution_count": 0,
      "outputs": []
    },
    {
      "cell_type": "code",
      "metadata": {
        "id": "IaVi6PV91O7t",
        "colab_type": "code",
        "colab": {}
      },
      "source": [
        "Xtemp_train[0,] - Xtemp_test[0,]"
      ],
      "execution_count": 0,
      "outputs": []
    },
    {
      "cell_type": "code",
      "metadata": {
        "id": "PadCoEBu1hwe",
        "colab_type": "code",
        "colab": {}
      },
      "source": [
        "my_t = Xtemp_train[0,] - Xtemp_test[0,]"
      ],
      "execution_count": 0,
      "outputs": []
    },
    {
      "cell_type": "code",
      "metadata": {
        "id": "dH_qq6-C1yMf",
        "colab_type": "code",
        "colab": {}
      },
      "source": [
        "my_t[0]"
      ],
      "execution_count": 0,
      "outputs": []
    },
    {
      "cell_type": "code",
      "metadata": {
        "id": "_fD2hf161zPq",
        "colab_type": "code",
        "colab": {}
      },
      "source": [
        "my_t[1]"
      ],
      "execution_count": 0,
      "outputs": []
    },
    {
      "cell_type": "code",
      "metadata": {
        "id": "1yxNzmi_12xV",
        "colab_type": "code",
        "colab": {}
      },
      "source": [
        "math.sqrt(math.pow(my_t[0],2) + math.pow(my_t[1],2))"
      ],
      "execution_count": 0,
      "outputs": []
    },
    {
      "cell_type": "code",
      "metadata": {
        "id": "wcnl5VBt2CzZ",
        "colab_type": "code",
        "colab": {}
      },
      "source": [
        "d[0,0]"
      ],
      "execution_count": 0,
      "outputs": []
    },
    {
      "cell_type": "markdown",
      "metadata": {
        "id": "yNxn0cKP2fRc",
        "colab_type": "text"
      },
      "source": [
        "if condition returns True, then nothing happens:"
      ]
    },
    {
      "cell_type": "code",
      "metadata": {
        "id": "QE5j5oSa2HJN",
        "colab_type": "code",
        "colab": {}
      },
      "source": [
        "math.sqrt(math.pow(my_t[0],2) + math.pow(my_t[1],2)) == d[0,0]"
      ],
      "execution_count": 0,
      "outputs": []
    },
    {
      "cell_type": "markdown",
      "metadata": {
        "id": "hBOetAN19Jdh",
        "colab_type": "text"
      },
      "source": [
        "testing out np.meshgrid()"
      ]
    },
    {
      "cell_type": "code",
      "metadata": {
        "id": "filKftbu2R7D",
        "colab_type": "code",
        "colab": {}
      },
      "source": [
        "a = np.array([1,2])\n",
        "b = np.array([3,4])"
      ],
      "execution_count": 0,
      "outputs": []
    },
    {
      "cell_type": "code",
      "metadata": {
        "id": "BTgapshQ9UwO",
        "colab_type": "code",
        "colab": {}
      },
      "source": [
        "c,d = np.meshgrid(a,b)"
      ],
      "execution_count": 0,
      "outputs": []
    },
    {
      "cell_type": "code",
      "metadata": {
        "id": "760JDY3i9mmb",
        "colab_type": "code",
        "colab": {
          "base_uri": "https://localhost:8080/",
          "height": 52
        },
        "outputId": "be6696eb-c253-4f91-9d3d-0dcb6f144955"
      },
      "source": [
        "c"
      ],
      "execution_count": 16,
      "outputs": [
        {
          "output_type": "execute_result",
          "data": {
            "text/plain": [
              "array([[1, 2],\n",
              "       [1, 2]])"
            ]
          },
          "metadata": {
            "tags": []
          },
          "execution_count": 16
        }
      ]
    },
    {
      "cell_type": "code",
      "metadata": {
        "id": "Yb-G5IXb9npq",
        "colab_type": "code",
        "colab": {
          "base_uri": "https://localhost:8080/",
          "height": 52
        },
        "outputId": "cdb1282c-09ec-4ceb-9380-efed111490ff"
      },
      "source": [
        "d"
      ],
      "execution_count": 17,
      "outputs": [
        {
          "output_type": "execute_result",
          "data": {
            "text/plain": [
              "array([[3, 3],\n",
              "       [4, 4]])"
            ]
          },
          "metadata": {
            "tags": []
          },
          "execution_count": 17
        }
      ]
    },
    {
      "cell_type": "code",
      "metadata": {
        "id": "ywG89ArO-Ftk",
        "colab_type": "code",
        "colab": {}
      },
      "source": [
        "c,d = np.meshgrid(b,a)"
      ],
      "execution_count": 0,
      "outputs": []
    },
    {
      "cell_type": "code",
      "metadata": {
        "id": "zrA7P5ac-0Rw",
        "colab_type": "code",
        "colab": {
          "base_uri": "https://localhost:8080/",
          "height": 52
        },
        "outputId": "a985d942-a520-4760-e858-c80256aee609"
      },
      "source": [
        "c"
      ],
      "execution_count": 19,
      "outputs": [
        {
          "output_type": "execute_result",
          "data": {
            "text/plain": [
              "array([[3, 4],\n",
              "       [3, 4]])"
            ]
          },
          "metadata": {
            "tags": []
          },
          "execution_count": 19
        }
      ]
    },
    {
      "cell_type": "code",
      "metadata": {
        "id": "qBlUvxF6-1FL",
        "colab_type": "code",
        "colab": {
          "base_uri": "https://localhost:8080/",
          "height": 52
        },
        "outputId": "a1749e43-4da7-4c5d-fb9d-e3527c7e5314"
      },
      "source": [
        "d"
      ],
      "execution_count": 20,
      "outputs": [
        {
          "output_type": "execute_result",
          "data": {
            "text/plain": [
              "array([[1, 1],\n",
              "       [2, 2]])"
            ]
          },
          "metadata": {
            "tags": []
          },
          "execution_count": 20
        }
      ]
    },
    {
      "cell_type": "code",
      "metadata": {
        "id": "PESk1e0e-1rx",
        "colab_type": "code",
        "colab": {}
      },
      "source": [
        ""
      ],
      "execution_count": 0,
      "outputs": []
    }
  ]
}