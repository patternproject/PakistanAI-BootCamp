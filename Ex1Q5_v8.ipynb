{
  "nbformat": 4,
  "nbformat_minor": 0,
  "metadata": {
    "colab": {
      "name": "Ex1Q5-v1.ipynb",
      "provenance": [],
      "collapsed_sections": [],
      "authorship_tag": "ABX9TyMZ1o5BIPdfsUAZADH54ygL",
      "include_colab_link": true
    },
    "kernelspec": {
      "name": "python3",
      "display_name": "Python 3"
    }
  },
  "cells": [
    {
      "cell_type": "markdown",
      "metadata": {
        "id": "view-in-github",
        "colab_type": "text"
      },
      "source": [
        "<a href=\"https://colab.research.google.com/github/patternproject/p.PakistanAI-BootCamp/blob/Week-1/Ex1Q5_v8.ipynb\" target=\"_parent\"><img src=\"https://colab.research.google.com/assets/colab-badge.svg\" alt=\"Open In Colab\"/></a>"
      ]
    },
    {
      "cell_type": "markdown",
      "metadata": {
        "id": "KvvZs1476eZ3",
        "colab_type": "text"
      },
      "source": [
        "Coding Challenge # 1.1\n",
        "\n",
        "Q5 - v8"
      ]
    },
    {
      "cell_type": "code",
      "metadata": {
        "id": "xTUu5won6aai",
        "colab_type": "code",
        "colab": {}
      },
      "source": [
        "# E. Given two lists sorted in increasing order, create and return a merged\n",
        "# list of all the elements in sorted order. You may modify the passed in lists.\n",
        "# Ideally, the solution should work in \"linear\" time, making a single\n",
        "# pass of both lists.\n",
        "\n",
        "#def linear_merge(list1, list2):\n",
        "  # +++your code here+++\n",
        "#  return"
      ],
      "execution_count": 0,
      "outputs": []
    },
    {
      "cell_type": "code",
      "metadata": {
        "id": "AsufFmHv6xgH",
        "colab_type": "code",
        "colab": {}
      },
      "source": [
        "def linear_merge(l1,l2):\n",
        "\n",
        "  # merge the two lists\n",
        "  # using + operator to concat \n",
        "  l_merged = l1 + l2 \n",
        "  print(l_merged)\n",
        "\n",
        "  # sort the merged list\n",
        "  #print(\"\\n\")\n",
        "  #print(sorted(l_merged))\n",
        "\n",
        "  print(\"returning now\")\n",
        "  return(sorted(l_merged))\n",
        "  #return(l_merged.sort())"
      ],
      "execution_count": 0,
      "outputs": []
    },
    {
      "cell_type": "code",
      "metadata": {
        "id": "_M1981F57Chd",
        "colab_type": "code",
        "colab": {}
      },
      "source": [
        "l_temp1 = [1,2]\n",
        "l_temp2 = [3,4]\n",
        "l_temp3 = [1,3]\n",
        "l_temp4 = [2,4]\n",
        "l_temp5 = [2,3]\n",
        "l_temp6 = [1,4]\n",
        "l_temp7 = [3,3,3]\n"
      ],
      "execution_count": 0,
      "outputs": []
    },
    {
      "cell_type": "code",
      "metadata": {
        "id": "nvAAiNEx7L9q",
        "colab_type": "code",
        "outputId": "e166fcdb-440e-4bf8-9ebf-f0a9efc02bed",
        "colab": {
          "base_uri": "https://localhost:8080/",
          "height": 52
        }
      },
      "source": [
        "l_result = linear_merge(l_temp1, l_temp2) "
      ],
      "execution_count": 5,
      "outputs": [
        {
          "output_type": "stream",
          "text": [
            "[1, 2, 3, 4]\n",
            "returning now\n"
          ],
          "name": "stdout"
        }
      ]
    },
    {
      "cell_type": "code",
      "metadata": {
        "id": "jFsAM8Ni7Ne6",
        "colab_type": "code",
        "outputId": "fca32f59-a6b8-417b-ce4b-b060d1cf8f94",
        "colab": {
          "base_uri": "https://localhost:8080/",
          "height": 34
        }
      },
      "source": [
        "print(l_result)"
      ],
      "execution_count": 6,
      "outputs": [
        {
          "output_type": "stream",
          "text": [
            "[1, 2, 3, 4]\n"
          ],
          "name": "stdout"
        }
      ]
    },
    {
      "cell_type": "code",
      "metadata": {
        "id": "I8eLgz4OFEzI",
        "colab_type": "code",
        "outputId": "7014cd17-e3a3-4b6d-9763-8980fd629391",
        "colab": {
          "base_uri": "https://localhost:8080/",
          "height": 52
        }
      },
      "source": [
        "l_result2 = linear_merge(l_temp1, l_temp3) "
      ],
      "execution_count": 7,
      "outputs": [
        {
          "output_type": "stream",
          "text": [
            "[1, 2, 1, 3]\n",
            "returning now\n"
          ],
          "name": "stdout"
        }
      ]
    },
    {
      "cell_type": "code",
      "metadata": {
        "id": "q-oamwY7HHRr",
        "colab_type": "code",
        "outputId": "67fb54b2-8f32-49dd-d562-0e9e79028c69",
        "colab": {
          "base_uri": "https://localhost:8080/",
          "height": 34
        }
      },
      "source": [
        "print(l_result2)"
      ],
      "execution_count": 8,
      "outputs": [
        {
          "output_type": "stream",
          "text": [
            "[1, 1, 2, 3]\n"
          ],
          "name": "stdout"
        }
      ]
    },
    {
      "cell_type": "code",
      "metadata": {
        "id": "sLFmqXhSHIqm",
        "colab_type": "code",
        "colab": {}
      },
      "source": [
        "# implementing without built-in sort function\n",
        "\n",
        "def linear_merge2(l1,l2):\n",
        "  \"\"\"Merges the two input list and then returns a combined sorted list\"\"\"\n",
        "  \n",
        "  print(\"first list\")\n",
        "  print(l1)\n",
        "  #print(\"\\n\")\n",
        "  print(\"second list\")\n",
        "  print(l2)\n",
        "  #print(\"\\n\")\n",
        "  # making a deep copy - changing it does not impact the original list\n",
        "  l_temp = l2.copy()\n",
        "\n",
        "\n",
        "  l_merged = []\n",
        "\n",
        "  for e in l1:\n",
        "    print(\"outer loop with e equal to\")\n",
        "    print(e)\n",
        "    for m in l2:\n",
        "      print(\"inner loop with m equal to\")\n",
        "      print(m)\n",
        "      if e < m:\n",
        "        l_merged.append(e)\n",
        "        print(\"if branch\")\n",
        "        print(\"----------------\")\n",
        "        print(\"l_merged\")\n",
        "        print(l_merged)\n",
        "        print(\"\\n\")\n",
        "        break\n",
        "      \n",
        "      elif e >= m:\n",
        "        l_merged.append(m)\n",
        "        print(\"else branch\")\n",
        "        print(\"----------------\")\n",
        "        print(\"l_merged\")\n",
        "        print(l_merged)\n",
        "        print(\"\\n\")\n",
        "        \n",
        "        l_temp.remove(m)\n",
        "        print(\"removed l_temp\")\n",
        "        print(l_temp)\n",
        "        print(\"\\n\")\n",
        "\n",
        "  print(\"out of for loop\")\n",
        "  print(l_merged)\n",
        "  print(\"\\n\")\n",
        "\n",
        "  if len(l_temp1) > 0:\n",
        "    l_merged.extend(l_temp)\n",
        "\n",
        "  print(\"after final if \")\n",
        "  print(l_merged)\n",
        "\n",
        "  print(\"exiting function\")\n",
        "  return(l_merged)"
      ],
      "execution_count": 0,
      "outputs": []
    },
    {
      "cell_type": "code",
      "metadata": {
        "id": "Po-6NtRESJii",
        "colab_type": "code",
        "outputId": "6ccb69a8-3334-45f1-e3d8-69455507b23c",
        "colab": {
          "base_uri": "https://localhost:8080/",
          "height": 562
        }
      },
      "source": [
        "l_result3 = linear_merge2(l_temp1, l_temp2) "
      ],
      "execution_count": 10,
      "outputs": [
        {
          "output_type": "stream",
          "text": [
            "first list\n",
            "[1, 2]\n",
            "second list\n",
            "[3, 4]\n",
            "outer loop with e equal to\n",
            "1\n",
            "inner loop with m equal to\n",
            "3\n",
            "if branch\n",
            "----------------\n",
            "l_merged\n",
            "[1]\n",
            "\n",
            "\n",
            "outer loop with e equal to\n",
            "2\n",
            "inner loop with m equal to\n",
            "3\n",
            "if branch\n",
            "----------------\n",
            "l_merged\n",
            "[1, 2]\n",
            "\n",
            "\n",
            "out of for loop\n",
            "[1, 2]\n",
            "\n",
            "\n",
            "after final if \n",
            "[1, 2, 3, 4]\n",
            "exiting function\n"
          ],
          "name": "stdout"
        }
      ]
    },
    {
      "cell_type": "code",
      "metadata": {
        "id": "BlZqwK51Ubk5",
        "colab_type": "code",
        "outputId": "f6fd9f0c-03bb-49fd-a966-3032f8afa6ad",
        "colab": {
          "base_uri": "https://localhost:8080/",
          "height": 774
        }
      },
      "source": [
        "l_temp3 = [1,3]\n",
        "l_temp4 = [2,4]\n",
        "l_result4 = linear_merge2(l_temp3, l_temp4) "
      ],
      "execution_count": 13,
      "outputs": [
        {
          "output_type": "stream",
          "text": [
            "first list\n",
            "[1, 3]\n",
            "second list\n",
            "[2, 4]\n",
            "outer loop with e equal to\n",
            "1\n",
            "inner loop with m equal to\n",
            "2\n",
            "if branch\n",
            "----------------\n",
            "l_merged\n",
            "[1]\n",
            "\n",
            "\n",
            "outer loop with e equal to\n",
            "3\n",
            "inner loop with m equal to\n",
            "2\n",
            "else branch\n",
            "----------------\n",
            "l_merged\n",
            "[1, 2]\n",
            "\n",
            "\n",
            "removed l_temp\n",
            "[4]\n",
            "\n",
            "\n",
            "inner loop with m equal to\n",
            "4\n",
            "if branch\n",
            "----------------\n",
            "l_merged\n",
            "[1, 2, 3]\n",
            "\n",
            "\n",
            "out of for loop\n",
            "[1, 2, 3]\n",
            "\n",
            "\n",
            "after final if \n",
            "[1, 2, 3, 4]\n",
            "exiting function\n"
          ],
          "name": "stdout"
        }
      ]
    },
    {
      "cell_type": "code",
      "metadata": {
        "id": "43vpiJzOVH6Q",
        "colab_type": "code",
        "colab": {}
      },
      "source": [
        ""
      ],
      "execution_count": 0,
      "outputs": []
    }
  ]
}