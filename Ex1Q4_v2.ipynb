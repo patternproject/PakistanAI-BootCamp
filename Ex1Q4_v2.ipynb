{
  "nbformat": 4,
  "nbformat_minor": 0,
  "metadata": {
    "colab": {
      "name": "Ex1Q4-v2.ipynb",
      "provenance": [],
      "authorship_tag": "ABX9TyMOKQxrCUeAjVqGTT0tkUVv",
      "include_colab_link": true
    },
    "kernelspec": {
      "name": "python3",
      "display_name": "Python 3"
    }
  },
  "cells": [
    {
      "cell_type": "markdown",
      "metadata": {
        "id": "view-in-github",
        "colab_type": "text"
      },
      "source": [
        "<a href=\"https://colab.research.google.com/github/patternproject/PakistanAI-BootCamp/blob/master/Ex1Q4_v2.ipynb\" target=\"_parent\"><img src=\"https://colab.research.google.com/assets/colab-badge.svg\" alt=\"Open In Colab\"/></a>"
      ]
    },
    {
      "cell_type": "markdown",
      "metadata": {
        "id": "H9H0F4_eSbru",
        "colab_type": "text"
      },
      "source": [
        "Coding Challenge # 1.1\n",
        "\n",
        "Q4"
      ]
    },
    {
      "cell_type": "code",
      "metadata": {
        "id": "zPe5BDyNVAgy",
        "colab_type": "code",
        "colab": {}
      },
      "source": [
        "# In[1]:\n",
        "# D. Given a list of numbers, return a list where\n",
        "# all adjacent == elements have been reduced to a single element,\n",
        "# so [1, 2, 2, 3] returns [1, 2, 3]. You may create a new list or\n",
        "# modify the passed in list.\n",
        "\n",
        "\n",
        "#def remove_adjacent(nums):\n",
        "  # +++your code here+++\n",
        "#  return"
      ],
      "execution_count": 0,
      "outputs": []
    },
    {
      "cell_type": "markdown",
      "metadata": {
        "id": "8farSO8qaAnf",
        "colab_type": "text"
      },
      "source": [
        "The problem with copying the list in this way is that if you modify the new_list, the old_list is also modified.\n",
        "\n",
        "new_list = old_list"
      ]
    },
    {
      "cell_type": "markdown",
      "metadata": {
        "id": "fTcIKO5JaISy",
        "colab_type": "text"
      },
      "source": [
        "However, if you need the original list unchanged when the new list is modified, you can use copy() method. This is called shallow copy."
      ]
    },
    {
      "cell_type": "code",
      "metadata": {
        "id": "3LLuxEiEVkDS",
        "colab_type": "code",
        "colab": {}
      },
      "source": [
        "def remove_adjacent(l_nums):\n",
        "  # making a copy\n",
        "  # l_result = l_nums\n",
        "  l_result = l_nums.copy()\n",
        "\n",
        "  # getting length of list of numbers \n",
        "  lst = len(l_nums)\n",
        "\n",
        "  \n",
        "  for i in range(0,lst-1):\n",
        "    print(\"----\")\n",
        "    print(i)\n",
        "    print(\"iteration\")\n",
        "    print(\"input list\")\n",
        "    print(l_nums)\n",
        "    print(\"\\n\")\n",
        "    if(l_nums[i] == l_nums[i+1]):\n",
        "      print(l_nums[i])\n",
        "      print(l_nums[i+1])\n",
        "      #l_nums.pop(i)\n",
        "      #l_result.append(l_nums[i])\n",
        "      l_result.pop(i)\n",
        "    print(\"output list\")\n",
        "    print(l_result)"
      ],
      "execution_count": 0,
      "outputs": []
    },
    {
      "cell_type": "code",
      "metadata": {
        "id": "HKPtTQ07XEYG",
        "colab_type": "code",
        "colab": {}
      },
      "source": [
        "test_1 = [1,2]"
      ],
      "execution_count": 0,
      "outputs": []
    },
    {
      "cell_type": "code",
      "metadata": {
        "id": "DOnUI9bQXKAB",
        "colab_type": "code",
        "colab": {
          "base_uri": "https://localhost:8080/",
          "height": 175
        },
        "outputId": "cfadbb8f-757c-4518-e77e-7c702b006828"
      },
      "source": [
        "remove_adjacent(test_1)"
      ],
      "execution_count": 34,
      "outputs": [
        {
          "output_type": "stream",
          "text": [
            "----\n",
            "0\n",
            "iteration\n",
            "input list\n",
            "[1, 2]\n",
            "\n",
            "\n",
            "output list\n",
            "[1, 2]\n"
          ],
          "name": "stdout"
        }
      ]
    },
    {
      "cell_type": "code",
      "metadata": {
        "id": "3ioVsw34XMD8",
        "colab_type": "code",
        "colab": {}
      },
      "source": [
        "test_2 = [1,1,2]"
      ],
      "execution_count": 0,
      "outputs": []
    },
    {
      "cell_type": "code",
      "metadata": {
        "id": "NxqocTurXdsz",
        "colab_type": "code",
        "colab": {
          "base_uri": "https://localhost:8080/",
          "height": 369
        },
        "outputId": "e00a730b-f19e-4fc7-de12-6c9c29cd2b79"
      },
      "source": [
        "remove_adjacent(test_2)"
      ],
      "execution_count": 36,
      "outputs": [
        {
          "output_type": "stream",
          "text": [
            "----\n",
            "0\n",
            "iteration\n",
            "input list\n",
            "[1, 1, 2]\n",
            "\n",
            "\n",
            "1\n",
            "1\n",
            "output list\n",
            "[1, 2]\n",
            "----\n",
            "1\n",
            "iteration\n",
            "input list\n",
            "[1, 1, 2]\n",
            "\n",
            "\n",
            "output list\n",
            "[1, 2]\n"
          ],
          "name": "stdout"
        }
      ]
    },
    {
      "cell_type": "code",
      "metadata": {
        "id": "hMzRxLV7Xgzt",
        "colab_type": "code",
        "colab": {
          "base_uri": "https://localhost:8080/",
          "height": 562
        },
        "outputId": "e6a68be9-1d46-4998-c7b8-53cda2aabe90"
      },
      "source": [
        "test_3 = [1,1,2,2]\n",
        "remove_adjacent(test_3)"
      ],
      "execution_count": 37,
      "outputs": [
        {
          "output_type": "stream",
          "text": [
            "----\n",
            "0\n",
            "iteration\n",
            "input list\n",
            "[1, 1, 2, 2]\n",
            "\n",
            "\n",
            "1\n",
            "1\n",
            "output list\n",
            "[1, 2, 2]\n",
            "----\n",
            "1\n",
            "iteration\n",
            "input list\n",
            "[1, 1, 2, 2]\n",
            "\n",
            "\n",
            "output list\n",
            "[1, 2, 2]\n",
            "----\n",
            "2\n",
            "iteration\n",
            "input list\n",
            "[1, 1, 2, 2]\n",
            "\n",
            "\n",
            "2\n",
            "2\n",
            "output list\n",
            "[1, 2]\n"
          ],
          "name": "stdout"
        }
      ]
    },
    {
      "cell_type": "code",
      "metadata": {
        "id": "YAs9YycQaeoe",
        "colab_type": "code",
        "colab": {
          "base_uri": "https://localhost:8080/",
          "height": 1000
        },
        "outputId": "affb28af-ca32-4f7f-8106-7cb3e1605cf7"
      },
      "source": [
        "test_4 = [1,1,2,2,2]\n",
        "remove_adjacent(test_4)"
      ],
      "execution_count": 38,
      "outputs": [
        {
          "output_type": "stream",
          "text": [
            "----\n",
            "0\n",
            "iteration\n",
            "input list\n",
            "[1, 1, 2, 2, 2]\n",
            "\n",
            "\n",
            "1\n",
            "1\n",
            "output list\n",
            "[1, 2, 2, 2]\n",
            "----\n",
            "1\n",
            "iteration\n",
            "input list\n",
            "[1, 1, 2, 2, 2]\n",
            "\n",
            "\n",
            "output list\n",
            "[1, 2, 2, 2]\n",
            "----\n",
            "2\n",
            "iteration\n",
            "input list\n",
            "[1, 1, 2, 2, 2]\n",
            "\n",
            "\n",
            "2\n",
            "2\n",
            "output list\n",
            "[1, 2, 2]\n",
            "----\n",
            "3\n",
            "iteration\n",
            "input list\n",
            "[1, 1, 2, 2, 2]\n",
            "\n",
            "\n",
            "2\n",
            "2\n"
          ],
          "name": "stdout"
        },
        {
          "output_type": "error",
          "ename": "IndexError",
          "evalue": "ignored",
          "traceback": [
            "\u001b[0;31m---------------------------------------------------------------------------\u001b[0m",
            "\u001b[0;31mIndexError\u001b[0m                                Traceback (most recent call last)",
            "\u001b[0;32m<ipython-input-38-86cf54322e3a>\u001b[0m in \u001b[0;36m<module>\u001b[0;34m()\u001b[0m\n\u001b[1;32m      1\u001b[0m \u001b[0mtest_4\u001b[0m \u001b[0;34m=\u001b[0m \u001b[0;34m[\u001b[0m\u001b[0;36m1\u001b[0m\u001b[0;34m,\u001b[0m\u001b[0;36m1\u001b[0m\u001b[0;34m,\u001b[0m\u001b[0;36m2\u001b[0m\u001b[0;34m,\u001b[0m\u001b[0;36m2\u001b[0m\u001b[0;34m,\u001b[0m\u001b[0;36m2\u001b[0m\u001b[0;34m]\u001b[0m\u001b[0;34m\u001b[0m\u001b[0;34m\u001b[0m\u001b[0m\n\u001b[0;32m----> 2\u001b[0;31m \u001b[0mremove_adjacent\u001b[0m\u001b[0;34m(\u001b[0m\u001b[0mtest_4\u001b[0m\u001b[0;34m)\u001b[0m\u001b[0;34m\u001b[0m\u001b[0;34m\u001b[0m\u001b[0m\n\u001b[0m",
            "\u001b[0;32m<ipython-input-32-a4338c95a62b>\u001b[0m in \u001b[0;36mremove_adjacent\u001b[0;34m(l_nums)\u001b[0m\n\u001b[1;32m     20\u001b[0m       \u001b[0;31m#l_nums.pop(i)\u001b[0m\u001b[0;34m\u001b[0m\u001b[0;34m\u001b[0m\u001b[0;34m\u001b[0m\u001b[0m\n\u001b[1;32m     21\u001b[0m       \u001b[0;31m#l_result.append(l_nums[i])\u001b[0m\u001b[0;34m\u001b[0m\u001b[0;34m\u001b[0m\u001b[0;34m\u001b[0m\u001b[0m\n\u001b[0;32m---> 22\u001b[0;31m       \u001b[0ml_result\u001b[0m\u001b[0;34m.\u001b[0m\u001b[0mpop\u001b[0m\u001b[0;34m(\u001b[0m\u001b[0mi\u001b[0m\u001b[0;34m)\u001b[0m\u001b[0;34m\u001b[0m\u001b[0;34m\u001b[0m\u001b[0m\n\u001b[0m\u001b[1;32m     23\u001b[0m     \u001b[0mprint\u001b[0m\u001b[0;34m(\u001b[0m\u001b[0;34m\"output list\"\u001b[0m\u001b[0;34m)\u001b[0m\u001b[0;34m\u001b[0m\u001b[0;34m\u001b[0m\u001b[0m\n\u001b[1;32m     24\u001b[0m     \u001b[0mprint\u001b[0m\u001b[0;34m(\u001b[0m\u001b[0ml_result\u001b[0m\u001b[0;34m)\u001b[0m\u001b[0;34m\u001b[0m\u001b[0;34m\u001b[0m\u001b[0m\n",
            "\u001b[0;31mIndexError\u001b[0m: pop index out of range"
          ]
        }
      ]
    },
    {
      "cell_type": "code",
      "metadata": {
        "id": "vi-UvsbcaqOz",
        "colab_type": "code",
        "colab": {}
      },
      "source": [
        ""
      ],
      "execution_count": 0,
      "outputs": []
    }
  ]
}