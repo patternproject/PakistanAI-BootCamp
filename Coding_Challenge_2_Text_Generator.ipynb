{
  "nbformat": 4,
  "nbformat_minor": 0,
  "metadata": {
    "kernelspec": {
      "display_name": "Python 3",
      "language": "python",
      "name": "python3"
    },
    "language_info": {
      "codemirror_mode": {
        "name": "ipython",
        "version": 3
      },
      "file_extension": ".py",
      "mimetype": "text/x-python",
      "name": "python",
      "nbconvert_exporter": "python",
      "pygments_lexer": "ipython3",
      "version": "3.7.4"
    },
    "colab": {
      "name": "Coding Challenge # 2 - Text Generator.ipynb",
      "provenance": [],
      "include_colab_link": true
    }
  },
  "cells": [
    {
      "cell_type": "markdown",
      "metadata": {
        "id": "view-in-github",
        "colab_type": "text"
      },
      "source": [
        "<a href=\"https://colab.research.google.com/github/patternproject/PakistanAI-BootCamp/blob/Week-1/Coding_Challenge_2_Text_Generator.ipynb\" target=\"_parent\"><img src=\"https://colab.research.google.com/assets/colab-badge.svg\" alt=\"Open In Colab\"/></a>"
      ]
    },
    {
      "cell_type": "markdown",
      "metadata": {
        "id": "12AHlhT3-A-S",
        "colab_type": "text"
      },
      "source": [
        "# Mimic exercise\n",
        "\n",
        "Build a \"mimic\" dict that maps each word that appears in the file to a list of all the words that immediately follow that word in the file.\n",
        "\n",
        "The list of words can be be in any order and should include duplicates. So for example the key \"and\" might have the list [\"then\", \"best\", \"then\", \"after\", ...] listing all the words which came after \"and\" in the text. We'll say that the empty string is what comes before the first word in the file.\n",
        "\n",
        "With the mimic dict, it's fairly easy to emit random text that mimics the original. Print a word, then look up what words might come next and pick one at random as the next work.\n",
        "\n",
        "Use the empty string as the first word to prime things. If we ever get stuck with a word that is not in the dict, go back to the empty string to keep things moving.\n",
        "\n",
        "\n",
        "**Note**: The standard python module 'random' includes a random.choice(list) method which picks a random element from a non-empty list.\n",
        "\n",
        "For fun, feed your program to itself as input. Could work on getting it to put in linebreaks around 70 columns, so the output looks better."
      ]
    },
    {
      "cell_type": "code",
      "metadata": {
        "collapsed": true,
        "id": "X7TLsOSR-A-V",
        "colab_type": "code",
        "colab": {}
      },
      "source": [
        "import random\n",
        "import sys"
      ],
      "execution_count": 0,
      "outputs": []
    },
    {
      "cell_type": "code",
      "metadata": {
        "collapsed": true,
        "id": "IAZYGx97-A-Z",
        "colab_type": "code",
        "colab": {}
      },
      "source": [
        "# Implement the function file_to_list that receives a filename \n",
        "# and returns a list of words in that file\n",
        "# Use str.split() (no arguments) to split on all whitespace.\n",
        "# for opening and reading a file, look for a functions open(...) and read lines(...)\n",
        "\n",
        "\n",
        "def file_to_string():\n",
        "    # your code here\n",
        "    return"
      ],
      "execution_count": 0,
      "outputs": []
    },
    {
      "cell_type": "code",
      "metadata": {
        "collapsed": true,
        "id": "e3W4oaa_-A-c",
        "colab_type": "code",
        "colab": {}
      },
      "source": [
        "def mimic_dict(filename):\n",
        "    \"\"\"Returns mimic dict mapping each word to list of words which follow it.\"\"\"\n",
        "    # +++your code here+++\n",
        "    return"
      ],
      "execution_count": 0,
      "outputs": []
    },
    {
      "cell_type": "code",
      "metadata": {
        "collapsed": true,
        "id": "aasl0OxF-A-f",
        "colab_type": "code",
        "colab": {}
      },
      "source": [
        "def print_mimic(mimic_dict, word):\n",
        "    \"\"\"Given mimic dict and start word, prints 200 random words.\"\"\"\n",
        "    # +++your code here+++\n",
        "    return"
      ],
      "execution_count": 0,
      "outputs": []
    }
  ]
}