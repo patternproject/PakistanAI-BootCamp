{
  "nbformat": 4,
  "nbformat_minor": 0,
  "metadata": {
    "kernelspec": {
      "display_name": "Python 3",
      "language": "python",
      "name": "python3"
    },
    "language_info": {
      "codemirror_mode": {
        "name": "ipython",
        "version": 3
      },
      "file_extension": ".py",
      "mimetype": "text/x-python",
      "name": "python",
      "nbconvert_exporter": "python",
      "pygments_lexer": "ipython3",
      "version": "3.7.4"
    },
    "colab": {
      "name": "Coding Challenge # 2 - Text Generator.ipynb",
      "provenance": [],
      "include_colab_link": true
    }
  },
  "cells": [
    {
      "cell_type": "markdown",
      "metadata": {
        "id": "view-in-github",
        "colab_type": "text"
      },
      "source": [
        "<a href=\"https://colab.research.google.com/github/patternproject/p.PakistanAI-BootCamp/blob/Week-1/Ex2Q1_v7.ipynb\" target=\"_parent\"><img src=\"https://colab.research.google.com/assets/colab-badge.svg\" alt=\"Open In Colab\"/></a>"
      ]
    },
    {
      "cell_type": "markdown",
      "metadata": {
        "id": "pxDRK4nDkYb5",
        "colab_type": "text"
      },
      "source": [
        "Ex 2\n",
        "\n",
        "Q1 \n",
        "\n",
        "V7"
      ]
    },
    {
      "cell_type": "markdown",
      "metadata": {
        "id": "12AHlhT3-A-S",
        "colab_type": "text"
      },
      "source": [
        "# Mimic exercise\n",
        "\n",
        "Build a \"mimic\" dict that maps each word that appears in the file to a list of all the words that immediately follow that word in the file.\n",
        "\n",
        "The list of words can be be in any order and should include duplicates. So for example the key \"and\" might have the list [\"then\", \"best\", \"then\", \"after\", ...] listing all the words which came after \"and\" in the text. We'll say that the empty string is what comes before the first word in the file.\n",
        "\n",
        "With the mimic dict, it's fairly easy to emit random text that mimics the original. Print a word, then look up what words might come next and pick one at random as the next work.\n",
        "\n",
        "Use the empty string as the first word to prime things. If we ever get stuck with a word that is not in the dict, go back to the empty string to keep things moving.\n",
        "\n",
        "\n",
        "**Note**: The standard python module 'random' includes a random.choice(list) method which picks a random element from a non-empty list.\n",
        "\n",
        "For fun, feed your program to itself as input. Could work on getting it to put in linebreaks around 70 columns, so the output looks better."
      ]
    },
    {
      "cell_type": "code",
      "metadata": {
        "id": "X7TLsOSR-A-V",
        "colab_type": "code",
        "colab": {}
      },
      "source": [
        "import random\n",
        "import sys\n",
        "import pickle "
      ],
      "execution_count": 0,
      "outputs": []
    },
    {
      "cell_type": "markdown",
      "metadata": {
        "id": "CAivJcN6ONpF",
        "colab_type": "text"
      },
      "source": [
        "Tried to pickle the input file to avoid reading errors but ran into errors with reading pickle file \n",
        "\n",
        "Falling back to txt input file"
      ]
    },
    {
      "cell_type": "code",
      "metadata": {
        "id": "XTV3VA3UD-ex",
        "colab_type": "code",
        "outputId": "28352b25-e768-4dce-8627-4153cf15c49d",
        "colab": {
          "base_uri": "https://localhost:8080/",
          "height": 210
        }
      },
      "source": [
        "\n",
        "! wget https://github.com/patternproject/p.PakistanAI-BootCamp/blob/Week-1/small.txt\n",
        "\n",
        "#! wget https://github.com/patternproject/p.PakistanAI-BootCamp/blob/Week-1/smallPickle"
      ],
      "execution_count": 16,
      "outputs": [
        {
          "output_type": "stream",
          "text": [
            "--2020-02-21 11:46:39--  https://github.com/patternproject/p.PakistanAI-BootCamp/blob/Week-1/small.txt\n",
            "Resolving github.com (github.com)... 140.82.114.4\n",
            "Connecting to github.com (github.com)|140.82.114.4|:443... connected.\n",
            "HTTP request sent, awaiting response... 200 OK\n",
            "Length: unspecified [text/html]\n",
            "Saving to: ‘small.txt.1’\n",
            "\n",
            "\rsmall.txt.1             [<=>                 ]       0  --.-KB/s               \rsmall.txt.1             [ <=>                ]  66.22K  --.-KB/s    in 0.1s    \n",
            "\n",
            "2020-02-21 11:46:40 (514 KB/s) - ‘small.txt.1’ saved [67808]\n",
            "\n"
          ],
          "name": "stdout"
        }
      ]
    },
    {
      "cell_type": "code",
      "metadata": {
        "id": "lTaSSHyOEFoo",
        "colab_type": "code",
        "outputId": "a87ae920-3166-4725-fa37-c21f3fe73c97",
        "colab": {
          "base_uri": "https://localhost:8080/",
          "height": 34
        }
      },
      "source": [
        "! ls"
      ],
      "execution_count": 17,
      "outputs": [
        {
          "output_type": "stream",
          "text": [
            "sample_data  small.txt\tsmall.txt.1\n"
          ],
          "name": "stdout"
        }
      ]
    },
    {
      "cell_type": "code",
      "metadata": {
        "id": "ayJE803lEJnR",
        "colab_type": "code",
        "outputId": "1f47bdd5-f910-480d-a92e-a45bff80f6a7",
        "colab": {
          "base_uri": "https://localhost:8080/",
          "height": 34
        }
      },
      "source": [
        "! pwd"
      ],
      "execution_count": 18,
      "outputs": [
        {
          "output_type": "stream",
          "text": [
            "/content\n"
          ],
          "name": "stdout"
        }
      ]
    },
    {
      "cell_type": "markdown",
      "metadata": {
        "id": "Y55DXGRZEQ9W",
        "colab_type": "text"
      },
      "source": [
        "File has been downloaded intp /content directory"
      ]
    },
    {
      "cell_type": "markdown",
      "metadata": {
        "id": "XeYWMfYCEQ2O",
        "colab_type": "text"
      },
      "source": [
        ""
      ]
    },
    {
      "cell_type": "code",
      "metadata": {
        "id": "C9jBFyb4E0cT",
        "colab_type": "code",
        "colab": {}
      },
      "source": [
        "path = '/content/small.txt'"
      ],
      "execution_count": 0,
      "outputs": []
    },
    {
      "cell_type": "code",
      "metadata": {
        "id": "IAZYGx97-A-Z",
        "colab_type": "code",
        "colab": {}
      },
      "source": [
        "### Function that reads a txt file and stores a pickle file\n",
        "### Txt file was getting corrupted so interacting with pickle file should be simpler\n",
        "\n",
        "\n",
        "def file_to_pickle(s_filename):\n",
        "  \"\"\"Takes a filename and stores a pickle file.\n",
        "  \n",
        "     Parameters:\n",
        "     s_filename (string): name of the input file name\n",
        "  \n",
        "     Returns:\n",
        "     None\n",
        "  \"\"\"\n",
        "  input_file = open(s_filename,'r')\n",
        "  l_lines = input_file.read()\n",
        "\n",
        "  print(l_lines)\n",
        "\n",
        "  # Its important to use binary mode \n",
        "  f_pickle = open('smallPickle', 'ab') \n",
        "      \n",
        "  # source, destination \n",
        "  pickle.dump(l_lines, f_pickle)                      \n",
        "  f_pickle.close() \n",
        "  \n",
        "  input_file.close()\n",
        "\n",
        "  return"
      ],
      "execution_count": 0,
      "outputs": []
    },
    {
      "cell_type": "code",
      "metadata": {
        "id": "cTAf2cj_FB-7",
        "colab_type": "code",
        "colab": {}
      },
      "source": [
        "# file_to_pickle(path)"
      ],
      "execution_count": 0,
      "outputs": []
    },
    {
      "cell_type": "code",
      "metadata": {
        "id": "p0bwA9qNKO6U",
        "colab_type": "code",
        "colab": {}
      },
      "source": [
        "pickle_path = '/content/smallPickle'"
      ],
      "execution_count": 0,
      "outputs": []
    },
    {
      "cell_type": "code",
      "metadata": {
        "id": "o5pLkxHqJpC9",
        "colab_type": "code",
        "colab": {}
      },
      "source": [
        "# Implement the function file_to_list that receives a pickle filename \n",
        "# and returns a list of words in that file\n",
        "# Use str.split() (no arguments) to split on all whitespace.\n",
        "# for opening and reading a file, look for a functions open(...) and read lines(...)\n",
        "\n",
        "\n",
        "def file_to_list(s_filename):\n",
        "  \"\"\"Takes a filename and returns a list of words.\n",
        "  \n",
        "     Parameters:\n",
        "     s_filename (string): name of the input (pickle) file name\n",
        "  \n",
        "     Returns:\n",
        "     l_words (list): list of words in that file\n",
        "  \"\"\"\n",
        "  \n",
        "  # PICKLE - CODE\n",
        "  # for reading also binary mode is important \n",
        "  # f_handle = open(s_filename, 'rb')      \n",
        "  # input_file = pickle.load(f_handle) \n",
        "  # f_handle.close()\n",
        "  # print(input_file)\n",
        "  \n",
        "  # TXT - CODE\n",
        "  input_file = open(s_filename,'r')\n",
        "  l_lines = input_file.read()\n",
        "  input_file.close()\n",
        "  \n",
        "  print(l_lines)\n",
        "\n",
        "  print\n",
        "\n",
        "  # from line to list of words\n",
        "  return([l_lines])\n"
      ],
      "execution_count": 0,
      "outputs": []
    },
    {
      "cell_type": "code",
      "metadata": {
        "id": "18UqD6yjKx7-",
        "colab_type": "code",
        "outputId": "ea65f6a6-702e-4d51-8586-fb7c01ffee01",
        "colab": {
          "base_uri": "https://localhost:8080/",
          "height": 87
        }
      },
      "source": [
        "l_words = file_to_list(path)"
      ],
      "execution_count": 24,
      "outputs": [
        {
          "output_type": "stream",
          "text": [
            "We are not what we should be\n",
            "We are not what we need to be\n",
            "But at least we are not what we used to be\n",
            "  -- Football Coach\n"
          ],
          "name": "stdout"
        }
      ]
    },
    {
      "cell_type": "code",
      "metadata": {
        "id": "19uWJh0zXr_Z",
        "colab_type": "code",
        "outputId": "e9494d06-5e9c-4f34-b563-10a30d5097a8",
        "colab": {
          "base_uri": "https://localhost:8080/",
          "height": 34
        }
      },
      "source": [
        "# object is a list or not \n",
        "print(isinstance(l_words, list))"
      ],
      "execution_count": 25,
      "outputs": [
        {
          "output_type": "stream",
          "text": [
            "True\n"
          ],
          "name": "stdout"
        }
      ]
    },
    {
      "cell_type": "code",
      "metadata": {
        "id": "UG_1tGS2YYi5",
        "colab_type": "code",
        "colab": {}
      },
      "source": [
        "#print(dictOfWords)"
      ],
      "execution_count": 0,
      "outputs": []
    },
    {
      "cell_type": "code",
      "metadata": {
        "id": "ZMBq9BdTh5Ah",
        "colab_type": "code",
        "outputId": "f344892b-83de-4ef3-f740-82fac8fdee73",
        "colab": {
          "base_uri": "https://localhost:8080/",
          "height": 54
        }
      },
      "source": [
        "# Splits at space \n",
        "print(l_words[0].split()) \n",
        "l_words_sep = l_words[0].split()"
      ],
      "execution_count": 31,
      "outputs": [
        {
          "output_type": "stream",
          "text": [
            "['We', 'are', 'not', 'what', 'we', 'should', 'be', 'We', 'are', 'not', 'what', 'we', 'need', 'to', 'be', 'But', 'at', 'least', 'we', 'are', 'not', 'what', 'we', 'used', 'to', 'be', '--', 'Football', 'Coach']\n"
          ],
          "name": "stdout"
        }
      ]
    },
    {
      "cell_type": "code",
      "metadata": {
        "id": "EMHQcl_AlLRG",
        "colab_type": "code",
        "colab": {}
      },
      "source": [
        "d_dict_2 = {}\n",
        "\n",
        "for i in range(len(l_words_sep)):\n",
        "  l_val = []\n",
        "  for v in l_words_sep[i+1:]:\n",
        "    #print(\"here\")\n",
        "    #print(\"key:\", k)\n",
        "    #print(\"val\", v)\n",
        "    #print (\"\\n\")\n",
        "    l_val.append(v)\n",
        "  d_dict_2[l_words_sep[i]] = l_val\n"
      ],
      "execution_count": 0,
      "outputs": []
    },
    {
      "cell_type": "code",
      "metadata": {
        "id": "q4v4p_iBlb5p",
        "colab_type": "code",
        "colab": {
          "base_uri": "https://localhost:8080/",
          "height": 54
        },
        "outputId": "6ad6f199-e59d-43fa-acb5-fcc6fb1945aa"
      },
      "source": [
        "print(d_dict_2)"
      ],
      "execution_count": 40,
      "outputs": [
        {
          "output_type": "stream",
          "text": [
            "{'We': ['are', 'not', 'what', 'we', 'need', 'to', 'be', 'But', 'at', 'least', 'we', 'are', 'not', 'what', 'we', 'used', 'to', 'be', '--', 'Football', 'Coach'], 'are': ['not', 'what', 'we', 'used', 'to', 'be', '--', 'Football', 'Coach'], 'not': ['what', 'we', 'used', 'to', 'be', '--', 'Football', 'Coach'], 'what': ['we', 'used', 'to', 'be', '--', 'Football', 'Coach'], 'we': ['used', 'to', 'be', '--', 'Football', 'Coach'], 'should': ['be', 'We', 'are', 'not', 'what', 'we', 'need', 'to', 'be', 'But', 'at', 'least', 'we', 'are', 'not', 'what', 'we', 'used', 'to', 'be', '--', 'Football', 'Coach'], 'be': ['--', 'Football', 'Coach'], 'need': ['to', 'be', 'But', 'at', 'least', 'we', 'are', 'not', 'what', 'we', 'used', 'to', 'be', '--', 'Football', 'Coach'], 'to': ['be', '--', 'Football', 'Coach'], 'But': ['at', 'least', 'we', 'are', 'not', 'what', 'we', 'used', 'to', 'be', '--', 'Football', 'Coach'], 'at': ['least', 'we', 'are', 'not', 'what', 'we', 'used', 'to', 'be', '--', 'Football', 'Coach'], 'least': ['we', 'are', 'not', 'what', 'we', 'used', 'to', 'be', '--', 'Football', 'Coach'], 'used': ['to', 'be', '--', 'Football', 'Coach'], '--': ['Football', 'Coach'], 'Football': ['Coach'], 'Coach': []}\n"
          ],
          "name": "stdout"
        }
      ]
    },
    {
      "cell_type": "code",
      "metadata": {
        "id": "e3W4oaa_-A-c",
        "colab_type": "code",
        "colab": {}
      },
      "source": [
        "def mimic_dict(filename):\n",
        "    \"\"\"Returns mimic dict mapping each word to list of words which follow it.\"\"\"\n",
        "    # +++your code here+++\n",
        "    return"
      ],
      "execution_count": 0,
      "outputs": []
    },
    {
      "cell_type": "code",
      "metadata": {
        "id": "aasl0OxF-A-f",
        "colab_type": "code",
        "colab": {}
      },
      "source": [
        "def print_mimic(mimic_dict, word):\n",
        "    \"\"\"Given mimic dict and start word, prints 200 random words.\"\"\"\n",
        "    # +++your code here+++\n",
        "    return"
      ],
      "execution_count": 0,
      "outputs": []
    }
  ]
}