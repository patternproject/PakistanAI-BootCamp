{
  "nbformat": 4,
  "nbformat_minor": 0,
  "metadata": {
    "colab": {
      "name": "Ex1Q3-v1.ipynb",
      "provenance": [],
      "authorship_tag": "ABX9TyMUbSB3JHu6bTC4GLQNmVdi",
      "include_colab_link": true
    },
    "kernelspec": {
      "name": "python3",
      "display_name": "Python 3"
    }
  },
  "cells": [
    {
      "cell_type": "markdown",
      "metadata": {
        "id": "view-in-github",
        "colab_type": "text"
      },
      "source": [
        "<a href=\"https://colab.research.google.com/github/patternproject/PakistanAI-BootCamp/blob/master/Ex1Q3_v1.ipynb\" target=\"_parent\"><img src=\"https://colab.research.google.com/assets/colab-badge.svg\" alt=\"Open In Colab\"/></a>"
      ]
    },
    {
      "cell_type": "markdown",
      "metadata": {
        "id": "he_IGjvQ2Aap",
        "colab_type": "text"
      },
      "source": [
        "Coding Challenge # 1.1\n",
        "\n",
        "Q3"
      ]
    },
    {
      "cell_type": "code",
      "metadata": {
        "id": "bE6XPweh1_kW",
        "colab_type": "code",
        "colab": {}
      },
      "source": [
        "# C. sort_last\n",
        "# Given a list of non-empty tuples, return a list sorted in increasing\n",
        "# order by the last element in each tuple.\n",
        "# e.g. [(1, 7), (1, 3), (3, 4, 5), (2, 2)] yields\n",
        "# [(2, 2), (1, 3), (3, 4, 5), (1, 7)]\n",
        "# Hint: use a custom key= function to extract the last element form each tuple.\n",
        "\n",
        "\n",
        "#def sort_last(tuples):\n",
        "  # +++your code here+++\n",
        "#  return"
      ],
      "execution_count": 0,
      "outputs": []
    },
    {
      "cell_type": "markdown",
      "metadata": {
        "id": "wDL8XNp_PkYq",
        "colab_type": "text"
      },
      "source": [
        "SRC: https://realpython.com/python-sort/\n",
        "\n",
        "One of the most powerful components of sorted() is the keyword argument called key. This argument expects a function to be passed to it, and that function will be used on each value in the list being sorted to determine the resulting order."
      ]
    },
    {
      "cell_type": "markdown",
      "metadata": {
        "id": "ROZYeOvzPtKW",
        "colab_type": "text"
      },
      "source": [
        "key does not manipulate the data in the original list. During sorting, the function passed to key is being called on each element to determine sort order, but the original values will be in the output."
      ]
    },
    {
      "cell_type": "markdown",
      "metadata": {
        "id": "R3m_0EXVP4Jg",
        "colab_type": "text"
      },
      "source": [
        "There are two main limitations when you’re using functions with the key argument.\n",
        "\n",
        "First, the number of required arguments in the function passed to key must be one.\n",
        "\n",
        "The second limitation is that the function used with key must be able to handle all the values in the iterable. "
      ]
    },
    {
      "cell_type": "markdown",
      "metadata": {
        "id": "GKsyB92fQM_g",
        "colab_type": "text"
      },
      "source": [
        "If the ordering requirement is to order an iterable by the last letter in each string (and if the letter is the same, then to use the next letter), then a function can be defined and then used in the sorting. The example below defines a function that reverses the string passed to it, and then that function is used as the argument for key:"
      ]
    },
    {
      "cell_type": "code",
      "metadata": {
        "id": "I9uNVPipQOng",
        "colab_type": "code",
        "colab": {
          "base_uri": "https://localhost:8080/",
          "height": 34
        },
        "outputId": "ad71f4fc-6da7-4deb-cf61-5dd96dcdba67"
      },
      "source": [
        "def reverse_word(word):\n",
        "  return word[::-1]\n",
        "\n",
        "\n",
        "words = ['banana', 'pie', 'Washington', 'book']\n",
        "sorted(words, key=reverse_word)"
      ],
      "execution_count": 2,
      "outputs": [
        {
          "output_type": "execute_result",
          "data": {
            "text/plain": [
              "['banana', 'pie', 'book', 'Washington']"
            ]
          },
          "metadata": {
            "tags": []
          },
          "execution_count": 2
        }
      ]
    },
    {
      "cell_type": "markdown",
      "metadata": {
        "id": "tLZLFJokQcJ3",
        "colab_type": "text"
      },
      "source": [
        "Instead of writing a standalone function, you can use a lambda function defined in the key argument."
      ]
    },
    {
      "cell_type": "code",
      "metadata": {
        "id": "_sjD1mjkQd3S",
        "colab_type": "code",
        "colab": {}
      },
      "source": [
        ""
      ],
      "execution_count": 0,
      "outputs": []
    },
    {
      "cell_type": "code",
      "metadata": {
        "id": "Q6MyXDiK2jYd",
        "colab_type": "code",
        "colab": {}
      },
      "source": [
        "def sort_last(l_tuples):\n",
        "  return sorted(l_tuples, key=lambda x:x[1])"
      ],
      "execution_count": 0,
      "outputs": []
    },
    {
      "cell_type": "code",
      "metadata": {
        "id": "Ygq-d9VCRDe4",
        "colab_type": "code",
        "colab": {}
      },
      "source": [
        "test_1 = [(1, 7), (1, 3), (3, 4, 5), (2, 2)]\n",
        "test_2 = [(1, 7), (1, 3), (3, 4, 100), (2, 2)]"
      ],
      "execution_count": 0,
      "outputs": []
    },
    {
      "cell_type": "code",
      "metadata": {
        "id": "IpG-Fhy6RJSm",
        "colab_type": "code",
        "colab": {
          "base_uri": "https://localhost:8080/",
          "height": 34
        },
        "outputId": "ab1f645a-7734-44d4-803c-22a6297a91b4"
      },
      "source": [
        "sort_last(test_1)"
      ],
      "execution_count": 7,
      "outputs": [
        {
          "output_type": "execute_result",
          "data": {
            "text/plain": [
              "[(2, 2), (1, 3), (3, 4, 5), (1, 7)]"
            ]
          },
          "metadata": {
            "tags": []
          },
          "execution_count": 7
        }
      ]
    },
    {
      "cell_type": "code",
      "metadata": {
        "id": "fKMYwZHkRLTE",
        "colab_type": "code",
        "colab": {
          "base_uri": "https://localhost:8080/",
          "height": 34
        },
        "outputId": "947e5eb3-c11e-431b-90ed-73ed363538b1"
      },
      "source": [
        "sort_last(test_2) # fails"
      ],
      "execution_count": 9,
      "outputs": [
        {
          "output_type": "execute_result",
          "data": {
            "text/plain": [
              "[(2, 2), (1, 3), (3, 4, 100), (1, 7)]"
            ]
          },
          "metadata": {
            "tags": []
          },
          "execution_count": 9
        }
      ]
    },
    {
      "cell_type": "code",
      "metadata": {
        "id": "FSideeTDRdvV",
        "colab_type": "code",
        "colab": {}
      },
      "source": [
        "def sort_last(l_tuples):\n",
        "  return sorted(l_tuples, key=lambda x:x[len(x)-1])"
      ],
      "execution_count": 0,
      "outputs": []
    },
    {
      "cell_type": "code",
      "metadata": {
        "id": "erIarSxbRkaj",
        "colab_type": "code",
        "colab": {
          "base_uri": "https://localhost:8080/",
          "height": 34
        },
        "outputId": "42f6da5c-e55c-4e47-b441-70f78916bbca"
      },
      "source": [
        "sort_last(test_2)"
      ],
      "execution_count": 13,
      "outputs": [
        {
          "output_type": "execute_result",
          "data": {
            "text/plain": [
              "[(2, 2), (1, 3), (1, 7), (3, 4, 100)]"
            ]
          },
          "metadata": {
            "tags": []
          },
          "execution_count": 13
        }
      ]
    },
    {
      "cell_type": "code",
      "metadata": {
        "id": "290vBp_sRmLH",
        "colab_type": "code",
        "colab": {}
      },
      "source": [
        ""
      ],
      "execution_count": 0,
      "outputs": []
    }
  ]
}